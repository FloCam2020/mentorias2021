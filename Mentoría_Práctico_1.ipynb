{
  "nbformat": 4,
  "nbformat_minor": 0,
  "metadata": {
    "colab": {
      "name": "Mentoría-Práctico 1.ipynb",
      "provenance": [],
      "collapsed_sections": [],
      "toc_visible": true
    },
    "kernelspec": {
      "display_name": "Python 3",
      "name": "python3"
    },
    "language_info": {
      "name": "python"
    }
  },
  "cells": [
    {
      "cell_type": "markdown",
      "metadata": {
        "id": "JMp2XOsE6b0n"
      },
      "source": [
        "#Práctico 1: Análisis y Visualización"
      ]
    },
    {
      "cell_type": "markdown",
      "metadata": {
        "id": "59x3tvgu6rU-"
      },
      "source": [
        "Importar las librerías a utilizar a lo largo del análisis.\n",
        "\n",
        "Leer el dataset, que está guardado en la memoria de la compu con formato csv. "
      ]
    },
    {
      "cell_type": "code",
      "metadata": {
        "id": "pAGROT666XuP"
      },
      "source": [
        "import numpy as np\n",
        "import pandas as pd\n",
        "import matplotlib.pyplot as plt\n",
        "import seaborn as sns\n",
        "import plotly.express as px"
      ],
      "execution_count": null,
      "outputs": []
    },
    {
      "cell_type": "code",
      "metadata": {
        "id": "98IwITDa1ygP"
      },
      "source": [
        "#Definimos algunas funciones que vamos a usar\n",
        "\n",
        "def to_categorical(column, bin_size=10, min_cut=15, max_cut=65):\n",
        "    if min_cut is None:\n",
        "        min_cut = int(round(column.min())) - 1\n",
        "    value_max = int(np.ceil(column.max()))\n",
        "    max_cut = min(max_cut, value_max)\n",
        "    intervals = [(x, x + bin_size) for x in np.arange(min_cut, max_cut, bin_size)]\n",
        "    if max_cut != value_max:\n",
        "        intervals.append((max_cut, value_max))\n",
        "    return pd.cut(column, pd.IntervalIndex.from_tuples(intervals))"
      ],
      "execution_count": null,
      "outputs": []
    },
    {
      "cell_type": "code",
      "metadata": {
        "id": "Hp7Qll0f7MLc"
      },
      "source": [
        "# Opción para ver todas las columnas del dataset en el notebook\n",
        "pd.set_option('display.max_columns', 50)"
      ],
      "execution_count": null,
      "outputs": []
    },
    {
      "cell_type": "code",
      "metadata": {
        "id": "FIw0Izwy8-gx"
      },
      "source": [
        "url = \"https://raw.githubusercontent.com/AgusCarchano/Mentorias-grupo1/master/data/bank-additional-full.csv\"\n",
        "df = pd.read_csv(url, sep=\";\")"
      ],
      "execution_count": null,
      "outputs": []
    },
    {
      "cell_type": "markdown",
      "metadata": {
        "id": "j8AnAeXX75Yg"
      },
      "source": [
        "## Análisis de distribuciones simples de algunas variables"
      ]
    },
    {
      "cell_type": "markdown",
      "metadata": {
        "id": "rqDjc5WpuLC_"
      },
      "source": [
        "### Variable Y"
      ]
    },
    {
      "cell_type": "code",
      "metadata": {
        "colab": {
          "base_uri": "https://localhost:8080/",
          "height": 369
        },
        "id": "LpfErFXU8GpM",
        "outputId": "edf5c1aa-4e68-4ec4-c570-5239d3fcef3d"
      },
      "source": [
        "#La variable principal es y, que representa si la persona contrató o no el PF durante la campaña de marketing.\n",
        "plt.figure(figsize = (12,6))\n",
        "sns.countplot(data=df,x=\"y\", color='blue')\n",
        "plt.title(\"Casos de èxito de esta campaña\")\n",
        "plt.xlabel(\"Respuesta\")\n",
        "plt.ylabel(\"Clientes\")\n",
        "\n",
        "tasa = len(df[df.y==\"yes\"])/len(df)*100\n",
        "print(\"Tasa de éxito en la campaña=\", f'{tasa:3.2f}' , \"%\")"
      ],
      "execution_count": null,
      "outputs": [
        {
          "output_type": "stream",
          "text": [
            "Tasa de éxito en la campaña= 11.27 %\n"
          ],
          "name": "stdout"
        },
        {
          "output_type": "display_data",
          "data": {
            "image/png": "[encoded data removed]",
            "text/plain": [
              "<Figure size 864x432 with 1 Axes>"
            ]
          },
          "metadata": {
            "tags": [],
            "needs_background": "light"
          }
        }
      ]
    },
    {
      "cell_type": "markdown",
      "metadata": {
        "id": "v-0O-JPSuSaS"
      },
      "source": [
        "### Edad"
      ]
    },
    {
      "cell_type": "code",
      "metadata": {
        "id": "CW_TWmaP9GDp"
      },
      "source": [
        "df['age_group'] = to_categorical(df.age,bin_size=10, min_cut=15, max_cut=65)"
      ],
      "execution_count": null,
      "outputs": []
    },
    {
      "cell_type": "code",
      "metadata": {
        "colab": {
          "base_uri": "https://localhost:8080/",
          "height": 398
        },
        "id": "yXMLHlNq9_7E",
        "outputId": "833dbf3e-05ef-4a26-84f2-bd6ce4540adf"
      },
      "source": [
        "plt.figure(figsize=(12,6))\n",
        "sns.countplot(data=df,x=\"age_group\")\n",
        "plt.xticks(rotation=45)\n",
        "plt.title(\"Distribución de clientes por grupo etario\")\n",
        "plt.xlabel(\"Grupo etario\")\n",
        "plt.ylabel(\"\")"
      ],
      "execution_count": null,
      "outputs": [
        {
          "output_type": "execute_result",
          "data": {
            "text/plain": [
              "Text(0, 0.5, '')"
            ]
          },
          "metadata": {
            "tags": []
          },
          "execution_count": 8
        },
        {
          "output_type": "display_data",
          "data": {
            "image/png": "[encoded data removed]",
            "text/plain": [
              "<Figure size 864x432 with 1 Axes>"
            ]
          },
          "metadata": {
            "tags": [],
            "needs_background": "light"
          }
        }
      ]
    },
    {
      "cell_type": "markdown",
      "metadata": {
        "id": "_B9Ov9KAuWoR"
      },
      "source": [
        "### Empleo"
      ]
    },
    {
      "cell_type": "markdown",
      "metadata": {
        "id": "Rt-bO71p_9Fr"
      },
      "source": [
        "Agrupamos los clientes según tipo de empleo. \"Sin ingreso propio\" hace referencia a clientes que no cobran un salario fijo por su ocupación o son desempleados. \"Ingreso por Cuenta Propia o Directivo\" engloba a emprendedores, cuentapropistas, retirados y directivos. El resto de las clases son traducciones de la variable en ingles"
      ]
    },
    {
      "cell_type": "code",
      "metadata": {
        "colab": {
          "base_uri": "https://localhost:8080/",
          "height": 495
        },
        "id": "wDbF5M9R7DcR",
        "outputId": "56be3b81-e5a9-471c-bef9-bd8ae641e297"
      },
      "source": [
        "df['job_groups'] = df['job'].map({'unknown': 'Desconocido',\n",
        "                                  'housemaid': 'Sin ingreso Propio',\n",
        "                                  'student': 'Sin ingreso Propio',\n",
        "                                  'unemployed': 'Sin ingreso Propio',\n",
        "                                  'services': 'Servicios',\n",
        "                                  'admin.': 'Administrtivos',\n",
        "                                  'retired': 'Ingreso Cuenta Propia o Directivo',\n",
        "                                  'self-employed': 'Ingreso Cuenta Propia o Directivo',\n",
        "                                  'entrepreneur': 'Ingreso Cuenta Propia o Directivo',\n",
        "                                  'management': 'Ingreso Cuenta Propia o Directivo',\n",
        "                                  'technician': 'Tecnicos',\n",
        "                                  'blue-collar': 'Operarios' }\n",
        "                                            )\n",
        "plt.figure(figsize=(12,6))\n",
        "sns.countplot(data=df, x=\"job_groups\")\n",
        "plt.title(\"Distribución de clientes por empleo\")\n",
        "plt.xticks(rotation=75)\n",
        "plt.ylabel(\"\")\n",
        "plt.xlabel(\"Empleo\")\n",
        "plt.show()"
      ],
      "execution_count": null,
      "outputs": [
        {
          "output_type": "display_data",
          "data": {
            "image/png": "[encoded data removed]",
            "text/plain": [
              "<Figure size 864x432 with 1 Axes>"
            ]
          },
          "metadata": {
            "tags": [],
            "needs_background": "light"
          }
        }
      ]
    },
    {
      "cell_type": "markdown",
      "metadata": {
        "id": "hHn_Aa8Xuacq"
      },
      "source": [
        "### Estado civil"
      ]
    },
    {
      "cell_type": "markdown",
      "metadata": {
        "id": "IdDCCTc3_sIp"
      },
      "source": [
        "Analizamos la distribución de los clientes según su estado civil.\n",
        "\n",
        "\n",
        "\n"
      ]
    },
    {
      "cell_type": "code",
      "metadata": {
        "colab": {
          "base_uri": "https://localhost:8080/",
          "height": 385
        },
        "id": "gu3ubST9__yA",
        "outputId": "4ba61ef7-ff5c-4278-fcbf-2efd58ecaf1f"
      },
      "source": [
        "plt.figure(figsize=(12,6))\n",
        "plt.title(\"Distribución de clientes por estado civil\")\n",
        "sns.countplot(data=df, x=\"marital\")     \n",
        "plt.xticks(rotation=45)\n",
        "plt.ylabel(\"\")\n",
        "plt.xlabel(\"Estado civil\")\n",
        "plt.show()"
      ],
      "execution_count": null,
      "outputs": [
        {
          "output_type": "display_data",
          "data": {
            "image/png": "[encoded data removed]",
            "text/plain": [
              "<Figure size 864x432 with 1 Axes>"
            ]
          },
          "metadata": {
            "tags": [],
            "needs_background": "light"
          }
        }
      ]
    },
    {
      "cell_type": "markdown",
      "metadata": {
        "id": "LhaKjonZuefZ"
      },
      "source": [
        "### Nivel educativo"
      ]
    },
    {
      "cell_type": "markdown",
      "metadata": {
        "id": "GZuTPei8g7kE"
      },
      "source": [
        "Para la variable educación, hacemos un agrupamiento previo y vemos como se distribuye"
      ]
    },
    {
      "cell_type": "code",
      "metadata": {
        "colab": {
          "base_uri": "https://localhost:8080/",
          "height": 395
        },
        "id": "Qt-L78yy-n6o",
        "outputId": "5cd87c00-72b1-45e3-80ec-22653e740fa4"
      },
      "source": [
        "#reagrupar la variable educación\n",
        "df['education_groups'] = df['education'].map({'unknown': 'Unknown',\n",
        "                                             'illiterate': 'Basic or less',\n",
        "                                              'basic.4y': 'Basic or less',\n",
        "                                               'basic.6y': 'Basic or less',\n",
        "                                                'basic.9y': 'Basic or less',\n",
        "                                                  'high.school': 'High School',\n",
        "                                                   'professional.course': 'Professional',\n",
        "                                                    'university.degree': 'University'}\n",
        "                                            )\n",
        "\n",
        "plt.figure(figsize=(12,6))\n",
        "order = ['Unknown', 'Basic or less', 'High School', 'Professional', 'University']\n",
        "sns.countplot(data=df, x=\"education_groups\",order=order)     \n",
        "plt.title(\"Distribución de los clientes según nivel educativo\")\n",
        "plt.xticks(rotation=45)\n",
        "plt.ylabel(\"\")\n",
        "plt.xlabel(\"Nivel Educativo\")\n",
        "plt.show()"
      ],
      "execution_count": null,
      "outputs": [
        {
          "output_type": "display_data",
          "data": {
            "image/png": "[encoded data removed]",
            "text/plain": [
              "<Figure size 864x432 with 1 Axes>"
            ]
          },
          "metadata": {
            "tags": [],
            "needs_background": "light"
          }
        }
      ]
    },
    {
      "cell_type": "markdown",
      "metadata": {
        "id": "1GJSOy1RuiOf"
      },
      "source": [
        "### Situación crediticia"
      ]
    },
    {
      "cell_type": "markdown",
      "metadata": {
        "id": "7BJ6UwKIFFIM"
      },
      "source": [
        "Vemos la situacion crediticia de los clientes, según tienen créditos en default, créditos hipotecarios o créditos personales"
      ]
    },
    {
      "cell_type": "code",
      "metadata": {
        "colab": {
          "base_uri": "https://localhost:8080/",
          "height": 475
        },
        "id": "FFOkCyS97nCU",
        "outputId": "0fa91dd6-ecbb-46c0-b1e2-7672d8b935e4"
      },
      "source": [
        "order_credit=[\"yes\",\"no\",\"unknown\"]\n",
        "f, axs = plt.subplots(ncols=3, figsize=(15,6))\n",
        "plt.suptitle(\"Distribución de los clientes según situación crediticia\")\n",
        "sns.countplot(data=df, x='default', order=order_credit, ax=axs[0])\n",
        "plt.xlabel(\"Préstamos en default\")\n",
        "sns.countplot(data=df, x='housing', order=order_credit, ax=axs[1])\n",
        "plt.xlabel(\"Crédito hipotecario\")\n",
        "sns.countplot(data=df, x='loan', order=order_credit, ax=axs[2])\n",
        "plt.xlabel(\"Préstamo personal\")\n",
        "sns.despine()\n",
        "plt.show()\n",
        "\n",
        "\n",
        "\n",
        "print(\"Clientes que tienen créditos en default=\", round(len(df[df.default==\"yes\"])/len(df)*100,2), \"%\")\n",
        "print(\"Clientes que tienen créditos hipotecarios=\", round(len(df[df.housing==\"yes\"])/len(df)*100,2), \"%\")\n",
        "print(\"Clientes que tienen créditos personales=\", round(len(df[df.loan==\"yes\"])/len(df)*100,2), \"%\")\n"
      ],
      "execution_count": null,
      "outputs": [
        {
          "output_type": "display_data",
          "data": {
            "image/png": "[encoded data removed]",
            "text/plain": [
              "<Figure size 1080x432 with 3 Axes>"
            ]
          },
          "metadata": {
            "tags": [],
            "needs_background": "light"
          }
        },
        {
          "output_type": "stream",
          "text": [
            "Clientes que tienen créditos en default= 0.01 %\n",
            "Clientes que tienen créditos hipotecarios= 52.38 %\n",
            "Clientes que tienen créditos personales= 15.17 %\n"
          ],
          "name": "stdout"
        }
      ]
    },
    {
      "cell_type": "markdown",
      "metadata": {
        "id": "sWBbdRhxumms"
      },
      "source": [
        "### Contacto"
      ]
    },
    {
      "cell_type": "markdown",
      "metadata": {
        "id": "6CB7xOxkFjwA"
      },
      "source": [
        "Vemos la cantidad de clientes según la forma de contacto. En este caso, solo se los contacto mediante teléfono o celular."
      ]
    },
    {
      "cell_type": "code",
      "metadata": {
        "colab": {
          "base_uri": "https://localhost:8080/",
          "height": 422
        },
        "id": "WnVoD-NuA_YZ",
        "outputId": "43a58680-7dc7-44fb-fb8f-c473d16cbd70"
      },
      "source": [
        "plt.figure(figsize=(12,6))\n",
        "sns.countplot(data=df, x=\"contact\")\n",
        "plt.xticks(rotation=45)\n",
        "plt.title(\"Distribución de clientes según medio de llamado\")\n",
        "plt.xlabel(\"\")\n",
        "plt.ylabel(\"\")\n",
        "plt.show()"
      ],
      "execution_count": null,
      "outputs": [
        {
          "output_type": "display_data",
          "data": {
            "image/png": "[encoded data removed]",
            "text/plain": [
              "<Figure size 864x432 with 1 Axes>"
            ]
          },
          "metadata": {
            "tags": [],
            "needs_background": "light"
          }
        }
      ]
    },
    {
      "cell_type": "markdown",
      "metadata": {
        "id": "w3J0dIJNupXr"
      },
      "source": [
        "### Duración de la llamada"
      ]
    },
    {
      "cell_type": "markdown",
      "metadata": {
        "id": "HX6Rd0LyF2TE"
      },
      "source": [
        "Se analiza la duración de la llamada con un boxplot y un gráfico de densidad."
      ]
    },
    {
      "cell_type": "code",
      "metadata": {
        "colab": {
          "base_uri": "https://localhost:8080/",
          "height": 507
        },
        "id": "P00j1aD89djz",
        "outputId": "4cca4891-13b4-421f-b3fc-00d5a32872b4"
      },
      "source": [
        "f, (ax_box, ax_hist) = plt.subplots(2, sharex=True, figsize=(10,7),gridspec_kw={\"height_ratios\": (.15, .85)})\n",
        "\n",
        "sns.boxplot(df.duration, ax=ax_box)\n",
        "sns.distplot(df.duration, ax=ax_hist, kde=False, hist=False)\n",
        "sns.distplot(df.duration, ax=ax_hist, kde=True, hist=True,norm_hist=False)\n",
        "plt.axvline(df.duration.quantile(0.25))\n",
        "plt.axvline(df.duration.quantile(0.50),color='g')\n",
        "plt.axvline(df.duration.quantile(0.75))\n",
        "plt.ticklabel_format(style='plain', axis='x') \n",
        "plt.show()\n",
        "\n",
        "\n",
        "print(\"Duración promedio=\", df.duration.mean()/60, \" minutos\")\n",
        "print(\"Duración Máxima=\", df.duration.max()/60, \" minutos\")\n",
        "print(\"Duración Máxima=\", df.duration.max(), \" segundos\")\n",
        "print(\"Duración Mínima=\", df.duration.min(), \" segundos\")"
      ],
      "execution_count": null,
      "outputs": [
        {
          "output_type": "display_data",
          "data": {
            "image/png": "[encoded data removed]",
            "text/plain": [
              "<Figure size 720x504 with 2 Axes>"
            ]
          },
          "metadata": {
            "tags": [],
            "needs_background": "light"
          }
        },
        {
          "output_type": "stream",
          "text": [
            "Duración promedio= 4.304750169952413  minutos\n",
            "Duración Máxima= 81.96666666666667  minutos\n",
            "Duración Máxima= 4918  segundos\n",
            "Duración Mínima= 0  segundos\n"
          ],
          "name": "stdout"
        }
      ]
    },
    {
      "cell_type": "markdown",
      "metadata": {
        "id": "Yey-6UH7utWY"
      },
      "source": [
        "### Campaign"
      ]
    },
    {
      "cell_type": "markdown",
      "metadata": {
        "id": "cS7KD5LOGEXP"
      },
      "source": [
        "Analizamos con un boxplot la variable \"campaign\" que representa las veces que ha sido contactada la persona durante esta camapaña."
      ]
    },
    {
      "cell_type": "code",
      "metadata": {
        "colab": {
          "base_uri": "https://localhost:8080/"
        },
        "id": "yihmGqGJ_KYe",
        "outputId": "1c04904f-10a6-4a9e-edfb-ab859341d5ab"
      },
      "source": [
        "print(\"Estadística descriptiva para la variable Campaign\")\n",
        "df.campaign.describe().apply(lambda s: '{0:.2f}'.format(s)) "
      ],
      "execution_count": null,
      "outputs": [
        {
          "output_type": "stream",
          "text": [
            "Estadística descriptiva para la variable Campaign\n"
          ],
          "name": "stdout"
        },
        {
          "output_type": "execute_result",
          "data": {
            "text/plain": [
              "count    41188.00\n",
              "mean         2.57\n",
              "std          2.77\n",
              "min          1.00\n",
              "25%          1.00\n",
              "50%          2.00\n",
              "75%          3.00\n",
              "max         56.00\n",
              "Name: campaign, dtype: object"
            ]
          },
          "metadata": {
            "tags": []
          },
          "execution_count": 229
        }
      ]
    },
    {
      "cell_type": "code",
      "metadata": {
        "colab": {
          "base_uri": "https://localhost:8080/",
          "height": 403
        },
        "id": "cAZAO4M4P7kx",
        "outputId": "fe4d9bea-4a4f-4e7c-9e88-6f44ce183e89"
      },
      "source": [
        "#Hacemos el boxplot filtrando por x<= 10\n",
        "plt.figure(figsize=(12,6))\n",
        "sns.boxplot(data=df[df['campaign']<=10],x=\"campaign\")\n",
        "print(\"Percentil 97.5: \",df.campaign.quantile(.975))"
      ],
      "execution_count": null,
      "outputs": [
        {
          "output_type": "stream",
          "text": [
            "Percentil 97.5:  10.0\n"
          ],
          "name": "stdout"
        },
        {
          "output_type": "display_data",
          "data": {
            "image/png": "[encoded data removed]",
            "text/plain": [
              "<Figure size 864x432 with 1 Axes>"
            ]
          },
          "metadata": {
            "tags": [],
            "needs_background": "light"
          }
        }
      ]
    },
    {
      "cell_type": "markdown",
      "metadata": {
        "id": "h7SZNwTjk-5p"
      },
      "source": [
        "El 75% de las observaciones se concentra en hasta 3 llamados en la campaña en curso. Hay algunos valores extremos, pero si tomamos el percentil 97.5% el máximo el de 10 llamados."
      ]
    },
    {
      "cell_type": "markdown",
      "metadata": {
        "id": "WAhakx1Yu2ZG"
      },
      "source": [
        "### Pdays"
      ]
    },
    {
      "cell_type": "markdown",
      "metadata": {
        "id": "ysz_1RevGgbN"
      },
      "source": [
        "La variable \"pdays\" representa la cantidad de dias transcurridos desde el último contacto. Realizamos un histograma para analizar su distribución."
      ]
    },
    {
      "cell_type": "code",
      "metadata": {
        "colab": {
          "base_uri": "https://localhost:8080/",
          "height": 403
        },
        "id": "3eXfqoA6W8mM",
        "outputId": "581acbee-eda5-4ae0-ff4c-77cf83afd7b2"
      },
      "source": [
        "plt.figure(figsize=(12,6))\n",
        "plt.title(\"Distribución de clientes que fueron contactados más de una vez según la cantidad de días transcurridos desde el último contacto\")\n",
        "sns.histplot(data=df[df.pdays<900],x=\"pdays\")\n",
        "plt.show()"
      ],
      "execution_count": null,
      "outputs": [
        {
          "output_type": "display_data",
          "data": {
            "image/png": "[encoded data removed]",
            "text/plain": [
              "<Figure size 864x432 with 1 Axes>"
            ]
          },
          "metadata": {
            "tags": [],
            "needs_background": "light"
          }
        }
      ]
    },
    {
      "cell_type": "markdown",
      "metadata": {
        "id": "VvKoJJpPvLSE"
      },
      "source": [
        "La vamos a agrupar para análisis posteriores"
      ]
    },
    {
      "cell_type": "code",
      "metadata": {
        "id": "x8mqUmcuYVtF"
      },
      "source": [
        "df['pdays_group'] = to_categorical(df.pdays[df.pdays !=999], bin_size = 5, min_cut = 0, max_cut = 30)"
      ],
      "execution_count": null,
      "outputs": []
    },
    {
      "cell_type": "markdown",
      "metadata": {
        "id": "9kUrEfevM6wt"
      },
      "source": [
        "## Correlaciones entre las variables"
      ]
    },
    {
      "cell_type": "code",
      "metadata": {
        "id": "OJ0zW17xQ9rf"
      },
      "source": [
        "df['y_'] = df['y'].map({\"yes\":1,\"no\":0,\"unknown\":np.nan})\n",
        "df['default_num'] = df['default'].map({\"yes\":1,\"no\":0,\"unknown\":np.nan})\n",
        "df['housing_num'] = df['housing'].map({\"yes\":1,\"no\":0,\"unknown\":np.nan})\n",
        "df['loan_num'] = df['loan'].map({\"yes\":1,\"no\":0,\"unknown\":np.nan})"
      ],
      "execution_count": null,
      "outputs": []
    },
    {
      "cell_type": "code",
      "metadata": {
        "colab": {
          "base_uri": "https://localhost:8080/",
          "height": 938
        },
        "id": "N1E_OUkxNA9_",
        "outputId": "2207a294-9fa0-4027-9b41-42a177a6bf4e"
      },
      "source": [
        "plt.figure(figsize = (15,15))\n",
        "correlation_mat = df.corr()\n",
        "sns.heatmap(correlation_mat, annot = False)\n",
        "plt.title(\"Matriz de correlaciones entre variables\")  \n",
        "plt.show()"
      ],
      "execution_count": null,
      "outputs": [
        {
          "output_type": "display_data",
          "data": {
            "image/png": "[encoded data removed]",
            "text/plain": [
              "<Figure size 1080x1080 with 2 Axes>"
            ]
          },
          "metadata": {
            "tags": [],
            "needs_background": "light"
          }
        }
      ]
    },
    {
      "cell_type": "markdown",
      "metadata": {
        "id": "cV9oY2-uEkyI"
      },
      "source": [
        "Se advierte la presencia de una alta correlación positiva entre:\n",
        "- la tasa de interés y la cantidad de empleados, \n",
        "- la tasa de intnerés y la tasa de variación del empleo, \n",
        "- y lógicamente, también entre la cantidad de empleados y la tasa de variación del empleo.\n",
        "\n",
        "- el índice de precios al consumidor y la variación en la tasa de empleo.\n",
        "- la tasa de interés y el índice de precios al consumidor.\n",
        "- el índice de precios al consumidor y la cantidad de empleados.\n",
        "\n",
        "En cuanto a la variable objetivo, la misma presenta una correlación negativa con:\n",
        "- la tasa de interés (mientras más alta sea, menos se contrata PF)\n",
        "- la tasa de variación del empleo\n",
        "- la cantidad de empleados\n",
        "- la cantidad de días que pasaron desde que fue contactado por una campaña previa (para los casos en que fue contactado hace más tiempo, o no fue contactado directamente, mas se contrata PF)\n",
        "Y una correlación positiva con:\n",
        "- la duración de la llamada"
      ]
    },
    {
      "cell_type": "markdown",
      "metadata": {
        "id": "btFmfbopDOqm"
      },
      "source": [
        "## Análisis de distribuciones conjuntas de las variables"
      ]
    },
    {
      "cell_type": "markdown",
      "metadata": {
        "id": "VhFVFmqbvupY"
      },
      "source": [
        "#### Poutcome vs previous"
      ]
    },
    {
      "cell_type": "markdown",
      "metadata": {
        "id": "e1yuIofQHN19"
      },
      "source": [
        "Analizamos la variable de contactos previos y el resultado en la camapaña anterior."
      ]
    },
    {
      "cell_type": "code",
      "metadata": {
        "colab": {
          "base_uri": "https://localhost:8080/",
          "height": 403
        },
        "id": "9pm-1DX9-t2p",
        "outputId": "2a57c810-0cd5-43a2-e261-d10d05b8fd58"
      },
      "source": [
        "#variables sobre cantidad de contactos\n",
        "f, axs = plt.subplots(ncols=2, figsize=(12,6))\n",
        "sns.countplot(data=df, x='previous', ax=axs[0])\n",
        "sns.countplot(data=df, x='poutcome', ax=axs[1])\n",
        "sns.despine()\n",
        "print(\"Porcentaje de clientes que habían sido contactados previamente: \",\n",
        "      len(df[df.previous!=0])/len(df)*100,\"%\")\n"
      ],
      "execution_count": null,
      "outputs": [
        {
          "output_type": "stream",
          "text": [
            "Porcentaje de clientes que habían sido contactados previamente:  13.65689035641449 %\n"
          ],
          "name": "stdout"
        },
        {
          "output_type": "display_data",
          "data": {
            "image/png": "[encoded data removed]",
            "text/plain": [
              "<Figure size 864x432 with 2 Axes>"
            ]
          },
          "metadata": {
            "tags": [],
            "needs_background": "light"
          }
        }
      ]
    },
    {
      "cell_type": "markdown",
      "metadata": {
        "id": "gOL7lbRjG80F"
      },
      "source": [
        "Ahora vemos como fue el resultado para las personas que fueron contactados previamente."
      ]
    },
    {
      "cell_type": "code",
      "metadata": {
        "colab": {
          "base_uri": "https://localhost:8080/",
          "height": 452
        },
        "id": "4HjaJIs7_ygR",
        "outputId": "3e7f9591-ea7a-449e-af59-2f783265c2ab"
      },
      "source": [
        "plt.figure(figsize = (12,6))\n",
        "sns.countplot(data=mask, x='poutcome')\n",
        "plt.show()\n",
        "\n",
        "mask=df[df.previous!=0]\n",
        "exitos=df[df.poutcome==\"success\"]\n",
        "print(\"Cantidad de clientes contactados en campañas previas: \", len(mask))\n",
        "print(\"Tasa de éxito en campañas previas=\", round(len(exitos)/len(mask)*100,2), \"%\")\n",
        "\n",
        "\n",
        "exitos_actual = mask[mask.y == 'yes']\n",
        "print(\"Tasa de éxito de la campaña actual sobre el sub-grupo \\n de clientes contactados en campañas previas=\", round(len(exitos_actual)/len(mask)*100,2), \"%\")\n"
      ],
      "execution_count": null,
      "outputs": [
        {
          "output_type": "display_data",
          "data": {
            "image/png": "[encoded data removed]",
            "text/plain": [
              "<Figure size 864x432 with 1 Axes>"
            ]
          },
          "metadata": {
            "tags": [],
            "needs_background": "light"
          }
        },
        {
          "output_type": "stream",
          "text": [
            "Cantidad de clientes contactados en campañas previas:  5625\n",
            "Tasa de éxito en campañas previas= 24.41 %\n",
            "Tasa de éxito de la campaña actual sobre el sub-grupo \n",
            " de clientes contactados en campañas previas= 26.65 %\n"
          ],
          "name": "stdout"
        }
      ]
    },
    {
      "cell_type": "markdown",
      "metadata": {
        "id": "oGPBsUJEnOoT"
      },
      "source": [
        "Tomando el grupo de 5625 personas que habian sido contactadas en campañas anteriores, la tasa de éxito de la campaña actual es muy similar a la tasa de las campañas previas."
      ]
    },
    {
      "cell_type": "code",
      "metadata": {
        "colab": {
          "base_uri": "https://localhost:8080/"
        },
        "id": "2qMw4hpr4SiV",
        "outputId": "4e99cdef-e676-47c1-9fdd-86d3d9bce267"
      },
      "source": [
        "df_exitos_actual = exitos_actual[exitos_actual.poutcome == 'failure']\n",
        "\n",
        "\n",
        "print(f'Clientes contactados previamente que contrataron el servicio en esa campaña: {len(exitos)}')\n",
        "print(f'Clientes contactados previamente que contrataron el servicio en esta campaña: {len(exitos_actual)}')\n",
        "\n",
        "print('Numero de clientes que contrataron en esta campaña:',len(df[df.y=='yes']))\n",
        "print('Numero de clientes que se pudieron atraer esta vez, y antes no:',len(df_exitos_actual))\n"
      ],
      "execution_count": null,
      "outputs": [
        {
          "output_type": "stream",
          "text": [
            "Clientes contactados previamente que contrataron el servicio en esa campaña: 1373\n",
            "Clientes contactados previamente que contrataron el servicio en esta campaña: 1499\n",
            "Numero de clientes que contrataron en esta campaña: 4640\n",
            "Numero de clientes que se pudieron atraer esta vez, y antes no: 605\n"
          ],
          "name": "stdout"
        }
      ]
    },
    {
      "cell_type": "markdown",
      "metadata": {
        "id": "WUOmnblj5AXf"
      },
      "source": [
        "**Dentro del grupo de 5625 personas contactadas previamente, hay 605 que anteriormente no contrataron el PF, y en esta campaña sí.**"
      ]
    },
    {
      "cell_type": "markdown",
      "metadata": {
        "id": "aAhjmGuEq3OD"
      },
      "source": [
        "#### Resultado de campañas anteriores en relación a la actual"
      ]
    },
    {
      "cell_type": "code",
      "metadata": {
        "colab": {
          "base_uri": "https://localhost:8080/",
          "height": 162
        },
        "id": "cFJJEOpKXKC8",
        "outputId": "f373e0e6-e5cf-40a0-fa2f-1b0fe4dea0df"
      },
      "source": [
        "pd.crosstab(df.y, df.poutcome, margins=True,normalize=\"index\") "
      ],
      "execution_count": null,
      "outputs": [
        {
          "output_type": "execute_result",
          "data": {
            "text/html": [
              "<div>\n",
              "<style scoped>\n",
              "    .dataframe tbody tr th:only-of-type {\n",
              "        vertical-align: middle;\n",
              "    }\n",
              "\n",
              "    .dataframe tbody tr th {\n",
              "        vertical-align: top;\n",
              "    }\n",
              "\n",
              "    .dataframe thead th {\n",
              "        text-align: right;\n",
              "    }\n",
              "</style>\n",
              "<table border=\"1\" class=\"dataframe\">\n",
              "  <thead>\n",
              "    <tr style=\"text-align: right;\">\n",
              "      <th>poutcome</th>\n",
              "      <th>failure</th>\n",
              "      <th>nonexistent</th>\n",
              "      <th>success</th>\n",
              "    </tr>\n",
              "    <tr>\n",
              "      <th>y</th>\n",
              "      <th></th>\n",
              "      <th></th>\n",
              "      <th></th>\n",
              "    </tr>\n",
              "  </thead>\n",
              "  <tbody>\n",
              "    <tr>\n",
              "      <th>no</th>\n",
              "      <td>0.099787</td>\n",
              "      <td>0.887107</td>\n",
              "      <td>0.013106</td>\n",
              "    </tr>\n",
              "    <tr>\n",
              "      <th>yes</th>\n",
              "      <td>0.130388</td>\n",
              "      <td>0.676940</td>\n",
              "      <td>0.192672</td>\n",
              "    </tr>\n",
              "    <tr>\n",
              "      <th>All</th>\n",
              "      <td>0.103234</td>\n",
              "      <td>0.863431</td>\n",
              "      <td>0.033335</td>\n",
              "    </tr>\n",
              "  </tbody>\n",
              "</table>\n",
              "</div>"
            ],
            "text/plain": [
              "poutcome   failure  nonexistent   success\n",
              "y                                        \n",
              "no        0.099787     0.887107  0.013106\n",
              "yes       0.130388     0.676940  0.192672\n",
              "All       0.103234     0.863431  0.033335"
            ]
          },
          "metadata": {
            "tags": []
          },
          "execution_count": 243
        }
      ]
    },
    {
      "cell_type": "code",
      "metadata": {
        "colab": {
          "base_uri": "https://localhost:8080/",
          "height": 387
        },
        "id": "jWfWolS_Wskf",
        "outputId": "6031bc15-665b-4723-de15-09f21d36f5cd"
      },
      "source": [
        "#Si graficamos porcentajes lo vemos aún mas claro, no hay un patrón claro en Yes o en No\n",
        "x,y = 'y','poutcome'\n",
        "\n",
        "df1 = df[df.poutcome != 'nonexistent'].groupby(x)[y].value_counts(normalize=True)\n",
        "df1 = df1.mul(100)\n",
        "df1 = df1.rename('percent').reset_index()\n",
        "\n",
        "plt.figure(figsize=(12,6))\n",
        "sns.barplot(x=x,y='percent',hue=y,data=df1)\n",
        "plt.show()"
      ],
      "execution_count": null,
      "outputs": [
        {
          "output_type": "display_data",
          "data": {
            "image/png": "[encoded data removed]",
            "text/plain": [
              "<Figure size 864x432 with 1 Axes>"
            ]
          },
          "metadata": {
            "tags": [],
            "needs_background": "light"
          }
        }
      ]
    },
    {
      "cell_type": "markdown",
      "metadata": {
        "id": "AOU9wtp3X20L"
      },
      "source": [
        "**Lo que se observa del gráfico anterior es que dentro de los casos de éxito de la campaña actual, hay mayor proporción de clientes que ya habían contrato el PF previamente. Lo contrario ocurre en los que no contrataron ningún PF ahora: En las campañas anteriores tampoco lo hicieron.**\n",
        "\n",
        "**Otro aspecto a analizar es la proporción de fracasos en campañas anteriores, que en esta oportunidad fueron un èxito. De cierta manera permite medir la efectividad esta campaña para atraer clientes nuevos, que no habían contratado con anterioridad.**"
      ]
    },
    {
      "cell_type": "markdown",
      "metadata": {
        "id": "Bl7jEQVjHRGh"
      },
      "source": [
        "#### ¿Es la edad un factor significativo?"
      ]
    },
    {
      "cell_type": "code",
      "metadata": {
        "colab": {
          "base_uri": "https://localhost:8080/",
          "height": 387
        },
        "id": "3dDfSFYRJ_WO",
        "outputId": "8714e21e-9ee3-4784-9647-35a95e434511"
      },
      "source": [
        "plt.figure(figsize=(12, 6))\n",
        "sns.boxplot(data=df, x=\"age\", y='y')\n",
        "sns.despine()"
      ],
      "execution_count": null,
      "outputs": [
        {
          "output_type": "display_data",
          "data": {
            "image/png": "[encoded data removed]",
            "text/plain": [
              "<Figure size 864x432 with 1 Axes>"
            ]
          },
          "metadata": {
            "tags": [],
            "needs_background": "light"
          }
        }
      ]
    },
    {
      "cell_type": "code",
      "metadata": {
        "colab": {
          "base_uri": "https://localhost:8080/",
          "height": 277
        },
        "id": "BJ5fK3FIH5M3",
        "outputId": "a38eb92d-09c9-48e8-d397-654260be7408"
      },
      "source": [
        "#Probabilidad de contratar el PF dado el grupo etario\n",
        "pd.crosstab(df.age_group,df.y,margins=True,normalize=\"index\")"
      ],
      "execution_count": null,
      "outputs": [
        {
          "output_type": "execute_result",
          "data": {
            "text/html": [
              "<div>\n",
              "<style scoped>\n",
              "    .dataframe tbody tr th:only-of-type {\n",
              "        vertical-align: middle;\n",
              "    }\n",
              "\n",
              "    .dataframe tbody tr th {\n",
              "        vertical-align: top;\n",
              "    }\n",
              "\n",
              "    .dataframe thead th {\n",
              "        text-align: right;\n",
              "    }\n",
              "</style>\n",
              "<table border=\"1\" class=\"dataframe\">\n",
              "  <thead>\n",
              "    <tr style=\"text-align: right;\">\n",
              "      <th>y</th>\n",
              "      <th>no</th>\n",
              "      <th>yes</th>\n",
              "    </tr>\n",
              "    <tr>\n",
              "      <th>age_group</th>\n",
              "      <th></th>\n",
              "      <th></th>\n",
              "    </tr>\n",
              "  </thead>\n",
              "  <tbody>\n",
              "    <tr>\n",
              "      <th>(15, 25]</th>\n",
              "      <td>0.790516</td>\n",
              "      <td>0.209484</td>\n",
              "    </tr>\n",
              "    <tr>\n",
              "      <th>(25, 35]</th>\n",
              "      <td>0.882805</td>\n",
              "      <td>0.117195</td>\n",
              "    </tr>\n",
              "    <tr>\n",
              "      <th>(35, 45]</th>\n",
              "      <td>0.914902</td>\n",
              "      <td>0.085098</td>\n",
              "    </tr>\n",
              "    <tr>\n",
              "      <th>(45, 55]</th>\n",
              "      <td>0.913080</td>\n",
              "      <td>0.086920</td>\n",
              "    </tr>\n",
              "    <tr>\n",
              "      <th>(55, 65]</th>\n",
              "      <td>0.847789</td>\n",
              "      <td>0.152211</td>\n",
              "    </tr>\n",
              "    <tr>\n",
              "      <th>(65, 98]</th>\n",
              "      <td>0.531502</td>\n",
              "      <td>0.468498</td>\n",
              "    </tr>\n",
              "    <tr>\n",
              "      <th>All</th>\n",
              "      <td>0.887346</td>\n",
              "      <td>0.112654</td>\n",
              "    </tr>\n",
              "  </tbody>\n",
              "</table>\n",
              "</div>"
            ],
            "text/plain": [
              "y                no       yes\n",
              "age_group                    \n",
              "(15, 25]   0.790516  0.209484\n",
              "(25, 35]   0.882805  0.117195\n",
              "(35, 45]   0.914902  0.085098\n",
              "(45, 55]   0.913080  0.086920\n",
              "(55, 65]   0.847789  0.152211\n",
              "(65, 98]   0.531502  0.468498\n",
              "All        0.887346  0.112654"
            ]
          },
          "metadata": {
            "tags": []
          },
          "execution_count": 257
        }
      ]
    },
    {
      "cell_type": "markdown",
      "metadata": {
        "id": "4kWoXEJfRuBG"
      },
      "source": [
        "**La probabilidad de contratar un PF depende del rango etario del cliente. La mayor probabilidad de contratación se da en los extremos: entre las personas mayores de 65 años (p=0.47), luego los que tienen entre 15 y 25 años (p=0.21).\n",
        "A su vez, la probabilidad se reduce hacia el centro de la distribución de edades, alcanzando su menor valor entre aquellas personas que tienen entre 35 y 45 años (p=0.085).**"
      ]
    },
    {
      "cell_type": "code",
      "metadata": {
        "colab": {
          "base_uri": "https://localhost:8080/",
          "height": 387
        },
        "id": "HShk-bR3dC-W",
        "outputId": "b629c622-7333-475e-bc27-a06fcc8a62b8"
      },
      "source": [
        "#Si graficamos porcentajes, se ve que dentro del grupo 'yes' hay una prepondeancia delrango 25-35\n",
        "x,y = 'y','age_group'\n",
        "\n",
        "df1 = df.groupby(x)[y].value_counts(normalize=True)\n",
        "df1 = df1.mul(100)\n",
        "df1 = df1.rename('percent').reset_index()\n",
        "\n",
        "plt.figure(figsize=(12,6))\n",
        "sns.barplot(x=x,y='percent',hue=y,data=df1)\n",
        "plt.show()"
      ],
      "execution_count": null,
      "outputs": [
        {
          "output_type": "display_data",
          "data": {
            "image/png": "[encoded data removed]",
            "text/plain": [
              "<Figure size 864x432 with 1 Axes>"
            ]
          },
          "metadata": {
            "tags": [],
            "needs_background": "light"
          }
        }
      ]
    },
    {
      "cell_type": "markdown",
      "metadata": {
        "id": "9LwtHcfTwr-i"
      },
      "source": [
        "#### ¿Es el nivel de estudios un factor significativo?"
      ]
    },
    {
      "cell_type": "code",
      "metadata": {
        "colab": {
          "base_uri": "https://localhost:8080/",
          "height": 248
        },
        "id": "HXtSjgpRtFj0",
        "outputId": "3c3beb89-921a-478e-fc10-bbe5d0414401"
      },
      "source": [
        "#Probabilidad de contratar el PF dado el grupo etario\n",
        "pd.crosstab(df.education_groups,df.y,margins=True,normalize=\"index\")"
      ],
      "execution_count": null,
      "outputs": [
        {
          "output_type": "execute_result",
          "data": {
            "text/html": [
              "<div>\n",
              "<style scoped>\n",
              "    .dataframe tbody tr th:only-of-type {\n",
              "        vertical-align: middle;\n",
              "    }\n",
              "\n",
              "    .dataframe tbody tr th {\n",
              "        vertical-align: top;\n",
              "    }\n",
              "\n",
              "    .dataframe thead th {\n",
              "        text-align: right;\n",
              "    }\n",
              "</style>\n",
              "<table border=\"1\" class=\"dataframe\">\n",
              "  <thead>\n",
              "    <tr style=\"text-align: right;\">\n",
              "      <th>y</th>\n",
              "      <th>no</th>\n",
              "      <th>yes</th>\n",
              "    </tr>\n",
              "    <tr>\n",
              "      <th>education_groups</th>\n",
              "      <th></th>\n",
              "      <th></th>\n",
              "    </tr>\n",
              "  </thead>\n",
              "  <tbody>\n",
              "    <tr>\n",
              "      <th>Basic or less</th>\n",
              "      <td>0.912776</td>\n",
              "      <td>0.087224</td>\n",
              "    </tr>\n",
              "    <tr>\n",
              "      <th>High School</th>\n",
              "      <td>0.891645</td>\n",
              "      <td>0.108355</td>\n",
              "    </tr>\n",
              "    <tr>\n",
              "      <th>Professional</th>\n",
              "      <td>0.886515</td>\n",
              "      <td>0.113485</td>\n",
              "    </tr>\n",
              "    <tr>\n",
              "      <th>University</th>\n",
              "      <td>0.862755</td>\n",
              "      <td>0.137245</td>\n",
              "    </tr>\n",
              "    <tr>\n",
              "      <th>Unknown</th>\n",
              "      <td>0.854997</td>\n",
              "      <td>0.145003</td>\n",
              "    </tr>\n",
              "    <tr>\n",
              "      <th>All</th>\n",
              "      <td>0.887346</td>\n",
              "      <td>0.112654</td>\n",
              "    </tr>\n",
              "  </tbody>\n",
              "</table>\n",
              "</div>"
            ],
            "text/plain": [
              "y                       no       yes\n",
              "education_groups                    \n",
              "Basic or less     0.912776  0.087224\n",
              "High School       0.891645  0.108355\n",
              "Professional      0.886515  0.113485\n",
              "University        0.862755  0.137245\n",
              "Unknown           0.854997  0.145003\n",
              "All               0.887346  0.112654"
            ]
          },
          "metadata": {
            "tags": []
          },
          "execution_count": 262
        }
      ]
    },
    {
      "cell_type": "markdown",
      "metadata": {
        "id": "mF44ygUatQxx"
      },
      "source": [
        "**En general, mientras mayor sea el nivel de estudios, mayor será la probabilidad de que contraten el PF. No obstante, quedan algunas probabilidades altas extrañas para los grupos de personas que no declaran info de nivel de educación, las cuales pueden verse influenciadas por el hecho de contemplar distintos niveles de educación dentro del grupo (nivel educativo desconocido).**"
      ]
    },
    {
      "cell_type": "code",
      "metadata": {
        "colab": {
          "base_uri": "https://localhost:8080/",
          "height": 387
        },
        "id": "THX2sDpSa3AP",
        "outputId": "6bf70d75-387b-4514-e318-d76a07467cc2"
      },
      "source": [
        "#Si graficamos porcentajes, se ve que dentro del grupo 'yes' hay una prepondeancia de University\n",
        "x,y = 'y','education_groups'\n",
        "\n",
        "df1 = df.groupby(x)[y].value_counts(normalize=True)\n",
        "df1 = df1.mul(100)\n",
        "df1 = df1.rename('percent').reset_index()\n",
        "\n",
        "plt.figure(figsize=(12,6))\n",
        "sns.barplot(x=x,y='percent',hue=y,data=df1)\n",
        "plt.show()"
      ],
      "execution_count": null,
      "outputs": [
        {
          "output_type": "display_data",
          "data": {
            "image/png": "[encoded data removed]",
            "text/plain": [
              "<Figure size 864x432 with 1 Axes>"
            ]
          },
          "metadata": {
            "tags": [],
            "needs_background": "light"
          }
        }
      ]
    },
    {
      "cell_type": "markdown",
      "metadata": {
        "id": "YRTTks5Kugoz"
      },
      "source": [
        "No se encuentran mayores diferencias respecto al grupo total de los casos exitosos"
      ]
    },
    {
      "cell_type": "markdown",
      "metadata": {
        "id": "XWkGTstNw_Vf"
      },
      "source": [
        "#### ¿Es significativa la cantidad de veces que ha sido contactado el cliente en la actual campaña?"
      ]
    },
    {
      "cell_type": "code",
      "metadata": {
        "colab": {
          "base_uri": "https://localhost:8080/",
          "height": 387
        },
        "id": "WAkpL6lWINoy",
        "outputId": "ec77cf06-d06b-40eb-9204-3449f29674d5"
      },
      "source": [
        "plt.figure(figsize=(12, 6))\n",
        "sns.boxplot(data=df, x=\"campaign\", y='y')\n",
        "sns.despine()"
      ],
      "execution_count": null,
      "outputs": [
        {
          "output_type": "display_data",
          "data": {
            "image/png": "[encoded data removed]",
            "text/plain": [
              "<Figure size 864x432 with 1 Axes>"
            ]
          },
          "metadata": {
            "tags": [],
            "needs_background": "light"
          }
        }
      ]
    },
    {
      "cell_type": "markdown",
      "metadata": {
        "id": "MBvAwKAwvErq"
      },
      "source": [
        "A partir de este gráfico se ve claro que para los casos con resultado negativo, hubo mayor número de contactos en esta campaña"
      ]
    },
    {
      "cell_type": "code",
      "metadata": {
        "id": "BxzwplQxTA9H"
      },
      "source": [
        "df['campaign_group'] = to_categorical(df.campaign,bin_size=2, min_cut=1, max_cut=9)\n"
      ],
      "execution_count": null,
      "outputs": []
    },
    {
      "cell_type": "code",
      "metadata": {
        "colab": {
          "base_uri": "https://localhost:8080/",
          "height": 248
        },
        "id": "xZWvrJG-TjD1",
        "outputId": "baa2f1d2-2810-4d3c-bf2c-4bbb233210ad"
      },
      "source": [
        "pd.crosstab(df.campaign_group,df.y,margins=True,normalize=\"index\")"
      ],
      "execution_count": null,
      "outputs": [
        {
          "output_type": "execute_result",
          "data": {
            "text/html": [
              "<div>\n",
              "<style scoped>\n",
              "    .dataframe tbody tr th:only-of-type {\n",
              "        vertical-align: middle;\n",
              "    }\n",
              "\n",
              "    .dataframe tbody tr th {\n",
              "        vertical-align: top;\n",
              "    }\n",
              "\n",
              "    .dataframe thead th {\n",
              "        text-align: right;\n",
              "    }\n",
              "</style>\n",
              "<table border=\"1\" class=\"dataframe\">\n",
              "  <thead>\n",
              "    <tr style=\"text-align: right;\">\n",
              "      <th>y</th>\n",
              "      <th>no</th>\n",
              "      <th>yes</th>\n",
              "    </tr>\n",
              "    <tr>\n",
              "      <th>campaign_group</th>\n",
              "      <th></th>\n",
              "      <th></th>\n",
              "    </tr>\n",
              "  </thead>\n",
              "  <tbody>\n",
              "    <tr>\n",
              "      <th>(1, 3]</th>\n",
              "      <td>0.887813</td>\n",
              "      <td>0.112187</td>\n",
              "    </tr>\n",
              "    <tr>\n",
              "      <th>(3, 5]</th>\n",
              "      <td>0.913176</td>\n",
              "      <td>0.086824</td>\n",
              "    </tr>\n",
              "    <tr>\n",
              "      <th>(5, 7]</th>\n",
              "      <td>0.929726</td>\n",
              "      <td>0.070274</td>\n",
              "    </tr>\n",
              "    <tr>\n",
              "      <th>(7, 9]</th>\n",
              "      <td>0.950220</td>\n",
              "      <td>0.049780</td>\n",
              "    </tr>\n",
              "    <tr>\n",
              "      <th>(9, 56]</th>\n",
              "      <td>0.964351</td>\n",
              "      <td>0.035649</td>\n",
              "    </tr>\n",
              "    <tr>\n",
              "      <th>All</th>\n",
              "      <td>0.900620</td>\n",
              "      <td>0.099380</td>\n",
              "    </tr>\n",
              "  </tbody>\n",
              "</table>\n",
              "</div>"
            ],
            "text/plain": [
              "y                     no       yes\n",
              "campaign_group                    \n",
              "(1, 3]          0.887813  0.112187\n",
              "(3, 5]          0.913176  0.086824\n",
              "(5, 7]          0.929726  0.070274\n",
              "(7, 9]          0.950220  0.049780\n",
              "(9, 56]         0.964351  0.035649\n",
              "All             0.900620  0.099380"
            ]
          },
          "metadata": {
            "tags": []
          },
          "execution_count": 281
        }
      ]
    },
    {
      "cell_type": "markdown",
      "metadata": {
        "id": "Aq-nNujbvX4T"
      },
      "source": [
        "**La probabilidad de contratar PF es menor a medida que se incrementa la cantidad de veces que fue llamada por teléfono la persona.Se advierte que las personas que contrataron el PF se encuentran entre aquellas que recibieron una menor cantidad de llamados. Podemos analizar las probabilidades de que se contrate el PF en función de la cantidad de veces que fueron contactados.**"
      ]
    },
    {
      "cell_type": "code",
      "metadata": {
        "id": "_JteoeLXyMFB"
      },
      "source": [
        "#Analizamos cómo se comporta el grupo que sí contrató\n",
        "max = 3\n",
        "\n",
        "df_no_0_campaign = df_no[df_no.campaign.between(1,max)]\n",
        "df_yes_0_campaign = df_yes[df_yes.campaign.between(1,max)]\n",
        "df_no_1_campaign = df_no[df_no.campaign > max]\n",
        "df_yes_1_campaign = df_yes[df_yes.campaign > max]"
      ],
      "execution_count": null,
      "outputs": []
    },
    {
      "cell_type": "code",
      "metadata": {
        "colab": {
          "base_uri": "https://localhost:8080/"
        },
        "id": "xZ5Llrq1yZ0Z",
        "outputId": "54fd400e-ab34-4b30-fd5e-e132ecd6fced"
      },
      "source": [
        "porc_pocas_llamadas = (len(df_yes_0_campaign) / len (df_yes))*100\n",
        "porc_muchas_llamdas = (len(df_yes_1_campaign) / len (df_yes))*100\n",
        "\n",
        "print(porc_pocas_llamadas)\n",
        "print(porc_muchas_llamdas)"
      ],
      "execution_count": null,
      "outputs": [
        {
          "output_type": "stream",
          "text": [
            "88.03879310344827\n",
            "11.961206896551724\n"
          ],
          "name": "stdout"
        }
      ]
    },
    {
      "cell_type": "markdown",
      "metadata": {
        "id": "oJjJ71a3i5YV"
      },
      "source": [
        "**El 88% de los clientes que contrataron el servicio fue contactado hasta 3 veces en la campaña actual. Veamos como se distribuyen porcentualmente la cantidad de contactos previos según Yes/No**"
      ]
    },
    {
      "cell_type": "code",
      "metadata": {
        "colab": {
          "base_uri": "https://localhost:8080/",
          "height": 392
        },
        "id": "gyV0vNkejoG1",
        "outputId": "51d45f34-f5c0-490c-f418-020e21287336"
      },
      "source": [
        "#Si graficamos porcentajes:\n",
        "x,y = 'y','campaign_group'\n",
        "\n",
        "df1 = df.groupby(x)[y].value_counts(normalize=True)\n",
        "df1 = df1.mul(100)\n",
        "df1 = df1.rename('percent').reset_index()\n",
        "\n",
        "plt.figure(figsize=(12,6))\n",
        "sns.barplot(x=x,y='percent',hue=y,data=df1)\n",
        "plt.show()"
      ],
      "execution_count": null,
      "outputs": [
        {
          "output_type": "display_data",
          "data": {
            "image/png": "[encoded data removed]",
            "text/plain": [
              "<Figure size 864x432 with 1 Axes>"
            ]
          },
          "metadata": {
            "tags": [],
            "needs_background": "light"
          }
        }
      ]
    },
    {
      "cell_type": "markdown",
      "metadata": {
        "id": "gHOpFs24yOAl"
      },
      "source": [
        "#### ¿Es significativa la duración de las llamadas? ¿Varía en función de si el cliente fue contactado por primera vez en esta campaña (previous = 0)?"
      ]
    },
    {
      "cell_type": "code",
      "metadata": {
        "colab": {
          "base_uri": "https://localhost:8080/",
          "height": 387
        },
        "id": "Z_X7oP79Y42k",
        "outputId": "9785b894-9df0-409c-9a43-a32cf77fc414"
      },
      "source": [
        "plt.figure(figsize=(12, 6))\n",
        "sns.boxplot(data=df, x=\"duration\", y='y')\n",
        "sns.despine() #Las respuestas negativas al PF estuvieron más concentradas en aquellas llamadas de menor duración."
      ],
      "execution_count": null,
      "outputs": [
        {
          "output_type": "display_data",
          "data": {
            "image/png": "[encoded data removed]",
            "text/plain": [
              "<Figure size 864x432 with 1 Axes>"
            ]
          },
          "metadata": {
            "tags": [],
            "needs_background": "light"
          }
        }
      ]
    },
    {
      "cell_type": "markdown",
      "metadata": {
        "id": "Qt4REX1HyWhl"
      },
      "source": [
        "Agrupamos la variable duration"
      ]
    },
    {
      "cell_type": "code",
      "metadata": {
        "id": "HZkbpaswzqd5"
      },
      "source": [
        "import warnings\n",
        "warnings.filterwarnings('ignore')\n",
        "\n",
        "df['duration_group'] = to_categorical(df.duration, bin_size = 180, min_cut = 0, max_cut = 2160)\n",
        "df_yes = df[df.y=='yes']\n",
        "df_no = df[df.y=='no']\n",
        "\n",
        "#Agrupamos la duración de las llamadas cada 3 minutos (esto podría cambiar)\n",
        "# df_yes['duration_group'] = to_categorical(df_yes.duration, bin_size = 180, min_cut = 0, max_cut = 2160)\n",
        "# df_no['duration_group'] = to_categorical(df_no.duration, bin_size = 180, min_cut = 0, max_cut = 2160)\n",
        "\n"
      ],
      "execution_count": null,
      "outputs": []
    },
    {
      "cell_type": "markdown",
      "metadata": {
        "id": "-O2N7l0iyeuk"
      },
      "source": [
        "Dividimos al grupo además en función de si fue contactado por primera vez, o si ya habia sido contactado antes"
      ]
    },
    {
      "cell_type": "code",
      "metadata": {
        "id": "xT8gQ5mBe48m"
      },
      "source": [
        "# Analizar la duración de las llamadas sobre el grupo mayoritario (sin llamads previas), sobre los que tuvieron\n",
        "# llamadas previas, y sobre todo el grupo (con y sin llamadas previas)\n",
        "\n",
        "\n",
        "df_no_0 = df_no[df_no['previous']==0]\n",
        "df_yes_0 = df_yes[df_yes['previous']==0]\n",
        "df_no_1 = df_no[df_no['previous']!=0]\n",
        "df_yes_1 = df_yes[df_yes['previous']!=0]\n"
      ],
      "execution_count": null,
      "outputs": []
    },
    {
      "cell_type": "code",
      "metadata": {
        "colab": {
          "base_uri": "https://localhost:8080/"
        },
        "id": "DpWRIl-8e7K0",
        "outputId": "710e8cd5-2422-4b91-8b65-6317139d3d96"
      },
      "source": [
        "porc_0_llamadas_previas = (len(df_yes_0) / len (df_yes))*100\n",
        "porc_con_llamadas_previas = (len(df_yes_1) / len (df_yes))*100\n",
        "\n",
        "print(porc_0_llamadas_previas)\n",
        "print(porc_con_llamadas_previas)"
      ],
      "execution_count": null,
      "outputs": [
        {
          "output_type": "stream",
          "text": [
            "67.69396551724138\n",
            "32.30603448275862\n"
          ],
          "name": "stdout"
        }
      ]
    },
    {
      "cell_type": "markdown",
      "metadata": {
        "id": "21_U8vCLfKOg"
      },
      "source": [
        "**De los clientes que contrataron el servicio en la campaña actual, 67% habia sido llamado por primera vez en esta campaña (no fue contactado en campañas anteriores). Graficamos primero la distribución porcental de la duración de las llamadas entre Yes/No, y luego nos concentramos en este 67%**"
      ]
    },
    {
      "cell_type": "code",
      "metadata": {
        "colab": {
          "base_uri": "https://localhost:8080/",
          "height": 387
        },
        "id": "-DzW8jTBrir9",
        "outputId": "7fc1fc72-8b92-464c-8acd-7937370485fd"
      },
      "source": [
        "#Si graficamos porcentajes:\n",
        "x,y = 'y','duration_group'\n",
        "\n",
        "df1 = df.groupby(x)[y].value_counts(normalize=True)\n",
        "df1 = df1.mul(100)\n",
        "df1 = df1.rename('percent').reset_index()\n",
        "\n",
        "plt.figure(figsize=(12,6))\n",
        "sns.barplot(x=x,y='percent',hue=y,data=df1)\n",
        "plt.show()"
      ],
      "execution_count": null,
      "outputs": [
        {
          "output_type": "display_data",
          "data": {
            "image/png": "[encoded data removed]",
            "text/plain": [
              "<Figure size 864x432 with 1 Axes>"
            ]
          },
          "metadata": {
            "tags": [],
            "needs_background": "light"
          }
        }
      ]
    },
    {
      "cell_type": "code",
      "metadata": {
        "colab": {
          "base_uri": "https://localhost:8080/",
          "height": 370
        },
        "id": "KhFImTfMqFSB",
        "outputId": "91b28c40-ea90-49eb-df72-ccc624f1087a"
      },
      "source": [
        "x,y = 'y','duration_group'\n",
        "\n",
        "plt.figure(figsize=(15,5))\n",
        "plt.suptitle(\"Clientes que contrataron el servicio,contactados hasta 2 veces en la presente campaña, en función de contactos en campañas previas\")\n",
        "plt.subplot(1,2,1)\n",
        "plt.title('Previous = 0')\n",
        "df1 = df_yes_0_campaign[df_yes_0_campaign.previous==0].groupby(x)[y].value_counts(normalize=True)\n",
        "df1 = df1.mul(100)\n",
        "df1 = df1.rename('percent').reset_index()\n",
        "sns.barplot(x=x,y='percent',hue=y,data=df1)\n",
        "\n",
        "plt.subplot(1,2,2)\n",
        "plt.title('Previous > 0')\n",
        "df1 = df_yes_0_campaign[df_yes_0_campaign.previous!=0].groupby(x)[y].value_counts(normalize=True)\n",
        "df1 = df1.mul(100)\n",
        "df1 = df1.rename('percent').reset_index()\n",
        "sns.barplot(x=x,y='percent',hue=y,data=df1)\n",
        "plt.show()"
      ],
      "execution_count": null,
      "outputs": [
        {
          "output_type": "display_data",
          "data": {
            "image/png": "[encoded data removed]",
            "text/plain": [
              "<Figure size 1080x360 with 2 Axes>"
            ]
          },
          "metadata": {
            "tags": [],
            "needs_background": "light"
          }
        }
      ]
    },
    {
      "cell_type": "markdown",
      "metadata": {
        "id": "y7zke_E7wt94"
      },
      "source": [
        "Cuando un cliente fue contactado previamente (previous > 0), la contratación parece concretarse más rápido (hay un pico en las llamadas de 3 a 6 minutos)\n"
      ]
    },
    {
      "cell_type": "markdown",
      "metadata": {
        "id": "YQv8ahXcWT4A"
      },
      "source": [
        "### Análisis de relación entre la situación crediticia y la aceptación del PF"
      ]
    },
    {
      "cell_type": "code",
      "metadata": {
        "colab": {
          "base_uri": "https://localhost:8080/",
          "height": 191
        },
        "id": "oUAKwR_ALADQ",
        "outputId": "34858c67-4816-436f-b705-d0d1c9e3baab"
      },
      "source": [
        "pd.crosstab(df.default, df.y, margins=True,normalize=False)   \n",
        "#hay muy pocos que tienen crédito en default (solo 3), se puede deber a una decisión respecto de a quién llamar"
      ],
      "execution_count": null,
      "outputs": [
        {
          "output_type": "execute_result",
          "data": {
            "text/html": [
              "<div>\n",
              "<style scoped>\n",
              "    .dataframe tbody tr th:only-of-type {\n",
              "        vertical-align: middle;\n",
              "    }\n",
              "\n",
              "    .dataframe tbody tr th {\n",
              "        vertical-align: top;\n",
              "    }\n",
              "\n",
              "    .dataframe thead th {\n",
              "        text-align: right;\n",
              "    }\n",
              "</style>\n",
              "<table border=\"1\" class=\"dataframe\">\n",
              "  <thead>\n",
              "    <tr style=\"text-align: right;\">\n",
              "      <th>y</th>\n",
              "      <th>no</th>\n",
              "      <th>yes</th>\n",
              "      <th>All</th>\n",
              "    </tr>\n",
              "    <tr>\n",
              "      <th>default</th>\n",
              "      <th></th>\n",
              "      <th></th>\n",
              "      <th></th>\n",
              "    </tr>\n",
              "  </thead>\n",
              "  <tbody>\n",
              "    <tr>\n",
              "      <th>no</th>\n",
              "      <td>28391</td>\n",
              "      <td>4197</td>\n",
              "      <td>32588</td>\n",
              "    </tr>\n",
              "    <tr>\n",
              "      <th>unknown</th>\n",
              "      <td>8154</td>\n",
              "      <td>443</td>\n",
              "      <td>8597</td>\n",
              "    </tr>\n",
              "    <tr>\n",
              "      <th>yes</th>\n",
              "      <td>3</td>\n",
              "      <td>0</td>\n",
              "      <td>3</td>\n",
              "    </tr>\n",
              "    <tr>\n",
              "      <th>All</th>\n",
              "      <td>36548</td>\n",
              "      <td>4640</td>\n",
              "      <td>41188</td>\n",
              "    </tr>\n",
              "  </tbody>\n",
              "</table>\n",
              "</div>"
            ],
            "text/plain": [
              "y           no   yes    All\n",
              "default                    \n",
              "no       28391  4197  32588\n",
              "unknown   8154   443   8597\n",
              "yes          3     0      3\n",
              "All      36548  4640  41188"
            ]
          },
          "metadata": {
            "tags": []
          },
          "execution_count": 157
        }
      ]
    },
    {
      "cell_type": "markdown",
      "metadata": {
        "id": "KbFi7NAQgMiK"
      },
      "source": [
        "**No fueron contactadas como objetivo de la campaña aquellos clientes que tienen créditos en default.**"
      ]
    },
    {
      "cell_type": "code",
      "metadata": {
        "colab": {
          "base_uri": "https://localhost:8080/",
          "height": 191
        },
        "id": "PSMWR1YnQBtp",
        "outputId": "2d1cd959-ff40-4c09-bce5-6510382fc65d"
      },
      "source": [
        "pd.crosstab(df.housing, df.y, margins=True,normalize=False) "
      ],
      "execution_count": null,
      "outputs": [
        {
          "output_type": "execute_result",
          "data": {
            "text/html": [
              "<div>\n",
              "<style scoped>\n",
              "    .dataframe tbody tr th:only-of-type {\n",
              "        vertical-align: middle;\n",
              "    }\n",
              "\n",
              "    .dataframe tbody tr th {\n",
              "        vertical-align: top;\n",
              "    }\n",
              "\n",
              "    .dataframe thead th {\n",
              "        text-align: right;\n",
              "    }\n",
              "</style>\n",
              "<table border=\"1\" class=\"dataframe\">\n",
              "  <thead>\n",
              "    <tr style=\"text-align: right;\">\n",
              "      <th>y</th>\n",
              "      <th>no</th>\n",
              "      <th>yes</th>\n",
              "      <th>All</th>\n",
              "    </tr>\n",
              "    <tr>\n",
              "      <th>housing</th>\n",
              "      <th></th>\n",
              "      <th></th>\n",
              "      <th></th>\n",
              "    </tr>\n",
              "  </thead>\n",
              "  <tbody>\n",
              "    <tr>\n",
              "      <th>no</th>\n",
              "      <td>16596</td>\n",
              "      <td>2026</td>\n",
              "      <td>18622</td>\n",
              "    </tr>\n",
              "    <tr>\n",
              "      <th>unknown</th>\n",
              "      <td>883</td>\n",
              "      <td>107</td>\n",
              "      <td>990</td>\n",
              "    </tr>\n",
              "    <tr>\n",
              "      <th>yes</th>\n",
              "      <td>19069</td>\n",
              "      <td>2507</td>\n",
              "      <td>21576</td>\n",
              "    </tr>\n",
              "    <tr>\n",
              "      <th>All</th>\n",
              "      <td>36548</td>\n",
              "      <td>4640</td>\n",
              "      <td>41188</td>\n",
              "    </tr>\n",
              "  </tbody>\n",
              "</table>\n",
              "</div>"
            ],
            "text/plain": [
              "y           no   yes    All\n",
              "housing                    \n",
              "no       16596  2026  18622\n",
              "unknown    883   107    990\n",
              "yes      19069  2507  21576\n",
              "All      36548  4640  41188"
            ]
          },
          "metadata": {
            "tags": []
          },
          "execution_count": 158
        }
      ]
    },
    {
      "cell_type": "code",
      "metadata": {
        "colab": {
          "base_uri": "https://localhost:8080/",
          "height": 191
        },
        "id": "LVeETDYcWb9l",
        "outputId": "20480265-9efa-4846-df3a-2f7434129430"
      },
      "source": [
        "pd.crosstab(df.housing, df.y, margins=True,normalize=\"index\")    \n",
        "#la probabilidad de contratar PF es levemente mayor para aquellos que tienen un crédito hipotecario"
      ],
      "execution_count": null,
      "outputs": [
        {
          "output_type": "execute_result",
          "data": {
            "text/html": [
              "<div>\n",
              "<style scoped>\n",
              "    .dataframe tbody tr th:only-of-type {\n",
              "        vertical-align: middle;\n",
              "    }\n",
              "\n",
              "    .dataframe tbody tr th {\n",
              "        vertical-align: top;\n",
              "    }\n",
              "\n",
              "    .dataframe thead th {\n",
              "        text-align: right;\n",
              "    }\n",
              "</style>\n",
              "<table border=\"1\" class=\"dataframe\">\n",
              "  <thead>\n",
              "    <tr style=\"text-align: right;\">\n",
              "      <th>y</th>\n",
              "      <th>no</th>\n",
              "      <th>yes</th>\n",
              "    </tr>\n",
              "    <tr>\n",
              "      <th>housing</th>\n",
              "      <th></th>\n",
              "      <th></th>\n",
              "    </tr>\n",
              "  </thead>\n",
              "  <tbody>\n",
              "    <tr>\n",
              "      <th>no</th>\n",
              "      <td>0.891204</td>\n",
              "      <td>0.108796</td>\n",
              "    </tr>\n",
              "    <tr>\n",
              "      <th>unknown</th>\n",
              "      <td>0.891919</td>\n",
              "      <td>0.108081</td>\n",
              "    </tr>\n",
              "    <tr>\n",
              "      <th>yes</th>\n",
              "      <td>0.883806</td>\n",
              "      <td>0.116194</td>\n",
              "    </tr>\n",
              "    <tr>\n",
              "      <th>All</th>\n",
              "      <td>0.887346</td>\n",
              "      <td>0.112654</td>\n",
              "    </tr>\n",
              "  </tbody>\n",
              "</table>\n",
              "</div>"
            ],
            "text/plain": [
              "y              no       yes\n",
              "housing                    \n",
              "no       0.891204  0.108796\n",
              "unknown  0.891919  0.108081\n",
              "yes      0.883806  0.116194\n",
              "All      0.887346  0.112654"
            ]
          },
          "metadata": {
            "tags": []
          },
          "execution_count": 159
        }
      ]
    },
    {
      "cell_type": "code",
      "metadata": {
        "colab": {
          "base_uri": "https://localhost:8080/",
          "height": 191
        },
        "id": "wj6c3GdbQMaH",
        "outputId": "58ef11da-23d1-42e3-a7ae-f68766648c54"
      },
      "source": [
        "pd.crosstab(df.loan, df.y, margins=True,normalize=False) "
      ],
      "execution_count": null,
      "outputs": [
        {
          "output_type": "execute_result",
          "data": {
            "text/html": [
              "<div>\n",
              "<style scoped>\n",
              "    .dataframe tbody tr th:only-of-type {\n",
              "        vertical-align: middle;\n",
              "    }\n",
              "\n",
              "    .dataframe tbody tr th {\n",
              "        vertical-align: top;\n",
              "    }\n",
              "\n",
              "    .dataframe thead th {\n",
              "        text-align: right;\n",
              "    }\n",
              "</style>\n",
              "<table border=\"1\" class=\"dataframe\">\n",
              "  <thead>\n",
              "    <tr style=\"text-align: right;\">\n",
              "      <th>y</th>\n",
              "      <th>no</th>\n",
              "      <th>yes</th>\n",
              "      <th>All</th>\n",
              "    </tr>\n",
              "    <tr>\n",
              "      <th>loan</th>\n",
              "      <th></th>\n",
              "      <th></th>\n",
              "      <th></th>\n",
              "    </tr>\n",
              "  </thead>\n",
              "  <tbody>\n",
              "    <tr>\n",
              "      <th>no</th>\n",
              "      <td>30100</td>\n",
              "      <td>3850</td>\n",
              "      <td>33950</td>\n",
              "    </tr>\n",
              "    <tr>\n",
              "      <th>unknown</th>\n",
              "      <td>883</td>\n",
              "      <td>107</td>\n",
              "      <td>990</td>\n",
              "    </tr>\n",
              "    <tr>\n",
              "      <th>yes</th>\n",
              "      <td>5565</td>\n",
              "      <td>683</td>\n",
              "      <td>6248</td>\n",
              "    </tr>\n",
              "    <tr>\n",
              "      <th>All</th>\n",
              "      <td>36548</td>\n",
              "      <td>4640</td>\n",
              "      <td>41188</td>\n",
              "    </tr>\n",
              "  </tbody>\n",
              "</table>\n",
              "</div>"
            ],
            "text/plain": [
              "y           no   yes    All\n",
              "loan                       \n",
              "no       30100  3850  33950\n",
              "unknown    883   107    990\n",
              "yes       5565   683   6248\n",
              "All      36548  4640  41188"
            ]
          },
          "metadata": {
            "tags": []
          },
          "execution_count": 160
        }
      ]
    },
    {
      "cell_type": "code",
      "metadata": {
        "colab": {
          "base_uri": "https://localhost:8080/",
          "height": 191
        },
        "id": "6ew_Cl4qWr5_",
        "outputId": "b9791e61-a52a-494c-dc1a-1768e63c30d5"
      },
      "source": [
        "pd.crosstab(df.loan, df.y, margins=True,normalize=\"index\")    \n",
        "#la probabilidad de contratar PF es levemente mayor para aquellos que no tienen un crédito personal"
      ],
      "execution_count": null,
      "outputs": [
        {
          "output_type": "execute_result",
          "data": {
            "text/html": [
              "<div>\n",
              "<style scoped>\n",
              "    .dataframe tbody tr th:only-of-type {\n",
              "        vertical-align: middle;\n",
              "    }\n",
              "\n",
              "    .dataframe tbody tr th {\n",
              "        vertical-align: top;\n",
              "    }\n",
              "\n",
              "    .dataframe thead th {\n",
              "        text-align: right;\n",
              "    }\n",
              "</style>\n",
              "<table border=\"1\" class=\"dataframe\">\n",
              "  <thead>\n",
              "    <tr style=\"text-align: right;\">\n",
              "      <th>y</th>\n",
              "      <th>no</th>\n",
              "      <th>yes</th>\n",
              "    </tr>\n",
              "    <tr>\n",
              "      <th>loan</th>\n",
              "      <th></th>\n",
              "      <th></th>\n",
              "    </tr>\n",
              "  </thead>\n",
              "  <tbody>\n",
              "    <tr>\n",
              "      <th>no</th>\n",
              "      <td>0.886598</td>\n",
              "      <td>0.113402</td>\n",
              "    </tr>\n",
              "    <tr>\n",
              "      <th>unknown</th>\n",
              "      <td>0.891919</td>\n",
              "      <td>0.108081</td>\n",
              "    </tr>\n",
              "    <tr>\n",
              "      <th>yes</th>\n",
              "      <td>0.890685</td>\n",
              "      <td>0.109315</td>\n",
              "    </tr>\n",
              "    <tr>\n",
              "      <th>All</th>\n",
              "      <td>0.887346</td>\n",
              "      <td>0.112654</td>\n",
              "    </tr>\n",
              "  </tbody>\n",
              "</table>\n",
              "</div>"
            ],
            "text/plain": [
              "y              no       yes\n",
              "loan                       \n",
              "no       0.886598  0.113402\n",
              "unknown  0.891919  0.108081\n",
              "yes      0.890685  0.109315\n",
              "All      0.887346  0.112654"
            ]
          },
          "metadata": {
            "tags": []
          },
          "execution_count": 161
        }
      ]
    },
    {
      "cell_type": "code",
      "metadata": {
        "colab": {
          "base_uri": "https://localhost:8080/",
          "height": 387
        },
        "id": "cOcfrRnIQxQH",
        "outputId": "67dd80c3-49e4-42ea-8e7f-fe3359d7ce30"
      },
      "source": [
        "#Si graficamos porcentajes no hay un patrón claro en Yes o en No\n",
        "x,y = 'y','housing'\n",
        "\n",
        "df1 = df.groupby(x)[y].value_counts(normalize=True)\n",
        "df1 = df1.mul(100)\n",
        "df1 = df1.rename('percent').reset_index()\n",
        "\n",
        "plt.figure(figsize=(12,6))\n",
        "sns.barplot(x=x,y='percent',hue=y,data=df1)\n",
        "plt.show()"
      ],
      "execution_count": null,
      "outputs": [
        {
          "output_type": "display_data",
          "data": {
            "image/png": "[encoded data removed]",
            "text/plain": [
              "<Figure size 864x432 with 1 Axes>"
            ]
          },
          "metadata": {
            "tags": [],
            "needs_background": "light"
          }
        }
      ]
    },
    {
      "cell_type": "code",
      "metadata": {
        "colab": {
          "base_uri": "https://localhost:8080/",
          "height": 387
        },
        "id": "vEpHQSHWUBfb",
        "outputId": "38ed9da3-2cd3-485c-e5ac-d0f5a560734c"
      },
      "source": [
        "#Si graficamos porcentajes lo vemos aún mas claro, no hay un patrón claro en Yes o en No\n",
        "x,y = 'y','loan'\n",
        "\n",
        "df1 = df.groupby(x)[y].value_counts(normalize=True)\n",
        "df1 = df1.mul(100)\n",
        "df1 = df1.rename('percent').reset_index()\n",
        "\n",
        "plt.figure(figsize=(12,6))\n",
        "sns.barplot(x=x,y='percent',hue=y,data=df1)\n",
        "plt.show()"
      ],
      "execution_count": null,
      "outputs": [
        {
          "output_type": "display_data",
          "data": {
            "image/png": "[encoded data removed]",
            "text/plain": [
              "<Figure size 864x432 with 1 Axes>"
            ]
          },
          "metadata": {
            "tags": [],
            "needs_background": "light"
          }
        }
      ]
    },
    {
      "cell_type": "markdown",
      "metadata": {
        "id": "yu4CeYigzJAh"
      },
      "source": [
        "**No se ve una diferencia clara en la situación crediticia, entre quienes contrataron el servicio y quienes no lo contrataron.**"
      ]
    },
    {
      "cell_type": "markdown",
      "metadata": {
        "id": "pzBC7Vtu7vu7"
      },
      "source": [
        "### ¿Influye el medio de comunicaición ?"
      ]
    },
    {
      "cell_type": "code",
      "metadata": {
        "colab": {
          "base_uri": "https://localhost:8080/",
          "height": 387
        },
        "id": "Fx5GIiJH7052",
        "outputId": "f06479db-7a31-40ce-92b4-788ab7adde52"
      },
      "source": [
        "#Si graficamos porcentajes lo vemos aún mas claro, no hay un patrón claro en Yes o en No\n",
        "x,y = 'y','contact'\n",
        "\n",
        "df1 = df.groupby(x)[y].value_counts(normalize=True)\n",
        "df1 = df1.mul(100)\n",
        "df1 = df1.rename('percent').reset_index()\n",
        "\n",
        "plt.figure(figsize=(12,6))\n",
        "sns.barplot(x=x,y='percent',hue=y,data=df1)\n",
        "plt.show()"
      ],
      "execution_count": null,
      "outputs": [
        {
          "output_type": "display_data",
          "data": {
            "image/png": "[encoded data removed]",
            "text/plain": [
              "<Figure size 864x432 with 1 Axes>"
            ]
          },
          "metadata": {
            "tags": [],
            "needs_background": "light"
          }
        }
      ]
    },
    {
      "cell_type": "markdown",
      "metadata": {
        "id": "qUKtuQrG8D3d"
      },
      "source": [
        "**El gráfico anterior es interesante, se ve una mayor proporción de contacto por celular en los casos exitosos, que en los casos no exitosos.**"
      ]
    },
    {
      "cell_type": "markdown",
      "metadata": {
        "id": "DaIGyyK5bF_A"
      },
      "source": [
        "##Análisis de las variables de contexto\n",
        "\n",
        "Análisis de las correlaciones entre las variables de contexto y la contratación del PF"
      ]
    },
    {
      "cell_type": "code",
      "metadata": {
        "colab": {
          "base_uri": "https://localhost:8080/",
          "height": 220
        },
        "id": "ojGBoCgoW_7P",
        "outputId": "d9307dc8-1c20-4686-d695-d82a1616b6b1"
      },
      "source": [
        "correlation_mat = df[['y_','emp.var.rate', 'cons.price.idx', 'cons.conf.idx', 'euribor3m', 'nr.employed']].corr()\n",
        "correlation_mat"
      ],
      "execution_count": null,
      "outputs": [
        {
          "output_type": "execute_result",
          "data": {
            "text/html": [
              "<div>\n",
              "<style scoped>\n",
              "    .dataframe tbody tr th:only-of-type {\n",
              "        vertical-align: middle;\n",
              "    }\n",
              "\n",
              "    .dataframe tbody tr th {\n",
              "        vertical-align: top;\n",
              "    }\n",
              "\n",
              "    .dataframe thead th {\n",
              "        text-align: right;\n",
              "    }\n",
              "</style>\n",
              "<table border=\"1\" class=\"dataframe\">\n",
              "  <thead>\n",
              "    <tr style=\"text-align: right;\">\n",
              "      <th></th>\n",
              "      <th>y_</th>\n",
              "      <th>emp.var.rate</th>\n",
              "      <th>cons.price.idx</th>\n",
              "      <th>cons.conf.idx</th>\n",
              "      <th>euribor3m</th>\n",
              "      <th>nr.employed</th>\n",
              "    </tr>\n",
              "  </thead>\n",
              "  <tbody>\n",
              "    <tr>\n",
              "      <th>y_</th>\n",
              "      <td>1.000000</td>\n",
              "      <td>-0.298334</td>\n",
              "      <td>-0.136211</td>\n",
              "      <td>0.054878</td>\n",
              "      <td>-0.307771</td>\n",
              "      <td>-0.354678</td>\n",
              "    </tr>\n",
              "    <tr>\n",
              "      <th>emp.var.rate</th>\n",
              "      <td>-0.298334</td>\n",
              "      <td>1.000000</td>\n",
              "      <td>0.775334</td>\n",
              "      <td>0.196041</td>\n",
              "      <td>0.972245</td>\n",
              "      <td>0.906970</td>\n",
              "    </tr>\n",
              "    <tr>\n",
              "      <th>cons.price.idx</th>\n",
              "      <td>-0.136211</td>\n",
              "      <td>0.775334</td>\n",
              "      <td>1.000000</td>\n",
              "      <td>0.058986</td>\n",
              "      <td>0.688230</td>\n",
              "      <td>0.522034</td>\n",
              "    </tr>\n",
              "    <tr>\n",
              "      <th>cons.conf.idx</th>\n",
              "      <td>0.054878</td>\n",
              "      <td>0.196041</td>\n",
              "      <td>0.058986</td>\n",
              "      <td>1.000000</td>\n",
              "      <td>0.277686</td>\n",
              "      <td>0.100513</td>\n",
              "    </tr>\n",
              "    <tr>\n",
              "      <th>euribor3m</th>\n",
              "      <td>-0.307771</td>\n",
              "      <td>0.972245</td>\n",
              "      <td>0.688230</td>\n",
              "      <td>0.277686</td>\n",
              "      <td>1.000000</td>\n",
              "      <td>0.945154</td>\n",
              "    </tr>\n",
              "    <tr>\n",
              "      <th>nr.employed</th>\n",
              "      <td>-0.354678</td>\n",
              "      <td>0.906970</td>\n",
              "      <td>0.522034</td>\n",
              "      <td>0.100513</td>\n",
              "      <td>0.945154</td>\n",
              "      <td>1.000000</td>\n",
              "    </tr>\n",
              "  </tbody>\n",
              "</table>\n",
              "</div>"
            ],
            "text/plain": [
              "                      y_  emp.var.rate  cons.price.idx  cons.conf.idx  \\\n",
              "y_              1.000000     -0.298334       -0.136211       0.054878   \n",
              "emp.var.rate   -0.298334      1.000000        0.775334       0.196041   \n",
              "cons.price.idx -0.136211      0.775334        1.000000       0.058986   \n",
              "cons.conf.idx   0.054878      0.196041        0.058986       1.000000   \n",
              "euribor3m      -0.307771      0.972245        0.688230       0.277686   \n",
              "nr.employed    -0.354678      0.906970        0.522034       0.100513   \n",
              "\n",
              "                euribor3m  nr.employed  \n",
              "y_              -0.307771    -0.354678  \n",
              "emp.var.rate     0.972245     0.906970  \n",
              "cons.price.idx   0.688230     0.522034  \n",
              "cons.conf.idx    0.277686     0.100513  \n",
              "euribor3m        1.000000     0.945154  \n",
              "nr.employed      0.945154     1.000000  "
            ]
          },
          "metadata": {
            "tags": []
          },
          "execution_count": 293
        }
      ]
    },
    {
      "cell_type": "code",
      "metadata": {
        "colab": {
          "base_uri": "https://localhost:8080/",
          "height": 596
        },
        "id": "gQlt2CrBXUef",
        "outputId": "78d895c9-228f-4660-a3b8-88cc2a5402eb"
      },
      "source": [
        "plt.figure(figsize=(10,10)) \n",
        "sns.heatmap(correlation_mat, annot = False) \n",
        "plt.show()"
      ],
      "execution_count": null,
      "outputs": [
        {
          "output_type": "display_data",
          "data": {
            "image/png": "[encoded data removed]",
            "text/plain": [
              "<Figure size 720x720 with 2 Axes>"
            ]
          },
          "metadata": {
            "tags": [],
            "needs_background": "light"
          }
        }
      ]
    },
    {
      "cell_type": "markdown",
      "metadata": {
        "id": "EggrRjeMzWT4"
      },
      "source": [
        "#### Tasa de interés de referencia"
      ]
    },
    {
      "cell_type": "code",
      "metadata": {
        "id": "8tIOI4gRzZa2"
      },
      "source": [
        "Hacemos primero un agrupamiento"
      ],
      "execution_count": null,
      "outputs": []
    },
    {
      "cell_type": "code",
      "metadata": {
        "id": "5PqrZ3klaxTU"
      },
      "source": [
        "df['euribor3m_group']=to_categorical(df.euribor3m, bin_size=3, min_cut=0.5, max_cut=6)"
      ],
      "execution_count": null,
      "outputs": []
    },
    {
      "cell_type": "code",
      "metadata": {
        "colab": {
          "base_uri": "https://localhost:8080/",
          "height": 162
        },
        "id": "rUnTxmn0LZb2",
        "outputId": "cb1990b4-4eca-4d53-8ec2-027fe3927b3f"
      },
      "source": [
        "pd.crosstab(df.euribor3m_group,df.y, margins=True,normalize=\"index\") "
      ],
      "execution_count": null,
      "outputs": [
        {
          "output_type": "execute_result",
          "data": {
            "text/html": [
              "<div>\n",
              "<style scoped>\n",
              "    .dataframe tbody tr th:only-of-type {\n",
              "        vertical-align: middle;\n",
              "    }\n",
              "\n",
              "    .dataframe tbody tr th {\n",
              "        vertical-align: top;\n",
              "    }\n",
              "\n",
              "    .dataframe thead th {\n",
              "        text-align: right;\n",
              "    }\n",
              "</style>\n",
              "<table border=\"1\" class=\"dataframe\">\n",
              "  <thead>\n",
              "    <tr style=\"text-align: right;\">\n",
              "      <th>y</th>\n",
              "      <th>no</th>\n",
              "      <th>yes</th>\n",
              "    </tr>\n",
              "    <tr>\n",
              "      <th>euribor3m_group</th>\n",
              "      <th></th>\n",
              "      <th></th>\n",
              "    </tr>\n",
              "  </thead>\n",
              "  <tbody>\n",
              "    <tr>\n",
              "      <th>(0.5, 3.5]</th>\n",
              "      <td>0.755462</td>\n",
              "      <td>0.244538</td>\n",
              "    </tr>\n",
              "    <tr>\n",
              "      <th>(3.5, 6.5]</th>\n",
              "      <td>0.951671</td>\n",
              "      <td>0.048329</td>\n",
              "    </tr>\n",
              "    <tr>\n",
              "      <th>All</th>\n",
              "      <td>0.887346</td>\n",
              "      <td>0.112654</td>\n",
              "    </tr>\n",
              "  </tbody>\n",
              "</table>\n",
              "</div>"
            ],
            "text/plain": [
              "y                      no       yes\n",
              "euribor3m_group                    \n",
              "(0.5, 3.5]       0.755462  0.244538\n",
              "(3.5, 6.5]       0.951671  0.048329\n",
              "All              0.887346  0.112654"
            ]
          },
          "metadata": {
            "tags": []
          },
          "execution_count": 296
        }
      ]
    },
    {
      "cell_type": "code",
      "metadata": {
        "colab": {
          "base_uri": "https://localhost:8080/",
          "height": 387
        },
        "id": "-A5o7WDkIedh",
        "outputId": "18ab1bae-fd51-487b-b83f-03f18b9afbb4"
      },
      "source": [
        "#Si graficamos porcentajes\n",
        "x,y = 'y','euribor3m_group'\n",
        "\n",
        "df1 = df.groupby(x)[y].value_counts(normalize=True)\n",
        "df1 = df1.mul(100)\n",
        "df1 = df1.rename('percent').reset_index()\n",
        "\n",
        "plt.figure(figsize=(12,6))\n",
        "sns.barplot(x=x,y='percent',hue=y,data=df1)\n",
        "plt.show()\n"
      ],
      "execution_count": null,
      "outputs": [
        {
          "output_type": "display_data",
          "data": {
            "image/png": "[encoded data removed]",
            "text/plain": [
              "<Figure size 864x432 with 1 Axes>"
            ]
          },
          "metadata": {
            "tags": [],
            "needs_background": "light"
          }
        }
      ]
    },
    {
      "cell_type": "markdown",
      "metadata": {
        "id": "O4wcMi5U0UPc"
      },
      "source": [
        "**Para apoyar el gráfico anterior, sería interesante contar con el dato de la tasa que efectivamente se ofreció al cliente por este PF. Si bien euribor es el valor de referencia que usan los bancos, nos falta esa información.**"
      ]
    },
    {
      "cell_type": "markdown",
      "metadata": {
        "id": "7QBIN78yz9wH"
      },
      "source": [
        "#### Cons.conf.idx"
      ]
    },
    {
      "cell_type": "markdown",
      "metadata": {
        "id": "gdm0-11C0EPB"
      },
      "source": [
        "Hacemos primero una agrupación"
      ]
    },
    {
      "cell_type": "code",
      "metadata": {
        "id": "GmVoz3kLNGbC"
      },
      "source": [
        "df['conf_group']=to_categorical(df['cons.conf.idx'], bin_size=5, min_cut=-40, max_cut=-25)"
      ],
      "execution_count": null,
      "outputs": []
    },
    {
      "cell_type": "code",
      "metadata": {
        "colab": {
          "base_uri": "https://localhost:8080/",
          "height": 387
        },
        "id": "bNTOr1CMN2nI",
        "outputId": "f14954e4-4304-43d0-e9a9-de3e68696502"
      },
      "source": [
        "#Si graficamos porcentajes\n",
        "x,y = 'y','conf_group'\n",
        "\n",
        "df1 = df.groupby(x)[y].value_counts(normalize=True)\n",
        "df1 = df1.mul(100)\n",
        "df1 = df1.rename('percent').reset_index()\n",
        "\n",
        "plt.figure(figsize=(12,6))\n",
        "sns.barplot(x=x,y='percent',hue=y,data=df1)\n",
        "plt.show()"
      ],
      "execution_count": null,
      "outputs": [
        {
          "output_type": "display_data",
          "data": {
            "image/png": "[encoded data removed]",
            "text/plain": [
              "<Figure size 864x432 with 1 Axes>"
            ]
          },
          "metadata": {
            "tags": [],
            "needs_background": "light"
          }
        }
      ]
    },
    {
      "cell_type": "markdown",
      "metadata": {
        "id": "UnLOtSAq1E2p"
      },
      "source": [
        "**Se observa que cuando el índice de confianza del consumidor es muy bajo, es más probable que no se contrate el PF**"
      ]
    },
    {
      "cell_type": "markdown",
      "metadata": {
        "id": "CFZMmCgi0Jfr"
      },
      "source": [
        "#### no.employed"
      ]
    },
    {
      "cell_type": "code",
      "metadata": {
        "id": "5vsLKJfGOevX"
      },
      "source": [
        "df['employed_group']=to_categorical(df['nr.employed'], bin_size=100, min_cut=4950, max_cut=5250)"
      ],
      "execution_count": null,
      "outputs": []
    },
    {
      "cell_type": "code",
      "metadata": {
        "colab": {
          "base_uri": "https://localhost:8080/",
          "height": 387
        },
        "id": "kwfNOQduOqL-",
        "outputId": "603865e1-5a68-46d4-8c53-d526a31f3f63"
      },
      "source": [
        "#Si graficamos porcentajes\n",
        "x,y = 'y','employed_group'\n",
        "\n",
        "df1 = df.groupby(x)[y].value_counts(normalize=True)\n",
        "df1 = df1.mul(100)\n",
        "df1 = df1.rename('percent').reset_index()\n",
        "\n",
        "plt.figure(figsize=(12,6))\n",
        "sns.barplot(x=x,y='percent',hue=y,data=df1)\n",
        "plt.show()"
      ],
      "execution_count": null,
      "outputs": [
        {
          "output_type": "display_data",
          "data": {
            "image/png": "[encoded data removed]",
            "text/plain": [
              "<Figure size 864x432 with 1 Axes>"
            ]
          },
          "metadata": {
            "tags": [],
            "needs_background": "light"
          }
        }
      ]
    },
    {
      "cell_type": "markdown",
      "metadata": {
        "id": "fL9Y55Yk1WwM"
      },
      "source": [
        "**Se observa que cuando es mayor el nivel de empleo, es más probable que no se contrate un PF. Resta analizar las causas de este comportamiento.**"
      ]
    }
  ]
}