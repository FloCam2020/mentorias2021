{
 "cells": [
  {
   "cell_type": "code",
   "execution_count": null,
   "metadata": {
    "id": "atFi1riTXW8Y"
   },
   "outputs": [],
   "source": [
    "pip install pycaret"
   ]
  },
  {
   "cell_type": "code",
   "execution_count": 1,
   "metadata": {
    "id": "MVoS9537wCjV"
   },
   "outputs": [],
   "source": [
    "import numpy as np\n",
    "import pandas as pd\n",
    "import matplotlib.pyplot as plt\n",
    "import seaborn as sns\n",
    "\n",
    "from sklearn.model_selection import train_test_split, cross_validate, GridSearchCV, RandomizedSearchCV\n",
    "from sklearn.impute import SimpleImputer\n",
    "from sklearn.preprocessing import KBinsDiscretizer, OneHotEncoder, StandardScaler, MinMaxScaler\n",
    "from sklearn.pipeline import Pipeline\n",
    "from sklearn.compose import ColumnTransformer\n",
    "from sklearn.metrics import classification_report\n",
    "\n",
    "from sklearn.tree import DecisionTreeClassifier\n",
    "from sklearn.linear_model import LogisticRegression, SGDClassifier\n",
    "from sklearn.naive_bayes import BernoulliNB, ComplementNB, MultinomialNB\n",
    "from sklearn.svm import SVC\n",
    "from sklearn.ensemble import RandomForestClassifier\n",
    "from sklearn.neighbors import KNeighborsClassifier\n",
    "import xgboost as xgb\n",
    "import lightgbm as lgbm"
   ]
  },
  {
   "cell_type": "code",
   "execution_count": 2,
   "metadata": {
    "id": "hnde3S2mXbaZ"
   },
   "outputs": [],
   "source": [
    "import pycaret.classification"
   ]
  },
  {
   "cell_type": "code",
   "execution_count": 3,
   "metadata": {
    "id": "EmrIjBi2Xdu8"
   },
   "outputs": [],
   "source": [
    "# Opción para ver todas las columnas del dataset en el notebook\n",
    "pd.set_option('display.max_columns', 50)"
   ]
  },
  {
   "cell_type": "markdown",
   "metadata": {
    "id": "imwPHmuBXeYn"
   },
   "source": [
    "# Cargamos los datos"
   ]
  },
  {
   "cell_type": "code",
   "execution_count": 2,
   "metadata": {
    "id": "7dL-GU6EXoNL"
   },
   "outputs": [],
   "source": [
    "# Leemos el dataset con la función de pandas \"read_csv\"\n",
    "key = \"data/bank-additional-full.csv\"\n",
    "df = pd.read_csv(key, sep=\";\")"
   ]
  },
  {
   "cell_type": "code",
   "execution_count": 3,
   "metadata": {
    "colab": {
     "base_uri": "https://localhost:8080/",
     "height": 112
    },
    "id": "yBfa-VDsXq30",
    "outputId": "53e1cd5a-f42a-4f33-b2cb-abc13650d0e4"
   },
   "outputs": [
    {
     "data": {
      "text/html": [
       "<div>\n",
       "<style scoped>\n",
       "    .dataframe tbody tr th:only-of-type {\n",
       "        vertical-align: middle;\n",
       "    }\n",
       "\n",
       "    .dataframe tbody tr th {\n",
       "        vertical-align: top;\n",
       "    }\n",
       "\n",
       "    .dataframe thead th {\n",
       "        text-align: right;\n",
       "    }\n",
       "</style>\n",
       "<table border=\"1\" class=\"dataframe\">\n",
       "  <thead>\n",
       "    <tr style=\"text-align: right;\">\n",
       "      <th></th>\n",
       "      <th>age</th>\n",
       "      <th>job</th>\n",
       "      <th>marital</th>\n",
       "      <th>education</th>\n",
       "      <th>default</th>\n",
       "      <th>housing</th>\n",
       "      <th>loan</th>\n",
       "      <th>contact</th>\n",
       "      <th>month</th>\n",
       "      <th>day_of_week</th>\n",
       "      <th>...</th>\n",
       "      <th>campaign</th>\n",
       "      <th>pdays</th>\n",
       "      <th>previous</th>\n",
       "      <th>poutcome</th>\n",
       "      <th>emp.var.rate</th>\n",
       "      <th>cons.price.idx</th>\n",
       "      <th>cons.conf.idx</th>\n",
       "      <th>euribor3m</th>\n",
       "      <th>nr.employed</th>\n",
       "      <th>y</th>\n",
       "    </tr>\n",
       "  </thead>\n",
       "  <tbody>\n",
       "    <tr>\n",
       "      <th>0</th>\n",
       "      <td>56</td>\n",
       "      <td>housemaid</td>\n",
       "      <td>married</td>\n",
       "      <td>basic.4y</td>\n",
       "      <td>no</td>\n",
       "      <td>no</td>\n",
       "      <td>no</td>\n",
       "      <td>telephone</td>\n",
       "      <td>may</td>\n",
       "      <td>mon</td>\n",
       "      <td>...</td>\n",
       "      <td>1</td>\n",
       "      <td>999</td>\n",
       "      <td>0</td>\n",
       "      <td>nonexistent</td>\n",
       "      <td>1.1</td>\n",
       "      <td>93.994</td>\n",
       "      <td>-36.4</td>\n",
       "      <td>4.857</td>\n",
       "      <td>5191.0</td>\n",
       "      <td>no</td>\n",
       "    </tr>\n",
       "    <tr>\n",
       "      <th>1</th>\n",
       "      <td>57</td>\n",
       "      <td>services</td>\n",
       "      <td>married</td>\n",
       "      <td>high.school</td>\n",
       "      <td>unknown</td>\n",
       "      <td>no</td>\n",
       "      <td>no</td>\n",
       "      <td>telephone</td>\n",
       "      <td>may</td>\n",
       "      <td>mon</td>\n",
       "      <td>...</td>\n",
       "      <td>1</td>\n",
       "      <td>999</td>\n",
       "      <td>0</td>\n",
       "      <td>nonexistent</td>\n",
       "      <td>1.1</td>\n",
       "      <td>93.994</td>\n",
       "      <td>-36.4</td>\n",
       "      <td>4.857</td>\n",
       "      <td>5191.0</td>\n",
       "      <td>no</td>\n",
       "    </tr>\n",
       "  </tbody>\n",
       "</table>\n",
       "<p>2 rows × 21 columns</p>\n",
       "</div>"
      ],
      "text/plain": [
       "   age        job  marital    education  default housing loan    contact  \\\n",
       "0   56  housemaid  married     basic.4y       no      no   no  telephone   \n",
       "1   57   services  married  high.school  unknown      no   no  telephone   \n",
       "\n",
       "  month day_of_week  ...  campaign  pdays  previous     poutcome emp.var.rate  \\\n",
       "0   may         mon  ...         1    999         0  nonexistent          1.1   \n",
       "1   may         mon  ...         1    999         0  nonexistent          1.1   \n",
       "\n",
       "   cons.price.idx  cons.conf.idx  euribor3m  nr.employed   y  \n",
       "0          93.994          -36.4      4.857       5191.0  no  \n",
       "1          93.994          -36.4      4.857       5191.0  no  \n",
       "\n",
       "[2 rows x 21 columns]"
      ]
     },
     "execution_count": 3,
     "metadata": {},
     "output_type": "execute_result"
    }
   ],
   "source": [
    "df.head(2)"
   ]
  },
  {
   "cell_type": "markdown",
   "metadata": {
    "id": "EH4RXMMCX2HD"
   },
   "source": [
    "# División en grupo de test y train"
   ]
  },
  {
   "cell_type": "code",
   "execution_count": 4,
   "metadata": {
    "id": "1ajvhNHdYEzA"
   },
   "outputs": [],
   "source": [
    "# Reemplazamos la columna y (target) por 1 y 0\n",
    "df.y = df.y.replace('yes', 1)\n",
    "df.y = df.y.replace('no', 0)"
   ]
  },
  {
   "cell_type": "code",
   "execution_count": 5,
   "metadata": {
    "id": "yJE7k8L-X6Zw"
   },
   "outputs": [],
   "source": [
    "df_train, df_test = train_test_split(df, test_size=0.2, stratify=df.y, random_state=42)"
   ]
  },
  {
   "cell_type": "markdown",
   "metadata": {
    "id": "afLGjz1IYR6A"
   },
   "source": [
    "### Análisis global con PyCaret"
   ]
  },
  {
   "cell_type": "code",
   "execution_count": 8,
   "metadata": {
    "colab": {
     "base_uri": "https://localhost:8080/",
     "height": 1000,
     "referenced_widgets": [
      "cbe5a5d40f164b078a980567b7a8e70e",
      "47482f9ee49d4fcba87f4c0b2397a119",
      "a0adfdf2dafb429797aed840ce0131c1",
      "4e5bf7196dd84ad6ac9b3983e1077c0c",
      "bd7ee1d668b149f8850b1476ab82a529",
      "c19cf648a61745f58eb9b81291f7b17f"
     ]
    },
    "id": "L3Tuy7rzYMwI",
    "outputId": "c369b5e0-4306-4d5f-8697-643e0ba151ea"
   },
   "outputs": [
    {
     "data": {
      "text/html": [
       "<style  type=\"text/css\" >\n",
       "#T_37e13091_0ab3_11ec_b932_9457a5d83a5brow44_col1{\n",
       "            background-color:  lightgreen;\n",
       "        }</style><table id=\"T_37e13091_0ab3_11ec_b932_9457a5d83a5b\" ><thead>    <tr>        <th class=\"blank level0\" ></th>        <th class=\"col_heading level0 col0\" >Description</th>        <th class=\"col_heading level0 col1\" >Value</th>    </tr></thead><tbody>\n",
       "                <tr>\n",
       "                        <th id=\"T_37e13091_0ab3_11ec_b932_9457a5d83a5blevel0_row0\" class=\"row_heading level0 row0\" >0</th>\n",
       "                        <td id=\"T_37e13091_0ab3_11ec_b932_9457a5d83a5brow0_col0\" class=\"data row0 col0\" >session_id</td>\n",
       "                        <td id=\"T_37e13091_0ab3_11ec_b932_9457a5d83a5brow0_col1\" class=\"data row0 col1\" >8427</td>\n",
       "            </tr>\n",
       "            <tr>\n",
       "                        <th id=\"T_37e13091_0ab3_11ec_b932_9457a5d83a5blevel0_row1\" class=\"row_heading level0 row1\" >1</th>\n",
       "                        <td id=\"T_37e13091_0ab3_11ec_b932_9457a5d83a5brow1_col0\" class=\"data row1 col0\" >Target</td>\n",
       "                        <td id=\"T_37e13091_0ab3_11ec_b932_9457a5d83a5brow1_col1\" class=\"data row1 col1\" >y</td>\n",
       "            </tr>\n",
       "            <tr>\n",
       "                        <th id=\"T_37e13091_0ab3_11ec_b932_9457a5d83a5blevel0_row2\" class=\"row_heading level0 row2\" >2</th>\n",
       "                        <td id=\"T_37e13091_0ab3_11ec_b932_9457a5d83a5brow2_col0\" class=\"data row2 col0\" >Target Type</td>\n",
       "                        <td id=\"T_37e13091_0ab3_11ec_b932_9457a5d83a5brow2_col1\" class=\"data row2 col1\" >Binary</td>\n",
       "            </tr>\n",
       "            <tr>\n",
       "                        <th id=\"T_37e13091_0ab3_11ec_b932_9457a5d83a5blevel0_row3\" class=\"row_heading level0 row3\" >3</th>\n",
       "                        <td id=\"T_37e13091_0ab3_11ec_b932_9457a5d83a5brow3_col0\" class=\"data row3 col0\" >Label Encoded</td>\n",
       "                        <td id=\"T_37e13091_0ab3_11ec_b932_9457a5d83a5brow3_col1\" class=\"data row3 col1\" >0: 0, 1: 1</td>\n",
       "            </tr>\n",
       "            <tr>\n",
       "                        <th id=\"T_37e13091_0ab3_11ec_b932_9457a5d83a5blevel0_row4\" class=\"row_heading level0 row4\" >4</th>\n",
       "                        <td id=\"T_37e13091_0ab3_11ec_b932_9457a5d83a5brow4_col0\" class=\"data row4 col0\" >Original Data</td>\n",
       "                        <td id=\"T_37e13091_0ab3_11ec_b932_9457a5d83a5brow4_col1\" class=\"data row4 col1\" >(32950, 21)</td>\n",
       "            </tr>\n",
       "            <tr>\n",
       "                        <th id=\"T_37e13091_0ab3_11ec_b932_9457a5d83a5blevel0_row5\" class=\"row_heading level0 row5\" >5</th>\n",
       "                        <td id=\"T_37e13091_0ab3_11ec_b932_9457a5d83a5brow5_col0\" class=\"data row5 col0\" >Missing Values</td>\n",
       "                        <td id=\"T_37e13091_0ab3_11ec_b932_9457a5d83a5brow5_col1\" class=\"data row5 col1\" >False</td>\n",
       "            </tr>\n",
       "            <tr>\n",
       "                        <th id=\"T_37e13091_0ab3_11ec_b932_9457a5d83a5blevel0_row6\" class=\"row_heading level0 row6\" >6</th>\n",
       "                        <td id=\"T_37e13091_0ab3_11ec_b932_9457a5d83a5brow6_col0\" class=\"data row6 col0\" >Numeric Features</td>\n",
       "                        <td id=\"T_37e13091_0ab3_11ec_b932_9457a5d83a5brow6_col1\" class=\"data row6 col1\" >9</td>\n",
       "            </tr>\n",
       "            <tr>\n",
       "                        <th id=\"T_37e13091_0ab3_11ec_b932_9457a5d83a5blevel0_row7\" class=\"row_heading level0 row7\" >7</th>\n",
       "                        <td id=\"T_37e13091_0ab3_11ec_b932_9457a5d83a5brow7_col0\" class=\"data row7 col0\" >Categorical Features</td>\n",
       "                        <td id=\"T_37e13091_0ab3_11ec_b932_9457a5d83a5brow7_col1\" class=\"data row7 col1\" >11</td>\n",
       "            </tr>\n",
       "            <tr>\n",
       "                        <th id=\"T_37e13091_0ab3_11ec_b932_9457a5d83a5blevel0_row8\" class=\"row_heading level0 row8\" >8</th>\n",
       "                        <td id=\"T_37e13091_0ab3_11ec_b932_9457a5d83a5brow8_col0\" class=\"data row8 col0\" >Ordinal Features</td>\n",
       "                        <td id=\"T_37e13091_0ab3_11ec_b932_9457a5d83a5brow8_col1\" class=\"data row8 col1\" >False</td>\n",
       "            </tr>\n",
       "            <tr>\n",
       "                        <th id=\"T_37e13091_0ab3_11ec_b932_9457a5d83a5blevel0_row9\" class=\"row_heading level0 row9\" >9</th>\n",
       "                        <td id=\"T_37e13091_0ab3_11ec_b932_9457a5d83a5brow9_col0\" class=\"data row9 col0\" >High Cardinality Features</td>\n",
       "                        <td id=\"T_37e13091_0ab3_11ec_b932_9457a5d83a5brow9_col1\" class=\"data row9 col1\" >False</td>\n",
       "            </tr>\n",
       "            <tr>\n",
       "                        <th id=\"T_37e13091_0ab3_11ec_b932_9457a5d83a5blevel0_row10\" class=\"row_heading level0 row10\" >10</th>\n",
       "                        <td id=\"T_37e13091_0ab3_11ec_b932_9457a5d83a5brow10_col0\" class=\"data row10 col0\" >High Cardinality Method</td>\n",
       "                        <td id=\"T_37e13091_0ab3_11ec_b932_9457a5d83a5brow10_col1\" class=\"data row10 col1\" >None</td>\n",
       "            </tr>\n",
       "            <tr>\n",
       "                        <th id=\"T_37e13091_0ab3_11ec_b932_9457a5d83a5blevel0_row11\" class=\"row_heading level0 row11\" >11</th>\n",
       "                        <td id=\"T_37e13091_0ab3_11ec_b932_9457a5d83a5brow11_col0\" class=\"data row11 col0\" >Transformed Train Set</td>\n",
       "                        <td id=\"T_37e13091_0ab3_11ec_b932_9457a5d83a5brow11_col1\" class=\"data row11 col1\" >(23064, 65)</td>\n",
       "            </tr>\n",
       "            <tr>\n",
       "                        <th id=\"T_37e13091_0ab3_11ec_b932_9457a5d83a5blevel0_row12\" class=\"row_heading level0 row12\" >12</th>\n",
       "                        <td id=\"T_37e13091_0ab3_11ec_b932_9457a5d83a5brow12_col0\" class=\"data row12 col0\" >Transformed Test Set</td>\n",
       "                        <td id=\"T_37e13091_0ab3_11ec_b932_9457a5d83a5brow12_col1\" class=\"data row12 col1\" >(9886, 65)</td>\n",
       "            </tr>\n",
       "            <tr>\n",
       "                        <th id=\"T_37e13091_0ab3_11ec_b932_9457a5d83a5blevel0_row13\" class=\"row_heading level0 row13\" >13</th>\n",
       "                        <td id=\"T_37e13091_0ab3_11ec_b932_9457a5d83a5brow13_col0\" class=\"data row13 col0\" >Shuffle Train-Test</td>\n",
       "                        <td id=\"T_37e13091_0ab3_11ec_b932_9457a5d83a5brow13_col1\" class=\"data row13 col1\" >True</td>\n",
       "            </tr>\n",
       "            <tr>\n",
       "                        <th id=\"T_37e13091_0ab3_11ec_b932_9457a5d83a5blevel0_row14\" class=\"row_heading level0 row14\" >14</th>\n",
       "                        <td id=\"T_37e13091_0ab3_11ec_b932_9457a5d83a5brow14_col0\" class=\"data row14 col0\" >Stratify Train-Test</td>\n",
       "                        <td id=\"T_37e13091_0ab3_11ec_b932_9457a5d83a5brow14_col1\" class=\"data row14 col1\" >False</td>\n",
       "            </tr>\n",
       "            <tr>\n",
       "                        <th id=\"T_37e13091_0ab3_11ec_b932_9457a5d83a5blevel0_row15\" class=\"row_heading level0 row15\" >15</th>\n",
       "                        <td id=\"T_37e13091_0ab3_11ec_b932_9457a5d83a5brow15_col0\" class=\"data row15 col0\" >Fold Generator</td>\n",
       "                        <td id=\"T_37e13091_0ab3_11ec_b932_9457a5d83a5brow15_col1\" class=\"data row15 col1\" >StratifiedKFold</td>\n",
       "            </tr>\n",
       "            <tr>\n",
       "                        <th id=\"T_37e13091_0ab3_11ec_b932_9457a5d83a5blevel0_row16\" class=\"row_heading level0 row16\" >16</th>\n",
       "                        <td id=\"T_37e13091_0ab3_11ec_b932_9457a5d83a5brow16_col0\" class=\"data row16 col0\" >Fold Number</td>\n",
       "                        <td id=\"T_37e13091_0ab3_11ec_b932_9457a5d83a5brow16_col1\" class=\"data row16 col1\" >10</td>\n",
       "            </tr>\n",
       "            <tr>\n",
       "                        <th id=\"T_37e13091_0ab3_11ec_b932_9457a5d83a5blevel0_row17\" class=\"row_heading level0 row17\" >17</th>\n",
       "                        <td id=\"T_37e13091_0ab3_11ec_b932_9457a5d83a5brow17_col0\" class=\"data row17 col0\" >CPU Jobs</td>\n",
       "                        <td id=\"T_37e13091_0ab3_11ec_b932_9457a5d83a5brow17_col1\" class=\"data row17 col1\" >-1</td>\n",
       "            </tr>\n",
       "            <tr>\n",
       "                        <th id=\"T_37e13091_0ab3_11ec_b932_9457a5d83a5blevel0_row18\" class=\"row_heading level0 row18\" >18</th>\n",
       "                        <td id=\"T_37e13091_0ab3_11ec_b932_9457a5d83a5brow18_col0\" class=\"data row18 col0\" >Use GPU</td>\n",
       "                        <td id=\"T_37e13091_0ab3_11ec_b932_9457a5d83a5brow18_col1\" class=\"data row18 col1\" >False</td>\n",
       "            </tr>\n",
       "            <tr>\n",
       "                        <th id=\"T_37e13091_0ab3_11ec_b932_9457a5d83a5blevel0_row19\" class=\"row_heading level0 row19\" >19</th>\n",
       "                        <td id=\"T_37e13091_0ab3_11ec_b932_9457a5d83a5brow19_col0\" class=\"data row19 col0\" >Log Experiment</td>\n",
       "                        <td id=\"T_37e13091_0ab3_11ec_b932_9457a5d83a5brow19_col1\" class=\"data row19 col1\" >False</td>\n",
       "            </tr>\n",
       "            <tr>\n",
       "                        <th id=\"T_37e13091_0ab3_11ec_b932_9457a5d83a5blevel0_row20\" class=\"row_heading level0 row20\" >20</th>\n",
       "                        <td id=\"T_37e13091_0ab3_11ec_b932_9457a5d83a5brow20_col0\" class=\"data row20 col0\" >Experiment Name</td>\n",
       "                        <td id=\"T_37e13091_0ab3_11ec_b932_9457a5d83a5brow20_col1\" class=\"data row20 col1\" >clf-default-name</td>\n",
       "            </tr>\n",
       "            <tr>\n",
       "                        <th id=\"T_37e13091_0ab3_11ec_b932_9457a5d83a5blevel0_row21\" class=\"row_heading level0 row21\" >21</th>\n",
       "                        <td id=\"T_37e13091_0ab3_11ec_b932_9457a5d83a5brow21_col0\" class=\"data row21 col0\" >USI</td>\n",
       "                        <td id=\"T_37e13091_0ab3_11ec_b932_9457a5d83a5brow21_col1\" class=\"data row21 col1\" >b5ea</td>\n",
       "            </tr>\n",
       "            <tr>\n",
       "                        <th id=\"T_37e13091_0ab3_11ec_b932_9457a5d83a5blevel0_row22\" class=\"row_heading level0 row22\" >22</th>\n",
       "                        <td id=\"T_37e13091_0ab3_11ec_b932_9457a5d83a5brow22_col0\" class=\"data row22 col0\" >Imputation Type</td>\n",
       "                        <td id=\"T_37e13091_0ab3_11ec_b932_9457a5d83a5brow22_col1\" class=\"data row22 col1\" >simple</td>\n",
       "            </tr>\n",
       "            <tr>\n",
       "                        <th id=\"T_37e13091_0ab3_11ec_b932_9457a5d83a5blevel0_row23\" class=\"row_heading level0 row23\" >23</th>\n",
       "                        <td id=\"T_37e13091_0ab3_11ec_b932_9457a5d83a5brow23_col0\" class=\"data row23 col0\" >Iterative Imputation Iteration</td>\n",
       "                        <td id=\"T_37e13091_0ab3_11ec_b932_9457a5d83a5brow23_col1\" class=\"data row23 col1\" >None</td>\n",
       "            </tr>\n",
       "            <tr>\n",
       "                        <th id=\"T_37e13091_0ab3_11ec_b932_9457a5d83a5blevel0_row24\" class=\"row_heading level0 row24\" >24</th>\n",
       "                        <td id=\"T_37e13091_0ab3_11ec_b932_9457a5d83a5brow24_col0\" class=\"data row24 col0\" >Numeric Imputer</td>\n",
       "                        <td id=\"T_37e13091_0ab3_11ec_b932_9457a5d83a5brow24_col1\" class=\"data row24 col1\" >mean</td>\n",
       "            </tr>\n",
       "            <tr>\n",
       "                        <th id=\"T_37e13091_0ab3_11ec_b932_9457a5d83a5blevel0_row25\" class=\"row_heading level0 row25\" >25</th>\n",
       "                        <td id=\"T_37e13091_0ab3_11ec_b932_9457a5d83a5brow25_col0\" class=\"data row25 col0\" >Iterative Imputation Numeric Model</td>\n",
       "                        <td id=\"T_37e13091_0ab3_11ec_b932_9457a5d83a5brow25_col1\" class=\"data row25 col1\" >None</td>\n",
       "            </tr>\n",
       "            <tr>\n",
       "                        <th id=\"T_37e13091_0ab3_11ec_b932_9457a5d83a5blevel0_row26\" class=\"row_heading level0 row26\" >26</th>\n",
       "                        <td id=\"T_37e13091_0ab3_11ec_b932_9457a5d83a5brow26_col0\" class=\"data row26 col0\" >Categorical Imputer</td>\n",
       "                        <td id=\"T_37e13091_0ab3_11ec_b932_9457a5d83a5brow26_col1\" class=\"data row26 col1\" >constant</td>\n",
       "            </tr>\n",
       "            <tr>\n",
       "                        <th id=\"T_37e13091_0ab3_11ec_b932_9457a5d83a5blevel0_row27\" class=\"row_heading level0 row27\" >27</th>\n",
       "                        <td id=\"T_37e13091_0ab3_11ec_b932_9457a5d83a5brow27_col0\" class=\"data row27 col0\" >Iterative Imputation Categorical Model</td>\n",
       "                        <td id=\"T_37e13091_0ab3_11ec_b932_9457a5d83a5brow27_col1\" class=\"data row27 col1\" >None</td>\n",
       "            </tr>\n",
       "            <tr>\n",
       "                        <th id=\"T_37e13091_0ab3_11ec_b932_9457a5d83a5blevel0_row28\" class=\"row_heading level0 row28\" >28</th>\n",
       "                        <td id=\"T_37e13091_0ab3_11ec_b932_9457a5d83a5brow28_col0\" class=\"data row28 col0\" >Unknown Categoricals Handling</td>\n",
       "                        <td id=\"T_37e13091_0ab3_11ec_b932_9457a5d83a5brow28_col1\" class=\"data row28 col1\" >least_frequent</td>\n",
       "            </tr>\n",
       "            <tr>\n",
       "                        <th id=\"T_37e13091_0ab3_11ec_b932_9457a5d83a5blevel0_row29\" class=\"row_heading level0 row29\" >29</th>\n",
       "                        <td id=\"T_37e13091_0ab3_11ec_b932_9457a5d83a5brow29_col0\" class=\"data row29 col0\" >Normalize</td>\n",
       "                        <td id=\"T_37e13091_0ab3_11ec_b932_9457a5d83a5brow29_col1\" class=\"data row29 col1\" >False</td>\n",
       "            </tr>\n",
       "            <tr>\n",
       "                        <th id=\"T_37e13091_0ab3_11ec_b932_9457a5d83a5blevel0_row30\" class=\"row_heading level0 row30\" >30</th>\n",
       "                        <td id=\"T_37e13091_0ab3_11ec_b932_9457a5d83a5brow30_col0\" class=\"data row30 col0\" >Normalize Method</td>\n",
       "                        <td id=\"T_37e13091_0ab3_11ec_b932_9457a5d83a5brow30_col1\" class=\"data row30 col1\" >None</td>\n",
       "            </tr>\n",
       "            <tr>\n",
       "                        <th id=\"T_37e13091_0ab3_11ec_b932_9457a5d83a5blevel0_row31\" class=\"row_heading level0 row31\" >31</th>\n",
       "                        <td id=\"T_37e13091_0ab3_11ec_b932_9457a5d83a5brow31_col0\" class=\"data row31 col0\" >Transformation</td>\n",
       "                        <td id=\"T_37e13091_0ab3_11ec_b932_9457a5d83a5brow31_col1\" class=\"data row31 col1\" >False</td>\n",
       "            </tr>\n",
       "            <tr>\n",
       "                        <th id=\"T_37e13091_0ab3_11ec_b932_9457a5d83a5blevel0_row32\" class=\"row_heading level0 row32\" >32</th>\n",
       "                        <td id=\"T_37e13091_0ab3_11ec_b932_9457a5d83a5brow32_col0\" class=\"data row32 col0\" >Transformation Method</td>\n",
       "                        <td id=\"T_37e13091_0ab3_11ec_b932_9457a5d83a5brow32_col1\" class=\"data row32 col1\" >None</td>\n",
       "            </tr>\n",
       "            <tr>\n",
       "                        <th id=\"T_37e13091_0ab3_11ec_b932_9457a5d83a5blevel0_row33\" class=\"row_heading level0 row33\" >33</th>\n",
       "                        <td id=\"T_37e13091_0ab3_11ec_b932_9457a5d83a5brow33_col0\" class=\"data row33 col0\" >PCA</td>\n",
       "                        <td id=\"T_37e13091_0ab3_11ec_b932_9457a5d83a5brow33_col1\" class=\"data row33 col1\" >False</td>\n",
       "            </tr>\n",
       "            <tr>\n",
       "                        <th id=\"T_37e13091_0ab3_11ec_b932_9457a5d83a5blevel0_row34\" class=\"row_heading level0 row34\" >34</th>\n",
       "                        <td id=\"T_37e13091_0ab3_11ec_b932_9457a5d83a5brow34_col0\" class=\"data row34 col0\" >PCA Method</td>\n",
       "                        <td id=\"T_37e13091_0ab3_11ec_b932_9457a5d83a5brow34_col1\" class=\"data row34 col1\" >None</td>\n",
       "            </tr>\n",
       "            <tr>\n",
       "                        <th id=\"T_37e13091_0ab3_11ec_b932_9457a5d83a5blevel0_row35\" class=\"row_heading level0 row35\" >35</th>\n",
       "                        <td id=\"T_37e13091_0ab3_11ec_b932_9457a5d83a5brow35_col0\" class=\"data row35 col0\" >PCA Components</td>\n",
       "                        <td id=\"T_37e13091_0ab3_11ec_b932_9457a5d83a5brow35_col1\" class=\"data row35 col1\" >None</td>\n",
       "            </tr>\n",
       "            <tr>\n",
       "                        <th id=\"T_37e13091_0ab3_11ec_b932_9457a5d83a5blevel0_row36\" class=\"row_heading level0 row36\" >36</th>\n",
       "                        <td id=\"T_37e13091_0ab3_11ec_b932_9457a5d83a5brow36_col0\" class=\"data row36 col0\" >Ignore Low Variance</td>\n",
       "                        <td id=\"T_37e13091_0ab3_11ec_b932_9457a5d83a5brow36_col1\" class=\"data row36 col1\" >False</td>\n",
       "            </tr>\n",
       "            <tr>\n",
       "                        <th id=\"T_37e13091_0ab3_11ec_b932_9457a5d83a5blevel0_row37\" class=\"row_heading level0 row37\" >37</th>\n",
       "                        <td id=\"T_37e13091_0ab3_11ec_b932_9457a5d83a5brow37_col0\" class=\"data row37 col0\" >Combine Rare Levels</td>\n",
       "                        <td id=\"T_37e13091_0ab3_11ec_b932_9457a5d83a5brow37_col1\" class=\"data row37 col1\" >False</td>\n",
       "            </tr>\n",
       "            <tr>\n",
       "                        <th id=\"T_37e13091_0ab3_11ec_b932_9457a5d83a5blevel0_row38\" class=\"row_heading level0 row38\" >38</th>\n",
       "                        <td id=\"T_37e13091_0ab3_11ec_b932_9457a5d83a5brow38_col0\" class=\"data row38 col0\" >Rare Level Threshold</td>\n",
       "                        <td id=\"T_37e13091_0ab3_11ec_b932_9457a5d83a5brow38_col1\" class=\"data row38 col1\" >None</td>\n",
       "            </tr>\n",
       "            <tr>\n",
       "                        <th id=\"T_37e13091_0ab3_11ec_b932_9457a5d83a5blevel0_row39\" class=\"row_heading level0 row39\" >39</th>\n",
       "                        <td id=\"T_37e13091_0ab3_11ec_b932_9457a5d83a5brow39_col0\" class=\"data row39 col0\" >Numeric Binning</td>\n",
       "                        <td id=\"T_37e13091_0ab3_11ec_b932_9457a5d83a5brow39_col1\" class=\"data row39 col1\" >False</td>\n",
       "            </tr>\n",
       "            <tr>\n",
       "                        <th id=\"T_37e13091_0ab3_11ec_b932_9457a5d83a5blevel0_row40\" class=\"row_heading level0 row40\" >40</th>\n",
       "                        <td id=\"T_37e13091_0ab3_11ec_b932_9457a5d83a5brow40_col0\" class=\"data row40 col0\" >Remove Outliers</td>\n",
       "                        <td id=\"T_37e13091_0ab3_11ec_b932_9457a5d83a5brow40_col1\" class=\"data row40 col1\" >False</td>\n",
       "            </tr>\n",
       "            <tr>\n",
       "                        <th id=\"T_37e13091_0ab3_11ec_b932_9457a5d83a5blevel0_row41\" class=\"row_heading level0 row41\" >41</th>\n",
       "                        <td id=\"T_37e13091_0ab3_11ec_b932_9457a5d83a5brow41_col0\" class=\"data row41 col0\" >Outliers Threshold</td>\n",
       "                        <td id=\"T_37e13091_0ab3_11ec_b932_9457a5d83a5brow41_col1\" class=\"data row41 col1\" >None</td>\n",
       "            </tr>\n",
       "            <tr>\n",
       "                        <th id=\"T_37e13091_0ab3_11ec_b932_9457a5d83a5blevel0_row42\" class=\"row_heading level0 row42\" >42</th>\n",
       "                        <td id=\"T_37e13091_0ab3_11ec_b932_9457a5d83a5brow42_col0\" class=\"data row42 col0\" >Remove Multicollinearity</td>\n",
       "                        <td id=\"T_37e13091_0ab3_11ec_b932_9457a5d83a5brow42_col1\" class=\"data row42 col1\" >False</td>\n",
       "            </tr>\n",
       "            <tr>\n",
       "                        <th id=\"T_37e13091_0ab3_11ec_b932_9457a5d83a5blevel0_row43\" class=\"row_heading level0 row43\" >43</th>\n",
       "                        <td id=\"T_37e13091_0ab3_11ec_b932_9457a5d83a5brow43_col0\" class=\"data row43 col0\" >Multicollinearity Threshold</td>\n",
       "                        <td id=\"T_37e13091_0ab3_11ec_b932_9457a5d83a5brow43_col1\" class=\"data row43 col1\" >None</td>\n",
       "            </tr>\n",
       "            <tr>\n",
       "                        <th id=\"T_37e13091_0ab3_11ec_b932_9457a5d83a5blevel0_row44\" class=\"row_heading level0 row44\" >44</th>\n",
       "                        <td id=\"T_37e13091_0ab3_11ec_b932_9457a5d83a5brow44_col0\" class=\"data row44 col0\" >Remove Perfect Collinearity</td>\n",
       "                        <td id=\"T_37e13091_0ab3_11ec_b932_9457a5d83a5brow44_col1\" class=\"data row44 col1\" >True</td>\n",
       "            </tr>\n",
       "            <tr>\n",
       "                        <th id=\"T_37e13091_0ab3_11ec_b932_9457a5d83a5blevel0_row45\" class=\"row_heading level0 row45\" >45</th>\n",
       "                        <td id=\"T_37e13091_0ab3_11ec_b932_9457a5d83a5brow45_col0\" class=\"data row45 col0\" >Clustering</td>\n",
       "                        <td id=\"T_37e13091_0ab3_11ec_b932_9457a5d83a5brow45_col1\" class=\"data row45 col1\" >False</td>\n",
       "            </tr>\n",
       "            <tr>\n",
       "                        <th id=\"T_37e13091_0ab3_11ec_b932_9457a5d83a5blevel0_row46\" class=\"row_heading level0 row46\" >46</th>\n",
       "                        <td id=\"T_37e13091_0ab3_11ec_b932_9457a5d83a5brow46_col0\" class=\"data row46 col0\" >Clustering Iteration</td>\n",
       "                        <td id=\"T_37e13091_0ab3_11ec_b932_9457a5d83a5brow46_col1\" class=\"data row46 col1\" >None</td>\n",
       "            </tr>\n",
       "            <tr>\n",
       "                        <th id=\"T_37e13091_0ab3_11ec_b932_9457a5d83a5blevel0_row47\" class=\"row_heading level0 row47\" >47</th>\n",
       "                        <td id=\"T_37e13091_0ab3_11ec_b932_9457a5d83a5brow47_col0\" class=\"data row47 col0\" >Polynomial Features</td>\n",
       "                        <td id=\"T_37e13091_0ab3_11ec_b932_9457a5d83a5brow47_col1\" class=\"data row47 col1\" >False</td>\n",
       "            </tr>\n",
       "            <tr>\n",
       "                        <th id=\"T_37e13091_0ab3_11ec_b932_9457a5d83a5blevel0_row48\" class=\"row_heading level0 row48\" >48</th>\n",
       "                        <td id=\"T_37e13091_0ab3_11ec_b932_9457a5d83a5brow48_col0\" class=\"data row48 col0\" >Polynomial Degree</td>\n",
       "                        <td id=\"T_37e13091_0ab3_11ec_b932_9457a5d83a5brow48_col1\" class=\"data row48 col1\" >None</td>\n",
       "            </tr>\n",
       "            <tr>\n",
       "                        <th id=\"T_37e13091_0ab3_11ec_b932_9457a5d83a5blevel0_row49\" class=\"row_heading level0 row49\" >49</th>\n",
       "                        <td id=\"T_37e13091_0ab3_11ec_b932_9457a5d83a5brow49_col0\" class=\"data row49 col0\" >Trignometry Features</td>\n",
       "                        <td id=\"T_37e13091_0ab3_11ec_b932_9457a5d83a5brow49_col1\" class=\"data row49 col1\" >False</td>\n",
       "            </tr>\n",
       "            <tr>\n",
       "                        <th id=\"T_37e13091_0ab3_11ec_b932_9457a5d83a5blevel0_row50\" class=\"row_heading level0 row50\" >50</th>\n",
       "                        <td id=\"T_37e13091_0ab3_11ec_b932_9457a5d83a5brow50_col0\" class=\"data row50 col0\" >Polynomial Threshold</td>\n",
       "                        <td id=\"T_37e13091_0ab3_11ec_b932_9457a5d83a5brow50_col1\" class=\"data row50 col1\" >None</td>\n",
       "            </tr>\n",
       "            <tr>\n",
       "                        <th id=\"T_37e13091_0ab3_11ec_b932_9457a5d83a5blevel0_row51\" class=\"row_heading level0 row51\" >51</th>\n",
       "                        <td id=\"T_37e13091_0ab3_11ec_b932_9457a5d83a5brow51_col0\" class=\"data row51 col0\" >Group Features</td>\n",
       "                        <td id=\"T_37e13091_0ab3_11ec_b932_9457a5d83a5brow51_col1\" class=\"data row51 col1\" >False</td>\n",
       "            </tr>\n",
       "            <tr>\n",
       "                        <th id=\"T_37e13091_0ab3_11ec_b932_9457a5d83a5blevel0_row52\" class=\"row_heading level0 row52\" >52</th>\n",
       "                        <td id=\"T_37e13091_0ab3_11ec_b932_9457a5d83a5brow52_col0\" class=\"data row52 col0\" >Feature Selection</td>\n",
       "                        <td id=\"T_37e13091_0ab3_11ec_b932_9457a5d83a5brow52_col1\" class=\"data row52 col1\" >False</td>\n",
       "            </tr>\n",
       "            <tr>\n",
       "                        <th id=\"T_37e13091_0ab3_11ec_b932_9457a5d83a5blevel0_row53\" class=\"row_heading level0 row53\" >53</th>\n",
       "                        <td id=\"T_37e13091_0ab3_11ec_b932_9457a5d83a5brow53_col0\" class=\"data row53 col0\" >Feature Selection Method</td>\n",
       "                        <td id=\"T_37e13091_0ab3_11ec_b932_9457a5d83a5brow53_col1\" class=\"data row53 col1\" >classic</td>\n",
       "            </tr>\n",
       "            <tr>\n",
       "                        <th id=\"T_37e13091_0ab3_11ec_b932_9457a5d83a5blevel0_row54\" class=\"row_heading level0 row54\" >54</th>\n",
       "                        <td id=\"T_37e13091_0ab3_11ec_b932_9457a5d83a5brow54_col0\" class=\"data row54 col0\" >Features Selection Threshold</td>\n",
       "                        <td id=\"T_37e13091_0ab3_11ec_b932_9457a5d83a5brow54_col1\" class=\"data row54 col1\" >None</td>\n",
       "            </tr>\n",
       "            <tr>\n",
       "                        <th id=\"T_37e13091_0ab3_11ec_b932_9457a5d83a5blevel0_row55\" class=\"row_heading level0 row55\" >55</th>\n",
       "                        <td id=\"T_37e13091_0ab3_11ec_b932_9457a5d83a5brow55_col0\" class=\"data row55 col0\" >Feature Interaction</td>\n",
       "                        <td id=\"T_37e13091_0ab3_11ec_b932_9457a5d83a5brow55_col1\" class=\"data row55 col1\" >False</td>\n",
       "            </tr>\n",
       "            <tr>\n",
       "                        <th id=\"T_37e13091_0ab3_11ec_b932_9457a5d83a5blevel0_row56\" class=\"row_heading level0 row56\" >56</th>\n",
       "                        <td id=\"T_37e13091_0ab3_11ec_b932_9457a5d83a5brow56_col0\" class=\"data row56 col0\" >Feature Ratio</td>\n",
       "                        <td id=\"T_37e13091_0ab3_11ec_b932_9457a5d83a5brow56_col1\" class=\"data row56 col1\" >False</td>\n",
       "            </tr>\n",
       "            <tr>\n",
       "                        <th id=\"T_37e13091_0ab3_11ec_b932_9457a5d83a5blevel0_row57\" class=\"row_heading level0 row57\" >57</th>\n",
       "                        <td id=\"T_37e13091_0ab3_11ec_b932_9457a5d83a5brow57_col0\" class=\"data row57 col0\" >Interaction Threshold</td>\n",
       "                        <td id=\"T_37e13091_0ab3_11ec_b932_9457a5d83a5brow57_col1\" class=\"data row57 col1\" >None</td>\n",
       "            </tr>\n",
       "            <tr>\n",
       "                        <th id=\"T_37e13091_0ab3_11ec_b932_9457a5d83a5blevel0_row58\" class=\"row_heading level0 row58\" >58</th>\n",
       "                        <td id=\"T_37e13091_0ab3_11ec_b932_9457a5d83a5brow58_col0\" class=\"data row58 col0\" >Fix Imbalance</td>\n",
       "                        <td id=\"T_37e13091_0ab3_11ec_b932_9457a5d83a5brow58_col1\" class=\"data row58 col1\" >False</td>\n",
       "            </tr>\n",
       "            <tr>\n",
       "                        <th id=\"T_37e13091_0ab3_11ec_b932_9457a5d83a5blevel0_row59\" class=\"row_heading level0 row59\" >59</th>\n",
       "                        <td id=\"T_37e13091_0ab3_11ec_b932_9457a5d83a5brow59_col0\" class=\"data row59 col0\" >Fix Imbalance Method</td>\n",
       "                        <td id=\"T_37e13091_0ab3_11ec_b932_9457a5d83a5brow59_col1\" class=\"data row59 col1\" >SMOTE</td>\n",
       "            </tr>\n",
       "    </tbody></table>"
      ],
      "text/plain": [
       "<pandas.io.formats.style.Styler at 0x185302b6d0>"
      ]
     },
     "metadata": {},
     "output_type": "display_data"
    }
   ],
   "source": [
    "from pycaret.classification import *\n",
    "clf = setup(data = df_train, target =\"y\" )"
   ]
  },
  {
   "cell_type": "code",
   "execution_count": 9,
   "metadata": {
    "colab": {
     "base_uri": "https://localhost:8080/",
     "height": 457,
     "referenced_widgets": [
      "3555dfc1ef634a54b67274a1dbbd92f6",
      "2508604ac6534766b142d8a9d86c12d2",
      "f3ad3c2cac724e099170823b2dc49978"
     ]
    },
    "id": "8bJ3Z1dtYbtC",
    "outputId": "c3b434ac-4061-46f0-86bf-19d5eaedb656"
   },
   "outputs": [
    {
     "data": {
      "text/html": [
       "<style  type=\"text/css\" >\n",
       "    #T_2637bfdb_0ab4_11ec_bdfc_9457a5d83a5b th {\n",
       "          text-align: left;\n",
       "    }#T_2637bfdb_0ab4_11ec_bdfc_9457a5d83a5brow0_col0,#T_2637bfdb_0ab4_11ec_bdfc_9457a5d83a5brow0_col3,#T_2637bfdb_0ab4_11ec_bdfc_9457a5d83a5brow0_col4,#T_2637bfdb_0ab4_11ec_bdfc_9457a5d83a5brow1_col0,#T_2637bfdb_0ab4_11ec_bdfc_9457a5d83a5brow1_col1,#T_2637bfdb_0ab4_11ec_bdfc_9457a5d83a5brow1_col2,#T_2637bfdb_0ab4_11ec_bdfc_9457a5d83a5brow1_col3,#T_2637bfdb_0ab4_11ec_bdfc_9457a5d83a5brow1_col4,#T_2637bfdb_0ab4_11ec_bdfc_9457a5d83a5brow1_col5,#T_2637bfdb_0ab4_11ec_bdfc_9457a5d83a5brow1_col6,#T_2637bfdb_0ab4_11ec_bdfc_9457a5d83a5brow1_col7,#T_2637bfdb_0ab4_11ec_bdfc_9457a5d83a5brow2_col0,#T_2637bfdb_0ab4_11ec_bdfc_9457a5d83a5brow2_col1,#T_2637bfdb_0ab4_11ec_bdfc_9457a5d83a5brow2_col2,#T_2637bfdb_0ab4_11ec_bdfc_9457a5d83a5brow2_col3,#T_2637bfdb_0ab4_11ec_bdfc_9457a5d83a5brow2_col4,#T_2637bfdb_0ab4_11ec_bdfc_9457a5d83a5brow2_col5,#T_2637bfdb_0ab4_11ec_bdfc_9457a5d83a5brow2_col6,#T_2637bfdb_0ab4_11ec_bdfc_9457a5d83a5brow2_col7,#T_2637bfdb_0ab4_11ec_bdfc_9457a5d83a5brow3_col0,#T_2637bfdb_0ab4_11ec_bdfc_9457a5d83a5brow3_col1,#T_2637bfdb_0ab4_11ec_bdfc_9457a5d83a5brow3_col2,#T_2637bfdb_0ab4_11ec_bdfc_9457a5d83a5brow3_col3,#T_2637bfdb_0ab4_11ec_bdfc_9457a5d83a5brow3_col4,#T_2637bfdb_0ab4_11ec_bdfc_9457a5d83a5brow3_col5,#T_2637bfdb_0ab4_11ec_bdfc_9457a5d83a5brow3_col6,#T_2637bfdb_0ab4_11ec_bdfc_9457a5d83a5brow3_col7,#T_2637bfdb_0ab4_11ec_bdfc_9457a5d83a5brow4_col0,#T_2637bfdb_0ab4_11ec_bdfc_9457a5d83a5brow4_col1,#T_2637bfdb_0ab4_11ec_bdfc_9457a5d83a5brow4_col2,#T_2637bfdb_0ab4_11ec_bdfc_9457a5d83a5brow4_col3,#T_2637bfdb_0ab4_11ec_bdfc_9457a5d83a5brow4_col4,#T_2637bfdb_0ab4_11ec_bdfc_9457a5d83a5brow4_col5,#T_2637bfdb_0ab4_11ec_bdfc_9457a5d83a5brow4_col6,#T_2637bfdb_0ab4_11ec_bdfc_9457a5d83a5brow4_col7,#T_2637bfdb_0ab4_11ec_bdfc_9457a5d83a5brow5_col0,#T_2637bfdb_0ab4_11ec_bdfc_9457a5d83a5brow5_col1,#T_2637bfdb_0ab4_11ec_bdfc_9457a5d83a5brow5_col2,#T_2637bfdb_0ab4_11ec_bdfc_9457a5d83a5brow5_col3,#T_2637bfdb_0ab4_11ec_bdfc_9457a5d83a5brow5_col4,#T_2637bfdb_0ab4_11ec_bdfc_9457a5d83a5brow5_col5,#T_2637bfdb_0ab4_11ec_bdfc_9457a5d83a5brow5_col6,#T_2637bfdb_0ab4_11ec_bdfc_9457a5d83a5brow5_col7,#T_2637bfdb_0ab4_11ec_bdfc_9457a5d83a5brow6_col0,#T_2637bfdb_0ab4_11ec_bdfc_9457a5d83a5brow6_col1,#T_2637bfdb_0ab4_11ec_bdfc_9457a5d83a5brow6_col2,#T_2637bfdb_0ab4_11ec_bdfc_9457a5d83a5brow6_col3,#T_2637bfdb_0ab4_11ec_bdfc_9457a5d83a5brow6_col4,#T_2637bfdb_0ab4_11ec_bdfc_9457a5d83a5brow6_col5,#T_2637bfdb_0ab4_11ec_bdfc_9457a5d83a5brow6_col6,#T_2637bfdb_0ab4_11ec_bdfc_9457a5d83a5brow6_col7,#T_2637bfdb_0ab4_11ec_bdfc_9457a5d83a5brow7_col0,#T_2637bfdb_0ab4_11ec_bdfc_9457a5d83a5brow7_col1,#T_2637bfdb_0ab4_11ec_bdfc_9457a5d83a5brow7_col2,#T_2637bfdb_0ab4_11ec_bdfc_9457a5d83a5brow7_col3,#T_2637bfdb_0ab4_11ec_bdfc_9457a5d83a5brow7_col4,#T_2637bfdb_0ab4_11ec_bdfc_9457a5d83a5brow7_col5,#T_2637bfdb_0ab4_11ec_bdfc_9457a5d83a5brow7_col6,#T_2637bfdb_0ab4_11ec_bdfc_9457a5d83a5brow7_col7,#T_2637bfdb_0ab4_11ec_bdfc_9457a5d83a5brow8_col0,#T_2637bfdb_0ab4_11ec_bdfc_9457a5d83a5brow8_col1,#T_2637bfdb_0ab4_11ec_bdfc_9457a5d83a5brow8_col2,#T_2637bfdb_0ab4_11ec_bdfc_9457a5d83a5brow8_col3,#T_2637bfdb_0ab4_11ec_bdfc_9457a5d83a5brow8_col4,#T_2637bfdb_0ab4_11ec_bdfc_9457a5d83a5brow8_col5,#T_2637bfdb_0ab4_11ec_bdfc_9457a5d83a5brow8_col6,#T_2637bfdb_0ab4_11ec_bdfc_9457a5d83a5brow8_col7,#T_2637bfdb_0ab4_11ec_bdfc_9457a5d83a5brow9_col0,#T_2637bfdb_0ab4_11ec_bdfc_9457a5d83a5brow9_col1,#T_2637bfdb_0ab4_11ec_bdfc_9457a5d83a5brow9_col2,#T_2637bfdb_0ab4_11ec_bdfc_9457a5d83a5brow9_col3,#T_2637bfdb_0ab4_11ec_bdfc_9457a5d83a5brow9_col4,#T_2637bfdb_0ab4_11ec_bdfc_9457a5d83a5brow9_col5,#T_2637bfdb_0ab4_11ec_bdfc_9457a5d83a5brow9_col6,#T_2637bfdb_0ab4_11ec_bdfc_9457a5d83a5brow9_col7,#T_2637bfdb_0ab4_11ec_bdfc_9457a5d83a5brow10_col0,#T_2637bfdb_0ab4_11ec_bdfc_9457a5d83a5brow10_col1,#T_2637bfdb_0ab4_11ec_bdfc_9457a5d83a5brow10_col2,#T_2637bfdb_0ab4_11ec_bdfc_9457a5d83a5brow10_col3,#T_2637bfdb_0ab4_11ec_bdfc_9457a5d83a5brow10_col4,#T_2637bfdb_0ab4_11ec_bdfc_9457a5d83a5brow10_col5,#T_2637bfdb_0ab4_11ec_bdfc_9457a5d83a5brow10_col6,#T_2637bfdb_0ab4_11ec_bdfc_9457a5d83a5brow10_col7,#T_2637bfdb_0ab4_11ec_bdfc_9457a5d83a5brow11_col0,#T_2637bfdb_0ab4_11ec_bdfc_9457a5d83a5brow11_col1,#T_2637bfdb_0ab4_11ec_bdfc_9457a5d83a5brow11_col2,#T_2637bfdb_0ab4_11ec_bdfc_9457a5d83a5brow11_col3,#T_2637bfdb_0ab4_11ec_bdfc_9457a5d83a5brow11_col4,#T_2637bfdb_0ab4_11ec_bdfc_9457a5d83a5brow11_col5,#T_2637bfdb_0ab4_11ec_bdfc_9457a5d83a5brow11_col6,#T_2637bfdb_0ab4_11ec_bdfc_9457a5d83a5brow11_col7,#T_2637bfdb_0ab4_11ec_bdfc_9457a5d83a5brow12_col0,#T_2637bfdb_0ab4_11ec_bdfc_9457a5d83a5brow12_col1,#T_2637bfdb_0ab4_11ec_bdfc_9457a5d83a5brow12_col2,#T_2637bfdb_0ab4_11ec_bdfc_9457a5d83a5brow12_col3,#T_2637bfdb_0ab4_11ec_bdfc_9457a5d83a5brow12_col5,#T_2637bfdb_0ab4_11ec_bdfc_9457a5d83a5brow12_col6,#T_2637bfdb_0ab4_11ec_bdfc_9457a5d83a5brow12_col7,#T_2637bfdb_0ab4_11ec_bdfc_9457a5d83a5brow13_col0,#T_2637bfdb_0ab4_11ec_bdfc_9457a5d83a5brow13_col1,#T_2637bfdb_0ab4_11ec_bdfc_9457a5d83a5brow13_col2,#T_2637bfdb_0ab4_11ec_bdfc_9457a5d83a5brow13_col3,#T_2637bfdb_0ab4_11ec_bdfc_9457a5d83a5brow13_col4,#T_2637bfdb_0ab4_11ec_bdfc_9457a5d83a5brow13_col5,#T_2637bfdb_0ab4_11ec_bdfc_9457a5d83a5brow13_col6,#T_2637bfdb_0ab4_11ec_bdfc_9457a5d83a5brow13_col7,#T_2637bfdb_0ab4_11ec_bdfc_9457a5d83a5brow14_col0,#T_2637bfdb_0ab4_11ec_bdfc_9457a5d83a5brow14_col1,#T_2637bfdb_0ab4_11ec_bdfc_9457a5d83a5brow14_col2,#T_2637bfdb_0ab4_11ec_bdfc_9457a5d83a5brow14_col4,#T_2637bfdb_0ab4_11ec_bdfc_9457a5d83a5brow14_col5,#T_2637bfdb_0ab4_11ec_bdfc_9457a5d83a5brow14_col6,#T_2637bfdb_0ab4_11ec_bdfc_9457a5d83a5brow14_col7{\n",
       "            text-align:  left;\n",
       "            text-align:  left;\n",
       "        }#T_2637bfdb_0ab4_11ec_bdfc_9457a5d83a5brow0_col1,#T_2637bfdb_0ab4_11ec_bdfc_9457a5d83a5brow0_col2,#T_2637bfdb_0ab4_11ec_bdfc_9457a5d83a5brow0_col5,#T_2637bfdb_0ab4_11ec_bdfc_9457a5d83a5brow0_col6,#T_2637bfdb_0ab4_11ec_bdfc_9457a5d83a5brow0_col7,#T_2637bfdb_0ab4_11ec_bdfc_9457a5d83a5brow12_col4,#T_2637bfdb_0ab4_11ec_bdfc_9457a5d83a5brow14_col3{\n",
       "            text-align:  left;\n",
       "            text-align:  left;\n",
       "            background-color:  yellow;\n",
       "        }#T_2637bfdb_0ab4_11ec_bdfc_9457a5d83a5brow0_col8,#T_2637bfdb_0ab4_11ec_bdfc_9457a5d83a5brow1_col8,#T_2637bfdb_0ab4_11ec_bdfc_9457a5d83a5brow2_col8,#T_2637bfdb_0ab4_11ec_bdfc_9457a5d83a5brow3_col8,#T_2637bfdb_0ab4_11ec_bdfc_9457a5d83a5brow4_col8,#T_2637bfdb_0ab4_11ec_bdfc_9457a5d83a5brow5_col8,#T_2637bfdb_0ab4_11ec_bdfc_9457a5d83a5brow6_col8,#T_2637bfdb_0ab4_11ec_bdfc_9457a5d83a5brow7_col8,#T_2637bfdb_0ab4_11ec_bdfc_9457a5d83a5brow8_col8,#T_2637bfdb_0ab4_11ec_bdfc_9457a5d83a5brow9_col8,#T_2637bfdb_0ab4_11ec_bdfc_9457a5d83a5brow11_col8,#T_2637bfdb_0ab4_11ec_bdfc_9457a5d83a5brow12_col8,#T_2637bfdb_0ab4_11ec_bdfc_9457a5d83a5brow13_col8,#T_2637bfdb_0ab4_11ec_bdfc_9457a5d83a5brow14_col8{\n",
       "            text-align:  left;\n",
       "            text-align:  left;\n",
       "            background-color:  lightgrey;\n",
       "        }#T_2637bfdb_0ab4_11ec_bdfc_9457a5d83a5brow10_col8{\n",
       "            text-align:  left;\n",
       "            text-align:  left;\n",
       "            background-color:  yellow;\n",
       "            background-color:  lightgrey;\n",
       "        }</style><table id=\"T_2637bfdb_0ab4_11ec_bdfc_9457a5d83a5b\" ><thead>    <tr>        <th class=\"blank level0\" ></th>        <th class=\"col_heading level0 col0\" >Model</th>        <th class=\"col_heading level0 col1\" >Accuracy</th>        <th class=\"col_heading level0 col2\" >AUC</th>        <th class=\"col_heading level0 col3\" >Recall</th>        <th class=\"col_heading level0 col4\" >Prec.</th>        <th class=\"col_heading level0 col5\" >F1</th>        <th class=\"col_heading level0 col6\" >Kappa</th>        <th class=\"col_heading level0 col7\" >MCC</th>        <th class=\"col_heading level0 col8\" >TT (Sec)</th>    </tr></thead><tbody>\n",
       "                <tr>\n",
       "                        <th id=\"T_2637bfdb_0ab4_11ec_bdfc_9457a5d83a5blevel0_row0\" class=\"row_heading level0 row0\" >lightgbm</th>\n",
       "                        <td id=\"T_2637bfdb_0ab4_11ec_bdfc_9457a5d83a5brow0_col0\" class=\"data row0 col0\" >Light Gradient Boosting Machine</td>\n",
       "                        <td id=\"T_2637bfdb_0ab4_11ec_bdfc_9457a5d83a5brow0_col1\" class=\"data row0 col1\" >0.9148</td>\n",
       "                        <td id=\"T_2637bfdb_0ab4_11ec_bdfc_9457a5d83a5brow0_col2\" class=\"data row0 col2\" >0.9475</td>\n",
       "                        <td id=\"T_2637bfdb_0ab4_11ec_bdfc_9457a5d83a5brow0_col3\" class=\"data row0 col3\" >0.5321</td>\n",
       "                        <td id=\"T_2637bfdb_0ab4_11ec_bdfc_9457a5d83a5brow0_col4\" class=\"data row0 col4\" >0.6437</td>\n",
       "                        <td id=\"T_2637bfdb_0ab4_11ec_bdfc_9457a5d83a5brow0_col5\" class=\"data row0 col5\" >0.5823</td>\n",
       "                        <td id=\"T_2637bfdb_0ab4_11ec_bdfc_9457a5d83a5brow0_col6\" class=\"data row0 col6\" >0.5353</td>\n",
       "                        <td id=\"T_2637bfdb_0ab4_11ec_bdfc_9457a5d83a5brow0_col7\" class=\"data row0 col7\" >0.5385</td>\n",
       "                        <td id=\"T_2637bfdb_0ab4_11ec_bdfc_9457a5d83a5brow0_col8\" class=\"data row0 col8\" >0.4760</td>\n",
       "            </tr>\n",
       "            <tr>\n",
       "                        <th id=\"T_2637bfdb_0ab4_11ec_bdfc_9457a5d83a5blevel0_row1\" class=\"row_heading level0 row1\" >xgboost</th>\n",
       "                        <td id=\"T_2637bfdb_0ab4_11ec_bdfc_9457a5d83a5brow1_col0\" class=\"data row1 col0\" >Extreme Gradient Boosting</td>\n",
       "                        <td id=\"T_2637bfdb_0ab4_11ec_bdfc_9457a5d83a5brow1_col1\" class=\"data row1 col1\" >0.9126</td>\n",
       "                        <td id=\"T_2637bfdb_0ab4_11ec_bdfc_9457a5d83a5brow1_col2\" class=\"data row1 col2\" >0.9443</td>\n",
       "                        <td id=\"T_2637bfdb_0ab4_11ec_bdfc_9457a5d83a5brow1_col3\" class=\"data row1 col3\" >0.5285</td>\n",
       "                        <td id=\"T_2637bfdb_0ab4_11ec_bdfc_9457a5d83a5brow1_col4\" class=\"data row1 col4\" >0.6299</td>\n",
       "                        <td id=\"T_2637bfdb_0ab4_11ec_bdfc_9457a5d83a5brow1_col5\" class=\"data row1 col5\" >0.5741</td>\n",
       "                        <td id=\"T_2637bfdb_0ab4_11ec_bdfc_9457a5d83a5brow1_col6\" class=\"data row1 col6\" >0.5259</td>\n",
       "                        <td id=\"T_2637bfdb_0ab4_11ec_bdfc_9457a5d83a5brow1_col7\" class=\"data row1 col7\" >0.5288</td>\n",
       "                        <td id=\"T_2637bfdb_0ab4_11ec_bdfc_9457a5d83a5brow1_col8\" class=\"data row1 col8\" >3.5210</td>\n",
       "            </tr>\n",
       "            <tr>\n",
       "                        <th id=\"T_2637bfdb_0ab4_11ec_bdfc_9457a5d83a5blevel0_row2\" class=\"row_heading level0 row2\" >catboost</th>\n",
       "                        <td id=\"T_2637bfdb_0ab4_11ec_bdfc_9457a5d83a5brow2_col0\" class=\"data row2 col0\" >CatBoost Classifier</td>\n",
       "                        <td id=\"T_2637bfdb_0ab4_11ec_bdfc_9457a5d83a5brow2_col1\" class=\"data row2 col1\" >0.9143</td>\n",
       "                        <td id=\"T_2637bfdb_0ab4_11ec_bdfc_9457a5d83a5brow2_col2\" class=\"data row2 col2\" >0.9463</td>\n",
       "                        <td id=\"T_2637bfdb_0ab4_11ec_bdfc_9457a5d83a5brow2_col3\" class=\"data row2 col3\" >0.5181</td>\n",
       "                        <td id=\"T_2637bfdb_0ab4_11ec_bdfc_9457a5d83a5brow2_col4\" class=\"data row2 col4\" >0.6449</td>\n",
       "                        <td id=\"T_2637bfdb_0ab4_11ec_bdfc_9457a5d83a5brow2_col5\" class=\"data row2 col5\" >0.5739</td>\n",
       "                        <td id=\"T_2637bfdb_0ab4_11ec_bdfc_9457a5d83a5brow2_col6\" class=\"data row2 col6\" >0.5269</td>\n",
       "                        <td id=\"T_2637bfdb_0ab4_11ec_bdfc_9457a5d83a5brow2_col7\" class=\"data row2 col7\" >0.5312</td>\n",
       "                        <td id=\"T_2637bfdb_0ab4_11ec_bdfc_9457a5d83a5brow2_col8\" class=\"data row2 col8\" >9.5120</td>\n",
       "            </tr>\n",
       "            <tr>\n",
       "                        <th id=\"T_2637bfdb_0ab4_11ec_bdfc_9457a5d83a5blevel0_row3\" class=\"row_heading level0 row3\" >gbc</th>\n",
       "                        <td id=\"T_2637bfdb_0ab4_11ec_bdfc_9457a5d83a5brow3_col0\" class=\"data row3 col0\" >Gradient Boosting Classifier</td>\n",
       "                        <td id=\"T_2637bfdb_0ab4_11ec_bdfc_9457a5d83a5brow3_col1\" class=\"data row3 col1\" >0.9132</td>\n",
       "                        <td id=\"T_2637bfdb_0ab4_11ec_bdfc_9457a5d83a5brow3_col2\" class=\"data row3 col2\" >0.9442</td>\n",
       "                        <td id=\"T_2637bfdb_0ab4_11ec_bdfc_9457a5d83a5brow3_col3\" class=\"data row3 col3\" >0.5010</td>\n",
       "                        <td id=\"T_2637bfdb_0ab4_11ec_bdfc_9457a5d83a5brow3_col4\" class=\"data row3 col4\" >0.6447</td>\n",
       "                        <td id=\"T_2637bfdb_0ab4_11ec_bdfc_9457a5d83a5brow3_col5\" class=\"data row3 col5\" >0.5630</td>\n",
       "                        <td id=\"T_2637bfdb_0ab4_11ec_bdfc_9457a5d83a5brow3_col6\" class=\"data row3 col6\" >0.5157</td>\n",
       "                        <td id=\"T_2637bfdb_0ab4_11ec_bdfc_9457a5d83a5brow3_col7\" class=\"data row3 col7\" >0.5212</td>\n",
       "                        <td id=\"T_2637bfdb_0ab4_11ec_bdfc_9457a5d83a5brow3_col8\" class=\"data row3 col8\" >2.3300</td>\n",
       "            </tr>\n",
       "            <tr>\n",
       "                        <th id=\"T_2637bfdb_0ab4_11ec_bdfc_9457a5d83a5blevel0_row4\" class=\"row_heading level0 row4\" >lda</th>\n",
       "                        <td id=\"T_2637bfdb_0ab4_11ec_bdfc_9457a5d83a5brow4_col0\" class=\"data row4 col0\" >Linear Discriminant Analysis</td>\n",
       "                        <td id=\"T_2637bfdb_0ab4_11ec_bdfc_9457a5d83a5brow4_col1\" class=\"data row4 col1\" >0.9075</td>\n",
       "                        <td id=\"T_2637bfdb_0ab4_11ec_bdfc_9457a5d83a5brow4_col2\" class=\"data row4 col2\" >0.9318</td>\n",
       "                        <td id=\"T_2637bfdb_0ab4_11ec_bdfc_9457a5d83a5brow4_col3\" class=\"data row4 col3\" >0.4916</td>\n",
       "                        <td id=\"T_2637bfdb_0ab4_11ec_bdfc_9457a5d83a5brow4_col4\" class=\"data row4 col4\" >0.6055</td>\n",
       "                        <td id=\"T_2637bfdb_0ab4_11ec_bdfc_9457a5d83a5brow4_col5\" class=\"data row4 col5\" >0.5421</td>\n",
       "                        <td id=\"T_2637bfdb_0ab4_11ec_bdfc_9457a5d83a5brow4_col6\" class=\"data row4 col6\" >0.4913</td>\n",
       "                        <td id=\"T_2637bfdb_0ab4_11ec_bdfc_9457a5d83a5brow4_col7\" class=\"data row4 col7\" >0.4949</td>\n",
       "                        <td id=\"T_2637bfdb_0ab4_11ec_bdfc_9457a5d83a5brow4_col8\" class=\"data row4 col8\" >0.3390</td>\n",
       "            </tr>\n",
       "            <tr>\n",
       "                        <th id=\"T_2637bfdb_0ab4_11ec_bdfc_9457a5d83a5blevel0_row5\" class=\"row_heading level0 row5\" >knn</th>\n",
       "                        <td id=\"T_2637bfdb_0ab4_11ec_bdfc_9457a5d83a5brow5_col0\" class=\"data row5 col0\" >K Neighbors Classifier</td>\n",
       "                        <td id=\"T_2637bfdb_0ab4_11ec_bdfc_9457a5d83a5brow5_col1\" class=\"data row5 col1\" >0.9054</td>\n",
       "                        <td id=\"T_2637bfdb_0ab4_11ec_bdfc_9457a5d83a5brow5_col2\" class=\"data row5 col2\" >0.8698</td>\n",
       "                        <td id=\"T_2637bfdb_0ab4_11ec_bdfc_9457a5d83a5brow5_col3\" class=\"data row5 col3\" >0.4769</td>\n",
       "                        <td id=\"T_2637bfdb_0ab4_11ec_bdfc_9457a5d83a5brow5_col4\" class=\"data row5 col4\" >0.5956</td>\n",
       "                        <td id=\"T_2637bfdb_0ab4_11ec_bdfc_9457a5d83a5brow5_col5\" class=\"data row5 col5\" >0.5288</td>\n",
       "                        <td id=\"T_2637bfdb_0ab4_11ec_bdfc_9457a5d83a5brow5_col6\" class=\"data row5 col6\" >0.4770</td>\n",
       "                        <td id=\"T_2637bfdb_0ab4_11ec_bdfc_9457a5d83a5brow5_col7\" class=\"data row5 col7\" >0.4811</td>\n",
       "                        <td id=\"T_2637bfdb_0ab4_11ec_bdfc_9457a5d83a5brow5_col8\" class=\"data row5 col8\" >0.8290</td>\n",
       "            </tr>\n",
       "            <tr>\n",
       "                        <th id=\"T_2637bfdb_0ab4_11ec_bdfc_9457a5d83a5blevel0_row6\" class=\"row_heading level0 row6\" >rf</th>\n",
       "                        <td id=\"T_2637bfdb_0ab4_11ec_bdfc_9457a5d83a5brow6_col0\" class=\"data row6 col0\" >Random Forest Classifier</td>\n",
       "                        <td id=\"T_2637bfdb_0ab4_11ec_bdfc_9457a5d83a5brow6_col1\" class=\"data row6 col1\" >0.9105</td>\n",
       "                        <td id=\"T_2637bfdb_0ab4_11ec_bdfc_9457a5d83a5brow6_col2\" class=\"data row6 col2\" >0.9375</td>\n",
       "                        <td id=\"T_2637bfdb_0ab4_11ec_bdfc_9457a5d83a5brow6_col3\" class=\"data row6 col3\" >0.4345</td>\n",
       "                        <td id=\"T_2637bfdb_0ab4_11ec_bdfc_9457a5d83a5brow6_col4\" class=\"data row6 col4\" >0.6473</td>\n",
       "                        <td id=\"T_2637bfdb_0ab4_11ec_bdfc_9457a5d83a5brow6_col5\" class=\"data row6 col5\" >0.5195</td>\n",
       "                        <td id=\"T_2637bfdb_0ab4_11ec_bdfc_9457a5d83a5brow6_col6\" class=\"data row6 col6\" >0.4723</td>\n",
       "                        <td id=\"T_2637bfdb_0ab4_11ec_bdfc_9457a5d83a5brow6_col7\" class=\"data row6 col7\" >0.4840</td>\n",
       "                        <td id=\"T_2637bfdb_0ab4_11ec_bdfc_9457a5d83a5brow6_col8\" class=\"data row6 col8\" >1.3410</td>\n",
       "            </tr>\n",
       "            <tr>\n",
       "                        <th id=\"T_2637bfdb_0ab4_11ec_bdfc_9457a5d83a5blevel0_row7\" class=\"row_heading level0 row7\" >dt</th>\n",
       "                        <td id=\"T_2637bfdb_0ab4_11ec_bdfc_9457a5d83a5brow7_col0\" class=\"data row7 col0\" >Decision Tree Classifier</td>\n",
       "                        <td id=\"T_2637bfdb_0ab4_11ec_bdfc_9457a5d83a5brow7_col1\" class=\"data row7 col1\" >0.8884</td>\n",
       "                        <td id=\"T_2637bfdb_0ab4_11ec_bdfc_9457a5d83a5brow7_col2\" class=\"data row7 col2\" >0.7251</td>\n",
       "                        <td id=\"T_2637bfdb_0ab4_11ec_bdfc_9457a5d83a5brow7_col3\" class=\"data row7 col3\" >0.5150</td>\n",
       "                        <td id=\"T_2637bfdb_0ab4_11ec_bdfc_9457a5d83a5brow7_col4\" class=\"data row7 col4\" >0.5008</td>\n",
       "                        <td id=\"T_2637bfdb_0ab4_11ec_bdfc_9457a5d83a5brow7_col5\" class=\"data row7 col5\" >0.5073</td>\n",
       "                        <td id=\"T_2637bfdb_0ab4_11ec_bdfc_9457a5d83a5brow7_col6\" class=\"data row7 col6\" >0.4444</td>\n",
       "                        <td id=\"T_2637bfdb_0ab4_11ec_bdfc_9457a5d83a5brow7_col7\" class=\"data row7 col7\" >0.4447</td>\n",
       "                        <td id=\"T_2637bfdb_0ab4_11ec_bdfc_9457a5d83a5brow7_col8\" class=\"data row7 col8\" >0.1390</td>\n",
       "            </tr>\n",
       "            <tr>\n",
       "                        <th id=\"T_2637bfdb_0ab4_11ec_bdfc_9457a5d83a5blevel0_row8\" class=\"row_heading level0 row8\" >lr</th>\n",
       "                        <td id=\"T_2637bfdb_0ab4_11ec_bdfc_9457a5d83a5brow8_col0\" class=\"data row8 col0\" >Logistic Regression</td>\n",
       "                        <td id=\"T_2637bfdb_0ab4_11ec_bdfc_9457a5d83a5brow8_col1\" class=\"data row8 col1\" >0.9079</td>\n",
       "                        <td id=\"T_2637bfdb_0ab4_11ec_bdfc_9457a5d83a5brow8_col2\" class=\"data row8 col2\" >0.9284</td>\n",
       "                        <td id=\"T_2637bfdb_0ab4_11ec_bdfc_9457a5d83a5brow8_col3\" class=\"data row8 col3\" >0.3906</td>\n",
       "                        <td id=\"T_2637bfdb_0ab4_11ec_bdfc_9457a5d83a5brow8_col4\" class=\"data row8 col4\" >0.6442</td>\n",
       "                        <td id=\"T_2637bfdb_0ab4_11ec_bdfc_9457a5d83a5brow8_col5\" class=\"data row8 col5\" >0.4855</td>\n",
       "                        <td id=\"T_2637bfdb_0ab4_11ec_bdfc_9457a5d83a5brow8_col6\" class=\"data row8 col6\" >0.4383</td>\n",
       "                        <td id=\"T_2637bfdb_0ab4_11ec_bdfc_9457a5d83a5brow8_col7\" class=\"data row8 col7\" >0.4553</td>\n",
       "                        <td id=\"T_2637bfdb_0ab4_11ec_bdfc_9457a5d83a5brow8_col8\" class=\"data row8 col8\" >3.3350</td>\n",
       "            </tr>\n",
       "            <tr>\n",
       "                        <th id=\"T_2637bfdb_0ab4_11ec_bdfc_9457a5d83a5blevel0_row9\" class=\"row_heading level0 row9\" >ada</th>\n",
       "                        <td id=\"T_2637bfdb_0ab4_11ec_bdfc_9457a5d83a5brow9_col0\" class=\"data row9 col0\" >Ada Boost Classifier</td>\n",
       "                        <td id=\"T_2637bfdb_0ab4_11ec_bdfc_9457a5d83a5brow9_col1\" class=\"data row9 col1\" >0.9071</td>\n",
       "                        <td id=\"T_2637bfdb_0ab4_11ec_bdfc_9457a5d83a5brow9_col2\" class=\"data row9 col2\" >0.9350</td>\n",
       "                        <td id=\"T_2637bfdb_0ab4_11ec_bdfc_9457a5d83a5brow9_col3\" class=\"data row9 col3\" >0.3809</td>\n",
       "                        <td id=\"T_2637bfdb_0ab4_11ec_bdfc_9457a5d83a5brow9_col4\" class=\"data row9 col4\" >0.6420</td>\n",
       "                        <td id=\"T_2637bfdb_0ab4_11ec_bdfc_9457a5d83a5brow9_col5\" class=\"data row9 col5\" >0.4775</td>\n",
       "                        <td id=\"T_2637bfdb_0ab4_11ec_bdfc_9457a5d83a5brow9_col6\" class=\"data row9 col6\" >0.4302</td>\n",
       "                        <td id=\"T_2637bfdb_0ab4_11ec_bdfc_9457a5d83a5brow9_col7\" class=\"data row9 col7\" >0.4482</td>\n",
       "                        <td id=\"T_2637bfdb_0ab4_11ec_bdfc_9457a5d83a5brow9_col8\" class=\"data row9 col8\" >0.6390</td>\n",
       "            </tr>\n",
       "            <tr>\n",
       "                        <th id=\"T_2637bfdb_0ab4_11ec_bdfc_9457a5d83a5blevel0_row10\" class=\"row_heading level0 row10\" >nb</th>\n",
       "                        <td id=\"T_2637bfdb_0ab4_11ec_bdfc_9457a5d83a5brow10_col0\" class=\"data row10 col0\" >Naive Bayes</td>\n",
       "                        <td id=\"T_2637bfdb_0ab4_11ec_bdfc_9457a5d83a5brow10_col1\" class=\"data row10 col1\" >0.8729</td>\n",
       "                        <td id=\"T_2637bfdb_0ab4_11ec_bdfc_9457a5d83a5brow10_col2\" class=\"data row10 col2\" >0.8290</td>\n",
       "                        <td id=\"T_2637bfdb_0ab4_11ec_bdfc_9457a5d83a5brow10_col3\" class=\"data row10 col3\" >0.4547</td>\n",
       "                        <td id=\"T_2637bfdb_0ab4_11ec_bdfc_9457a5d83a5brow10_col4\" class=\"data row10 col4\" >0.4352</td>\n",
       "                        <td id=\"T_2637bfdb_0ab4_11ec_bdfc_9457a5d83a5brow10_col5\" class=\"data row10 col5\" >0.4440</td>\n",
       "                        <td id=\"T_2637bfdb_0ab4_11ec_bdfc_9457a5d83a5brow10_col6\" class=\"data row10 col6\" >0.3724</td>\n",
       "                        <td id=\"T_2637bfdb_0ab4_11ec_bdfc_9457a5d83a5brow10_col7\" class=\"data row10 col7\" >0.3729</td>\n",
       "                        <td id=\"T_2637bfdb_0ab4_11ec_bdfc_9457a5d83a5brow10_col8\" class=\"data row10 col8\" >0.0660</td>\n",
       "            </tr>\n",
       "            <tr>\n",
       "                        <th id=\"T_2637bfdb_0ab4_11ec_bdfc_9457a5d83a5blevel0_row11\" class=\"row_heading level0 row11\" >et</th>\n",
       "                        <td id=\"T_2637bfdb_0ab4_11ec_bdfc_9457a5d83a5brow11_col0\" class=\"data row11 col0\" >Extra Trees Classifier</td>\n",
       "                        <td id=\"T_2637bfdb_0ab4_11ec_bdfc_9457a5d83a5brow11_col1\" class=\"data row11 col1\" >0.9018</td>\n",
       "                        <td id=\"T_2637bfdb_0ab4_11ec_bdfc_9457a5d83a5brow11_col2\" class=\"data row11 col2\" >0.9114</td>\n",
       "                        <td id=\"T_2637bfdb_0ab4_11ec_bdfc_9457a5d83a5brow11_col3\" class=\"data row11 col3\" >0.3374</td>\n",
       "                        <td id=\"T_2637bfdb_0ab4_11ec_bdfc_9457a5d83a5brow11_col4\" class=\"data row11 col4\" >0.6082</td>\n",
       "                        <td id=\"T_2637bfdb_0ab4_11ec_bdfc_9457a5d83a5brow11_col5\" class=\"data row11 col5\" >0.4329</td>\n",
       "                        <td id=\"T_2637bfdb_0ab4_11ec_bdfc_9457a5d83a5brow11_col6\" class=\"data row11 col6\" >0.3841</td>\n",
       "                        <td id=\"T_2637bfdb_0ab4_11ec_bdfc_9457a5d83a5brow11_col7\" class=\"data row11 col7\" >0.4046</td>\n",
       "                        <td id=\"T_2637bfdb_0ab4_11ec_bdfc_9457a5d83a5brow11_col8\" class=\"data row11 col8\" >1.8850</td>\n",
       "            </tr>\n",
       "            <tr>\n",
       "                        <th id=\"T_2637bfdb_0ab4_11ec_bdfc_9457a5d83a5blevel0_row12\" class=\"row_heading level0 row12\" >ridge</th>\n",
       "                        <td id=\"T_2637bfdb_0ab4_11ec_bdfc_9457a5d83a5brow12_col0\" class=\"data row12 col0\" >Ridge Classifier</td>\n",
       "                        <td id=\"T_2637bfdb_0ab4_11ec_bdfc_9457a5d83a5brow12_col1\" class=\"data row12 col1\" >0.9059</td>\n",
       "                        <td id=\"T_2637bfdb_0ab4_11ec_bdfc_9457a5d83a5brow12_col2\" class=\"data row12 col2\" >0.0000</td>\n",
       "                        <td id=\"T_2637bfdb_0ab4_11ec_bdfc_9457a5d83a5brow12_col3\" class=\"data row12 col3\" >0.3136</td>\n",
       "                        <td id=\"T_2637bfdb_0ab4_11ec_bdfc_9457a5d83a5brow12_col4\" class=\"data row12 col4\" >0.6664</td>\n",
       "                        <td id=\"T_2637bfdb_0ab4_11ec_bdfc_9457a5d83a5brow12_col5\" class=\"data row12 col5\" >0.4257</td>\n",
       "                        <td id=\"T_2637bfdb_0ab4_11ec_bdfc_9457a5d83a5brow12_col6\" class=\"data row12 col6\" >0.3817</td>\n",
       "                        <td id=\"T_2637bfdb_0ab4_11ec_bdfc_9457a5d83a5brow12_col7\" class=\"data row12 col7\" >0.4144</td>\n",
       "                        <td id=\"T_2637bfdb_0ab4_11ec_bdfc_9457a5d83a5brow12_col8\" class=\"data row12 col8\" >0.1630</td>\n",
       "            </tr>\n",
       "            <tr>\n",
       "                        <th id=\"T_2637bfdb_0ab4_11ec_bdfc_9457a5d83a5blevel0_row13\" class=\"row_heading level0 row13\" >svm</th>\n",
       "                        <td id=\"T_2637bfdb_0ab4_11ec_bdfc_9457a5d83a5brow13_col0\" class=\"data row13 col0\" >SVM - Linear Kernel</td>\n",
       "                        <td id=\"T_2637bfdb_0ab4_11ec_bdfc_9457a5d83a5brow13_col1\" class=\"data row13 col1\" >0.8955</td>\n",
       "                        <td id=\"T_2637bfdb_0ab4_11ec_bdfc_9457a5d83a5brow13_col2\" class=\"data row13 col2\" >0.0000</td>\n",
       "                        <td id=\"T_2637bfdb_0ab4_11ec_bdfc_9457a5d83a5brow13_col3\" class=\"data row13 col3\" >0.2220</td>\n",
       "                        <td id=\"T_2637bfdb_0ab4_11ec_bdfc_9457a5d83a5brow13_col4\" class=\"data row13 col4\" >0.6507</td>\n",
       "                        <td id=\"T_2637bfdb_0ab4_11ec_bdfc_9457a5d83a5brow13_col5\" class=\"data row13 col5\" >0.2759</td>\n",
       "                        <td id=\"T_2637bfdb_0ab4_11ec_bdfc_9457a5d83a5brow13_col6\" class=\"data row13 col6\" >0.2431</td>\n",
       "                        <td id=\"T_2637bfdb_0ab4_11ec_bdfc_9457a5d83a5brow13_col7\" class=\"data row13 col7\" >0.2952</td>\n",
       "                        <td id=\"T_2637bfdb_0ab4_11ec_bdfc_9457a5d83a5brow13_col8\" class=\"data row13 col8\" >0.7690</td>\n",
       "            </tr>\n",
       "            <tr>\n",
       "                        <th id=\"T_2637bfdb_0ab4_11ec_bdfc_9457a5d83a5blevel0_row14\" class=\"row_heading level0 row14\" >qda</th>\n",
       "                        <td id=\"T_2637bfdb_0ab4_11ec_bdfc_9457a5d83a5brow14_col0\" class=\"data row14 col0\" >Quadratic Discriminant Analysis</td>\n",
       "                        <td id=\"T_2637bfdb_0ab4_11ec_bdfc_9457a5d83a5brow14_col1\" class=\"data row14 col1\" >0.1186</td>\n",
       "                        <td id=\"T_2637bfdb_0ab4_11ec_bdfc_9457a5d83a5brow14_col2\" class=\"data row14 col2\" >0.5007</td>\n",
       "                        <td id=\"T_2637bfdb_0ab4_11ec_bdfc_9457a5d83a5brow14_col3\" class=\"data row14 col3\" >0.9926</td>\n",
       "                        <td id=\"T_2637bfdb_0ab4_11ec_bdfc_9457a5d83a5brow14_col4\" class=\"data row14 col4\" >0.1117</td>\n",
       "                        <td id=\"T_2637bfdb_0ab4_11ec_bdfc_9457a5d83a5brow14_col5\" class=\"data row14 col5\" >0.2008</td>\n",
       "                        <td id=\"T_2637bfdb_0ab4_11ec_bdfc_9457a5d83a5brow14_col6\" class=\"data row14 col6\" >0.0003</td>\n",
       "                        <td id=\"T_2637bfdb_0ab4_11ec_bdfc_9457a5d83a5brow14_col7\" class=\"data row14 col7\" >0.0053</td>\n",
       "                        <td id=\"T_2637bfdb_0ab4_11ec_bdfc_9457a5d83a5brow14_col8\" class=\"data row14 col8\" >0.2570</td>\n",
       "            </tr>\n",
       "    </tbody></table>"
      ],
      "text/plain": [
       "<pandas.io.formats.style.Styler at 0x185302bd60>"
      ]
     },
     "metadata": {},
     "output_type": "display_data"
    }
   ],
   "source": [
    "#best = compare_models()\n",
    "best = compare_models(sort = 'f1') #default is 'Accuracy', LO CAMBIO POR F1 QUE ES LA QUE TOMAMOS COMO REFERENCIA"
   ]
  },
  {
   "cell_type": "markdown",
   "metadata": {
    "id": "D4AEHKUwYjPO"
   },
   "source": [
    "### Continúo división train, test y validation"
   ]
  },
  {
   "cell_type": "code",
   "execution_count": 6,
   "metadata": {
    "id": "ztImkemHYoJQ"
   },
   "outputs": [],
   "source": [
    "X = df.drop(columns='y')\n",
    "y = df.y"
   ]
  },
  {
   "cell_type": "code",
   "execution_count": 7,
   "metadata": {
    "id": "3CiSSI7jYsoe"
   },
   "outputs": [],
   "source": [
    "X_temp, X_test, y_temp, y_test = train_test_split(X, y, test_size=0.2, stratify=y, random_state=42) "
   ]
  },
  {
   "cell_type": "code",
   "execution_count": 8,
   "metadata": {
    "colab": {
     "base_uri": "https://localhost:8080/"
    },
    "id": "3bVT55M0YvYO",
    "outputId": "428b3f0a-a7b8-498c-b89f-59620f0c483a"
   },
   "outputs": [
    {
     "data": {
      "text/plain": [
       "((32950, 20), (32950,), (8238, 20), (8238,))"
      ]
     },
     "execution_count": 8,
     "metadata": {},
     "output_type": "execute_result"
    }
   ],
   "source": [
    "X_temp.shape, y_temp.shape, X_test.shape, y_test.shape"
   ]
  },
  {
   "cell_type": "code",
   "execution_count": 10,
   "metadata": {
    "id": "8pPgD6QqYxcT"
   },
   "outputs": [],
   "source": [
    "X_train, X_val, y_train, y_val = train_test_split(X_temp, y_temp, test_size=0.2, stratify=y_temp, random_state=42)"
   ]
  },
  {
   "cell_type": "code",
   "execution_count": 11,
   "metadata": {
    "colab": {
     "base_uri": "https://localhost:8080/"
    },
    "id": "riAy7IF0Y17I",
    "outputId": "5e2e18ee-15d6-4707-d7c5-8c67fdea988a"
   },
   "outputs": [
    {
     "data": {
      "text/plain": [
       "((26360, 20), (26360,), (6590, 20), (6590,))"
      ]
     },
     "execution_count": 11,
     "metadata": {},
     "output_type": "execute_result"
    }
   ],
   "source": [
    "X_train.shape, y_train.shape, X_val.shape, y_val.shape"
   ]
  },
  {
   "cell_type": "markdown",
   "metadata": {
    "id": "WXm04ExSZpZu"
   },
   "source": [
    "# Pre-procesamiento"
   ]
  },
  {
   "cell_type": "code",
   "execution_count": null,
   "metadata": {
    "id": "ry96jrO7Zrna"
   },
   "outputs": [],
   "source": [
    "#Todas las variables del dataset\n",
    "variables_categoricas_original = ['job', 'marital', 'education', 'default', 'housing', 'loan', 'contact', 'month', 'day_of_week', 'poutcome']\n",
    "variables_numericas_original = ['age', 'duration', 'campaign', 'pdays', 'previous','emp.var.rate', 'cons.price.idx', 'cons.conf.idx', 'euribor3m', 'nr.employed']"
   ]
  },
  {
   "cell_type": "code",
   "execution_count": null,
   "metadata": {
    "id": "u0bkciXrZ0EO"
   },
   "outputs": [],
   "source": [
    "#Las variables que identificamos como relevantes\n",
    "variables_categoricas = ['job', 'marital', 'education', 'default', 'housing', 'loan', 'contact', 'poutcome']\n",
    "variables_numericas = ['age', 'campaign', 'previous', 'cons.conf.idx', 'euribor3m']"
   ]
  },
  {
   "cell_type": "code",
   "execution_count": 12,
   "metadata": {
    "id": "uq2mGq_yZ8wm"
   },
   "outputs": [],
   "source": [
    "class SelectColumnsTransformer():\n",
    "    def __init__(self, columns=None):\n",
    "        self.columns = columns\n",
    "\n",
    "    def transform(self, X, **transform_params):\n",
    "        cpy_df = X[self.columns].copy()\n",
    "        return cpy_df\n",
    "\n",
    "    def fit(self, X, y=None, **fit_params):\n",
    "        return self"
   ]
  },
  {
   "cell_type": "code",
   "execution_count": null,
   "metadata": {
    "id": "o_SqY0e-aCgt"
   },
   "outputs": [],
   "source": [
    "#Aplicamos las transformaciones previas a los conjuntos de Train y Validation\n",
    "variables_categoricas = ['job', 'marital', 'education', 'default', 'housing', 'loan', 'contact', 'poutcome']\n",
    "variables_numericas = ['age', 'campaign', 'previous', 'cons.conf.idx', 'euribor3m']\n",
    "\n",
    "# Filtramos las variables que seleccionamos\n",
    "X_t = X_train[variables_categoricas + variables_numericas]\n",
    "X_v = X_val[variables_categoricas + variables_numericas]     \n",
    "\n",
    "pipeline_numerico = Pipeline([('select_numeric_columns', SelectColumnsTransformer(variables_numericas)),\n",
    "                             #('standard_scaler', StandardScaler()),\n",
    "                              (\"kbins_discretizer\", KBinsDiscretizer(n_bins=5, encode=\"ordinal\", strategy=\"quantile\"))      #strategy=\"uniform\"\n",
    "                            ])\n",
    "\n",
    "pipeline_categorico = Pipeline ([('select_categoric_columns', SelectColumnsTransformer(variables_categoricas)),\n",
    "                                  ('imputer', SimpleImputer(strategy='most_frequent', missing_values=\"unknown\")),      #podríamos no ponerlo, y que deje \"desconocido\" como una categoría más\n",
    "                                 ('cat', OneHotEncoder())])\n",
    "\n",
    "pipeline_completo = ColumnTransformer([('num', pipeline_numerico, variables_numericas),\n",
    "                                       ('cat', pipeline_categorico, variables_categoricas)\n",
    "                                      ])\n",
    "\n",
    "\n",
    "train = pipeline_completo.fit_transform(X_t)\n",
    "val = pipeline_completo.fit_transform(X_v)"
   ]
  },
  {
   "cell_type": "markdown",
   "metadata": {
    "id": "_v82tE-qaYig"
   },
   "source": [
    "# Métricas"
   ]
  },
  {
   "cell_type": "markdown",
   "metadata": {
    "id": "HQv_X1BWaaSw"
   },
   "source": [
    "Dado el desbalance de casos con que cuenta este dataset, las métricas a tomar en consideración para el análisis son: AUC y F1."
   ]
  },
  {
   "cell_type": "markdown",
   "metadata": {
    "id": "k034U3wuaws4"
   },
   "source": [
    "# Testeo por modelos"
   ]
  },
  {
   "cell_type": "markdown",
   "metadata": {
    "id": "RPC5x8pia8CE"
   },
   "source": [
    "## Decision Tree"
   ]
  },
  {
   "cell_type": "code",
   "execution_count": 13,
   "metadata": {
    "id": "W4NmvIKqb3G_"
   },
   "outputs": [],
   "source": [
    "variables_categoricas = ['job', 'marital', 'education', 'default', 'housing', 'loan', 'contact', 'poutcome']\n",
    "variables_numericas = ['age', 'campaign', 'previous', 'cons.conf.idx', 'euribor3m']\n",
    "\n",
    "# Filtramos las variables que seleccionamos\n",
    "X_t = X_train[variables_categoricas + variables_numericas]\n",
    "\n",
    "pipeline_numerico = Pipeline([('select_numeric_columns', SelectColumnsTransformer(variables_numericas)),\n",
    "                             #('standard_scaler', StandardScaler()),\n",
    "                             # (\"kbins_discretizer\", KBinsDiscretizer(n_bins=5, encode=\"ordinal\", strategy=\"quantile\"))      #strategy=\"uniform\"\n",
    "                            ])\n",
    "\n",
    "pipeline_categorico = Pipeline ([('select_categoric_columns', SelectColumnsTransformer(variables_categoricas)),\n",
    "                                 #('imputer', SimpleImputer(strategy='most_frequent', missing_values=\"unknown\")),      #podríamos no ponerlo, y que deje \"desconocido\" como una categoría más\n",
    "                                 ('cat', OneHotEncoder())])\n",
    "\n",
    "pipeline_completo = ColumnTransformer([('num', pipeline_numerico, variables_numericas),\n",
    "                                   ('cat', pipeline_categorico, variables_categoricas),\n",
    "                                  ])\n",
    "\n",
    "pipeline_modelo = Pipeline([('preprocess', pipeline_completo),\n",
    "                            ('dt', DecisionTreeClassifier(random_state=0, class_weight=\"balanced\"))])"
   ]
  },
  {
   "cell_type": "code",
   "execution_count": 14,
   "metadata": {
    "colab": {
     "base_uri": "https://localhost:8080/"
    },
    "id": "13kNKjXdcxNB",
    "outputId": "7aaed30c-803a-4d19-dfb7-46c9b50485ad"
   },
   "outputs": [
    {
     "data": {
      "text/plain": [
       "Pipeline(steps=[('preprocess',\n",
       "                 ColumnTransformer(transformers=[('num',\n",
       "                                                  Pipeline(steps=[('select_numeric_columns',\n",
       "                                                                   <__main__.SelectColumnsTransformer object at 0x00000016772FA490>)]),\n",
       "                                                  ['age', 'campaign',\n",
       "                                                   'previous', 'cons.conf.idx',\n",
       "                                                   'euribor3m']),\n",
       "                                                 ('cat',\n",
       "                                                  Pipeline(steps=[('select_categoric_columns',\n",
       "                                                                   <__main__.SelectColumnsTransformer object at 0x00000016772FA400>),\n",
       "                                                                  ('cat',\n",
       "                                                                   OneHotEncoder())]),\n",
       "                                                  ['job', 'marital',\n",
       "                                                   'education', 'default',\n",
       "                                                   'housing', 'loan', 'contact',\n",
       "                                                   'poutcome'])])),\n",
       "                ('dt',\n",
       "                 DecisionTreeClassifier(class_weight='balanced',\n",
       "                                        random_state=0))])"
      ]
     },
     "execution_count": 14,
     "metadata": {},
     "output_type": "execute_result"
    }
   ],
   "source": [
    "pipeline_modelo.fit(X_t, y_train)"
   ]
  },
  {
   "cell_type": "code",
   "execution_count": 15,
   "metadata": {
    "colab": {
     "base_uri": "https://localhost:8080/"
    },
    "id": "w1w7x5Jgc8bC",
    "outputId": "30b50ff2-476b-4886-8a43-0f02cf094aae"
   },
   "outputs": [
    {
     "data": {
      "text/plain": [
       "{'fit_time': array([0.33122706, 0.36825967, 0.21813774, 0.22113824, 0.21715379]),\n",
       " 'score_time': array([0.08506346, 0.04905415, 0.04905248, 0.05303812, 0.04703593]),\n",
       " 'test_precision': array([0.32376396, 0.30529595, 0.31764706, 0.3       , 0.26911315]),\n",
       " 'test_recall': array([0.34175084, 0.32996633, 0.31818182, 0.3030303 , 0.2962963 ]),\n",
       " 'test_f1': array([0.33251433, 0.3171521 , 0.31791421, 0.30150754, 0.28205128]),\n",
       " 'test_roc_auc': array([0.62598516, 0.61779635, 0.61627444, 0.60728455, 0.59757472])}"
      ]
     },
     "execution_count": 15,
     "metadata": {},
     "output_type": "execute_result"
    }
   ],
   "source": [
    "cross_validate(pipeline_modelo, X_t, y_train, cv=5, scoring=('precision','recall','f1', 'roc_auc'))"
   ]
  },
  {
   "cell_type": "markdown",
   "metadata": {
    "id": "630-DHgW2z3x"
   },
   "source": [
    "Análisis de estos resultados sobre el conjunto de validación"
   ]
  },
  {
   "cell_type": "code",
   "execution_count": 16,
   "metadata": {
    "id": "KKbU5FyoJOkJ"
   },
   "outputs": [],
   "source": [
    "train=pipeline_completo.fit_transform(X_t)"
   ]
  },
  {
   "cell_type": "code",
   "execution_count": 17,
   "metadata": {
    "colab": {
     "base_uri": "https://localhost:8080/"
    },
    "id": "ByUgiL57Indg",
    "outputId": "d92b0b2a-bafd-4e81-b505-f4199de9f5d0"
   },
   "outputs": [
    {
     "data": {
      "text/plain": [
       "DecisionTreeClassifier(class_weight='balanced', random_state=0)"
      ]
     },
     "execution_count": 17,
     "metadata": {},
     "output_type": "execute_result"
    }
   ],
   "source": [
    "dt=DecisionTreeClassifier(random_state=0, class_weight=\"balanced\")\n",
    "dt.fit(train, y_train)"
   ]
  },
  {
   "cell_type": "code",
   "execution_count": 18,
   "metadata": {
    "id": "Qy7425qe2zXM"
   },
   "outputs": [],
   "source": [
    "X_v=X_val[variables_categoricas + variables_numericas]\n",
    "val=pipeline_completo.fit_transform(X_v)"
   ]
  },
  {
   "cell_type": "code",
   "execution_count": 19,
   "metadata": {
    "colab": {
     "base_uri": "https://localhost:8080/"
    },
    "id": "oAFs5_BR3atU",
    "outputId": "fce73cf3-f1e9-41aa-d6ca-33ffd6a6f8ce"
   },
   "outputs": [
    {
     "name": "stdout",
     "output_type": "stream",
     "text": [
      "VALIDACIÓN\n",
      "              precision    recall  f1-score   support\n",
      "\n",
      "           0       0.91      0.90      0.91      5848\n",
      "           1       0.29      0.33      0.31       742\n",
      "\n",
      "    accuracy                           0.83      6590\n",
      "   macro avg       0.60      0.61      0.61      6590\n",
      "weighted avg       0.84      0.83      0.84      6590\n",
      "\n"
     ]
    }
   ],
   "source": [
    "y_val_pred=dt.predict(val)\n",
    "print(\"VALIDACIÓN\")\n",
    "print(classification_report(y_val, y_val_pred))"
   ]
  },
  {
   "cell_type": "markdown",
   "metadata": {
    "id": "CmsdLTDQazQM"
   },
   "source": [
    "## Logistic Regression"
   ]
  },
  {
   "cell_type": "code",
   "execution_count": 20,
   "metadata": {
    "id": "EK4giNb9d-tK"
   },
   "outputs": [],
   "source": [
    "variables_categoricas = ['job', 'marital', 'education', 'default', 'housing', 'loan', 'contact', 'poutcome']\n",
    "variables_numericas = ['age', 'campaign', 'previous', 'cons.conf.idx', 'euribor3m']\n",
    "\n",
    "# Filtramos las variables que seleccionamos\n",
    "X_t = X_train[variables_categoricas + variables_numericas]\n",
    "\n",
    "pipeline_numerico = Pipeline([('select_numeric_columns', SelectColumnsTransformer(variables_numericas)),\n",
    "                             ('standard_scaler', StandardScaler()),\n",
    "                             # (\"kbins_discretizer\", KBinsDiscretizer(n_bins=5, encode=\"ordinal\", strategy=\"quantile\"))      #strategy=\"uniform\"\n",
    "                            ])\n",
    "\n",
    "pipeline_categorico = Pipeline ([('select_categoric_columns', SelectColumnsTransformer(variables_categoricas)),\n",
    "                                 # ('imputer', SimpleImputer(strategy='most_frequent', missing_values=\"unknown\")),      #podríamos no ponerlo, y que deje \"desconocido\" como una categoría más\n",
    "                                 ('cat', OneHotEncoder())])\n",
    "\n",
    "pipeline_completo = ColumnTransformer([('num', pipeline_numerico, variables_numericas),\n",
    "                                   ('cat', pipeline_categorico, variables_categoricas),\n",
    "                                  ])\n",
    "\n",
    "pipeline_modelo = Pipeline([('preprocess', pipeline_completo),\n",
    "                            ('lr', LogisticRegression(random_state=0, class_weight=\"balanced\"))])"
   ]
  },
  {
   "cell_type": "code",
   "execution_count": 21,
   "metadata": {
    "colab": {
     "base_uri": "https://localhost:8080/"
    },
    "id": "ap9C6kpPeekL",
    "outputId": "9da2d77f-c74a-49e4-a448-c8fc7bd696bc"
   },
   "outputs": [
    {
     "data": {
      "text/plain": [
       "Pipeline(steps=[('preprocess',\n",
       "                 ColumnTransformer(transformers=[('num',\n",
       "                                                  Pipeline(steps=[('select_numeric_columns',\n",
       "                                                                   <__main__.SelectColumnsTransformer object at 0x000000167751B5E0>),\n",
       "                                                                  ('standard_scaler',\n",
       "                                                                   StandardScaler())]),\n",
       "                                                  ['age', 'campaign',\n",
       "                                                   'previous', 'cons.conf.idx',\n",
       "                                                   'euribor3m']),\n",
       "                                                 ('cat',\n",
       "                                                  Pipeline(steps=[('select_categoric_columns',\n",
       "                                                                   <__main__.SelectColumnsTransformer object at 0x000000161D404220>),\n",
       "                                                                  ('cat',\n",
       "                                                                   OneHotEncoder())]),\n",
       "                                                  ['job', 'marital',\n",
       "                                                   'education', 'default',\n",
       "                                                   'housing', 'loan', 'contact',\n",
       "                                                   'poutcome'])])),\n",
       "                ('lr',\n",
       "                 LogisticRegression(class_weight='balanced', random_state=0))])"
      ]
     },
     "execution_count": 21,
     "metadata": {},
     "output_type": "execute_result"
    }
   ],
   "source": [
    "pipeline_modelo"
   ]
  },
  {
   "cell_type": "code",
   "execution_count": 22,
   "metadata": {
    "colab": {
     "base_uri": "https://localhost:8080/"
    },
    "id": "1sNcoru0ekFQ",
    "outputId": "30bad373-47e4-49a0-fa02-d88b6e8d493e"
   },
   "outputs": [
    {
     "name": "stderr",
     "output_type": "stream",
     "text": [
      "C:\\Users\\usuario\\anaconda3\\lib\\site-packages\\sklearn\\linear_model\\_logistic.py:762: ConvergenceWarning: lbfgs failed to converge (status=1):\n",
      "STOP: TOTAL NO. of ITERATIONS REACHED LIMIT.\n",
      "\n",
      "Increase the number of iterations (max_iter) or scale the data as shown in:\n",
      "    https://scikit-learn.org/stable/modules/preprocessing.html\n",
      "Please also refer to the documentation for alternative solver options:\n",
      "    https://scikit-learn.org/stable/modules/linear_model.html#logistic-regression\n",
      "  n_iter_i = _check_optimize_result(\n",
      "C:\\Users\\usuario\\anaconda3\\lib\\site-packages\\sklearn\\linear_model\\_logistic.py:762: ConvergenceWarning: lbfgs failed to converge (status=1):\n",
      "STOP: TOTAL NO. of ITERATIONS REACHED LIMIT.\n",
      "\n",
      "Increase the number of iterations (max_iter) or scale the data as shown in:\n",
      "    https://scikit-learn.org/stable/modules/preprocessing.html\n",
      "Please also refer to the documentation for alternative solver options:\n",
      "    https://scikit-learn.org/stable/modules/linear_model.html#logistic-regression\n",
      "  n_iter_i = _check_optimize_result(\n",
      "C:\\Users\\usuario\\anaconda3\\lib\\site-packages\\sklearn\\linear_model\\_logistic.py:762: ConvergenceWarning: lbfgs failed to converge (status=1):\n",
      "STOP: TOTAL NO. of ITERATIONS REACHED LIMIT.\n",
      "\n",
      "Increase the number of iterations (max_iter) or scale the data as shown in:\n",
      "    https://scikit-learn.org/stable/modules/preprocessing.html\n",
      "Please also refer to the documentation for alternative solver options:\n",
      "    https://scikit-learn.org/stable/modules/linear_model.html#logistic-regression\n",
      "  n_iter_i = _check_optimize_result(\n",
      "C:\\Users\\usuario\\anaconda3\\lib\\site-packages\\sklearn\\linear_model\\_logistic.py:762: ConvergenceWarning: lbfgs failed to converge (status=1):\n",
      "STOP: TOTAL NO. of ITERATIONS REACHED LIMIT.\n",
      "\n",
      "Increase the number of iterations (max_iter) or scale the data as shown in:\n",
      "    https://scikit-learn.org/stable/modules/preprocessing.html\n",
      "Please also refer to the documentation for alternative solver options:\n",
      "    https://scikit-learn.org/stable/modules/linear_model.html#logistic-regression\n",
      "  n_iter_i = _check_optimize_result(\n",
      "C:\\Users\\usuario\\anaconda3\\lib\\site-packages\\sklearn\\linear_model\\_logistic.py:762: ConvergenceWarning: lbfgs failed to converge (status=1):\n",
      "STOP: TOTAL NO. of ITERATIONS REACHED LIMIT.\n",
      "\n",
      "Increase the number of iterations (max_iter) or scale the data as shown in:\n",
      "    https://scikit-learn.org/stable/modules/preprocessing.html\n",
      "Please also refer to the documentation for alternative solver options:\n",
      "    https://scikit-learn.org/stable/modules/linear_model.html#logistic-regression\n",
      "  n_iter_i = _check_optimize_result(\n"
     ]
    },
    {
     "data": {
      "text/plain": [
       "{'fit_time': array([1.67040277, 0.614434  , 0.64744401, 0.67348075, 0.60243106]),\n",
       " 'score_time': array([0.16711879, 0.05903745, 0.0740521 , 0.0670445 , 0.06805968]),\n",
       " 'test_f1': array([0.38568019, 0.38275699, 0.37743006, 0.38307985, 0.3780037 ]),\n",
       " 'test_roc_auc': array([0.77777022, 0.77820927, 0.76186962, 0.77274185, 0.76329329])}"
      ]
     },
     "execution_count": 22,
     "metadata": {},
     "output_type": "execute_result"
    }
   ],
   "source": [
    "cross_validate(pipeline_modelo, X_t, y_train, cv=5, scoring=('f1', 'roc_auc'))"
   ]
  },
  {
   "cell_type": "markdown",
   "metadata": {
    "id": "NVDER0X6a3V_"
   },
   "source": [
    "## SVM"
   ]
  },
  {
   "cell_type": "code",
   "execution_count": 23,
   "metadata": {
    "id": "xPBy-OLXevJU"
   },
   "outputs": [],
   "source": [
    "variables_categoricas = ['job', 'marital', 'education', 'default', 'housing', 'loan', 'contact', 'poutcome']\n",
    "variables_numericas = ['age', 'campaign', 'previous', 'cons.conf.idx', 'euribor3m']\n",
    "\n",
    "# Filtramos las variables que seleccionamos\n",
    "X_t = X_train[variables_categoricas + variables_numericas]\n",
    "\n",
    "pipeline_numerico = Pipeline([('select_numeric_columns', SelectColumnsTransformer(variables_numericas)),\n",
    "                             # ('standard_scaler', StandardScaler()),\n",
    "                             # (\"kbins_discretizer\", KBinsDiscretizer(n_bins=5, encode=\"ordinal\", strategy=\"quantile\"))      #strategy=\"uniform\"\n",
    "                            ])\n",
    "\n",
    "pipeline_categorico = Pipeline ([('select_categoric_columns', SelectColumnsTransformer(variables_categoricas)),\n",
    "                                 # ('imputer', SimpleImputer(strategy='most_frequent', missing_values=\"unknown\")),      #podríamos no ponerlo, y que deje \"desconocido\" como una categoría más\n",
    "                                 ('cat', OneHotEncoder())])\n",
    "\n",
    "pipeline_completo = ColumnTransformer([('num', pipeline_numerico, variables_numericas),\n",
    "                                   ('cat', pipeline_categorico, variables_categoricas),\n",
    "                                  ])\n",
    "\n",
    "pipeline_modelo = Pipeline([('preprocess', pipeline_completo),\n",
    "                            ('svm', SVC(random_state=0, class_weight=\"balanced\"))])"
   ]
  },
  {
   "cell_type": "code",
   "execution_count": 24,
   "metadata": {
    "colab": {
     "base_uri": "https://localhost:8080/"
    },
    "id": "mOVOXj_-fTkj",
    "outputId": "b8399b75-d606-4aeb-aace-a5b0b747d69c"
   },
   "outputs": [
    {
     "data": {
      "text/plain": [
       "Pipeline(steps=[('preprocess',\n",
       "                 ColumnTransformer(transformers=[('num',\n",
       "                                                  Pipeline(steps=[('select_numeric_columns',\n",
       "                                                                   <__main__.SelectColumnsTransformer object at 0x000000161F6275E0>)]),\n",
       "                                                  ['age', 'campaign',\n",
       "                                                   'previous', 'cons.conf.idx',\n",
       "                                                   'euribor3m']),\n",
       "                                                 ('cat',\n",
       "                                                  Pipeline(steps=[('select_categoric_columns',\n",
       "                                                                   <__main__.SelectColumnsTransformer object at 0x00000016772FAD90>),\n",
       "                                                                  ('cat',\n",
       "                                                                   OneHotEncoder())]),\n",
       "                                                  ['job', 'marital',\n",
       "                                                   'education', 'default',\n",
       "                                                   'housing', 'loan', 'contact',\n",
       "                                                   'poutcome'])])),\n",
       "                ('svm', SVC(class_weight='balanced', random_state=0))])"
      ]
     },
     "execution_count": 24,
     "metadata": {},
     "output_type": "execute_result"
    }
   ],
   "source": [
    "pipeline_modelo"
   ]
  },
  {
   "cell_type": "code",
   "execution_count": 25,
   "metadata": {
    "colab": {
     "base_uri": "https://localhost:8080/"
    },
    "id": "aMiG5jDlfTZk",
    "outputId": "13960854-7d73-4deb-a433-7c7afea855e4"
   },
   "outputs": [
    {
     "data": {
      "text/plain": [
       "{'fit_time': array([71.35735989, 66.5273931 , 73.93122721, 78.48146605, 66.56244445]),\n",
       " 'score_time': array([13.16337395, 14.52135754, 12.10403323, 12.84412384, 10.2045126 ]),\n",
       " 'test_f1': array([0.36551724, 0.36698033, 0.35686103, 0.36570429, 0.35428089]),\n",
       " 'test_roc_auc': array([0.77124098, 0.76489672, 0.75543143, 0.75780878, 0.74833935])}"
      ]
     },
     "execution_count": 25,
     "metadata": {},
     "output_type": "execute_result"
    }
   ],
   "source": [
    "cross_validate(pipeline_modelo, X_t, y_train, cv=5, scoring=('f1', 'roc_auc'))"
   ]
  },
  {
   "cell_type": "markdown",
   "metadata": {
    "id": "LY3O4Z_Ya6Hz"
   },
   "source": [
    "## Naive Bayes"
   ]
  },
  {
   "cell_type": "code",
   "execution_count": 26,
   "metadata": {
    "id": "x2L8Cj4zfu9x"
   },
   "outputs": [],
   "source": [
    "variables_categoricas = ['job', 'marital', 'education', 'default', 'housing', 'loan', 'contact', 'poutcome']\n",
    "variables_numericas = ['age', 'campaign', 'previous', 'cons.conf.idx', 'euribor3m']\n",
    "\n",
    "# Filtramos las variables que seleccionamos\n",
    "X_t = X_train[variables_categoricas + variables_numericas]\n",
    "X_v = X_val[variables_categoricas + variables_numericas]\n",
    "\n",
    "pipeline_numerico = Pipeline([('select_numeric_columns', SelectColumnsTransformer(variables_numericas)),\n",
    "                             # ('standard_scaler', StandardScaler()),\n",
    "                             (\"kbins_discretizer\", KBinsDiscretizer(n_bins=4, encode=\"ordinal\", strategy=\"uniform\")),   #strategy=\"uniform\"\n",
    "                             ('bins_cat', OneHotEncoder())\n",
    "                            ])\n",
    "\n",
    "pipeline_categorico = Pipeline ([('select_categoric_columns', SelectColumnsTransformer(variables_categoricas)),\n",
    "                                 #('imputer', SimpleImputer(strategy='most_frequent', missing_values=\"unknown\")),      #podríamos no ponerlo, y que deje \"desconocido\" como una categoría más\n",
    "                                 ('cat', OneHotEncoder())\n",
    "                                 ])\n",
    "\n",
    "pipeline_completo = ColumnTransformer([('num', pipeline_numerico, variables_numericas),\n",
    "                                   ('cat', pipeline_categorico, variables_categoricas),\n",
    "                                  ])\n",
    "\n",
    "pipeline_modelo = Pipeline([('preprocess', pipeline_completo),\n",
    "                            ('nb', ComplementNB())])\n",
    "\n",
    "#The Complement Naive Bayes classifier was designed to correct the “severe assumptions” made by the standard Multinomial Naive Bayes classifier. It is particularly suited for imbalanced data sets.\n",
    "#En el pre-procesamiento transformé todos los atributos en categóricos, porque es el requerimiento del tipo de modelo"
   ]
  },
  {
   "cell_type": "code",
   "execution_count": null,
   "metadata": {
    "id": "vUwDaC1gfw-Z"
   },
   "outputs": [],
   "source": [
    "pipeline_modelo"
   ]
  },
  {
   "cell_type": "code",
   "execution_count": 27,
   "metadata": {
    "colab": {
     "base_uri": "https://localhost:8080/"
    },
    "id": "b44su-Wgfw2r",
    "outputId": "b0b3ff12-175a-4ed2-8571-06bea6b34393"
   },
   "outputs": [
    {
     "data": {
      "text/plain": [
       "{'fit_time': array([0.28819966, 0.15611768, 0.34522104, 0.34424806, 0.25215054]),\n",
       " 'score_time': array([0.05403757, 0.19313097, 0.19115925, 0.19313407, 0.05003476]),\n",
       " 'test_f1': array([0.37112448, 0.38199181, 0.35883171, 0.37016575, 0.37328454]),\n",
       " 'test_roc_auc': array([0.76807461, 0.77326943, 0.75415585, 0.76461152, 0.75317483])}"
      ]
     },
     "execution_count": 27,
     "metadata": {},
     "output_type": "execute_result"
    }
   ],
   "source": [
    "#Cross validation con toda la estimación sobre X_train\n",
    "cross_validate(pipeline_modelo, X_t, y_train, cv=5, scoring=('f1', 'roc_auc'))"
   ]
  },
  {
   "cell_type": "code",
   "execution_count": 28,
   "metadata": {
    "id": "Tusr6z4cXbmw"
   },
   "outputs": [],
   "source": [
    "#Pre-procesamiento\n",
    "train = pipeline_completo.fit_transform(X_t)\n",
    "val = pipeline_completo.transform(X_v)"
   ]
  },
  {
   "cell_type": "code",
   "execution_count": 29,
   "metadata": {
    "colab": {
     "base_uri": "https://localhost:8080/"
    },
    "id": "k8wyERDtXpGj",
    "outputId": "13bf9177-6257-4497-819c-0d603c503744"
   },
   "outputs": [
    {
     "data": {
      "text/plain": [
       "ComplementNB()"
      ]
     },
     "execution_count": 29,
     "metadata": {},
     "output_type": "execute_result"
    }
   ],
   "source": [
    "nb=ComplementNB()\n",
    "nb.fit(train, y_train)"
   ]
  },
  {
   "cell_type": "code",
   "execution_count": 30,
   "metadata": {
    "colab": {
     "base_uri": "https://localhost:8080/"
    },
    "id": "QeSv1ZzPYOPW",
    "outputId": "e40bba10-fdb4-4497-b62d-362bb90b24ae"
   },
   "outputs": [
    {
     "name": "stdout",
     "output_type": "stream",
     "text": [
      "MÉTRICAS CONJUNTO DE TRAIN\n",
      "              precision    recall  f1-score   support\n",
      "\n",
      "           0       0.95      0.75      0.84     23390\n",
      "           1       0.26      0.68      0.37      2970\n",
      "\n",
      "    accuracy                           0.74     26360\n",
      "   macro avg       0.60      0.71      0.60     26360\n",
      "weighted avg       0.87      0.74      0.78     26360\n",
      "\n",
      "MÉTRICAS CONJUNTO DE VALIDACIÓN\n",
      "              precision    recall  f1-score   support\n",
      "\n",
      "           0       0.95      0.75      0.83      5848\n",
      "           1       0.25      0.67      0.37       742\n",
      "\n",
      "    accuracy                           0.74      6590\n",
      "   macro avg       0.60      0.71      0.60      6590\n",
      "weighted avg       0.87      0.74      0.78      6590\n",
      "\n"
     ]
    }
   ],
   "source": [
    "print(\"MÉTRICAS CONJUNTO DE TRAIN\")\n",
    "print(classification_report(y_train, nb.predict(train)))\n",
    "print(\"MÉTRICAS CONJUNTO DE VALIDACIÓN\")\n",
    "print(classification_report(y_val, nb.predict(val)))"
   ]
  },
  {
   "cell_type": "code",
   "execution_count": 36,
   "metadata": {
    "id": "KTRoicEBystp"
   },
   "outputs": [],
   "source": [
    "#Optimización de hiperparámetros\n",
    "#Grilla de parámetros\n",
    "params={'alpha':[0.1, 0.2, 0.3, 0.4, 0.5, 0.6, 0.7, 0.8, 0.9, 1, 1.1, 1.3, 1.5],\n",
    "        'fit_prior':[True, False],\n",
    "        'norm':[True,False]\n",
    "       }\n",
    "\n",
    "nb=ComplementNB()"
   ]
  },
  {
   "cell_type": "code",
   "execution_count": 37,
   "metadata": {
    "colab": {
     "base_uri": "https://localhost:8080/"
    },
    "id": "UHgG1hLfe5sb",
    "outputId": "45dc77a7-42d4-4760-c8e0-3911d9ab557b"
   },
   "outputs": [
    {
     "data": {
      "text/plain": [
       "GridSearchCV(cv=5, estimator=ComplementNB(), n_jobs=-1,\n",
       "             param_grid={'alpha': [0.1, 0.2, 0.3, 0.4, 0.5, 0.6, 0.7, 0.8, 0.9,\n",
       "                                   1, 1.1, 1.3, 1.5],\n",
       "                         'fit_prior': [True, False], 'norm': [True, False]},\n",
       "             scoring='f1')"
      ]
     },
     "execution_count": 37,
     "metadata": {},
     "output_type": "execute_result"
    }
   ],
   "source": [
    "#Búsqueda de parámetros\n",
    "cv_nb = GridSearchCV(nb, params, scoring='f1', cv=5,refit=True,n_jobs=-1)     \n",
    "cv_nb.fit(train, y_train)"
   ]
  },
  {
   "cell_type": "code",
   "execution_count": 38,
   "metadata": {
    "colab": {
     "base_uri": "https://localhost:8080/"
    },
    "id": "-x9UAenTfIK_",
    "outputId": "6a658b44-f653-4903-ae56-0afceb334bac"
   },
   "outputs": [
    {
     "data": {
      "text/plain": [
       "{'alpha': 0.8, 'fit_prior': True, 'norm': True}"
      ]
     },
     "execution_count": 38,
     "metadata": {},
     "output_type": "execute_result"
    }
   ],
   "source": [
    "cv_nb.best_params_"
   ]
  },
  {
   "cell_type": "code",
   "execution_count": 39,
   "metadata": {
    "colab": {
     "base_uri": "https://localhost:8080/"
    },
    "id": "6fhDUfgkfLmw",
    "outputId": "1d50ea84-8338-441f-bb3f-373592735346"
   },
   "outputs": [
    {
     "data": {
      "text/plain": [
       "ComplementNB(alpha=0.8, norm=True)"
      ]
     },
     "execution_count": 39,
     "metadata": {},
     "output_type": "execute_result"
    }
   ],
   "source": [
    "#Entrenamiento de la mejor versión encontrada del modelo\n",
    "nb_best = ComplementNB(alpha=0.8, fit_prior=True, norm=True)\n",
    "nb_best.fit(train, y_train)"
   ]
  },
  {
   "cell_type": "code",
   "execution_count": 40,
   "metadata": {
    "colab": {
     "base_uri": "https://localhost:8080/"
    },
    "id": "GKAizGsEfWPY",
    "outputId": "8a8a9d9b-68dc-4e0f-b540-de151225c6f9"
   },
   "outputs": [
    {
     "name": "stdout",
     "output_type": "stream",
     "text": [
      "MÉTRICAS CONJUNTO DE TRAIN\n",
      "              precision    recall  f1-score   support\n",
      "\n",
      "           0       0.92      0.92      0.92     23390\n",
      "           1       0.39      0.40      0.40      2970\n",
      "\n",
      "    accuracy                           0.86     26360\n",
      "   macro avg       0.66      0.66      0.66     26360\n",
      "weighted avg       0.86      0.86      0.86     26360\n",
      "\n",
      "MÉTRICAS CONJUNTO DE VALIDACIÓN\n",
      "              precision    recall  f1-score   support\n",
      "\n",
      "           0       0.92      0.92      0.92      5848\n",
      "           1       0.39      0.40      0.40       742\n",
      "\n",
      "    accuracy                           0.86      6590\n",
      "   macro avg       0.66      0.66      0.66      6590\n",
      "weighted avg       0.86      0.86      0.86      6590\n",
      "\n"
     ]
    }
   ],
   "source": [
    "print(\"MÉTRICAS CONJUNTO DE TRAIN\")\n",
    "print(classification_report(y_train, nb_best.predict(train)))\n",
    "print(\"MÉTRICAS CONJUNTO DE VALIDACIÓN\")\n",
    "print(classification_report(y_val, nb_best.predict(val)))"
   ]
  },
  {
   "cell_type": "markdown",
   "metadata": {
    "id": "7IY52q1QbPfl"
   },
   "source": [
    "## Random Forest"
   ]
  },
  {
   "cell_type": "code",
   "execution_count": 41,
   "metadata": {
    "id": "H1w20e0Dgafp"
   },
   "outputs": [],
   "source": [
    "variables_categoricas = ['job', 'marital', 'education', 'default', 'housing', 'loan', 'contact', 'poutcome']\n",
    "variables_numericas = ['age', 'campaign', 'previous', 'cons.conf.idx', 'euribor3m']\n",
    "\n",
    "# Filtramos las variables que seleccionamos\n",
    "X_t = X_train[variables_categoricas + variables_numericas]\n",
    "\n",
    "pipeline_numerico = Pipeline([('select_numeric_columns', SelectColumnsTransformer(variables_numericas)),\n",
    "                             # ('standard_scaler', StandardScaler()),\n",
    "                             # (\"kbins_discretizer\", KBinsDiscretizer(n_bins=5, encode=\"ordinal\", strategy=\"quantile\"))      #strategy=\"uniform\"\n",
    "                            ])\n",
    "\n",
    "pipeline_categorico = Pipeline ([('select_categoric_columns', SelectColumnsTransformer(variables_categoricas)),\n",
    "                                 # ('imputer', SimpleImputer(strategy='most_frequent', missing_values=\"unknown\")),      #podríamos no ponerlo, y que deje \"desconocido\" como una categoría más\n",
    "                                 ('cat', OneHotEncoder())])\n",
    "\n",
    "pipeline_completo = ColumnTransformer([('num', pipeline_numerico, variables_numericas),\n",
    "                                   ('cat', pipeline_categorico, variables_categoricas),\n",
    "                                  ])\n",
    "\n",
    "pipeline_modelo = Pipeline([('preprocess', pipeline_completo),\n",
    "                            ('rf', RandomForestClassifier(random_state=0, class_weight=\"balanced\"))])"
   ]
  },
  {
   "cell_type": "code",
   "execution_count": null,
   "metadata": {
    "colab": {
     "base_uri": "https://localhost:8080/"
    },
    "id": "GT2AykV_gg92",
    "outputId": "3fc817fe-1bdb-4413-b199-614b1c2e7be6"
   },
   "outputs": [
    {
     "data": {
      "text/plain": [
       "Pipeline(memory=None,\n",
       "         steps=[('preprocess',\n",
       "                 ColumnTransformer(n_jobs=None, remainder='drop',\n",
       "                                   sparse_threshold=0.3,\n",
       "                                   transformer_weights=None,\n",
       "                                   transformers=[('num',\n",
       "                                                  Pipeline(memory=None,\n",
       "                                                           steps=[('select_numeric_columns',\n",
       "                                                                   <__main__.SelectColumnsTransformer object at 0x7fd581d16b90>)],\n",
       "                                                           verbose=False),\n",
       "                                                  ['age', 'campaign',\n",
       "                                                   'previous', 'cons.conf.idx',\n",
       "                                                   'euribor3m']),\n",
       "                                                 ('cat'...\n",
       "                 RandomForestClassifier(bootstrap=True, ccp_alpha=0.0,\n",
       "                                        class_weight='balanced',\n",
       "                                        criterion='gini', max_depth=None,\n",
       "                                        max_features='auto',\n",
       "                                        max_leaf_nodes=None, max_samples=None,\n",
       "                                        min_impurity_decrease=0.0,\n",
       "                                        min_impurity_split=None,\n",
       "                                        min_samples_leaf=1, min_samples_split=2,\n",
       "                                        min_weight_fraction_leaf=0.0,\n",
       "                                        n_estimators=100, n_jobs=None,\n",
       "                                        oob_score=False, random_state=0,\n",
       "                                        verbose=0, warm_start=False))],\n",
       "         verbose=False)"
      ]
     },
     "execution_count": 43,
     "metadata": {},
     "output_type": "execute_result"
    }
   ],
   "source": [
    "pipeline_modelo"
   ]
  },
  {
   "cell_type": "code",
   "execution_count": 42,
   "metadata": {
    "colab": {
     "base_uri": "https://localhost:8080/"
    },
    "id": "jQJWTuB7gg1W",
    "outputId": "f4696bd5-a45a-4df6-ce53-984928decef5"
   },
   "outputs": [
    {
     "data": {
      "text/plain": [
       "{'fit_time': array([4.09590173, 2.42873645, 3.8767612 , 6.14836407, 3.60454082]),\n",
       " 'score_time': array([0.30023074, 0.30922174, 0.82560349, 0.78356314, 0.30021071]),\n",
       " 'test_f1': array([0.32018561, 0.32821724, 0.31153389, 0.32328106, 0.35111111]),\n",
       " 'test_roc_auc': array([0.76488503, 0.76032845, 0.75850802, 0.76109193, 0.75566086])}"
      ]
     },
     "execution_count": 42,
     "metadata": {},
     "output_type": "execute_result"
    }
   ],
   "source": [
    "cross_validate(pipeline_modelo, X_t, y_train, cv=5, scoring=('f1', 'roc_auc'))"
   ]
  },
  {
   "cell_type": "markdown",
   "metadata": {
    "id": "s_NzdftPbSMS"
   },
   "source": [
    "## KNN"
   ]
  },
  {
   "cell_type": "code",
   "execution_count": 43,
   "metadata": {
    "id": "jFbPR-MshMZG"
   },
   "outputs": [],
   "source": [
    "variables_categoricas = ['job', 'marital', 'education', 'default', 'housing', 'loan', 'contact', 'poutcome']\n",
    "variables_numericas = ['age', 'campaign', 'previous', 'cons.conf.idx', 'euribor3m']\n",
    "\n",
    "# Filtramos las variables que seleccionamos\n",
    "X_t = X_train[variables_categoricas + variables_numericas]\n",
    "\n",
    "pipeline_numerico = Pipeline([('select_numeric_columns', SelectColumnsTransformer(variables_numericas)),\n",
    "                             ('standard_scaler', StandardScaler()),\n",
    "                             # (\"kbins_discretizer\", KBinsDiscretizer(n_bins=5, encode=\"ordinal\", strategy=\"quantile\"))      #strategy=\"uniform\"\n",
    "                            ])\n",
    "\n",
    "pipeline_categorico = Pipeline ([('select_categoric_columns', SelectColumnsTransformer(variables_categoricas)),\n",
    "                                 # ('imputer', SimpleImputer(strategy='most_frequent', missing_values=\"unknown\")),      #podríamos no ponerlo, y que deje \"desconocido\" como una categoría más\n",
    "                                 ('cat', OneHotEncoder())])\n",
    "\n",
    "pipeline_completo = ColumnTransformer([('num', pipeline_numerico, variables_numericas),\n",
    "                                   ('cat', pipeline_categorico, variables_categoricas),\n",
    "                                  ])\n",
    "\n",
    "pipeline_modelo = Pipeline([('preprocess', pipeline_completo),\n",
    "                            ('knn', KNeighborsClassifier())])"
   ]
  },
  {
   "cell_type": "code",
   "execution_count": 44,
   "metadata": {
    "colab": {
     "base_uri": "https://localhost:8080/"
    },
    "id": "3w8teqfWhgwx",
    "outputId": "1a5a1eef-4cca-46fe-d672-816cc0e1d45d"
   },
   "outputs": [
    {
     "data": {
      "text/plain": [
       "Pipeline(steps=[('preprocess',\n",
       "                 ColumnTransformer(transformers=[('num',\n",
       "                                                  Pipeline(steps=[('select_numeric_columns',\n",
       "                                                                   <__main__.SelectColumnsTransformer object at 0x000000161F66B190>),\n",
       "                                                                  ('standard_scaler',\n",
       "                                                                   StandardScaler())]),\n",
       "                                                  ['age', 'campaign',\n",
       "                                                   'previous', 'cons.conf.idx',\n",
       "                                                   'euribor3m']),\n",
       "                                                 ('cat',\n",
       "                                                  Pipeline(steps=[('select_categoric_columns',\n",
       "                                                                   <__main__.SelectColumnsTransformer object at 0x000000161F627970>),\n",
       "                                                                  ('cat',\n",
       "                                                                   OneHotEncoder())]),\n",
       "                                                  ['job', 'marital',\n",
       "                                                   'education', 'default',\n",
       "                                                   'housing', 'loan', 'contact',\n",
       "                                                   'poutcome'])])),\n",
       "                ('knn', KNeighborsClassifier())])"
      ]
     },
     "execution_count": 44,
     "metadata": {},
     "output_type": "execute_result"
    }
   ],
   "source": [
    "pipeline_modelo"
   ]
  },
  {
   "cell_type": "code",
   "execution_count": 45,
   "metadata": {
    "colab": {
     "base_uri": "https://localhost:8080/"
    },
    "id": "Sowq0JZ9hM8U",
    "outputId": "e3af3a06-9143-4b65-a9ea-8ffd58fb74a9"
   },
   "outputs": [
    {
     "data": {
      "text/plain": [
       "{'fit_time': array([0.99973488, 1.16883254, 0.87560606, 0.83959699, 0.84862089]),\n",
       " 'score_time': array([11.11990619, 14.1170454 , 12.60597467, 11.86042786, 12.34275389]),\n",
       " 'test_f1': array([0.31336406, 0.33179724, 0.32590856, 0.3087886 , 0.35386338]),\n",
       " 'test_roc_auc': array([0.70310739, 0.70060157, 0.69511615, 0.70793873, 0.71124455])}"
      ]
     },
     "execution_count": 45,
     "metadata": {},
     "output_type": "execute_result"
    }
   ],
   "source": [
    "cross_validate(pipeline_modelo, X_t, y_train, cv=5, scoring=('f1', 'roc_auc'))"
   ]
  },
  {
   "cell_type": "markdown",
   "metadata": {
    "id": "qXPKooGubWmt"
   },
   "source": [
    "## Modelos Tree Based"
   ]
  },
  {
   "cell_type": "markdown",
   "metadata": {
    "id": "MhdfrtgbbZgl"
   },
   "source": [
    "### XGBOOST"
   ]
  },
  {
   "cell_type": "code",
   "execution_count": null,
   "metadata": {
    "id": "iBCV5nvGxooE"
   },
   "outputs": [],
   "source": [
    "import xgboost as xgb"
   ]
  },
  {
   "cell_type": "code",
   "execution_count": 46,
   "metadata": {
    "id": "U0ZF4Bk9h33n"
   },
   "outputs": [],
   "source": [
    "variables_categoricas = ['job', 'marital', 'education', 'default', 'housing', 'loan', 'contact', 'poutcome']\n",
    "variables_numericas = ['age', 'campaign', 'previous', 'cons.conf.idx', 'euribor3m']\n",
    "\n",
    "# Filtramos las variables que seleccionamos\n",
    "X_t = X_train[variables_categoricas + variables_numericas]\n",
    "\n",
    "pipeline_numerico = Pipeline([('select_numeric_columns', SelectColumnsTransformer(variables_numericas)),\n",
    "                             # ('standard_scaler', StandardScaler()),\n",
    "                             # (\"kbins_discretizer\", KBinsDiscretizer(n_bins=5, encode=\"ordinal\", strategy=\"quantile\"))      #strategy=\"uniform\"\n",
    "                            ])\n",
    "\n",
    "pipeline_categorico = Pipeline ([('select_categoric_columns', SelectColumnsTransformer(variables_categoricas)),\n",
    "                                 #('imputer', SimpleImputer(strategy='most_frequent', missing_values=\"unknown\")),      #podríamos no ponerlo, y que deje \"desconocido\" como una categoría más\n",
    "                                 ('cat', OneHotEncoder())])\n",
    "\n",
    "pipeline_completo = ColumnTransformer([('num', pipeline_numerico, variables_numericas),\n",
    "                                   ('cat', pipeline_categorico, variables_categoricas),\n",
    "                                  ])\n",
    "\n",
    "pipeline_modelo = Pipeline([('preprocess', pipeline_completo),\n",
    "                            ('xgb', xgb.XGBClassifier(seed=0))])"
   ]
  },
  {
   "cell_type": "code",
   "execution_count": 27,
   "metadata": {
    "colab": {
     "base_uri": "https://localhost:8080/"
    },
    "id": "PRx5rJ8FiCTF",
    "outputId": "c4fd9491-4e09-4511-d2c7-3d0fad69f09e"
   },
   "outputs": [
    {
     "name": "stdout",
     "output_type": "stream",
     "text": [
      "[20:41:37] WARNING: C:/Users/Administrator/workspace/xgboost-win64_release_1.4.0/src/learner.cc:1095: Starting in XGBoost 1.3.0, the default evaluation metric used with the objective 'binary:logistic' was changed from 'error' to 'logloss'. Explicitly set eval_metric if you'd like to restore the old behavior.\n"
     ]
    },
    {
     "data": {
      "text/plain": [
       "Pipeline(memory=None,\n",
       "         steps=[('preprocess',\n",
       "                 ColumnTransformer(n_jobs=None, remainder='drop',\n",
       "                                   sparse_threshold=0.3,\n",
       "                                   transformer_weights=None,\n",
       "                                   transformers=[('num',\n",
       "                                                  Pipeline(memory=None,\n",
       "                                                           steps=[('select_numeric_columns',\n",
       "                                                                   <__main__.SelectColumnsTransformer object at 0x00000018268D7B80>)],\n",
       "                                                           verbose=False),\n",
       "                                                  ['age', 'campaign',\n",
       "                                                   'previous', 'cons.conf.idx',\n",
       "                                                   'euribor3m']),\n",
       "                                                 ('...\n",
       "                               learning_rate=0.300000012, max_delta_step=0,\n",
       "                               max_depth=6, min_child_weight=1, missing=nan,\n",
       "                               monotone_constraints='()', n_estimators=100,\n",
       "                               n_jobs=4, num_parallel_tree=1,\n",
       "                               objective='binary:logistic', random_state=0,\n",
       "                               reg_alpha=0, reg_lambda=1, scale_pos_weight=1,\n",
       "                               seed=0, subsample=1, tree_method='exact',\n",
       "                               use_label_encoder=True, validate_parameters=1,\n",
       "                               verbosity=None))],\n",
       "         verbose=False)"
      ]
     },
     "execution_count": 27,
     "metadata": {},
     "output_type": "execute_result"
    }
   ],
   "source": [
    "pipeline_modelo.fit(X_t, y_train)"
   ]
  },
  {
   "cell_type": "code",
   "execution_count": 47,
   "metadata": {
    "colab": {
     "base_uri": "https://localhost:8080/"
    },
    "id": "HM-DFml8ld_T",
    "outputId": "7a24523b-a749-4853-a06f-1af16f03bd58"
   },
   "outputs": [
    {
     "name": "stderr",
     "output_type": "stream",
     "text": [
      "C:\\Users\\usuario\\anaconda3\\lib\\site-packages\\xgboost\\sklearn.py:1146: UserWarning: The use of label encoder in XGBClassifier is deprecated and will be removed in a future release. To remove this warning, do the following: 1) Pass option use_label_encoder=False when constructing XGBClassifier object; and 2) Encode your labels (y) as integers starting with 0, i.e. 0, 1, 2, ..., [num_class - 1].\n",
      "  warnings.warn(label_encoder_deprecation_msg, UserWarning)\n"
     ]
    },
    {
     "name": "stdout",
     "output_type": "stream",
     "text": [
      "[20:38:38] WARNING: C:/Users/Administrator/workspace/xgboost-win64_release_1.4.0/src/learner.cc:1095: Starting in XGBoost 1.3.0, the default evaluation metric used with the objective 'binary:logistic' was changed from 'error' to 'logloss'. Explicitly set eval_metric if you'd like to restore the old behavior.\n"
     ]
    },
    {
     "name": "stderr",
     "output_type": "stream",
     "text": [
      "C:\\Users\\usuario\\anaconda3\\lib\\site-packages\\xgboost\\sklearn.py:1146: UserWarning: The use of label encoder in XGBClassifier is deprecated and will be removed in a future release. To remove this warning, do the following: 1) Pass option use_label_encoder=False when constructing XGBClassifier object; and 2) Encode your labels (y) as integers starting with 0, i.e. 0, 1, 2, ..., [num_class - 1].\n",
      "  warnings.warn(label_encoder_deprecation_msg, UserWarning)\n"
     ]
    },
    {
     "name": "stdout",
     "output_type": "stream",
     "text": [
      "[20:38:41] WARNING: C:/Users/Administrator/workspace/xgboost-win64_release_1.4.0/src/learner.cc:1095: Starting in XGBoost 1.3.0, the default evaluation metric used with the objective 'binary:logistic' was changed from 'error' to 'logloss'. Explicitly set eval_metric if you'd like to restore the old behavior.\n"
     ]
    },
    {
     "name": "stderr",
     "output_type": "stream",
     "text": [
      "C:\\Users\\usuario\\anaconda3\\lib\\site-packages\\xgboost\\sklearn.py:1146: UserWarning: The use of label encoder in XGBClassifier is deprecated and will be removed in a future release. To remove this warning, do the following: 1) Pass option use_label_encoder=False when constructing XGBClassifier object; and 2) Encode your labels (y) as integers starting with 0, i.e. 0, 1, 2, ..., [num_class - 1].\n",
      "  warnings.warn(label_encoder_deprecation_msg, UserWarning)\n"
     ]
    },
    {
     "name": "stdout",
     "output_type": "stream",
     "text": [
      "[20:38:43] WARNING: C:/Users/Administrator/workspace/xgboost-win64_release_1.4.0/src/learner.cc:1095: Starting in XGBoost 1.3.0, the default evaluation metric used with the objective 'binary:logistic' was changed from 'error' to 'logloss'. Explicitly set eval_metric if you'd like to restore the old behavior.\n"
     ]
    },
    {
     "name": "stderr",
     "output_type": "stream",
     "text": [
      "C:\\Users\\usuario\\anaconda3\\lib\\site-packages\\xgboost\\sklearn.py:1146: UserWarning: The use of label encoder in XGBClassifier is deprecated and will be removed in a future release. To remove this warning, do the following: 1) Pass option use_label_encoder=False when constructing XGBClassifier object; and 2) Encode your labels (y) as integers starting with 0, i.e. 0, 1, 2, ..., [num_class - 1].\n",
      "  warnings.warn(label_encoder_deprecation_msg, UserWarning)\n"
     ]
    },
    {
     "name": "stdout",
     "output_type": "stream",
     "text": [
      "[20:38:45] WARNING: C:/Users/Administrator/workspace/xgboost-win64_release_1.4.0/src/learner.cc:1095: Starting in XGBoost 1.3.0, the default evaluation metric used with the objective 'binary:logistic' was changed from 'error' to 'logloss'. Explicitly set eval_metric if you'd like to restore the old behavior.\n"
     ]
    },
    {
     "name": "stderr",
     "output_type": "stream",
     "text": [
      "C:\\Users\\usuario\\anaconda3\\lib\\site-packages\\xgboost\\sklearn.py:1146: UserWarning: The use of label encoder in XGBClassifier is deprecated and will be removed in a future release. To remove this warning, do the following: 1) Pass option use_label_encoder=False when constructing XGBClassifier object; and 2) Encode your labels (y) as integers starting with 0, i.e. 0, 1, 2, ..., [num_class - 1].\n",
      "  warnings.warn(label_encoder_deprecation_msg, UserWarning)\n"
     ]
    },
    {
     "name": "stdout",
     "output_type": "stream",
     "text": [
      "[20:38:48] WARNING: C:/Users/Administrator/workspace/xgboost-win64_release_1.4.0/src/learner.cc:1095: Starting in XGBoost 1.3.0, the default evaluation metric used with the objective 'binary:logistic' was changed from 'error' to 'logloss'. Explicitly set eval_metric if you'd like to restore the old behavior.\n"
     ]
    },
    {
     "data": {
      "text/plain": [
       "{'fit_time': array([2.40020847, 2.27061367, 2.41471553, 2.26461554, 2.16353726]),\n",
       " 'score_time': array([0.10107207, 0.07805562, 0.07705498, 0.07705474, 0.07805586]),\n",
       " 'test_f1': array([0.35813953, 0.35730858, 0.36792453, 0.3685446 , 0.37641723]),\n",
       " 'test_roc_auc': array([0.77235912, 0.77015776, 0.77837787, 0.78274101, 0.77563957])}"
      ]
     },
     "execution_count": 47,
     "metadata": {},
     "output_type": "execute_result"
    }
   ],
   "source": [
    "cross_validate(pipeline_modelo, X_t, y_train, cv=5, scoring=('f1', 'roc_auc'))"
   ]
  },
  {
   "cell_type": "code",
   "execution_count": 29,
   "metadata": {
    "colab": {
     "base_uri": "https://localhost:8080/"
    },
    "id": "X9-EMQu7lh3K",
    "outputId": "a7e9f22f-b718-4437-abc4-d98b860061ea"
   },
   "outputs": [
    {
     "data": {
      "text/plain": [
       "array([0.02291044, 0.02426711, 0.02155347, 0.04411939, 0.09447913,\n",
       "       0.02118124, 0.02820904, 0.02015119, 0.02030318, 0.02230303,\n",
       "       0.02138294, 0.0245105 , 0.0220443 , 0.02649062, 0.02912351,\n",
       "       0.01692515, 0.02376754, 0.02346515, 0.02592699, 0.02173736,\n",
       "       0.02110064, 0.03140582, 0.02401848, 0.00233567, 0.02450542,\n",
       "       0.02417863, 0.        , 0.        , 0.01997583, 0.        ,\n",
       "       0.02702206, 0.        , 0.04010792, 0.        , 0.03302651,\n",
       "       0.        , 0.19747172], dtype=float32)"
      ]
     },
     "execution_count": 29,
     "metadata": {},
     "output_type": "execute_result"
    }
   ],
   "source": [
    "pipeline_modelo[1].feature_importances_    #No se entiende este "
   ]
  },
  {
   "cell_type": "code",
   "execution_count": 48,
   "metadata": {
    "id": "T8jk5Rxntf0F"
   },
   "outputs": [],
   "source": [
    "#Solo Pre-procesamiento\n",
    "train = pipeline_completo.fit_transform(X_t)\n",
    "val = pipeline_completo.transform(X_v)"
   ]
  },
  {
   "cell_type": "code",
   "execution_count": 49,
   "metadata": {
    "colab": {
     "base_uri": "https://localhost:8080/"
    },
    "id": "IoX4R6tRtksM",
    "outputId": "2aff9ecc-7005-4f2f-afe9-3318f953abc1"
   },
   "outputs": [
    {
     "name": "stderr",
     "output_type": "stream",
     "text": [
      "C:\\Users\\usuario\\anaconda3\\lib\\site-packages\\xgboost\\sklearn.py:1146: UserWarning: The use of label encoder in XGBClassifier is deprecated and will be removed in a future release. To remove this warning, do the following: 1) Pass option use_label_encoder=False when constructing XGBClassifier object; and 2) Encode your labels (y) as integers starting with 0, i.e. 0, 1, 2, ..., [num_class - 1].\n",
      "  warnings.warn(label_encoder_deprecation_msg, UserWarning)\n"
     ]
    },
    {
     "name": "stdout",
     "output_type": "stream",
     "text": [
      "[20:39:02] WARNING: C:/Users/Administrator/workspace/xgboost-win64_release_1.4.0/src/learner.cc:1095: Starting in XGBoost 1.3.0, the default evaluation metric used with the objective 'binary:logistic' was changed from 'error' to 'logloss'. Explicitly set eval_metric if you'd like to restore the old behavior.\n"
     ]
    },
    {
     "data": {
      "text/plain": [
       "XGBClassifier(base_score=0.5, booster='gbtree', colsample_bylevel=1,\n",
       "              colsample_bynode=1, colsample_bytree=1, gamma=0, gpu_id=-1,\n",
       "              importance_type='gain', interaction_constraints='',\n",
       "              learning_rate=0.300000012, max_delta_step=0, max_depth=6,\n",
       "              min_child_weight=1, missing=nan, monotone_constraints='()',\n",
       "              n_estimators=100, n_jobs=4, num_parallel_tree=1, random_state=0,\n",
       "              reg_alpha=0, reg_lambda=1, scale_pos_weight=1, seed=0,\n",
       "              subsample=1, tree_method='exact', validate_parameters=1,\n",
       "              verbosity=None)"
      ]
     },
     "execution_count": 49,
     "metadata": {},
     "output_type": "execute_result"
    }
   ],
   "source": [
    "xgb=xgb.XGBClassifier(seed=0)\n",
    "xgb.fit(train, y_train)"
   ]
  },
  {
   "cell_type": "code",
   "execution_count": 50,
   "metadata": {
    "colab": {
     "base_uri": "https://localhost:8080/"
    },
    "id": "Ypy3Pojutpkb",
    "outputId": "dbdb394f-ab6c-4fdf-dc57-590fad720c1a"
   },
   "outputs": [
    {
     "name": "stdout",
     "output_type": "stream",
     "text": [
      "MÉTRICAS CONJUNTO DE TRAIN\n",
      "              precision    recall  f1-score   support\n",
      "\n",
      "           0       0.93      0.99      0.96     23390\n",
      "           1       0.90      0.42      0.58      2970\n",
      "\n",
      "    accuracy                           0.93     26360\n",
      "   macro avg       0.91      0.71      0.77     26360\n",
      "weighted avg       0.93      0.93      0.92     26360\n",
      "\n",
      "MÉTRICAS CONJUNTO DE VALIDACIÓN\n",
      "              precision    recall  f1-score   support\n",
      "\n",
      "           0       0.91      0.98      0.95      5848\n",
      "           1       0.62      0.27      0.38       742\n",
      "\n",
      "    accuracy                           0.90      6590\n",
      "   macro avg       0.77      0.63      0.66      6590\n",
      "weighted avg       0.88      0.90      0.88      6590\n",
      "\n"
     ]
    }
   ],
   "source": [
    "print(\"MÉTRICAS CONJUNTO DE TRAIN\")\n",
    "print(classification_report(y_train, xgb.predict(train)))\n",
    "print(\"MÉTRICAS CONJUNTO DE VALIDACIÓN\")\n",
    "print(classification_report(y_val, xgb.predict(val)))"
   ]
  },
  {
   "cell_type": "code",
   "execution_count": 52,
   "metadata": {},
   "outputs": [],
   "source": [
    "import xgboost as xgb"
   ]
  },
  {
   "cell_type": "code",
   "execution_count": 53,
   "metadata": {
    "colab": {
     "base_uri": "https://localhost:8080/",
     "height": 200
    },
    "id": "R-tgUtUjttGu",
    "outputId": "3b827390-388f-44fb-888e-da7c6fb92b39"
   },
   "outputs": [],
   "source": [
    "#Optimización de hiperparámetros\n",
    "#Grilla de parámetros\n",
    "params={'objective':[\"binary:logistic\",\"binary:hinge\",\"binary:logitraw\"],\n",
    "        'learning_rate':[ 0.1,0.2,0.3],\n",
    "        'max_depth':[2,4, 6, 7, 8, 10],\n",
    "        'alpha':[2, 3, 5, 7],\n",
    "        \"n_estimators\":[5, 7, 10]\n",
    "       }\n",
    "xg=xgb.XGBClassifier()"
   ]
  },
  {
   "cell_type": "code",
   "execution_count": 54,
   "metadata": {
    "colab": {
     "base_uri": "https://localhost:8080/"
    },
    "id": "AmgQVk45uA2O",
    "outputId": "5a5d38f8-2d6a-400d-f8e5-e83d79d42188"
   },
   "outputs": [
    {
     "name": "stderr",
     "output_type": "stream",
     "text": [
      "C:\\Users\\usuario\\anaconda3\\lib\\site-packages\\xgboost\\sklearn.py:1146: UserWarning: The use of label encoder in XGBClassifier is deprecated and will be removed in a future release. To remove this warning, do the following: 1) Pass option use_label_encoder=False when constructing XGBClassifier object; and 2) Encode your labels (y) as integers starting with 0, i.e. 0, 1, 2, ..., [num_class - 1].\n",
      "  warnings.warn(label_encoder_deprecation_msg, UserWarning)\n"
     ]
    },
    {
     "data": {
      "text/plain": [
       "GridSearchCV(cv=5,\n",
       "             estimator=XGBClassifier(base_score=None, booster=None,\n",
       "                                     colsample_bylevel=None,\n",
       "                                     colsample_bynode=None,\n",
       "                                     colsample_bytree=None, gamma=None,\n",
       "                                     gpu_id=None, importance_type='gain',\n",
       "                                     interaction_constraints=None,\n",
       "                                     learning_rate=None, max_delta_step=None,\n",
       "                                     max_depth=None, min_child_weight=None,\n",
       "                                     missing=nan, monotone_constraints=None,\n",
       "                                     n_estimators=100, n_jobs...\n",
       "                                     num_parallel_tree=None, random_state=None,\n",
       "                                     reg_alpha=None, reg_lambda=None,\n",
       "                                     scale_pos_weight=None, subsample=None,\n",
       "                                     tree_method=None, validate_parameters=None,\n",
       "                                     verbosity=None),\n",
       "             n_jobs=-1,\n",
       "             param_grid={'alpha': [2, 3, 5, 7],\n",
       "                         'learning_rate': [0.1, 0.2, 0.3],\n",
       "                         'max_depth': [2, 4, 6, 7, 8, 10],\n",
       "                         'n_estimators': [5, 7, 10],\n",
       "                         'objective': ['binary:logistic', 'binary:hinge',\n",
       "                                       'binary:logitraw']},\n",
       "             scoring='f1')"
      ]
     },
     "execution_count": 54,
     "metadata": {},
     "output_type": "execute_result"
    }
   ],
   "source": [
    "#Búsqueda de parámetros\n",
    "cv_xgb = GridSearchCV(xg, params, scoring='f1', cv=5,refit=True,n_jobs=-1)     \n",
    "cv_xgb.fit(train, y_train)"
   ]
  },
  {
   "cell_type": "code",
   "execution_count": 55,
   "metadata": {
    "colab": {
     "base_uri": "https://localhost:8080/"
    },
    "id": "Is2t9QDWuTgm",
    "outputId": "c190df5a-21ae-4745-8d5f-c71663e778d2"
   },
   "outputs": [
    {
     "data": {
      "text/plain": [
       "{'alpha': 7,\n",
       " 'learning_rate': 0.1,\n",
       " 'max_depth': 8,\n",
       " 'n_estimators': 10,\n",
       " 'objective': 'binary:hinge'}"
      ]
     },
     "execution_count": 55,
     "metadata": {},
     "output_type": "execute_result"
    }
   ],
   "source": [
    "cv_xgb.best_params_"
   ]
  },
  {
   "cell_type": "code",
   "execution_count": null,
   "metadata": {
    "id": "QGH0hI8XyRWr"
   },
   "outputs": [],
   "source": [
    "import xgboost as xgb"
   ]
  },
  {
   "cell_type": "code",
   "execution_count": 56,
   "metadata": {
    "colab": {
     "base_uri": "https://localhost:8080/"
    },
    "id": "FHLpPG38uV73",
    "outputId": "6d8e949f-019c-45d1-fc6d-169199490881"
   },
   "outputs": [
    {
     "data": {
      "text/plain": [
       "XGBClassifier(alpha=7, base_score=0.5, booster='gbtree', colsample_bylevel=1,\n",
       "              colsample_bynode=1, colsample_bytree=1, gamma=0, gpu_id=-1,\n",
       "              importance_type='gain', interaction_constraints='',\n",
       "              learning_rate=0.1, max_delta_step=0, max_depth=8,\n",
       "              min_child_weight=1, missing=nan, monotone_constraints='()',\n",
       "              n_estimators=10, n_jobs=4, num_parallel_tree=1,\n",
       "              objective='binary:hinge', random_state=0, reg_alpha=7,\n",
       "              reg_lambda=1, scale_pos_weight=None, seed=0, subsample=1,\n",
       "              tree_method='exact', validate_parameters=1, verbosity=None)"
      ]
     },
     "execution_count": 56,
     "metadata": {},
     "output_type": "execute_result"
    }
   ],
   "source": [
    "#Entrenamiento de la mejor versión encontrada del modelo\n",
    "xgb_best = xgb.XGBClassifier(seed=0, alpha= 7, learning_rate= 0.1, max_depth= 8, n_estimators=10, objective='binary:hinge')\n",
    "xgb_best.fit(train, y_train)"
   ]
  },
  {
   "cell_type": "code",
   "execution_count": 57,
   "metadata": {
    "colab": {
     "base_uri": "https://localhost:8080/"
    },
    "id": "VxVoKbFduX8x",
    "outputId": "1ff4e656-8026-4d71-ec8c-252cd5b516ca"
   },
   "outputs": [
    {
     "name": "stdout",
     "output_type": "stream",
     "text": [
      "MÉTRICAS CONJUNTO DE TRAIN\n",
      "              precision    recall  f1-score   support\n",
      "\n",
      "           0       0.94      0.91      0.93     23390\n",
      "           1       0.44      0.56      0.49      2970\n",
      "\n",
      "    accuracy                           0.87     26360\n",
      "   macro avg       0.69      0.73      0.71     26360\n",
      "weighted avg       0.89      0.87      0.88     26360\n",
      "\n",
      "MÉTRICAS CONJUNTO DE VALIDACIÓN\n",
      "              precision    recall  f1-score   support\n",
      "\n",
      "           0       0.94      0.91      0.93      5848\n",
      "           1       0.44      0.57      0.49       742\n",
      "\n",
      "    accuracy                           0.87      6590\n",
      "   macro avg       0.69      0.74      0.71      6590\n",
      "weighted avg       0.89      0.87      0.88      6590\n",
      "\n"
     ]
    }
   ],
   "source": [
    "print(\"MÉTRICAS CONJUNTO DE TRAIN\")\n",
    "print(classification_report(y_train, xgb_best.predict(train)))\n",
    "print(\"MÉTRICAS CONJUNTO DE VALIDACIÓN\")\n",
    "print(classification_report(y_val, xgb_best.predict(val)))"
   ]
  },
  {
   "cell_type": "code",
   "execution_count": 63,
   "metadata": {},
   "outputs": [],
   "source": [
    "#Optimización de hiperparámetros\n",
    "#Grilla de parámetros\n",
    "params={'objective':[\"binary:logistic\",\"binary:hinge\",\"binary:logitraw\"],\n",
    "        'learning_rate':[0.05,0.1,0.15,0.2,0.25,0.3,0.4,0.5],\n",
    "        'max_depth':[2,3, 4,5, 6, 7, 8, 9, 10, 12, 15],\n",
    "        'alpha':[0, 0.5, 1, 2, 3, 5, 6, 7, 8, 9, 10],\n",
    "        'lambda':[0.5, 1, 2, 3, 5],\n",
    "        \"n_estimators\":[3, 5, 6, 7, 8, 9, 10, 15],\n",
    "        \"booster\":[\"gbtree\",\"dart\"],\n",
    "        \"gamma\":[0.5,1,2,5, 7, 8],\n",
    "        \"tree_method\":[\"auto\",\"exact\",\"approx\",\"hist\"]\n",
    "       }\n",
    "xg=xgb.XGBClassifier()"
   ]
  },
  {
   "cell_type": "code",
   "execution_count": 64,
   "metadata": {},
   "outputs": [
    {
     "name": "stderr",
     "output_type": "stream",
     "text": [
      "C:\\Users\\usuario\\anaconda3\\lib\\site-packages\\xgboost\\sklearn.py:1146: UserWarning: The use of label encoder in XGBClassifier is deprecated and will be removed in a future release. To remove this warning, do the following: 1) Pass option use_label_encoder=False when constructing XGBClassifier object; and 2) Encode your labels (y) as integers starting with 0, i.e. 0, 1, 2, ..., [num_class - 1].\n",
      "  warnings.warn(label_encoder_deprecation_msg, UserWarning)\n"
     ]
    },
    {
     "data": {
      "text/plain": [
       "RandomizedSearchCV(cv=5,\n",
       "                   estimator=XGBClassifier(base_score=None, booster=None,\n",
       "                                           colsample_bylevel=None,\n",
       "                                           colsample_bynode=None,\n",
       "                                           colsample_bytree=None, gamma=None,\n",
       "                                           gpu_id=None, importance_type='gain',\n",
       "                                           interaction_constraints=None,\n",
       "                                           learning_rate=None,\n",
       "                                           max_delta_step=None, max_depth=None,\n",
       "                                           min_child_weight=None, missing=nan,\n",
       "                                           monotone_constraints=None,\n",
       "                                           n_estimators=100,...\n",
       "                   param_distributions={'alpha': [0, 0.5, 1, 2, 3, 5, 6, 7, 8,\n",
       "                                                  9, 10],\n",
       "                                        'booster': ['gbtree', 'dart'],\n",
       "                                        'gamma': [0.5, 1, 2, 5, 7, 8],\n",
       "                                        'lambda': [0.5, 1, 2, 3, 5],\n",
       "                                        'learning_rate': [0.05, 0.1, 0.15, 0.2,\n",
       "                                                          0.25, 0.3, 0.4, 0.5],\n",
       "                                        'max_depth': [2, 3, 4, 5, 6, 7, 8, 9,\n",
       "                                                      10, 12, 15],\n",
       "                                        'n_estimators': [3, 5, 6, 7, 8, 9, 10,\n",
       "                                                         15],\n",
       "                                        'objective': ['binary:logistic',\n",
       "                                                      'binary:hinge',\n",
       "                                                      'binary:logitraw'],\n",
       "                                        'tree_method': ['auto', 'exact',\n",
       "                                                        'approx', 'hist']},\n",
       "                   scoring='f1')"
      ]
     },
     "execution_count": 64,
     "metadata": {},
     "output_type": "execute_result"
    }
   ],
   "source": [
    "#Búsqueda de parámetros\n",
    "rcv_xgb = RandomizedSearchCV(xg, params, scoring='f1', cv=5,refit=True,n_jobs=-1)     \n",
    "rcv_xgb.fit(train, y_train)"
   ]
  },
  {
   "cell_type": "code",
   "execution_count": 65,
   "metadata": {},
   "outputs": [
    {
     "data": {
      "text/plain": [
       "{'tree_method': 'exact',\n",
       " 'objective': 'binary:hinge',\n",
       " 'n_estimators': 6,\n",
       " 'max_depth': 7,\n",
       " 'learning_rate': 0.5,\n",
       " 'lambda': 3,\n",
       " 'gamma': 5,\n",
       " 'booster': 'gbtree',\n",
       " 'alpha': 7}"
      ]
     },
     "execution_count": 65,
     "metadata": {},
     "output_type": "execute_result"
    }
   ],
   "source": [
    "rcv_xgb.best_params_"
   ]
  },
  {
   "cell_type": "code",
   "execution_count": 68,
   "metadata": {},
   "outputs": [
    {
     "data": {
      "text/plain": [
       "XGBClassifier(alpha=0, base_score=0.5, booster='dart', colsample_bylevel=1,\n",
       "              colsample_bynode=1, colsample_bytree=1, gamma=8, gpu_id=-1,\n",
       "              importance_type='gain', interaction_constraints='',\n",
       "              learning_rate=0.25, max_delta_step=0, max_depth=6,\n",
       "              min_child_weight=1, missing=nan, monotone_constraints='()',\n",
       "              n_estimators=3, n_jobs=4, num_parallel_tree=1,\n",
       "              objective='binary:hinge', random_state=0, reg_alpha=0,\n",
       "              reg_lambda=3, scale_pos_weight=None, seed=0, subsample=1,\n",
       "              tree_method='approx', validate_parameters=1, verbosity=None)"
      ]
     },
     "execution_count": 68,
     "metadata": {},
     "output_type": "execute_result"
    }
   ],
   "source": [
    "#Entrenamiento de la mejor versión encontrada del modelo\n",
    "xgb_best_r = xgb.XGBClassifier(seed=0, tree_method= 'approx', objective=\"binary:hinge\", n_estimators=3, max_depth= 6,\n",
    "                               learning_rate= 0.25, reg_lambda=3, gamma= 8, booster=\"dart\", \n",
    "                               alpha= 0 )   #el lambda por default es 1\n",
    "xgb_best_r.fit(train, y_train)"
   ]
  },
  {
   "cell_type": "code",
   "execution_count": 69,
   "metadata": {},
   "outputs": [
    {
     "name": "stdout",
     "output_type": "stream",
     "text": [
      "MÉTRICAS CONJUNTO DE TRAIN\n",
      "              precision    recall  f1-score   support\n",
      "\n",
      "           0       0.94      0.91      0.93     23390\n",
      "           1       0.44      0.54      0.49      2970\n",
      "\n",
      "    accuracy                           0.87     26360\n",
      "   macro avg       0.69      0.73      0.71     26360\n",
      "weighted avg       0.88      0.87      0.88     26360\n",
      "\n",
      "MÉTRICAS CONJUNTO DE VALIDACIÓN\n",
      "              precision    recall  f1-score   support\n",
      "\n",
      "           0       0.94      0.91      0.93      5848\n",
      "           1       0.46      0.57      0.51       742\n",
      "\n",
      "    accuracy                           0.88      6590\n",
      "   macro avg       0.70      0.74      0.72      6590\n",
      "weighted avg       0.89      0.88      0.88      6590\n",
      "\n"
     ]
    }
   ],
   "source": [
    "print(\"MÉTRICAS CONJUNTO DE TRAIN\")\n",
    "print(classification_report(y_train, xgb_best_r.predict(train)))\n",
    "print(\"MÉTRICAS CONJUNTO DE VALIDACIÓN\")\n",
    "print(classification_report(y_val, xgb_best_r.predict(val)))"
   ]
  },
  {
   "cell_type": "markdown",
   "metadata": {
    "id": "yZGVwR3Rbdbv"
   },
   "source": [
    "### LigthGBM"
   ]
  },
  {
   "cell_type": "code",
   "execution_count": null,
   "metadata": {
    "id": "34o1JZ_0ibuE"
   },
   "outputs": [],
   "source": [
    "variables_categoricas = ['job', 'marital', 'education', 'default', 'housing', 'loan', 'contact', 'poutcome']\n",
    "variables_numericas = ['age', 'campaign', 'previous', 'cons.conf.idx', 'euribor3m']\n",
    "\n",
    "# Filtramos las variables que seleccionamos\n",
    "X_t = X_train[variables_categoricas + variables_numericas]\n",
    "\n",
    "pipeline_numerico = Pipeline([('select_numeric_columns', SelectColumnsTransformer(variables_numericas)),\n",
    "                             # ('standard_scaler', StandardScaler()),\n",
    "                             # (\"kbins_discretizer\", KBinsDiscretizer(n_bins=5, encode=\"ordinal\", strategy=\"quantile\"))      #strategy=\"uniform\"\n",
    "                            ])\n",
    "\n",
    "pipeline_categorico = Pipeline ([('select_categoric_columns', SelectColumnsTransformer(variables_categoricas)),\n",
    "                                 # ('imputer', SimpleImputer(strategy='most_frequent', missing_values=\"unknown\")),      #podríamos no ponerlo, y que deje \"desconocido\" como una categoría más\n",
    "                                 ('cat', OneHotEncoder())])\n",
    "\n",
    "pipeline_completo = ColumnTransformer([('num', pipeline_numerico, variables_numericas),\n",
    "                                   ('cat', pipeline_categorico, variables_categoricas),\n",
    "                                  ])\n",
    "\n",
    "pipeline_modelo = Pipeline([('preprocess', pipeline_completo),\n",
    "                            ('lgbm', lgbm(seed=0))])"
   ]
  },
  {
   "cell_type": "code",
   "execution_count": null,
   "metadata": {
    "id": "A_U0Jpw7iw53"
   },
   "outputs": [],
   "source": [
    "pipeline_modelo"
   ]
  },
  {
   "cell_type": "code",
   "execution_count": null,
   "metadata": {
    "id": "pCZZ_xSfiz-F"
   },
   "outputs": [],
   "source": [
    "cross_validate(pipeline_modelo, X_t, y_train, cv=5, scoring=('f1', 'roc_auc', \"precision\", \"recall\"))"
   ]
  },
  {
   "cell_type": "markdown",
   "metadata": {},
   "source": [
    "## Prueba con las variables del PCA"
   ]
  },
  {
   "cell_type": "code",
   "execution_count": 72,
   "metadata": {},
   "outputs": [],
   "source": [
    "# Leemos el dataset con la función de pandas \"read_csv\"\n",
    "key = \"data/final_df.csv\"\n",
    "df_pca = pd.read_csv(key, sep=\",\")"
   ]
  },
  {
   "cell_type": "code",
   "execution_count": 73,
   "metadata": {},
   "outputs": [
    {
     "data": {
      "text/html": [
       "<div>\n",
       "<style scoped>\n",
       "    .dataframe tbody tr th:only-of-type {\n",
       "        vertical-align: middle;\n",
       "    }\n",
       "\n",
       "    .dataframe tbody tr th {\n",
       "        vertical-align: top;\n",
       "    }\n",
       "\n",
       "    .dataframe thead th {\n",
       "        text-align: right;\n",
       "    }\n",
       "</style>\n",
       "<table border=\"1\" class=\"dataframe\">\n",
       "  <thead>\n",
       "    <tr style=\"text-align: right;\">\n",
       "      <th></th>\n",
       "      <th>Unnamed: 0</th>\n",
       "      <th>Unnamed: 0.1</th>\n",
       "      <th>age</th>\n",
       "      <th>job</th>\n",
       "      <th>marital</th>\n",
       "      <th>education</th>\n",
       "      <th>default</th>\n",
       "      <th>housing</th>\n",
       "      <th>loan</th>\n",
       "      <th>contact</th>\n",
       "      <th>...</th>\n",
       "      <th>job_num</th>\n",
       "      <th>marital_num</th>\n",
       "      <th>education_num</th>\n",
       "      <th>loan_num</th>\n",
       "      <th>housing_num</th>\n",
       "      <th>default_num</th>\n",
       "      <th>pca1</th>\n",
       "      <th>pca2</th>\n",
       "      <th>pca3</th>\n",
       "      <th>pca4</th>\n",
       "    </tr>\n",
       "  </thead>\n",
       "  <tbody>\n",
       "    <tr>\n",
       "      <th>0</th>\n",
       "      <td>0</td>\n",
       "      <td>0</td>\n",
       "      <td>0.481481</td>\n",
       "      <td>housemaid</td>\n",
       "      <td>married</td>\n",
       "      <td>basic.4y</td>\n",
       "      <td>no</td>\n",
       "      <td>no</td>\n",
       "      <td>no</td>\n",
       "      <td>telephone</td>\n",
       "      <td>...</td>\n",
       "      <td>1</td>\n",
       "      <td>1</td>\n",
       "      <td>1</td>\n",
       "      <td>1</td>\n",
       "      <td>1</td>\n",
       "      <td>1</td>\n",
       "      <td>-0.303521</td>\n",
       "      <td>-0.209731</td>\n",
       "      <td>-0.060447</td>\n",
       "      <td>0.074546</td>\n",
       "    </tr>\n",
       "    <tr>\n",
       "      <th>1</th>\n",
       "      <td>1</td>\n",
       "      <td>1</td>\n",
       "      <td>0.493827</td>\n",
       "      <td>services</td>\n",
       "      <td>married</td>\n",
       "      <td>high.school</td>\n",
       "      <td>no</td>\n",
       "      <td>no</td>\n",
       "      <td>no</td>\n",
       "      <td>telephone</td>\n",
       "      <td>...</td>\n",
       "      <td>2</td>\n",
       "      <td>1</td>\n",
       "      <td>2</td>\n",
       "      <td>1</td>\n",
       "      <td>1</td>\n",
       "      <td>1</td>\n",
       "      <td>-0.306797</td>\n",
       "      <td>-0.177784</td>\n",
       "      <td>-0.159761</td>\n",
       "      <td>0.033756</td>\n",
       "    </tr>\n",
       "  </tbody>\n",
       "</table>\n",
       "<p>2 rows × 32 columns</p>\n",
       "</div>"
      ],
      "text/plain": [
       "   Unnamed: 0  Unnamed: 0.1       age        job  marital    education  \\\n",
       "0           0             0  0.481481  housemaid  married     basic.4y   \n",
       "1           1             1  0.493827   services  married  high.school   \n",
       "\n",
       "  default housing loan    contact  ... job_num marital_num  education_num  \\\n",
       "0      no      no   no  telephone  ...       1           1              1   \n",
       "1      no      no   no  telephone  ...       2           1              2   \n",
       "\n",
       "   loan_num  housing_num default_num      pca1      pca2      pca3      pca4  \n",
       "0         1            1           1 -0.303521 -0.209731 -0.060447  0.074546  \n",
       "1         1            1           1 -0.306797 -0.177784 -0.159761  0.033756  \n",
       "\n",
       "[2 rows x 32 columns]"
      ]
     },
     "execution_count": 73,
     "metadata": {},
     "output_type": "execute_result"
    }
   ],
   "source": [
    "df_pca.head(2)"
   ]
  },
  {
   "cell_type": "code",
   "execution_count": 78,
   "metadata": {},
   "outputs": [
    {
     "name": "stdout",
     "output_type": "stream",
     "text": [
      "<class 'pandas.core.frame.DataFrame'>\n",
      "RangeIndex: 39156 entries, 0 to 39155\n",
      "Data columns (total 32 columns):\n",
      " #   Column          Non-Null Count  Dtype  \n",
      "---  ------          --------------  -----  \n",
      " 0   Unnamed: 0      39156 non-null  int64  \n",
      " 1   Unnamed: 0.1    39156 non-null  int64  \n",
      " 2   age             39156 non-null  float64\n",
      " 3   job             39156 non-null  object \n",
      " 4   marital         39156 non-null  object \n",
      " 5   education       39156 non-null  object \n",
      " 6   default         39156 non-null  object \n",
      " 7   housing         39156 non-null  object \n",
      " 8   loan            39156 non-null  object \n",
      " 9   contact         39156 non-null  object \n",
      " 10  month           39156 non-null  object \n",
      " 11  day_of_week     39156 non-null  object \n",
      " 12  campaign        39156 non-null  float64\n",
      " 13  pdays           35130 non-null  float64\n",
      " 14  previous        39156 non-null  float64\n",
      " 15  poutcome        39156 non-null  object \n",
      " 16  emp.var.rate    39156 non-null  float64\n",
      " 17  cons.price.idx  39156 non-null  float64\n",
      " 18  cons.conf.idx   39156 non-null  float64\n",
      " 19  euribor3m       39156 non-null  float64\n",
      " 20  nr.employed     39156 non-null  float64\n",
      " 21  y               39156 non-null  int64  \n",
      " 22  job_num         39156 non-null  int64  \n",
      " 23  marital_num     39156 non-null  int64  \n",
      " 24  education_num   39156 non-null  int64  \n",
      " 25  loan_num        39156 non-null  int64  \n",
      " 26  housing_num     39156 non-null  int64  \n",
      " 27  default_num     39156 non-null  int64  \n",
      " 28  pca1            39156 non-null  float64\n",
      " 29  pca2            39156 non-null  float64\n",
      " 30  pca3            39156 non-null  float64\n",
      " 31  pca4            39156 non-null  float64\n",
      "dtypes: float64(13), int64(9), object(10)\n",
      "memory usage: 9.6+ MB\n"
     ]
    }
   ],
   "source": [
    "df_pca.info()"
   ]
  },
  {
   "cell_type": "code",
   "execution_count": 75,
   "metadata": {},
   "outputs": [
    {
     "data": {
      "text/plain": [
       "Index(['Unnamed: 0', 'Unnamed: 0.1', 'age', 'job', 'marital', 'education',\n",
       "       'default', 'housing', 'loan', 'contact', 'month', 'day_of_week',\n",
       "       'campaign', 'pdays', 'previous', 'poutcome', 'emp.var.rate',\n",
       "       'cons.price.idx', 'cons.conf.idx', 'euribor3m', 'nr.employed', 'y',\n",
       "       'job_num', 'marital_num', 'education_num', 'loan_num', 'housing_num',\n",
       "       'default_num', 'pca1', 'pca2', 'pca3', 'pca4'],\n",
       "      dtype='object')"
      ]
     },
     "execution_count": 75,
     "metadata": {},
     "output_type": "execute_result"
    }
   ],
   "source": [
    "df_pca.columns"
   ]
  },
  {
   "cell_type": "code",
   "execution_count": 76,
   "metadata": {},
   "outputs": [],
   "source": [
    "X_pca = df_pca.drop(columns=['Unnamed: 0', 'Unnamed: 0.1', 'age', 'job', 'marital', 'education',\n",
    "       'default', 'housing', 'loan', 'contact', 'month', 'day_of_week',\n",
    "       'campaign', 'pdays', 'previous', 'poutcome', 'emp.var.rate',\n",
    "       'cons.price.idx', 'cons.conf.idx', 'euribor3m', 'nr.employed', 'y',\n",
    "       'job_num', 'marital_num', 'education_num', 'loan_num', 'housing_num',\n",
    "       'default_num'])\n",
    "y_pca = df_pca.y"
   ]
  },
  {
   "cell_type": "code",
   "execution_count": 77,
   "metadata": {},
   "outputs": [
    {
     "ename": "ValueError",
     "evalue": "Found input variables with inconsistent numbers of samples: [39156, 41188]",
     "output_type": "error",
     "traceback": [
      "\u001b[1;31m---------------------------------------------------------------------------\u001b[0m",
      "\u001b[1;31mValueError\u001b[0m                                Traceback (most recent call last)",
      "\u001b[1;32m<ipython-input-77-5cf422e32aba>\u001b[0m in \u001b[0;36m<module>\u001b[1;34m\u001b[0m\n\u001b[1;32m----> 1\u001b[1;33m \u001b[0mX_pca_temp\u001b[0m\u001b[1;33m,\u001b[0m \u001b[0mX_pca_test\u001b[0m\u001b[1;33m,\u001b[0m \u001b[0my_pca_temp\u001b[0m\u001b[1;33m,\u001b[0m \u001b[0my_pca_test\u001b[0m \u001b[1;33m=\u001b[0m \u001b[0mtrain_test_split\u001b[0m\u001b[1;33m(\u001b[0m\u001b[0mX_pca\u001b[0m\u001b[1;33m,\u001b[0m \u001b[0my_pca\u001b[0m\u001b[1;33m,\u001b[0m \u001b[0mtest_size\u001b[0m\u001b[1;33m=\u001b[0m\u001b[1;36m0.2\u001b[0m\u001b[1;33m,\u001b[0m \u001b[0mstratify\u001b[0m\u001b[1;33m=\u001b[0m\u001b[0my\u001b[0m\u001b[1;33m,\u001b[0m \u001b[0mrandom_state\u001b[0m\u001b[1;33m=\u001b[0m\u001b[1;36m42\u001b[0m\u001b[1;33m)\u001b[0m\u001b[1;33m\u001b[0m\u001b[1;33m\u001b[0m\u001b[0m\n\u001b[0m",
      "\u001b[1;32m~\\anaconda3\\lib\\site-packages\\sklearn\\model_selection\\_split.py\u001b[0m in \u001b[0;36mtrain_test_split\u001b[1;34m(*arrays, **options)\u001b[0m\n\u001b[0;32m   2150\u001b[0m                      random_state=random_state)\n\u001b[0;32m   2151\u001b[0m \u001b[1;33m\u001b[0m\u001b[0m\n\u001b[1;32m-> 2152\u001b[1;33m         \u001b[0mtrain\u001b[0m\u001b[1;33m,\u001b[0m \u001b[0mtest\u001b[0m \u001b[1;33m=\u001b[0m \u001b[0mnext\u001b[0m\u001b[1;33m(\u001b[0m\u001b[0mcv\u001b[0m\u001b[1;33m.\u001b[0m\u001b[0msplit\u001b[0m\u001b[1;33m(\u001b[0m\u001b[0mX\u001b[0m\u001b[1;33m=\u001b[0m\u001b[0marrays\u001b[0m\u001b[1;33m[\u001b[0m\u001b[1;36m0\u001b[0m\u001b[1;33m]\u001b[0m\u001b[1;33m,\u001b[0m \u001b[0my\u001b[0m\u001b[1;33m=\u001b[0m\u001b[0mstratify\u001b[0m\u001b[1;33m)\u001b[0m\u001b[1;33m)\u001b[0m\u001b[1;33m\u001b[0m\u001b[1;33m\u001b[0m\u001b[0m\n\u001b[0m\u001b[0;32m   2153\u001b[0m \u001b[1;33m\u001b[0m\u001b[0m\n\u001b[0;32m   2154\u001b[0m     return list(chain.from_iterable((_safe_indexing(a, train),\n",
      "\u001b[1;32m~\\anaconda3\\lib\\site-packages\\sklearn\\model_selection\\_split.py\u001b[0m in \u001b[0;36msplit\u001b[1;34m(self, X, y, groups)\u001b[0m\n\u001b[0;32m   1338\u001b[0m         \u001b[0mto\u001b[0m \u001b[0man\u001b[0m \u001b[0minteger\u001b[0m\u001b[1;33m.\u001b[0m\u001b[1;33m\u001b[0m\u001b[1;33m\u001b[0m\u001b[0m\n\u001b[0;32m   1339\u001b[0m         \"\"\"\n\u001b[1;32m-> 1340\u001b[1;33m         \u001b[0mX\u001b[0m\u001b[1;33m,\u001b[0m \u001b[0my\u001b[0m\u001b[1;33m,\u001b[0m \u001b[0mgroups\u001b[0m \u001b[1;33m=\u001b[0m \u001b[0mindexable\u001b[0m\u001b[1;33m(\u001b[0m\u001b[0mX\u001b[0m\u001b[1;33m,\u001b[0m \u001b[0my\u001b[0m\u001b[1;33m,\u001b[0m \u001b[0mgroups\u001b[0m\u001b[1;33m)\u001b[0m\u001b[1;33m\u001b[0m\u001b[1;33m\u001b[0m\u001b[0m\n\u001b[0m\u001b[0;32m   1341\u001b[0m         \u001b[1;32mfor\u001b[0m \u001b[0mtrain\u001b[0m\u001b[1;33m,\u001b[0m \u001b[0mtest\u001b[0m \u001b[1;32min\u001b[0m \u001b[0mself\u001b[0m\u001b[1;33m.\u001b[0m\u001b[0m_iter_indices\u001b[0m\u001b[1;33m(\u001b[0m\u001b[0mX\u001b[0m\u001b[1;33m,\u001b[0m \u001b[0my\u001b[0m\u001b[1;33m,\u001b[0m \u001b[0mgroups\u001b[0m\u001b[1;33m)\u001b[0m\u001b[1;33m:\u001b[0m\u001b[1;33m\u001b[0m\u001b[1;33m\u001b[0m\u001b[0m\n\u001b[0;32m   1342\u001b[0m             \u001b[1;32myield\u001b[0m \u001b[0mtrain\u001b[0m\u001b[1;33m,\u001b[0m \u001b[0mtest\u001b[0m\u001b[1;33m\u001b[0m\u001b[1;33m\u001b[0m\u001b[0m\n",
      "\u001b[1;32m~\\anaconda3\\lib\\site-packages\\sklearn\\utils\\validation.py\u001b[0m in \u001b[0;36mindexable\u001b[1;34m(*iterables)\u001b[0m\n\u001b[0;32m    290\u001b[0m     \"\"\"\n\u001b[0;32m    291\u001b[0m     \u001b[0mresult\u001b[0m \u001b[1;33m=\u001b[0m \u001b[1;33m[\u001b[0m\u001b[0m_make_indexable\u001b[0m\u001b[1;33m(\u001b[0m\u001b[0mX\u001b[0m\u001b[1;33m)\u001b[0m \u001b[1;32mfor\u001b[0m \u001b[0mX\u001b[0m \u001b[1;32min\u001b[0m \u001b[0miterables\u001b[0m\u001b[1;33m]\u001b[0m\u001b[1;33m\u001b[0m\u001b[1;33m\u001b[0m\u001b[0m\n\u001b[1;32m--> 292\u001b[1;33m     \u001b[0mcheck_consistent_length\u001b[0m\u001b[1;33m(\u001b[0m\u001b[1;33m*\u001b[0m\u001b[0mresult\u001b[0m\u001b[1;33m)\u001b[0m\u001b[1;33m\u001b[0m\u001b[1;33m\u001b[0m\u001b[0m\n\u001b[0m\u001b[0;32m    293\u001b[0m     \u001b[1;32mreturn\u001b[0m \u001b[0mresult\u001b[0m\u001b[1;33m\u001b[0m\u001b[1;33m\u001b[0m\u001b[0m\n\u001b[0;32m    294\u001b[0m \u001b[1;33m\u001b[0m\u001b[0m\n",
      "\u001b[1;32m~\\anaconda3\\lib\\site-packages\\sklearn\\utils\\validation.py\u001b[0m in \u001b[0;36mcheck_consistent_length\u001b[1;34m(*arrays)\u001b[0m\n\u001b[0;32m    253\u001b[0m     \u001b[0muniques\u001b[0m \u001b[1;33m=\u001b[0m \u001b[0mnp\u001b[0m\u001b[1;33m.\u001b[0m\u001b[0munique\u001b[0m\u001b[1;33m(\u001b[0m\u001b[0mlengths\u001b[0m\u001b[1;33m)\u001b[0m\u001b[1;33m\u001b[0m\u001b[1;33m\u001b[0m\u001b[0m\n\u001b[0;32m    254\u001b[0m     \u001b[1;32mif\u001b[0m \u001b[0mlen\u001b[0m\u001b[1;33m(\u001b[0m\u001b[0muniques\u001b[0m\u001b[1;33m)\u001b[0m \u001b[1;33m>\u001b[0m \u001b[1;36m1\u001b[0m\u001b[1;33m:\u001b[0m\u001b[1;33m\u001b[0m\u001b[1;33m\u001b[0m\u001b[0m\n\u001b[1;32m--> 255\u001b[1;33m         raise ValueError(\"Found input variables with inconsistent numbers of\"\n\u001b[0m\u001b[0;32m    256\u001b[0m                          \" samples: %r\" % [int(l) for l in lengths])\n\u001b[0;32m    257\u001b[0m \u001b[1;33m\u001b[0m\u001b[0m\n",
      "\u001b[1;31mValueError\u001b[0m: Found input variables with inconsistent numbers of samples: [39156, 41188]"
     ]
    }
   ],
   "source": [
    "X_pca_temp, X_pca_test, y_pca_temp, y_pca_test = train_test_split(X_pca, y_pca, test_size=0.2, stratify=y, random_state=42) "
   ]
  },
  {
   "cell_type": "code",
   "execution_count": null,
   "metadata": {},
   "outputs": [],
   "source": []
  }
 ],
 "metadata": {
  "colab": {
   "name": "Práctico 4 - Flo.ipynb",
   "provenance": []
  },
  "kernelspec": {
   "display_name": "Python 3",
   "language": "python",
   "name": "python3"
  },
  "language_info": {
   "codemirror_mode": {
    "name": "ipython",
    "version": 3
   },
   "file_extension": ".py",
   "mimetype": "text/x-python",
   "name": "python",
   "nbconvert_exporter": "python",
   "pygments_lexer": "ipython3",
   "version": "3.8.5"
  },
  "widgets": {
   "application/vnd.jupyter.widget-state+json": {
    "2508604ac6534766b142d8a9d86c12d2": {
     "model_module": "@jupyter-widgets/controls",
     "model_module_version": "1.5.0",
     "model_name": "ProgressStyleModel",
     "state": {
      "_model_module": "@jupyter-widgets/controls",
      "_model_module_version": "1.5.0",
      "_model_name": "ProgressStyleModel",
      "_view_count": null,
      "_view_module": "@jupyter-widgets/base",
      "_view_module_version": "1.2.0",
      "_view_name": "StyleView",
      "bar_color": null,
      "description_width": ""
     }
    },
    "3555dfc1ef634a54b67274a1dbbd92f6": {
     "model_module": "@jupyter-widgets/controls",
     "model_module_version": "1.5.0",
     "model_name": "IntProgressModel",
     "state": {
      "_dom_classes": [],
      "_model_module": "@jupyter-widgets/controls",
      "_model_module_version": "1.5.0",
      "_model_name": "IntProgressModel",
      "_view_count": null,
      "_view_module": "@jupyter-widgets/controls",
      "_view_module_version": "1.5.0",
      "_view_name": "ProgressView",
      "bar_style": "",
      "description": "Processing: ",
      "description_tooltip": null,
      "layout": "IPY_MODEL_f3ad3c2cac724e099170823b2dc49978",
      "max": 69,
      "min": 0,
      "orientation": "horizontal",
      "style": "IPY_MODEL_2508604ac6534766b142d8a9d86c12d2",
      "value": 69
     }
    },
    "47482f9ee49d4fcba87f4c0b2397a119": {
     "model_module": "@jupyter-widgets/controls",
     "model_module_version": "1.5.0",
     "model_name": "ProgressStyleModel",
     "state": {
      "_model_module": "@jupyter-widgets/controls",
      "_model_module_version": "1.5.0",
      "_model_name": "ProgressStyleModel",
      "_view_count": null,
      "_view_module": "@jupyter-widgets/base",
      "_view_module_version": "1.2.0",
      "_view_name": "StyleView",
      "bar_color": null,
      "description_width": ""
     }
    },
    "4e5bf7196dd84ad6ac9b3983e1077c0c": {
     "model_module": "@jupyter-widgets/controls",
     "model_module_version": "1.5.0",
     "model_name": "TextModel",
     "state": {
      "_dom_classes": [],
      "_model_module": "@jupyter-widgets/controls",
      "_model_module_version": "1.5.0",
      "_model_name": "TextModel",
      "_view_count": null,
      "_view_module": "@jupyter-widgets/controls",
      "_view_module_version": "1.5.0",
      "_view_name": "TextView",
      "continuous_update": true,
      "description": "",
      "description_tooltip": null,
      "disabled": false,
      "layout": "IPY_MODEL_c19cf648a61745f58eb9b81291f7b17f",
      "placeholder": "​",
      "style": "IPY_MODEL_bd7ee1d668b149f8850b1476ab82a529",
      "value": "Following data types have been inferred automatically, if they are correct press enter to continue or type 'quit' otherwise."
     }
    },
    "a0adfdf2dafb429797aed840ce0131c1": {
     "model_module": "@jupyter-widgets/base",
     "model_module_version": "1.2.0",
     "model_name": "LayoutModel",
     "state": {
      "_model_module": "@jupyter-widgets/base",
      "_model_module_version": "1.2.0",
      "_model_name": "LayoutModel",
      "_view_count": null,
      "_view_module": "@jupyter-widgets/base",
      "_view_module_version": "1.2.0",
      "_view_name": "LayoutView",
      "align_content": null,
      "align_items": null,
      "align_self": null,
      "border": null,
      "bottom": null,
      "display": null,
      "flex": null,
      "flex_flow": null,
      "grid_area": null,
      "grid_auto_columns": null,
      "grid_auto_flow": null,
      "grid_auto_rows": null,
      "grid_column": null,
      "grid_gap": null,
      "grid_row": null,
      "grid_template_areas": null,
      "grid_template_columns": null,
      "grid_template_rows": null,
      "height": null,
      "justify_content": null,
      "justify_items": null,
      "left": null,
      "margin": null,
      "max_height": null,
      "max_width": null,
      "min_height": null,
      "min_width": null,
      "object_fit": null,
      "object_position": null,
      "order": null,
      "overflow": null,
      "overflow_x": null,
      "overflow_y": null,
      "padding": null,
      "right": null,
      "top": null,
      "visibility": null,
      "width": null
     }
    },
    "bd7ee1d668b149f8850b1476ab82a529": {
     "model_module": "@jupyter-widgets/controls",
     "model_module_version": "1.5.0",
     "model_name": "DescriptionStyleModel",
     "state": {
      "_model_module": "@jupyter-widgets/controls",
      "_model_module_version": "1.5.0",
      "_model_name": "DescriptionStyleModel",
      "_view_count": null,
      "_view_module": "@jupyter-widgets/base",
      "_view_module_version": "1.2.0",
      "_view_name": "StyleView",
      "description_width": ""
     }
    },
    "c19cf648a61745f58eb9b81291f7b17f": {
     "model_module": "@jupyter-widgets/base",
     "model_module_version": "1.2.0",
     "model_name": "LayoutModel",
     "state": {
      "_model_module": "@jupyter-widgets/base",
      "_model_module_version": "1.2.0",
      "_model_name": "LayoutModel",
      "_view_count": null,
      "_view_module": "@jupyter-widgets/base",
      "_view_module_version": "1.2.0",
      "_view_name": "LayoutView",
      "align_content": null,
      "align_items": null,
      "align_self": null,
      "border": null,
      "bottom": null,
      "display": null,
      "flex": null,
      "flex_flow": null,
      "grid_area": null,
      "grid_auto_columns": null,
      "grid_auto_flow": null,
      "grid_auto_rows": null,
      "grid_column": null,
      "grid_gap": null,
      "grid_row": null,
      "grid_template_areas": null,
      "grid_template_columns": null,
      "grid_template_rows": null,
      "height": null,
      "justify_content": null,
      "justify_items": null,
      "left": null,
      "margin": null,
      "max_height": null,
      "max_width": null,
      "min_height": null,
      "min_width": null,
      "object_fit": null,
      "object_position": null,
      "order": null,
      "overflow": null,
      "overflow_x": null,
      "overflow_y": null,
      "padding": null,
      "right": null,
      "top": null,
      "visibility": null,
      "width": "100%"
     }
    },
    "cbe5a5d40f164b078a980567b7a8e70e": {
     "model_module": "@jupyter-widgets/controls",
     "model_module_version": "1.5.0",
     "model_name": "IntProgressModel",
     "state": {
      "_dom_classes": [],
      "_model_module": "@jupyter-widgets/controls",
      "_model_module_version": "1.5.0",
      "_model_name": "IntProgressModel",
      "_view_count": null,
      "_view_module": "@jupyter-widgets/controls",
      "_view_module_version": "1.5.0",
      "_view_name": "ProgressView",
      "bar_style": "",
      "description": "Processing: ",
      "description_tooltip": null,
      "layout": "IPY_MODEL_a0adfdf2dafb429797aed840ce0131c1",
      "max": 3,
      "min": 0,
      "orientation": "horizontal",
      "style": "IPY_MODEL_47482f9ee49d4fcba87f4c0b2397a119",
      "value": 3
     }
    },
    "f3ad3c2cac724e099170823b2dc49978": {
     "model_module": "@jupyter-widgets/base",
     "model_module_version": "1.2.0",
     "model_name": "LayoutModel",
     "state": {
      "_model_module": "@jupyter-widgets/base",
      "_model_module_version": "1.2.0",
      "_model_name": "LayoutModel",
      "_view_count": null,
      "_view_module": "@jupyter-widgets/base",
      "_view_module_version": "1.2.0",
      "_view_name": "LayoutView",
      "align_content": null,
      "align_items": null,
      "align_self": null,
      "border": null,
      "bottom": null,
      "display": null,
      "flex": null,
      "flex_flow": null,
      "grid_area": null,
      "grid_auto_columns": null,
      "grid_auto_flow": null,
      "grid_auto_rows": null,
      "grid_column": null,
      "grid_gap": null,
      "grid_row": null,
      "grid_template_areas": null,
      "grid_template_columns": null,
      "grid_template_rows": null,
      "height": null,
      "justify_content": null,
      "justify_items": null,
      "left": null,
      "margin": null,
      "max_height": null,
      "max_width": null,
      "min_height": null,
      "min_width": null,
      "object_fit": null,
      "object_position": null,
      "order": null,
      "overflow": null,
      "overflow_x": null,
      "overflow_y": null,
      "padding": null,
      "right": null,
      "top": null,
      "visibility": null,
      "width": null
     }
    }
   }
  }
 },
 "nbformat": 4,
 "nbformat_minor": 4
}
