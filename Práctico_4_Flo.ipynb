{
  "nbformat": 4,
  "nbformat_minor": 0,
  "metadata": {
    "colab": {
      "name": "Práctico 4 - Flo.ipynb",
      "provenance": []
    },
    "kernelspec": {
      "name": "python3",
      "display_name": "Python 3"
    },
    "language_info": {
      "name": "python"
    },
    "widgets": {
      "application/vnd.jupyter.widget-state+json": {
        "cbe5a5d40f164b078a980567b7a8e70e": {
          "model_module": "@jupyter-widgets/controls",
          "model_name": "IntProgressModel",
          "model_module_version": "1.5.0",
          "state": {
            "_view_name": "ProgressView",
            "style": "IPY_MODEL_47482f9ee49d4fcba87f4c0b2397a119",
            "_dom_classes": [],
            "description": "Processing: ",
            "_model_name": "IntProgressModel",
            "bar_style": "",
            "max": 3,
            "_view_module": "@jupyter-widgets/controls",
            "_model_module_version": "1.5.0",
            "value": 3,
            "_view_count": null,
            "_view_module_version": "1.5.0",
            "orientation": "horizontal",
            "min": 0,
            "description_tooltip": null,
            "_model_module": "@jupyter-widgets/controls",
            "layout": "IPY_MODEL_a0adfdf2dafb429797aed840ce0131c1"
          }
        },
        "47482f9ee49d4fcba87f4c0b2397a119": {
          "model_module": "@jupyter-widgets/controls",
          "model_name": "ProgressStyleModel",
          "model_module_version": "1.5.0",
          "state": {
            "_view_name": "StyleView",
            "_model_name": "ProgressStyleModel",
            "description_width": "",
            "_view_module": "@jupyter-widgets/base",
            "_model_module_version": "1.5.0",
            "_view_count": null,
            "_view_module_version": "1.2.0",
            "bar_color": null,
            "_model_module": "@jupyter-widgets/controls"
          }
        },
        "a0adfdf2dafb429797aed840ce0131c1": {
          "model_module": "@jupyter-widgets/base",
          "model_name": "LayoutModel",
          "model_module_version": "1.2.0",
          "state": {
            "_view_name": "LayoutView",
            "grid_template_rows": null,
            "right": null,
            "justify_content": null,
            "_view_module": "@jupyter-widgets/base",
            "overflow": null,
            "_model_module_version": "1.2.0",
            "_view_count": null,
            "flex_flow": null,
            "width": null,
            "min_width": null,
            "border": null,
            "align_items": null,
            "bottom": null,
            "_model_module": "@jupyter-widgets/base",
            "top": null,
            "grid_column": null,
            "overflow_y": null,
            "overflow_x": null,
            "grid_auto_flow": null,
            "grid_area": null,
            "grid_template_columns": null,
            "flex": null,
            "_model_name": "LayoutModel",
            "justify_items": null,
            "grid_row": null,
            "max_height": null,
            "align_content": null,
            "visibility": null,
            "align_self": null,
            "height": null,
            "min_height": null,
            "padding": null,
            "grid_auto_rows": null,
            "grid_gap": null,
            "max_width": null,
            "order": null,
            "_view_module_version": "1.2.0",
            "grid_template_areas": null,
            "object_position": null,
            "object_fit": null,
            "grid_auto_columns": null,
            "margin": null,
            "display": null,
            "left": null
          }
        },
        "4e5bf7196dd84ad6ac9b3983e1077c0c": {
          "model_module": "@jupyter-widgets/controls",
          "model_name": "TextModel",
          "model_module_version": "1.5.0",
          "state": {
            "_view_name": "TextView",
            "style": "IPY_MODEL_bd7ee1d668b149f8850b1476ab82a529",
            "_dom_classes": [],
            "description": "",
            "_model_name": "TextModel",
            "placeholder": "​",
            "_view_module": "@jupyter-widgets/controls",
            "_model_module_version": "1.5.0",
            "value": "Following data types have been inferred automatically, if they are correct press enter to continue or type 'quit' otherwise.",
            "_view_count": null,
            "disabled": false,
            "_view_module_version": "1.5.0",
            "continuous_update": true,
            "description_tooltip": null,
            "_model_module": "@jupyter-widgets/controls",
            "layout": "IPY_MODEL_c19cf648a61745f58eb9b81291f7b17f"
          }
        },
        "bd7ee1d668b149f8850b1476ab82a529": {
          "model_module": "@jupyter-widgets/controls",
          "model_name": "DescriptionStyleModel",
          "model_module_version": "1.5.0",
          "state": {
            "_view_name": "StyleView",
            "_model_name": "DescriptionStyleModel",
            "description_width": "",
            "_view_module": "@jupyter-widgets/base",
            "_model_module_version": "1.5.0",
            "_view_count": null,
            "_view_module_version": "1.2.0",
            "_model_module": "@jupyter-widgets/controls"
          }
        },
        "c19cf648a61745f58eb9b81291f7b17f": {
          "model_module": "@jupyter-widgets/base",
          "model_name": "LayoutModel",
          "model_module_version": "1.2.0",
          "state": {
            "_view_name": "LayoutView",
            "grid_template_rows": null,
            "right": null,
            "justify_content": null,
            "_view_module": "@jupyter-widgets/base",
            "overflow": null,
            "_model_module_version": "1.2.0",
            "_view_count": null,
            "flex_flow": null,
            "width": "100%",
            "min_width": null,
            "border": null,
            "align_items": null,
            "bottom": null,
            "_model_module": "@jupyter-widgets/base",
            "top": null,
            "grid_column": null,
            "overflow_y": null,
            "overflow_x": null,
            "grid_auto_flow": null,
            "grid_area": null,
            "grid_template_columns": null,
            "flex": null,
            "_model_name": "LayoutModel",
            "justify_items": null,
            "grid_row": null,
            "max_height": null,
            "align_content": null,
            "visibility": null,
            "align_self": null,
            "height": null,
            "min_height": null,
            "padding": null,
            "grid_auto_rows": null,
            "grid_gap": null,
            "max_width": null,
            "order": null,
            "_view_module_version": "1.2.0",
            "grid_template_areas": null,
            "object_position": null,
            "object_fit": null,
            "grid_auto_columns": null,
            "margin": null,
            "display": null,
            "left": null
          }
        },
        "3555dfc1ef634a54b67274a1dbbd92f6": {
          "model_module": "@jupyter-widgets/controls",
          "model_name": "IntProgressModel",
          "model_module_version": "1.5.0",
          "state": {
            "_view_name": "ProgressView",
            "style": "IPY_MODEL_2508604ac6534766b142d8a9d86c12d2",
            "_dom_classes": [],
            "description": "Processing: ",
            "_model_name": "IntProgressModel",
            "bar_style": "",
            "max": 69,
            "_view_module": "@jupyter-widgets/controls",
            "_model_module_version": "1.5.0",
            "value": 69,
            "_view_count": null,
            "_view_module_version": "1.5.0",
            "orientation": "horizontal",
            "min": 0,
            "description_tooltip": null,
            "_model_module": "@jupyter-widgets/controls",
            "layout": "IPY_MODEL_f3ad3c2cac724e099170823b2dc49978"
          }
        },
        "2508604ac6534766b142d8a9d86c12d2": {
          "model_module": "@jupyter-widgets/controls",
          "model_name": "ProgressStyleModel",
          "model_module_version": "1.5.0",
          "state": {
            "_view_name": "StyleView",
            "_model_name": "ProgressStyleModel",
            "description_width": "",
            "_view_module": "@jupyter-widgets/base",
            "_model_module_version": "1.5.0",
            "_view_count": null,
            "_view_module_version": "1.2.0",
            "bar_color": null,
            "_model_module": "@jupyter-widgets/controls"
          }
        },
        "f3ad3c2cac724e099170823b2dc49978": {
          "model_module": "@jupyter-widgets/base",
          "model_name": "LayoutModel",
          "model_module_version": "1.2.0",
          "state": {
            "_view_name": "LayoutView",
            "grid_template_rows": null,
            "right": null,
            "justify_content": null,
            "_view_module": "@jupyter-widgets/base",
            "overflow": null,
            "_model_module_version": "1.2.0",
            "_view_count": null,
            "flex_flow": null,
            "width": null,
            "min_width": null,
            "border": null,
            "align_items": null,
            "bottom": null,
            "_model_module": "@jupyter-widgets/base",
            "top": null,
            "grid_column": null,
            "overflow_y": null,
            "overflow_x": null,
            "grid_auto_flow": null,
            "grid_area": null,
            "grid_template_columns": null,
            "flex": null,
            "_model_name": "LayoutModel",
            "justify_items": null,
            "grid_row": null,
            "max_height": null,
            "align_content": null,
            "visibility": null,
            "align_self": null,
            "height": null,
            "min_height": null,
            "padding": null,
            "grid_auto_rows": null,
            "grid_gap": null,
            "max_width": null,
            "order": null,
            "_view_module_version": "1.2.0",
            "grid_template_areas": null,
            "object_position": null,
            "object_fit": null,
            "grid_auto_columns": null,
            "margin": null,
            "display": null,
            "left": null
          }
        }
      }
    }
  },
  "cells": [
    {
      "cell_type": "code",
      "metadata": {
        "id": "atFi1riTXW8Y"
      },
      "source": [
        "pip install pycaret"
      ],
      "execution_count": null,
      "outputs": []
    },
    {
      "cell_type": "code",
      "metadata": {
        "id": "MVoS9537wCjV"
      },
      "source": [
        "import numpy as np\n",
        "import pandas as pd\n",
        "import matplotlib.pyplot as plt\n",
        "import seaborn as sns\n",
        "\n",
        "from sklearn.model_selection import train_test_split, cross_validate, GridSearchCV\n",
        "from sklearn.impute import SimpleImputer\n",
        "from sklearn.preprocessing import KBinsDiscretizer, OneHotEncoder, StandardScaler, MinMaxScaler\n",
        "from sklearn.pipeline import Pipeline\n",
        "from sklearn.compose import ColumnTransformer\n",
        "from sklearn.metrics import classification_report\n",
        "\n",
        "from sklearn.tree import DecisionTreeClassifier\n",
        "from sklearn.linear_model import LogisticRegression, SGDClassifier\n",
        "from sklearn.naive_bayes import BernoulliNB, ComplementNB, MultinomialNB\n",
        "from sklearn.svm import SVC\n",
        "from sklearn.ensemble import RandomForestClassifier\n",
        "from sklearn.neighbors import KNeighborsClassifier\n",
        "import xgboost as xgb\n",
        "import lightgbm as lgbm"
      ],
      "execution_count": null,
      "outputs": []
    },
    {
      "cell_type": "code",
      "metadata": {
        "id": "hnde3S2mXbaZ"
      },
      "source": [
        "import pycaret.classification"
      ],
      "execution_count": null,
      "outputs": []
    },
    {
      "cell_type": "code",
      "metadata": {
        "id": "EmrIjBi2Xdu8"
      },
      "source": [
        "# Opción para ver todas las columnas del dataset en el notebook\n",
        "pd.set_option('display.max_columns', 50)"
      ],
      "execution_count": null,
      "outputs": []
    },
    {
      "cell_type": "markdown",
      "metadata": {
        "id": "imwPHmuBXeYn"
      },
      "source": [
        "# Cargamos los datos"
      ]
    },
    {
      "cell_type": "code",
      "metadata": {
        "id": "7dL-GU6EXoNL"
      },
      "source": [
        "# Leemos el dataset con la función de pandas \"read_csv\"\n",
        "url = \"https://raw.githubusercontent.com/AgusCarchano/Mentorias-grupo1/master/data/bank-additional-full.csv\"\n",
        "df = pd.read_csv(url, sep=\";\")"
      ],
      "execution_count": null,
      "outputs": []
    },
    {
      "cell_type": "code",
      "metadata": {
        "colab": {
          "base_uri": "https://localhost:8080/",
          "height": 112
        },
        "id": "yBfa-VDsXq30",
        "outputId": "53e1cd5a-f42a-4f33-b2cb-abc13650d0e4"
      },
      "source": [
        "df.head(2)"
      ],
      "execution_count": null,
      "outputs": [
        {
          "output_type": "execute_result",
          "data": {
            "text/html": [
              "<div>\n",
              "<style scoped>\n",
              "    .dataframe tbody tr th:only-of-type {\n",
              "        vertical-align: middle;\n",
              "    }\n",
              "\n",
              "    .dataframe tbody tr th {\n",
              "        vertical-align: top;\n",
              "    }\n",
              "\n",
              "    .dataframe thead th {\n",
              "        text-align: right;\n",
              "    }\n",
              "</style>\n",
              "<table border=\"1\" class=\"dataframe\">\n",
              "  <thead>\n",
              "    <tr style=\"text-align: right;\">\n",
              "      <th></th>\n",
              "      <th>age</th>\n",
              "      <th>job</th>\n",
              "      <th>marital</th>\n",
              "      <th>education</th>\n",
              "      <th>default</th>\n",
              "      <th>housing</th>\n",
              "      <th>loan</th>\n",
              "      <th>contact</th>\n",
              "      <th>month</th>\n",
              "      <th>day_of_week</th>\n",
              "      <th>duration</th>\n",
              "      <th>campaign</th>\n",
              "      <th>pdays</th>\n",
              "      <th>previous</th>\n",
              "      <th>poutcome</th>\n",
              "      <th>emp.var.rate</th>\n",
              "      <th>cons.price.idx</th>\n",
              "      <th>cons.conf.idx</th>\n",
              "      <th>euribor3m</th>\n",
              "      <th>nr.employed</th>\n",
              "      <th>y</th>\n",
              "    </tr>\n",
              "  </thead>\n",
              "  <tbody>\n",
              "    <tr>\n",
              "      <th>0</th>\n",
              "      <td>56</td>\n",
              "      <td>housemaid</td>\n",
              "      <td>married</td>\n",
              "      <td>basic.4y</td>\n",
              "      <td>no</td>\n",
              "      <td>no</td>\n",
              "      <td>no</td>\n",
              "      <td>telephone</td>\n",
              "      <td>may</td>\n",
              "      <td>mon</td>\n",
              "      <td>261</td>\n",
              "      <td>1</td>\n",
              "      <td>999</td>\n",
              "      <td>0</td>\n",
              "      <td>nonexistent</td>\n",
              "      <td>1.1</td>\n",
              "      <td>93.994</td>\n",
              "      <td>-36.4</td>\n",
              "      <td>4.857</td>\n",
              "      <td>5191.0</td>\n",
              "      <td>no</td>\n",
              "    </tr>\n",
              "    <tr>\n",
              "      <th>1</th>\n",
              "      <td>57</td>\n",
              "      <td>services</td>\n",
              "      <td>married</td>\n",
              "      <td>high.school</td>\n",
              "      <td>unknown</td>\n",
              "      <td>no</td>\n",
              "      <td>no</td>\n",
              "      <td>telephone</td>\n",
              "      <td>may</td>\n",
              "      <td>mon</td>\n",
              "      <td>149</td>\n",
              "      <td>1</td>\n",
              "      <td>999</td>\n",
              "      <td>0</td>\n",
              "      <td>nonexistent</td>\n",
              "      <td>1.1</td>\n",
              "      <td>93.994</td>\n",
              "      <td>-36.4</td>\n",
              "      <td>4.857</td>\n",
              "      <td>5191.0</td>\n",
              "      <td>no</td>\n",
              "    </tr>\n",
              "  </tbody>\n",
              "</table>\n",
              "</div>"
            ],
            "text/plain": [
              "   age        job  marital  ... euribor3m nr.employed   y\n",
              "0   56  housemaid  married  ...     4.857      5191.0  no\n",
              "1   57   services  married  ...     4.857      5191.0  no\n",
              "\n",
              "[2 rows x 21 columns]"
            ]
          },
          "metadata": {},
          "execution_count": 4
        }
      ]
    },
    {
      "cell_type": "markdown",
      "metadata": {
        "id": "EH4RXMMCX2HD"
      },
      "source": [
        "# División en grupo de test y train"
      ]
    },
    {
      "cell_type": "code",
      "metadata": {
        "id": "1ajvhNHdYEzA"
      },
      "source": [
        "# Reemplazamos la columna y (target) por 1 y 0\n",
        "df.y = df.y.replace('yes', 1)\n",
        "df.y = df.y.replace('no', 0)"
      ],
      "execution_count": null,
      "outputs": []
    },
    {
      "cell_type": "code",
      "metadata": {
        "id": "yJE7k8L-X6Zw"
      },
      "source": [
        "df_train, df_test = train_test_split(df, test_size=0.2, stratify=df.y, random_state=42)"
      ],
      "execution_count": null,
      "outputs": []
    },
    {
      "cell_type": "markdown",
      "metadata": {
        "id": "afLGjz1IYR6A"
      },
      "source": [
        "### Análisis global con PyCaret"
      ]
    },
    {
      "cell_type": "code",
      "metadata": {
        "colab": {
          "base_uri": "https://localhost:8080/",
          "height": 1000,
          "referenced_widgets": [
            "cbe5a5d40f164b078a980567b7a8e70e",
            "47482f9ee49d4fcba87f4c0b2397a119",
            "a0adfdf2dafb429797aed840ce0131c1",
            "4e5bf7196dd84ad6ac9b3983e1077c0c",
            "bd7ee1d668b149f8850b1476ab82a529",
            "c19cf648a61745f58eb9b81291f7b17f"
          ]
        },
        "id": "L3Tuy7rzYMwI",
        "outputId": "c369b5e0-4306-4d5f-8697-643e0ba151ea"
      },
      "source": [
        "from pycaret.classification import *\n",
        "clf = setup(data = df_train, target =\"y\" )"
      ],
      "execution_count": null,
      "outputs": [
        {
          "output_type": "display_data",
          "data": {
            "text/html": [
              "<div>\n",
              "<style scoped>\n",
              "    .dataframe tbody tr th:only-of-type {\n",
              "        vertical-align: middle;\n",
              "    }\n",
              "\n",
              "    .dataframe tbody tr th {\n",
              "        vertical-align: top;\n",
              "    }\n",
              "\n",
              "    .dataframe thead th {\n",
              "        text-align: right;\n",
              "    }\n",
              "</style>\n",
              "<table border=\"1\" class=\"dataframe\">\n",
              "  <thead>\n",
              "    <tr style=\"text-align: right;\">\n",
              "      <th></th>\n",
              "      <th>Description</th>\n",
              "      <th>Value</th>\n",
              "    </tr>\n",
              "  </thead>\n",
              "  <tbody>\n",
              "    <tr>\n",
              "      <th>0</th>\n",
              "      <td>session_id</td>\n",
              "      <td>8073</td>\n",
              "    </tr>\n",
              "    <tr>\n",
              "      <th>1</th>\n",
              "      <td>Target</td>\n",
              "      <td>y</td>\n",
              "    </tr>\n",
              "    <tr>\n",
              "      <th>2</th>\n",
              "      <td>Target Type</td>\n",
              "      <td>Binary</td>\n",
              "    </tr>\n",
              "    <tr>\n",
              "      <th>3</th>\n",
              "      <td>Label Encoded</td>\n",
              "      <td>0: 0, 1: 1</td>\n",
              "    </tr>\n",
              "    <tr>\n",
              "      <th>4</th>\n",
              "      <td>Original Data</td>\n",
              "      <td>(32950, 21)</td>\n",
              "    </tr>\n",
              "    <tr>\n",
              "      <th>5</th>\n",
              "      <td>Missing Values</td>\n",
              "      <td>False</td>\n",
              "    </tr>\n",
              "    <tr>\n",
              "      <th>6</th>\n",
              "      <td>Numeric Features</td>\n",
              "      <td>9</td>\n",
              "    </tr>\n",
              "    <tr>\n",
              "      <th>7</th>\n",
              "      <td>Categorical Features</td>\n",
              "      <td>11</td>\n",
              "    </tr>\n",
              "    <tr>\n",
              "      <th>8</th>\n",
              "      <td>Ordinal Features</td>\n",
              "      <td>False</td>\n",
              "    </tr>\n",
              "    <tr>\n",
              "      <th>9</th>\n",
              "      <td>High Cardinality Features</td>\n",
              "      <td>False</td>\n",
              "    </tr>\n",
              "    <tr>\n",
              "      <th>10</th>\n",
              "      <td>High Cardinality Method</td>\n",
              "      <td>None</td>\n",
              "    </tr>\n",
              "    <tr>\n",
              "      <th>11</th>\n",
              "      <td>Transformed Train Set</td>\n",
              "      <td>(23064, 66)</td>\n",
              "    </tr>\n",
              "    <tr>\n",
              "      <th>12</th>\n",
              "      <td>Transformed Test Set</td>\n",
              "      <td>(9886, 66)</td>\n",
              "    </tr>\n",
              "    <tr>\n",
              "      <th>13</th>\n",
              "      <td>Shuffle Train-Test</td>\n",
              "      <td>True</td>\n",
              "    </tr>\n",
              "    <tr>\n",
              "      <th>14</th>\n",
              "      <td>Stratify Train-Test</td>\n",
              "      <td>False</td>\n",
              "    </tr>\n",
              "    <tr>\n",
              "      <th>15</th>\n",
              "      <td>Fold Generator</td>\n",
              "      <td>StratifiedKFold</td>\n",
              "    </tr>\n",
              "    <tr>\n",
              "      <th>16</th>\n",
              "      <td>Fold Number</td>\n",
              "      <td>10</td>\n",
              "    </tr>\n",
              "    <tr>\n",
              "      <th>17</th>\n",
              "      <td>CPU Jobs</td>\n",
              "      <td>-1</td>\n",
              "    </tr>\n",
              "    <tr>\n",
              "      <th>18</th>\n",
              "      <td>Use GPU</td>\n",
              "      <td>False</td>\n",
              "    </tr>\n",
              "    <tr>\n",
              "      <th>19</th>\n",
              "      <td>Log Experiment</td>\n",
              "      <td>False</td>\n",
              "    </tr>\n",
              "    <tr>\n",
              "      <th>20</th>\n",
              "      <td>Experiment Name</td>\n",
              "      <td>clf-default-name</td>\n",
              "    </tr>\n",
              "    <tr>\n",
              "      <th>21</th>\n",
              "      <td>USI</td>\n",
              "      <td>b576</td>\n",
              "    </tr>\n",
              "    <tr>\n",
              "      <th>22</th>\n",
              "      <td>Imputation Type</td>\n",
              "      <td>simple</td>\n",
              "    </tr>\n",
              "    <tr>\n",
              "      <th>23</th>\n",
              "      <td>Iterative Imputation Iteration</td>\n",
              "      <td>None</td>\n",
              "    </tr>\n",
              "    <tr>\n",
              "      <th>24</th>\n",
              "      <td>Numeric Imputer</td>\n",
              "      <td>mean</td>\n",
              "    </tr>\n",
              "    <tr>\n",
              "      <th>25</th>\n",
              "      <td>Iterative Imputation Numeric Model</td>\n",
              "      <td>None</td>\n",
              "    </tr>\n",
              "    <tr>\n",
              "      <th>26</th>\n",
              "      <td>Categorical Imputer</td>\n",
              "      <td>constant</td>\n",
              "    </tr>\n",
              "    <tr>\n",
              "      <th>27</th>\n",
              "      <td>Iterative Imputation Categorical Model</td>\n",
              "      <td>None</td>\n",
              "    </tr>\n",
              "    <tr>\n",
              "      <th>28</th>\n",
              "      <td>Unknown Categoricals Handling</td>\n",
              "      <td>least_frequent</td>\n",
              "    </tr>\n",
              "    <tr>\n",
              "      <th>29</th>\n",
              "      <td>Normalize</td>\n",
              "      <td>False</td>\n",
              "    </tr>\n",
              "    <tr>\n",
              "      <th>30</th>\n",
              "      <td>Normalize Method</td>\n",
              "      <td>None</td>\n",
              "    </tr>\n",
              "    <tr>\n",
              "      <th>31</th>\n",
              "      <td>Transformation</td>\n",
              "      <td>False</td>\n",
              "    </tr>\n",
              "    <tr>\n",
              "      <th>32</th>\n",
              "      <td>Transformation Method</td>\n",
              "      <td>None</td>\n",
              "    </tr>\n",
              "    <tr>\n",
              "      <th>33</th>\n",
              "      <td>PCA</td>\n",
              "      <td>False</td>\n",
              "    </tr>\n",
              "    <tr>\n",
              "      <th>34</th>\n",
              "      <td>PCA Method</td>\n",
              "      <td>None</td>\n",
              "    </tr>\n",
              "    <tr>\n",
              "      <th>35</th>\n",
              "      <td>PCA Components</td>\n",
              "      <td>None</td>\n",
              "    </tr>\n",
              "    <tr>\n",
              "      <th>36</th>\n",
              "      <td>Ignore Low Variance</td>\n",
              "      <td>False</td>\n",
              "    </tr>\n",
              "    <tr>\n",
              "      <th>37</th>\n",
              "      <td>Combine Rare Levels</td>\n",
              "      <td>False</td>\n",
              "    </tr>\n",
              "    <tr>\n",
              "      <th>38</th>\n",
              "      <td>Rare Level Threshold</td>\n",
              "      <td>None</td>\n",
              "    </tr>\n",
              "    <tr>\n",
              "      <th>39</th>\n",
              "      <td>Numeric Binning</td>\n",
              "      <td>False</td>\n",
              "    </tr>\n",
              "    <tr>\n",
              "      <th>40</th>\n",
              "      <td>Remove Outliers</td>\n",
              "      <td>False</td>\n",
              "    </tr>\n",
              "    <tr>\n",
              "      <th>41</th>\n",
              "      <td>Outliers Threshold</td>\n",
              "      <td>None</td>\n",
              "    </tr>\n",
              "    <tr>\n",
              "      <th>42</th>\n",
              "      <td>Remove Multicollinearity</td>\n",
              "      <td>False</td>\n",
              "    </tr>\n",
              "    <tr>\n",
              "      <th>43</th>\n",
              "      <td>Multicollinearity Threshold</td>\n",
              "      <td>None</td>\n",
              "    </tr>\n",
              "    <tr>\n",
              "      <th>44</th>\n",
              "      <td>Remove Perfect Collinearity</td>\n",
              "      <td>True</td>\n",
              "    </tr>\n",
              "    <tr>\n",
              "      <th>45</th>\n",
              "      <td>Clustering</td>\n",
              "      <td>False</td>\n",
              "    </tr>\n",
              "    <tr>\n",
              "      <th>46</th>\n",
              "      <td>Clustering Iteration</td>\n",
              "      <td>None</td>\n",
              "    </tr>\n",
              "    <tr>\n",
              "      <th>47</th>\n",
              "      <td>Polynomial Features</td>\n",
              "      <td>False</td>\n",
              "    </tr>\n",
              "    <tr>\n",
              "      <th>48</th>\n",
              "      <td>Polynomial Degree</td>\n",
              "      <td>None</td>\n",
              "    </tr>\n",
              "    <tr>\n",
              "      <th>49</th>\n",
              "      <td>Trignometry Features</td>\n",
              "      <td>False</td>\n",
              "    </tr>\n",
              "    <tr>\n",
              "      <th>50</th>\n",
              "      <td>Polynomial Threshold</td>\n",
              "      <td>None</td>\n",
              "    </tr>\n",
              "    <tr>\n",
              "      <th>51</th>\n",
              "      <td>Group Features</td>\n",
              "      <td>False</td>\n",
              "    </tr>\n",
              "    <tr>\n",
              "      <th>52</th>\n",
              "      <td>Feature Selection</td>\n",
              "      <td>False</td>\n",
              "    </tr>\n",
              "    <tr>\n",
              "      <th>53</th>\n",
              "      <td>Feature Selection Method</td>\n",
              "      <td>classic</td>\n",
              "    </tr>\n",
              "    <tr>\n",
              "      <th>54</th>\n",
              "      <td>Features Selection Threshold</td>\n",
              "      <td>None</td>\n",
              "    </tr>\n",
              "    <tr>\n",
              "      <th>55</th>\n",
              "      <td>Feature Interaction</td>\n",
              "      <td>False</td>\n",
              "    </tr>\n",
              "    <tr>\n",
              "      <th>56</th>\n",
              "      <td>Feature Ratio</td>\n",
              "      <td>False</td>\n",
              "    </tr>\n",
              "    <tr>\n",
              "      <th>57</th>\n",
              "      <td>Interaction Threshold</td>\n",
              "      <td>None</td>\n",
              "    </tr>\n",
              "    <tr>\n",
              "      <th>58</th>\n",
              "      <td>Fix Imbalance</td>\n",
              "      <td>False</td>\n",
              "    </tr>\n",
              "    <tr>\n",
              "      <th>59</th>\n",
              "      <td>Fix Imbalance Method</td>\n",
              "      <td>SMOTE</td>\n",
              "    </tr>\n",
              "  </tbody>\n",
              "</table>\n",
              "</div>"
            ],
            "text/plain": [
              "                               Description             Value\n",
              "0                               session_id              8073\n",
              "1                                   Target                 y\n",
              "2                              Target Type            Binary\n",
              "3                            Label Encoded        0: 0, 1: 1\n",
              "4                            Original Data       (32950, 21)\n",
              "5                           Missing Values             False\n",
              "6                         Numeric Features                 9\n",
              "7                     Categorical Features                11\n",
              "8                         Ordinal Features             False\n",
              "9                High Cardinality Features             False\n",
              "10                 High Cardinality Method              None\n",
              "11                   Transformed Train Set       (23064, 66)\n",
              "12                    Transformed Test Set        (9886, 66)\n",
              "13                      Shuffle Train-Test              True\n",
              "14                     Stratify Train-Test             False\n",
              "15                          Fold Generator   StratifiedKFold\n",
              "16                             Fold Number                10\n",
              "17                                CPU Jobs                -1\n",
              "18                                 Use GPU             False\n",
              "19                          Log Experiment             False\n",
              "20                         Experiment Name  clf-default-name\n",
              "21                                     USI              b576\n",
              "22                         Imputation Type            simple\n",
              "23          Iterative Imputation Iteration              None\n",
              "24                         Numeric Imputer              mean\n",
              "25      Iterative Imputation Numeric Model              None\n",
              "26                     Categorical Imputer          constant\n",
              "27  Iterative Imputation Categorical Model              None\n",
              "28           Unknown Categoricals Handling    least_frequent\n",
              "29                               Normalize             False\n",
              "30                        Normalize Method              None\n",
              "31                          Transformation             False\n",
              "32                   Transformation Method              None\n",
              "33                                     PCA             False\n",
              "34                              PCA Method              None\n",
              "35                          PCA Components              None\n",
              "36                     Ignore Low Variance             False\n",
              "37                     Combine Rare Levels             False\n",
              "38                    Rare Level Threshold              None\n",
              "39                         Numeric Binning             False\n",
              "40                         Remove Outliers             False\n",
              "41                      Outliers Threshold              None\n",
              "42                Remove Multicollinearity             False\n",
              "43             Multicollinearity Threshold              None\n",
              "44             Remove Perfect Collinearity              True\n",
              "45                              Clustering             False\n",
              "46                    Clustering Iteration              None\n",
              "47                     Polynomial Features             False\n",
              "48                       Polynomial Degree              None\n",
              "49                    Trignometry Features             False\n",
              "50                    Polynomial Threshold              None\n",
              "51                          Group Features             False\n",
              "52                       Feature Selection             False\n",
              "53                Feature Selection Method           classic\n",
              "54            Features Selection Threshold              None\n",
              "55                     Feature Interaction             False\n",
              "56                           Feature Ratio             False\n",
              "57                   Interaction Threshold              None\n",
              "58                           Fix Imbalance             False\n",
              "59                    Fix Imbalance Method             SMOTE"
            ]
          },
          "metadata": {}
        }
      ]
    },
    {
      "cell_type": "code",
      "metadata": {
        "colab": {
          "base_uri": "https://localhost:8080/",
          "height": 457,
          "referenced_widgets": [
            "3555dfc1ef634a54b67274a1dbbd92f6",
            "2508604ac6534766b142d8a9d86c12d2",
            "f3ad3c2cac724e099170823b2dc49978"
          ]
        },
        "id": "8bJ3Z1dtYbtC",
        "outputId": "c3b434ac-4061-46f0-86bf-19d5eaedb656"
      },
      "source": [
        "#best = compare_models()\n",
        "best = compare_models(sort = 'AUC') #default is 'Accuracy', LO CAMBIO POR AUC QUE ES LA QUE TOMAMOS COMO REFERENCIA"
      ],
      "execution_count": null,
      "outputs": [
        {
          "output_type": "display_data",
          "data": {
            "text/html": [
              "<div>\n",
              "<style scoped>\n",
              "    .dataframe tbody tr th:only-of-type {\n",
              "        vertical-align: middle;\n",
              "    }\n",
              "\n",
              "    .dataframe tbody tr th {\n",
              "        vertical-align: top;\n",
              "    }\n",
              "\n",
              "    .dataframe thead th {\n",
              "        text-align: right;\n",
              "    }\n",
              "</style>\n",
              "<table border=\"1\" class=\"dataframe\">\n",
              "  <thead>\n",
              "    <tr style=\"text-align: right;\">\n",
              "      <th></th>\n",
              "      <th>Model</th>\n",
              "      <th>Accuracy</th>\n",
              "      <th>AUC</th>\n",
              "      <th>Recall</th>\n",
              "      <th>Prec.</th>\n",
              "      <th>F1</th>\n",
              "      <th>Kappa</th>\n",
              "      <th>MCC</th>\n",
              "      <th>TT (Sec)</th>\n",
              "    </tr>\n",
              "  </thead>\n",
              "  <tbody>\n",
              "    <tr>\n",
              "      <th>lightgbm</th>\n",
              "      <td>Light Gradient Boosting Machine</td>\n",
              "      <td>0.9139</td>\n",
              "      <td>0.9468</td>\n",
              "      <td>0.5311</td>\n",
              "      <td>0.6525</td>\n",
              "      <td>0.5849</td>\n",
              "      <td>0.5375</td>\n",
              "      <td>0.5414</td>\n",
              "      <td>0.434</td>\n",
              "    </tr>\n",
              "    <tr>\n",
              "      <th>gbc</th>\n",
              "      <td>Gradient Boosting Classifier</td>\n",
              "      <td>0.9143</td>\n",
              "      <td>0.9439</td>\n",
              "      <td>0.5053</td>\n",
              "      <td>0.6643</td>\n",
              "      <td>0.5736</td>\n",
              "      <td>0.5270</td>\n",
              "      <td>0.5333</td>\n",
              "      <td>3.998</td>\n",
              "    </tr>\n",
              "    <tr>\n",
              "      <th>rf</th>\n",
              "      <td>Random Forest Classifier</td>\n",
              "      <td>0.9101</td>\n",
              "      <td>0.9359</td>\n",
              "      <td>0.4381</td>\n",
              "      <td>0.6612</td>\n",
              "      <td>0.5264</td>\n",
              "      <td>0.4790</td>\n",
              "      <td>0.4918</td>\n",
              "      <td>2.760</td>\n",
              "    </tr>\n",
              "    <tr>\n",
              "      <th>ada</th>\n",
              "      <td>Ada Boost Classifier</td>\n",
              "      <td>0.9080</td>\n",
              "      <td>0.9344</td>\n",
              "      <td>0.4032</td>\n",
              "      <td>0.6597</td>\n",
              "      <td>0.5002</td>\n",
              "      <td>0.4528</td>\n",
              "      <td>0.4696</td>\n",
              "      <td>1.140</td>\n",
              "    </tr>\n",
              "    <tr>\n",
              "      <th>lda</th>\n",
              "      <td>Linear Discriminant Analysis</td>\n",
              "      <td>0.9061</td>\n",
              "      <td>0.9310</td>\n",
              "      <td>0.5019</td>\n",
              "      <td>0.6078</td>\n",
              "      <td>0.5493</td>\n",
              "      <td>0.4975</td>\n",
              "      <td>0.5006</td>\n",
              "      <td>0.345</td>\n",
              "    </tr>\n",
              "    <tr>\n",
              "      <th>lr</th>\n",
              "      <td>Logistic Regression</td>\n",
              "      <td>0.9073</td>\n",
              "      <td>0.9287</td>\n",
              "      <td>0.4096</td>\n",
              "      <td>0.6510</td>\n",
              "      <td>0.5022</td>\n",
              "      <td>0.4541</td>\n",
              "      <td>0.4692</td>\n",
              "      <td>4.001</td>\n",
              "    </tr>\n",
              "    <tr>\n",
              "      <th>et</th>\n",
              "      <td>Extra Trees Classifier</td>\n",
              "      <td>0.8995</td>\n",
              "      <td>0.9109</td>\n",
              "      <td>0.3485</td>\n",
              "      <td>0.6040</td>\n",
              "      <td>0.4418</td>\n",
              "      <td>0.3910</td>\n",
              "      <td>0.4090</td>\n",
              "      <td>3.206</td>\n",
              "    </tr>\n",
              "    <tr>\n",
              "      <th>knn</th>\n",
              "      <td>K Neighbors Classifier</td>\n",
              "      <td>0.9027</td>\n",
              "      <td>0.8637</td>\n",
              "      <td>0.4742</td>\n",
              "      <td>0.5933</td>\n",
              "      <td>0.5265</td>\n",
              "      <td>0.4731</td>\n",
              "      <td>0.4771</td>\n",
              "      <td>1.236</td>\n",
              "    </tr>\n",
              "    <tr>\n",
              "      <th>nb</th>\n",
              "      <td>Naive Bayes</td>\n",
              "      <td>0.8704</td>\n",
              "      <td>0.8320</td>\n",
              "      <td>0.4704</td>\n",
              "      <td>0.4381</td>\n",
              "      <td>0.4532</td>\n",
              "      <td>0.3799</td>\n",
              "      <td>0.3805</td>\n",
              "      <td>0.062</td>\n",
              "    </tr>\n",
              "    <tr>\n",
              "      <th>dt</th>\n",
              "      <td>Decision Tree Classifier</td>\n",
              "      <td>0.8868</td>\n",
              "      <td>0.7253</td>\n",
              "      <td>0.5160</td>\n",
              "      <td>0.5047</td>\n",
              "      <td>0.5100</td>\n",
              "      <td>0.4460</td>\n",
              "      <td>0.4462</td>\n",
              "      <td>0.213</td>\n",
              "    </tr>\n",
              "    <tr>\n",
              "      <th>qda</th>\n",
              "      <td>Quadratic Discriminant Analysis</td>\n",
              "      <td>0.1178</td>\n",
              "      <td>0.4999</td>\n",
              "      <td>0.9951</td>\n",
              "      <td>0.1142</td>\n",
              "      <td>0.2048</td>\n",
              "      <td>-0.0001</td>\n",
              "      <td>-0.0005</td>\n",
              "      <td>0.202</td>\n",
              "    </tr>\n",
              "    <tr>\n",
              "      <th>svm</th>\n",
              "      <td>SVM - Linear Kernel</td>\n",
              "      <td>0.8163</td>\n",
              "      <td>0.0000</td>\n",
              "      <td>0.4124</td>\n",
              "      <td>0.5322</td>\n",
              "      <td>0.3720</td>\n",
              "      <td>0.3117</td>\n",
              "      <td>0.3326</td>\n",
              "      <td>1.786</td>\n",
              "    </tr>\n",
              "    <tr>\n",
              "      <th>ridge</th>\n",
              "      <td>Ridge Classifier</td>\n",
              "      <td>0.9048</td>\n",
              "      <td>0.0000</td>\n",
              "      <td>0.3204</td>\n",
              "      <td>0.6756</td>\n",
              "      <td>0.4338</td>\n",
              "      <td>0.3892</td>\n",
              "      <td>0.4220</td>\n",
              "      <td>0.062</td>\n",
              "    </tr>\n",
              "  </tbody>\n",
              "</table>\n",
              "</div>"
            ],
            "text/plain": [
              "                                    Model  Accuracy     AUC  Recall   Prec.  \\\n",
              "lightgbm  Light Gradient Boosting Machine    0.9139  0.9468  0.5311  0.6525   \n",
              "gbc          Gradient Boosting Classifier    0.9143  0.9439  0.5053  0.6643   \n",
              "rf               Random Forest Classifier    0.9101  0.9359  0.4381  0.6612   \n",
              "ada                  Ada Boost Classifier    0.9080  0.9344  0.4032  0.6597   \n",
              "lda          Linear Discriminant Analysis    0.9061  0.9310  0.5019  0.6078   \n",
              "lr                    Logistic Regression    0.9073  0.9287  0.4096  0.6510   \n",
              "et                 Extra Trees Classifier    0.8995  0.9109  0.3485  0.6040   \n",
              "knn                K Neighbors Classifier    0.9027  0.8637  0.4742  0.5933   \n",
              "nb                            Naive Bayes    0.8704  0.8320  0.4704  0.4381   \n",
              "dt               Decision Tree Classifier    0.8868  0.7253  0.5160  0.5047   \n",
              "qda       Quadratic Discriminant Analysis    0.1178  0.4999  0.9951  0.1142   \n",
              "svm                   SVM - Linear Kernel    0.8163  0.0000  0.4124  0.5322   \n",
              "ridge                    Ridge Classifier    0.9048  0.0000  0.3204  0.6756   \n",
              "\n",
              "              F1   Kappa     MCC  TT (Sec)  \n",
              "lightgbm  0.5849  0.5375  0.5414     0.434  \n",
              "gbc       0.5736  0.5270  0.5333     3.998  \n",
              "rf        0.5264  0.4790  0.4918     2.760  \n",
              "ada       0.5002  0.4528  0.4696     1.140  \n",
              "lda       0.5493  0.4975  0.5006     0.345  \n",
              "lr        0.5022  0.4541  0.4692     4.001  \n",
              "et        0.4418  0.3910  0.4090     3.206  \n",
              "knn       0.5265  0.4731  0.4771     1.236  \n",
              "nb        0.4532  0.3799  0.3805     0.062  \n",
              "dt        0.5100  0.4460  0.4462     0.213  \n",
              "qda       0.2048 -0.0001 -0.0005     0.202  \n",
              "svm       0.3720  0.3117  0.3326     1.786  \n",
              "ridge     0.4338  0.3892  0.4220     0.062  "
            ]
          },
          "metadata": {}
        }
      ]
    },
    {
      "cell_type": "markdown",
      "metadata": {
        "id": "D4AEHKUwYjPO"
      },
      "source": [
        "### Continúo división train, test y validation"
      ]
    },
    {
      "cell_type": "code",
      "metadata": {
        "id": "ztImkemHYoJQ"
      },
      "source": [
        "X = df.drop(columns='y')\n",
        "y = df.y"
      ],
      "execution_count": null,
      "outputs": []
    },
    {
      "cell_type": "code",
      "metadata": {
        "id": "3CiSSI7jYsoe"
      },
      "source": [
        "X_temp, X_test, y_temp, y_test = train_test_split(X, y, test_size=0.2, stratify=y, random_state=42) "
      ],
      "execution_count": null,
      "outputs": []
    },
    {
      "cell_type": "code",
      "metadata": {
        "colab": {
          "base_uri": "https://localhost:8080/"
        },
        "id": "3bVT55M0YvYO",
        "outputId": "428b3f0a-a7b8-498c-b89f-59620f0c483a"
      },
      "source": [
        "X_temp.shape, y_temp.shape, X_test.shape, y_test.shape"
      ],
      "execution_count": null,
      "outputs": [
        {
          "output_type": "execute_result",
          "data": {
            "text/plain": [
              "((32950, 20), (32950,), (8238, 20), (8238,))"
            ]
          },
          "metadata": {},
          "execution_count": 8
        }
      ]
    },
    {
      "cell_type": "code",
      "metadata": {
        "id": "8pPgD6QqYxcT"
      },
      "source": [
        "X_train, X_val, y_train, y_val = train_test_split(X_temp, y_temp, test_size=0.2, stratify=y_temp, random_state=42)"
      ],
      "execution_count": null,
      "outputs": []
    },
    {
      "cell_type": "code",
      "metadata": {
        "colab": {
          "base_uri": "https://localhost:8080/"
        },
        "id": "riAy7IF0Y17I",
        "outputId": "5e2e18ee-15d6-4707-d7c5-8c67fdea988a"
      },
      "source": [
        "X_train.shape, y_train.shape, X_val.shape, y_val.shape"
      ],
      "execution_count": null,
      "outputs": [
        {
          "output_type": "execute_result",
          "data": {
            "text/plain": [
              "((26360, 20), (26360,), (6590, 20), (6590,))"
            ]
          },
          "metadata": {},
          "execution_count": 10
        }
      ]
    },
    {
      "cell_type": "markdown",
      "metadata": {
        "id": "WXm04ExSZpZu"
      },
      "source": [
        "# Pre-procesamiento"
      ]
    },
    {
      "cell_type": "code",
      "metadata": {
        "id": "ry96jrO7Zrna"
      },
      "source": [
        "#Todas las variables del dataset\n",
        "variables_categoricas_original = ['job', 'marital', 'education', 'default', 'housing', 'loan', 'contact', 'month', 'day_of_week', 'poutcome']\n",
        "variables_numericas_original = ['age', 'duration', 'campaign', 'pdays', 'previous','emp.var.rate', 'cons.price.idx', 'cons.conf.idx', 'euribor3m', 'nr.employed']"
      ],
      "execution_count": null,
      "outputs": []
    },
    {
      "cell_type": "code",
      "metadata": {
        "id": "u0bkciXrZ0EO"
      },
      "source": [
        "#Las variables que identificamos como relevantes\n",
        "variables_categoricas = ['job', 'marital', 'education', 'default', 'housing', 'loan', 'contact', 'poutcome']\n",
        "variables_numericas = ['age', 'campaign', 'previous', 'cons.conf.idx', 'euribor3m']"
      ],
      "execution_count": null,
      "outputs": []
    },
    {
      "cell_type": "code",
      "metadata": {
        "id": "uq2mGq_yZ8wm"
      },
      "source": [
        "class SelectColumnsTransformer():\n",
        "    def __init__(self, columns=None):\n",
        "        self.columns = columns\n",
        "\n",
        "    def transform(self, X, **transform_params):\n",
        "        cpy_df = X[self.columns].copy()\n",
        "        return cpy_df\n",
        "\n",
        "    def fit(self, X, y=None, **fit_params):\n",
        "        return self"
      ],
      "execution_count": null,
      "outputs": []
    },
    {
      "cell_type": "code",
      "metadata": {
        "id": "o_SqY0e-aCgt"
      },
      "source": [
        "#Aplicamos las transformaciones previas a los conjuntos de Train y Validation\n",
        "variables_categoricas = ['job', 'marital', 'education', 'default', 'housing', 'loan', 'contact', 'poutcome']\n",
        "variables_numericas = ['age', 'campaign', 'previous', 'cons.conf.idx', 'euribor3m']\n",
        "\n",
        "# Filtramos las variables que seleccionamos\n",
        "X_t = X_train[variables_categoricas + variables_numericas]\n",
        "X_v = X_val[variables_categoricas + variables_numericas]     \n",
        "\n",
        "pipeline_numerico = Pipeline([('select_numeric_columns', SelectColumnsTransformer(variables_numericas)),\n",
        "                             #('standard_scaler', StandardScaler()),\n",
        "                              (\"kbins_discretizer\", KBinsDiscretizer(n_bins=5, encode=\"ordinal\", strategy=\"quantile\"))      #strategy=\"uniform\"\n",
        "                            ])\n",
        "\n",
        "pipeline_categorico = Pipeline ([('select_categoric_columns', SelectColumnsTransformer(variables_categoricas)),\n",
        "                                  ('imputer', SimpleImputer(strategy='most_frequent', missing_values=\"unknown\")),      #podríamos no ponerlo, y que deje \"desconocido\" como una categoría más\n",
        "                                 ('cat', OneHotEncoder())])\n",
        "\n",
        "pipeline_completo = ColumnTransformer([('num', pipeline_numerico, variables_numericas),\n",
        "                                       ('cat', pipeline_categorico, variables_categoricas)\n",
        "                                      ])\n",
        "\n",
        "\n",
        "train = pipeline_completo.fit_transform(X_t)\n",
        "val = pipeline_completo.fit_transform(X_v)"
      ],
      "execution_count": null,
      "outputs": []
    },
    {
      "cell_type": "markdown",
      "metadata": {
        "id": "_v82tE-qaYig"
      },
      "source": [
        "# Métricas"
      ]
    },
    {
      "cell_type": "markdown",
      "metadata": {
        "id": "HQv_X1BWaaSw"
      },
      "source": [
        "Dado el desbalance de casos con que cuenta este dataset, las métricas a tomar en consideración para el análisis son: AUC y F1."
      ]
    },
    {
      "cell_type": "markdown",
      "metadata": {
        "id": "k034U3wuaws4"
      },
      "source": [
        "#Testeo por modelos"
      ]
    },
    {
      "cell_type": "markdown",
      "metadata": {
        "id": "RPC5x8pia8CE"
      },
      "source": [
        "## Decision Tree"
      ]
    },
    {
      "cell_type": "code",
      "metadata": {
        "id": "W4NmvIKqb3G_"
      },
      "source": [
        "variables_categoricas = ['job', 'marital', 'education', 'default', 'housing', 'loan', 'contact', 'poutcome']\n",
        "variables_numericas = ['age', 'campaign', 'previous', 'cons.conf.idx', 'euribor3m']\n",
        "\n",
        "# Filtramos las variables que seleccionamos\n",
        "X_t = X_train[variables_categoricas + variables_numericas]\n",
        "\n",
        "pipeline_numerico = Pipeline([('select_numeric_columns', SelectColumnsTransformer(variables_numericas)),\n",
        "                             #('standard_scaler', StandardScaler()),\n",
        "                             # (\"kbins_discretizer\", KBinsDiscretizer(n_bins=5, encode=\"ordinal\", strategy=\"quantile\"))      #strategy=\"uniform\"\n",
        "                            ])\n",
        "\n",
        "pipeline_categorico = Pipeline ([('select_categoric_columns', SelectColumnsTransformer(variables_categoricas)),\n",
        "                                 ('imputer', SimpleImputer(strategy='most_frequent', missing_values=\"unknown\")),      #podríamos no ponerlo, y que deje \"desconocido\" como una categoría más\n",
        "                                 ('cat', OneHotEncoder())])\n",
        "\n",
        "pipeline_completo = ColumnTransformer([('num', pipeline_numerico, variables_numericas),\n",
        "                                   ('cat', pipeline_categorico, variables_categoricas),\n",
        "                                  ])\n",
        "\n",
        "pipeline_modelo = Pipeline([('preprocess', pipeline_completo),\n",
        "                            ('dt', DecisionTreeClassifier(random_state=0, class_weight=\"balanced\"))])"
      ],
      "execution_count": null,
      "outputs": []
    },
    {
      "cell_type": "code",
      "metadata": {
        "colab": {
          "base_uri": "https://localhost:8080/"
        },
        "id": "13kNKjXdcxNB",
        "outputId": "7aaed30c-803a-4d19-dfb7-46c9b50485ad"
      },
      "source": [
        "pipeline_modelo.fit(X_t, y_train)"
      ],
      "execution_count": null,
      "outputs": [
        {
          "output_type": "execute_result",
          "data": {
            "text/plain": [
              "Pipeline(memory=None,\n",
              "         steps=[('preprocess',\n",
              "                 ColumnTransformer(n_jobs=None, remainder='drop',\n",
              "                                   sparse_threshold=0.3,\n",
              "                                   transformer_weights=None,\n",
              "                                   transformers=[('num',\n",
              "                                                  Pipeline(memory=None,\n",
              "                                                           steps=[('select_numeric_columns',\n",
              "                                                                   <__main__.SelectColumnsTransformer object at 0x7f9546ae2ed0>)],\n",
              "                                                           verbose=False),\n",
              "                                                  ['age', 'campaign',\n",
              "                                                   'previous', 'cons.conf.idx',\n",
              "                                                   'euribor3m']),\n",
              "                                                 ('cat'...\n",
              "                                                   'poutcome'])],\n",
              "                                   verbose=False)),\n",
              "                ('dt',\n",
              "                 DecisionTreeClassifier(ccp_alpha=0.0, class_weight='balanced',\n",
              "                                        criterion='gini', max_depth=None,\n",
              "                                        max_features=None, max_leaf_nodes=None,\n",
              "                                        min_impurity_decrease=0.0,\n",
              "                                        min_impurity_split=None,\n",
              "                                        min_samples_leaf=1, min_samples_split=2,\n",
              "                                        min_weight_fraction_leaf=0.0,\n",
              "                                        presort='deprecated', random_state=0,\n",
              "                                        splitter='best'))],\n",
              "         verbose=False)"
            ]
          },
          "metadata": {},
          "execution_count": 14
        }
      ]
    },
    {
      "cell_type": "code",
      "metadata": {
        "colab": {
          "base_uri": "https://localhost:8080/"
        },
        "id": "w1w7x5Jgc8bC",
        "outputId": "30b50ff2-476b-4886-8a43-0f02cf094aae"
      },
      "source": [
        "cross_validate(pipeline_modelo, X_t, y_train, cv=5, scoring=('precision','recall','f1', 'roc_auc'))"
      ],
      "execution_count": null,
      "outputs": [
        {
          "output_type": "execute_result",
          "data": {
            "text/plain": [
              "{'fit_time': array([0.66887331, 0.66426802, 0.65012574, 0.63357973, 0.64320779]),\n",
              " 'score_time': array([0.05395627, 0.05164504, 0.05172205, 0.04956985, 0.0503974 ]),\n",
              " 'test_f1': array([0.32550607, 0.32682927, 0.32518955, 0.30560272, 0.30016313]),\n",
              " 'test_precision': array([0.31357254, 0.31603774, 0.32546374, 0.30821918, 0.29113924]),\n",
              " 'test_recall': array([0.33838384, 0.33838384, 0.32491582, 0.3030303 , 0.30976431]),\n",
              " 'test_roc_auc': array([0.62267988, 0.62309589, 0.62050083, 0.60900116, 0.60736138])}"
            ]
          },
          "metadata": {},
          "execution_count": 15
        }
      ]
    },
    {
      "cell_type": "markdown",
      "metadata": {
        "id": "630-DHgW2z3x"
      },
      "source": [
        "Análisis de estos resultados sobre el conjunto de validación"
      ]
    },
    {
      "cell_type": "code",
      "metadata": {
        "id": "KKbU5FyoJOkJ"
      },
      "source": [
        "train=pipeline_completo.fit_transform(X_t)"
      ],
      "execution_count": null,
      "outputs": []
    },
    {
      "cell_type": "code",
      "metadata": {
        "colab": {
          "base_uri": "https://localhost:8080/"
        },
        "id": "ByUgiL57Indg",
        "outputId": "d92b0b2a-bafd-4e81-b505-f4199de9f5d0"
      },
      "source": [
        "dt=DecisionTreeClassifier(random_state=0, class_weight=\"balanced\")\n",
        "dt.fit(train, y_train)"
      ],
      "execution_count": null,
      "outputs": [
        {
          "output_type": "execute_result",
          "data": {
            "text/plain": [
              "DecisionTreeClassifier(ccp_alpha=0.0, class_weight='balanced', criterion='gini',\n",
              "                       max_depth=None, max_features=None, max_leaf_nodes=None,\n",
              "                       min_impurity_decrease=0.0, min_impurity_split=None,\n",
              "                       min_samples_leaf=1, min_samples_split=2,\n",
              "                       min_weight_fraction_leaf=0.0, presort='deprecated',\n",
              "                       random_state=0, splitter='best')"
            ]
          },
          "metadata": {},
          "execution_count": 17
        }
      ]
    },
    {
      "cell_type": "code",
      "metadata": {
        "id": "Qy7425qe2zXM"
      },
      "source": [
        "X_v=X_val[variables_categoricas + variables_numericas]\n",
        "val=pipeline_completo.fit_transform(X_v)"
      ],
      "execution_count": null,
      "outputs": []
    },
    {
      "cell_type": "code",
      "metadata": {
        "colab": {
          "base_uri": "https://localhost:8080/"
        },
        "id": "oAFs5_BR3atU",
        "outputId": "fce73cf3-f1e9-41aa-d6ca-33ffd6a6f8ce"
      },
      "source": [
        "y_val_pred=dt.predict(val)\n",
        "print(\"VALIDACIÓN\")\n",
        "print(classification_report(y_val, y_val_pred))"
      ],
      "execution_count": null,
      "outputs": [
        {
          "output_type": "stream",
          "text": [
            "VALIDACIÓN\n",
            "              precision    recall  f1-score   support\n",
            "\n",
            "           0       0.91      0.90      0.91      5848\n",
            "           1       0.28      0.32      0.30       742\n",
            "\n",
            "    accuracy                           0.83      6590\n",
            "   macro avg       0.60      0.61      0.60      6590\n",
            "weighted avg       0.84      0.83      0.84      6590\n",
            "\n"
          ],
          "name": "stdout"
        }
      ]
    },
    {
      "cell_type": "markdown",
      "metadata": {
        "id": "CmsdLTDQazQM"
      },
      "source": [
        "## Logistic Regression"
      ]
    },
    {
      "cell_type": "code",
      "metadata": {
        "id": "EK4giNb9d-tK"
      },
      "source": [
        "variables_categoricas = ['job', 'marital', 'education', 'default', 'housing', 'loan', 'contact', 'poutcome']\n",
        "variables_numericas = ['age', 'campaign', 'previous', 'cons.conf.idx', 'euribor3m']\n",
        "\n",
        "# Filtramos las variables que seleccionamos\n",
        "X_t = X_train[variables_categoricas + variables_numericas]\n",
        "\n",
        "pipeline_numerico = Pipeline([('select_numeric_columns', SelectColumnsTransformer(variables_numericas)),\n",
        "                             ('standard_scaler', StandardScaler()),\n",
        "                             # (\"kbins_discretizer\", KBinsDiscretizer(n_bins=5, encode=\"ordinal\", strategy=\"quantile\"))      #strategy=\"uniform\"\n",
        "                            ])\n",
        "\n",
        "pipeline_categorico = Pipeline ([('select_categoric_columns', SelectColumnsTransformer(variables_categoricas)),\n",
        "                                 # ('imputer', SimpleImputer(strategy='most_frequent', missing_values=\"unknown\")),      #podríamos no ponerlo, y que deje \"desconocido\" como una categoría más\n",
        "                                 ('cat', OneHotEncoder())])\n",
        "\n",
        "pipeline_completo = ColumnTransformer([('num', pipeline_numerico, variables_numericas),\n",
        "                                   ('cat', pipeline_categorico, variables_categoricas),\n",
        "                                  ])\n",
        "\n",
        "pipeline_modelo = Pipeline([('preprocess', pipeline_completo),\n",
        "                            ('lr', LogisticRegression(random_state=0, class_weight=\"balanced\"))])"
      ],
      "execution_count": null,
      "outputs": []
    },
    {
      "cell_type": "code",
      "metadata": {
        "colab": {
          "base_uri": "https://localhost:8080/"
        },
        "id": "ap9C6kpPeekL",
        "outputId": "9da2d77f-c74a-49e4-a448-c8fc7bd696bc"
      },
      "source": [
        "pipeline_modelo"
      ],
      "execution_count": null,
      "outputs": [
        {
          "output_type": "execute_result",
          "data": {
            "text/plain": [
              "Pipeline(memory=None,\n",
              "         steps=[('preprocess',\n",
              "                 ColumnTransformer(n_jobs=None, remainder='drop',\n",
              "                                   sparse_threshold=0.3,\n",
              "                                   transformer_weights=None,\n",
              "                                   transformers=[('num',\n",
              "                                                  Pipeline(memory=None,\n",
              "                                                           steps=[('select_numeric_columns',\n",
              "                                                                   <__main__.SelectColumnsTransformer object at 0x7fd582729610>),\n",
              "                                                                  ('standard_scaler',\n",
              "                                                                   StandardScaler(copy=True,\n",
              "                                                                                  with_mean=True,\n",
              "                                                                                  with_std=True))],\n",
              "                                                           verbo...\n",
              "                                                  ['job', 'marital',\n",
              "                                                   'education', 'default',\n",
              "                                                   'housing', 'loan', 'contact',\n",
              "                                                   'poutcome'])],\n",
              "                                   verbose=False)),\n",
              "                ('lr',\n",
              "                 LogisticRegression(C=1.0, class_weight='balanced', dual=False,\n",
              "                                    fit_intercept=True, intercept_scaling=1,\n",
              "                                    l1_ratio=None, max_iter=100,\n",
              "                                    multi_class='auto', n_jobs=None,\n",
              "                                    penalty='l2', random_state=0,\n",
              "                                    solver='lbfgs', tol=0.0001, verbose=0,\n",
              "                                    warm_start=False))],\n",
              "         verbose=False)"
            ]
          },
          "metadata": {},
          "execution_count": 34
        }
      ]
    },
    {
      "cell_type": "code",
      "metadata": {
        "colab": {
          "base_uri": "https://localhost:8080/"
        },
        "id": "1sNcoru0ekFQ",
        "outputId": "30bad373-47e4-49a0-fa02-d88b6e8d493e"
      },
      "source": [
        "cross_validate(pipeline_modelo, X_t, y_train, cv=5, scoring=('f1', 'roc_auc'))"
      ],
      "execution_count": null,
      "outputs": [
        {
          "output_type": "execute_result",
          "data": {
            "text/plain": [
              "{'fit_time': array([0.53868079, 0.75247121, 0.78675079, 0.81195235, 0.79544616]),\n",
              " 'score_time': array([0.06840634, 0.08396602, 0.08711243, 0.0852983 , 0.08784676]),\n",
              " 'test_f1': array([0.38568019, 0.38275699, 0.37743006, 0.38307985, 0.3780037 ]),\n",
              " 'test_roc_auc': array([0.77777022, 0.77820927, 0.76186962, 0.77274185, 0.76329329])}"
            ]
          },
          "metadata": {},
          "execution_count": 35
        }
      ]
    },
    {
      "cell_type": "markdown",
      "metadata": {
        "id": "NVDER0X6a3V_"
      },
      "source": [
        "## SVM"
      ]
    },
    {
      "cell_type": "code",
      "metadata": {
        "id": "xPBy-OLXevJU"
      },
      "source": [
        "variables_categoricas = ['job', 'marital', 'education', 'default', 'housing', 'loan', 'contact', 'poutcome']\n",
        "variables_numericas = ['age', 'campaign', 'previous', 'cons.conf.idx', 'euribor3m']\n",
        "\n",
        "# Filtramos las variables que seleccionamos\n",
        "X_t = X_train[variables_categoricas + variables_numericas]\n",
        "\n",
        "pipeline_numerico = Pipeline([('select_numeric_columns', SelectColumnsTransformer(variables_numericas)),\n",
        "                             # ('standard_scaler', StandardScaler()),\n",
        "                             # (\"kbins_discretizer\", KBinsDiscretizer(n_bins=5, encode=\"ordinal\", strategy=\"quantile\"))      #strategy=\"uniform\"\n",
        "                            ])\n",
        "\n",
        "pipeline_categorico = Pipeline ([('select_categoric_columns', SelectColumnsTransformer(variables_categoricas)),\n",
        "                                 # ('imputer', SimpleImputer(strategy='most_frequent', missing_values=\"unknown\")),      #podríamos no ponerlo, y que deje \"desconocido\" como una categoría más\n",
        "                                 ('cat', OneHotEncoder())])\n",
        "\n",
        "pipeline_completo = ColumnTransformer([('num', pipeline_numerico, variables_numericas),\n",
        "                                   ('cat', pipeline_categorico, variables_categoricas),\n",
        "                                  ])\n",
        "\n",
        "pipeline_modelo = Pipeline([('preprocess', pipeline_completo),\n",
        "                            ('svm', SVC(random_state=0, class_weight=\"balanced\"))])"
      ],
      "execution_count": null,
      "outputs": []
    },
    {
      "cell_type": "code",
      "metadata": {
        "colab": {
          "base_uri": "https://localhost:8080/"
        },
        "id": "mOVOXj_-fTkj",
        "outputId": "b8399b75-d606-4aeb-aace-a5b0b747d69c"
      },
      "source": [
        "pipeline_modelo"
      ],
      "execution_count": null,
      "outputs": [
        {
          "output_type": "execute_result",
          "data": {
            "text/plain": [
              "Pipeline(memory=None,\n",
              "         steps=[('preprocess',\n",
              "                 ColumnTransformer(n_jobs=None, remainder='drop',\n",
              "                                   sparse_threshold=0.3,\n",
              "                                   transformer_weights=None,\n",
              "                                   transformers=[('num',\n",
              "                                                  Pipeline(memory=None,\n",
              "                                                           steps=[('select_numeric_columns',\n",
              "                                                                   <__main__.SelectColumnsTransformer object at 0x7fd58267b9d0>)],\n",
              "                                                           verbose=False),\n",
              "                                                  ['age', 'campaign',\n",
              "                                                   'previous', 'cons.conf.idx',\n",
              "                                                   'euribor3m']),\n",
              "                                                 ('cat'...\n",
              "                                                           verbose=False),\n",
              "                                                  ['job', 'marital',\n",
              "                                                   'education', 'default',\n",
              "                                                   'housing', 'loan', 'contact',\n",
              "                                                   'poutcome'])],\n",
              "                                   verbose=False)),\n",
              "                ('svm',\n",
              "                 SVC(C=1.0, break_ties=False, cache_size=200,\n",
              "                     class_weight='balanced', coef0=0.0,\n",
              "                     decision_function_shape='ovr', degree=3, gamma='scale',\n",
              "                     kernel='rbf', max_iter=-1, probability=False,\n",
              "                     random_state=0, shrinking=True, tol=0.001,\n",
              "                     verbose=False))],\n",
              "         verbose=False)"
            ]
          },
          "metadata": {},
          "execution_count": 37
        }
      ]
    },
    {
      "cell_type": "code",
      "metadata": {
        "colab": {
          "base_uri": "https://localhost:8080/"
        },
        "id": "aMiG5jDlfTZk",
        "outputId": "13960854-7d73-4deb-a433-7c7afea855e4"
      },
      "source": [
        "cross_validate(pipeline_modelo, X_t, y_train, cv=5, scoring=('f1', 'roc_auc'))"
      ],
      "execution_count": null,
      "outputs": [
        {
          "output_type": "execute_result",
          "data": {
            "text/plain": [
              "{'fit_time': array([60.6817162 , 55.7583847 , 54.49913716, 58.66039801, 56.12915897]),\n",
              " 'score_time': array([12.16631556, 11.8804481 , 11.91367435, 11.80435562, 11.78719926]),\n",
              " 'test_f1': array([0.36551724, 0.36698033, 0.35686103, 0.36570429, 0.35428089]),\n",
              " 'test_roc_auc': array([0.77124098, 0.76489672, 0.75543143, 0.75780878, 0.74833935])}"
            ]
          },
          "metadata": {},
          "execution_count": 38
        }
      ]
    },
    {
      "cell_type": "markdown",
      "metadata": {
        "id": "LY3O4Z_Ya6Hz"
      },
      "source": [
        "## Naive Bayes"
      ]
    },
    {
      "cell_type": "code",
      "metadata": {
        "id": "x2L8Cj4zfu9x"
      },
      "source": [
        "variables_categoricas = ['job', 'marital', 'education', 'default', 'housing', 'loan', 'contact', 'poutcome']\n",
        "variables_numericas = ['age', 'campaign', 'previous', 'cons.conf.idx', 'euribor3m']\n",
        "\n",
        "# Filtramos las variables que seleccionamos\n",
        "X_t = X_train[variables_categoricas + variables_numericas]\n",
        "X_v = X_val[variables_categoricas + variables_numericas]\n",
        "\n",
        "pipeline_numerico = Pipeline([('select_numeric_columns', SelectColumnsTransformer(variables_numericas)),\n",
        "                             # ('standard_scaler', StandardScaler()),\n",
        "                             (\"kbins_discretizer\", KBinsDiscretizer(n_bins=4, encode=\"ordinal\", strategy=\"uniform\")),   #strategy=\"uniform\"\n",
        "                             ('bins_cat', OneHotEncoder())\n",
        "                            ])\n",
        "\n",
        "pipeline_categorico = Pipeline ([('select_categoric_columns', SelectColumnsTransformer(variables_categoricas)),\n",
        "                                 ('imputer', SimpleImputer(strategy='most_frequent', missing_values=\"unknown\")),      #podríamos no ponerlo, y que deje \"desconocido\" como una categoría más\n",
        "                                 ('cat', OneHotEncoder())\n",
        "                                 ])\n",
        "\n",
        "pipeline_completo = ColumnTransformer([('num', pipeline_numerico, variables_numericas),\n",
        "                                   ('cat', pipeline_categorico, variables_categoricas),\n",
        "                                  ])\n",
        "\n",
        "pipeline_modelo = Pipeline([('preprocess', pipeline_completo),\n",
        "                            ('nb', ComplementNB())])\n",
        "\n",
        "#The Complement Naive Bayes classifier was designed to correct the “severe assumptions” made by the standard Multinomial Naive Bayes classifier. It is particularly suited for imbalanced data sets.\n",
        "#En el pre-procesamiento transformé todos los atributos en categóricos, porque es el requerimiento del tipo de modelo"
      ],
      "execution_count": null,
      "outputs": []
    },
    {
      "cell_type": "code",
      "metadata": {
        "id": "vUwDaC1gfw-Z"
      },
      "source": [
        "pipeline_modelo"
      ],
      "execution_count": null,
      "outputs": []
    },
    {
      "cell_type": "code",
      "metadata": {
        "colab": {
          "base_uri": "https://localhost:8080/"
        },
        "id": "b44su-Wgfw2r",
        "outputId": "b0b3ff12-175a-4ed2-8571-06bea6b34393"
      },
      "source": [
        "#Cross validation con toda la estimación sobre X_train\n",
        "cross_validate(pipeline_modelo, X_t, y_train, cv=5, scoring=('f1', 'roc_auc'))"
      ],
      "execution_count": null,
      "outputs": [
        {
          "output_type": "execute_result",
          "data": {
            "text/plain": [
              "{'fit_time': array([0.55301046, 0.55523276, 0.54159117, 0.55705428, 0.54250813]),\n",
              " 'score_time': array([0.05808043, 0.05570722, 0.05618405, 0.05498481, 0.0617044 ]),\n",
              " 'test_f1': array([0.36495032, 0.37488948, 0.35423341, 0.36487716, 0.35874835]),\n",
              " 'test_roc_auc': array([0.76568611, 0.77107742, 0.7508099 , 0.76077488, 0.75201567])}"
            ]
          },
          "metadata": {},
          "execution_count": 13
        }
      ]
    },
    {
      "cell_type": "code",
      "metadata": {
        "id": "Tusr6z4cXbmw"
      },
      "source": [
        "#Pre-procesamiento\n",
        "train = pipeline_completo.fit_transform(X_t)\n",
        "val = pipeline_completo.transform(X_v)"
      ],
      "execution_count": null,
      "outputs": []
    },
    {
      "cell_type": "code",
      "metadata": {
        "colab": {
          "base_uri": "https://localhost:8080/"
        },
        "id": "k8wyERDtXpGj",
        "outputId": "13bf9177-6257-4497-819c-0d603c503744"
      },
      "source": [
        "nb=ComplementNB()\n",
        "nb.fit(train, y_train)"
      ],
      "execution_count": null,
      "outputs": [
        {
          "output_type": "execute_result",
          "data": {
            "text/plain": [
              "ComplementNB(alpha=1.0, class_prior=None, fit_prior=True, norm=False)"
            ]
          },
          "metadata": {},
          "execution_count": 17
        }
      ]
    },
    {
      "cell_type": "code",
      "metadata": {
        "colab": {
          "base_uri": "https://localhost:8080/"
        },
        "id": "QeSv1ZzPYOPW",
        "outputId": "e40bba10-fdb4-4497-b62d-362bb90b24ae"
      },
      "source": [
        "print(\"MÉTRICAS CONJUNTO DE TRAIN\")\n",
        "print(classification_report(y_train, nb.predict(train)))\n",
        "print(\"MÉTRICAS CONJUNTO DE VALIDACIÓN\")\n",
        "print(classification_report(y_val, nb.predict(val)))"
      ],
      "execution_count": null,
      "outputs": [
        {
          "output_type": "stream",
          "name": "stdout",
          "text": [
            "MÉTRICAS CONJUNTO DE TRAIN\n",
            "              precision    recall  f1-score   support\n",
            "\n",
            "           0       0.95      0.74      0.83     23390\n",
            "           1       0.25      0.68      0.36      2970\n",
            "\n",
            "    accuracy                           0.73     26360\n",
            "   macro avg       0.60      0.71      0.60     26360\n",
            "weighted avg       0.87      0.73      0.78     26360\n",
            "\n",
            "MÉTRICAS CONJUNTO DE VALIDACIÓN\n",
            "              precision    recall  f1-score   support\n",
            "\n",
            "           0       0.95      0.73      0.83      5848\n",
            "           1       0.24      0.68      0.36       742\n",
            "\n",
            "    accuracy                           0.73      6590\n",
            "   macro avg       0.60      0.71      0.59      6590\n",
            "weighted avg       0.87      0.73      0.77      6590\n",
            "\n"
          ]
        }
      ]
    },
    {
      "cell_type": "code",
      "metadata": {
        "id": "KTRoicEBystp"
      },
      "source": [
        "#Optimización de hiperparámetros\n",
        "#Grilla de parámetros\n",
        "params={'alpha':[1, 0.5, 0.3, 0.1, 1.2, 1.5],\n",
        "        'fit_prior':[True, False],\n",
        "        'norm':[True,False]\n",
        "       }\n",
        "\n",
        "nb=ComplementNB()"
      ],
      "execution_count": null,
      "outputs": []
    },
    {
      "cell_type": "code",
      "metadata": {
        "colab": {
          "base_uri": "https://localhost:8080/"
        },
        "id": "UHgG1hLfe5sb",
        "outputId": "45dc77a7-42d4-4760-c8e0-3911d9ab557b"
      },
      "source": [
        "#Búsqueda de parámetros\n",
        "cv_nb = GridSearchCV(nb, params, scoring='f1', cv=5,refit=True,n_jobs=-1)     \n",
        "cv_nb.fit(train, y_train)"
      ],
      "execution_count": null,
      "outputs": [
        {
          "output_type": "execute_result",
          "data": {
            "text/plain": [
              "GridSearchCV(cv=5, error_score=nan,\n",
              "             estimator=ComplementNB(alpha=1.0, class_prior=None, fit_prior=True,\n",
              "                                    norm=False),\n",
              "             iid='deprecated', n_jobs=-1,\n",
              "             param_grid={'alpha': [1, 0.5, 0.3, 0.1, 1.2, 1.5],\n",
              "                         'fit_prior': [True, False], 'norm': [True, False]},\n",
              "             pre_dispatch='2*n_jobs', refit=True, return_train_score=False,\n",
              "             scoring='f1', verbose=0)"
            ]
          },
          "metadata": {},
          "execution_count": 36
        }
      ]
    },
    {
      "cell_type": "code",
      "metadata": {
        "colab": {
          "base_uri": "https://localhost:8080/"
        },
        "id": "-x9UAenTfIK_",
        "outputId": "6a658b44-f653-4903-ae56-0afceb334bac"
      },
      "source": [
        "cv_nb.best_params_"
      ],
      "execution_count": null,
      "outputs": [
        {
          "output_type": "execute_result",
          "data": {
            "text/plain": [
              "{'alpha': 0.3, 'fit_prior': True, 'norm': True}"
            ]
          },
          "metadata": {},
          "execution_count": 37
        }
      ]
    },
    {
      "cell_type": "code",
      "metadata": {
        "colab": {
          "base_uri": "https://localhost:8080/"
        },
        "id": "6fhDUfgkfLmw",
        "outputId": "1d50ea84-8338-441f-bb3f-373592735346"
      },
      "source": [
        "#Entrenamiento de la mejor versión encontrada del modelo\n",
        "nb_best = ComplementNB(alpha=0.3, fit_prior=True, norm=True)\n",
        "nb_best.fit(train, y_train)"
      ],
      "execution_count": null,
      "outputs": [
        {
          "output_type": "execute_result",
          "data": {
            "text/plain": [
              "ComplementNB(alpha=0.3, class_prior=None, fit_prior=True, norm=True)"
            ]
          },
          "metadata": {},
          "execution_count": 38
        }
      ]
    },
    {
      "cell_type": "code",
      "metadata": {
        "colab": {
          "base_uri": "https://localhost:8080/"
        },
        "id": "GKAizGsEfWPY",
        "outputId": "8a8a9d9b-68dc-4e0f-b540-de151225c6f9"
      },
      "source": [
        "print(\"MÉTRICAS CONJUNTO DE TRAIN\")\n",
        "print(classification_report(y_train, nb_best.predict(train)))\n",
        "print(\"MÉTRICAS CONJUNTO DE VALIDACIÓN\")\n",
        "print(classification_report(y_val, nb_best.predict(val)))"
      ],
      "execution_count": null,
      "outputs": [
        {
          "output_type": "stream",
          "name": "stdout",
          "text": [
            "MÉTRICAS CONJUNTO DE TRAIN\n",
            "              precision    recall  f1-score   support\n",
            "\n",
            "           0       0.93      0.91      0.92     23390\n",
            "           1       0.38      0.43      0.40      2970\n",
            "\n",
            "    accuracy                           0.86     26360\n",
            "   macro avg       0.65      0.67      0.66     26360\n",
            "weighted avg       0.86      0.86      0.86     26360\n",
            "\n",
            "MÉTRICAS CONJUNTO DE VALIDACIÓN\n",
            "              precision    recall  f1-score   support\n",
            "\n",
            "           0       0.92      0.91      0.92      5848\n",
            "           1       0.37      0.41      0.39       742\n",
            "\n",
            "    accuracy                           0.85      6590\n",
            "   macro avg       0.65      0.66      0.65      6590\n",
            "weighted avg       0.86      0.85      0.86      6590\n",
            "\n"
          ]
        }
      ]
    },
    {
      "cell_type": "markdown",
      "metadata": {
        "id": "7IY52q1QbPfl"
      },
      "source": [
        "## Random Forest"
      ]
    },
    {
      "cell_type": "code",
      "metadata": {
        "id": "H1w20e0Dgafp"
      },
      "source": [
        "variables_categoricas = ['job', 'marital', 'education', 'default', 'housing', 'loan', 'contact', 'poutcome']\n",
        "variables_numericas = ['age', 'campaign', 'previous', 'cons.conf.idx', 'euribor3m']\n",
        "\n",
        "# Filtramos las variables que seleccionamos\n",
        "X_t = X_train[variables_categoricas + variables_numericas]\n",
        "\n",
        "pipeline_numerico = Pipeline([('select_numeric_columns', SelectColumnsTransformer(variables_numericas)),\n",
        "                             # ('standard_scaler', StandardScaler()),\n",
        "                             # (\"kbins_discretizer\", KBinsDiscretizer(n_bins=5, encode=\"ordinal\", strategy=\"quantile\"))      #strategy=\"uniform\"\n",
        "                            ])\n",
        "\n",
        "pipeline_categorico = Pipeline ([('select_categoric_columns', SelectColumnsTransformer(variables_categoricas)),\n",
        "                                 # ('imputer', SimpleImputer(strategy='most_frequent', missing_values=\"unknown\")),      #podríamos no ponerlo, y que deje \"desconocido\" como una categoría más\n",
        "                                 ('cat', OneHotEncoder())])\n",
        "\n",
        "pipeline_completo = ColumnTransformer([('num', pipeline_numerico, variables_numericas),\n",
        "                                   ('cat', pipeline_categorico, variables_categoricas),\n",
        "                                  ])\n",
        "\n",
        "pipeline_modelo = Pipeline([('preprocess', pipeline_completo),\n",
        "                            ('rf', RandomForestClassifier(random_state=0, class_weight=\"balanced\"))])"
      ],
      "execution_count": null,
      "outputs": []
    },
    {
      "cell_type": "code",
      "metadata": {
        "colab": {
          "base_uri": "https://localhost:8080/"
        },
        "id": "GT2AykV_gg92",
        "outputId": "3fc817fe-1bdb-4413-b199-614b1c2e7be6"
      },
      "source": [
        "pipeline_modelo"
      ],
      "execution_count": null,
      "outputs": [
        {
          "output_type": "execute_result",
          "data": {
            "text/plain": [
              "Pipeline(memory=None,\n",
              "         steps=[('preprocess',\n",
              "                 ColumnTransformer(n_jobs=None, remainder='drop',\n",
              "                                   sparse_threshold=0.3,\n",
              "                                   transformer_weights=None,\n",
              "                                   transformers=[('num',\n",
              "                                                  Pipeline(memory=None,\n",
              "                                                           steps=[('select_numeric_columns',\n",
              "                                                                   <__main__.SelectColumnsTransformer object at 0x7fd581d16b90>)],\n",
              "                                                           verbose=False),\n",
              "                                                  ['age', 'campaign',\n",
              "                                                   'previous', 'cons.conf.idx',\n",
              "                                                   'euribor3m']),\n",
              "                                                 ('cat'...\n",
              "                 RandomForestClassifier(bootstrap=True, ccp_alpha=0.0,\n",
              "                                        class_weight='balanced',\n",
              "                                        criterion='gini', max_depth=None,\n",
              "                                        max_features='auto',\n",
              "                                        max_leaf_nodes=None, max_samples=None,\n",
              "                                        min_impurity_decrease=0.0,\n",
              "                                        min_impurity_split=None,\n",
              "                                        min_samples_leaf=1, min_samples_split=2,\n",
              "                                        min_weight_fraction_leaf=0.0,\n",
              "                                        n_estimators=100, n_jobs=None,\n",
              "                                        oob_score=False, random_state=0,\n",
              "                                        verbose=0, warm_start=False))],\n",
              "         verbose=False)"
            ]
          },
          "metadata": {},
          "execution_count": 43
        }
      ]
    },
    {
      "cell_type": "code",
      "metadata": {
        "colab": {
          "base_uri": "https://localhost:8080/"
        },
        "id": "jQJWTuB7gg1W",
        "outputId": "f4696bd5-a45a-4df6-ce53-984928decef5"
      },
      "source": [
        "cross_validate(pipeline_modelo, X_t, y_train, cv=5, scoring=('f1', 'roc_auc'))"
      ],
      "execution_count": null,
      "outputs": [
        {
          "output_type": "execute_result",
          "data": {
            "text/plain": [
              "{'fit_time': array([2.65647292, 2.51803756, 2.39808679, 2.47354674, 2.47565603]),\n",
              " 'score_time': array([0.35200453, 0.33567739, 0.3027122 , 0.30561471, 0.37091136]),\n",
              " 'test_f1': array([0.32018561, 0.32821724, 0.31153389, 0.32328106, 0.35111111]),\n",
              " 'test_roc_auc': array([0.76488503, 0.76032845, 0.75850802, 0.76109193, 0.75566086])}"
            ]
          },
          "metadata": {},
          "execution_count": 44
        }
      ]
    },
    {
      "cell_type": "markdown",
      "metadata": {
        "id": "s_NzdftPbSMS"
      },
      "source": [
        "## KNN"
      ]
    },
    {
      "cell_type": "code",
      "metadata": {
        "id": "jFbPR-MshMZG"
      },
      "source": [
        "variables_categoricas = ['job', 'marital', 'education', 'default', 'housing', 'loan', 'contact', 'poutcome']\n",
        "variables_numericas = ['age', 'campaign', 'previous', 'cons.conf.idx', 'euribor3m']\n",
        "\n",
        "# Filtramos las variables que seleccionamos\n",
        "X_t = X_train[variables_categoricas + variables_numericas]\n",
        "\n",
        "pipeline_numerico = Pipeline([('select_numeric_columns', SelectColumnsTransformer(variables_numericas)),\n",
        "                             ('standard_scaler', StandardScaler()),\n",
        "                             # (\"kbins_discretizer\", KBinsDiscretizer(n_bins=5, encode=\"ordinal\", strategy=\"quantile\"))      #strategy=\"uniform\"\n",
        "                            ])\n",
        "\n",
        "pipeline_categorico = Pipeline ([('select_categoric_columns', SelectColumnsTransformer(variables_categoricas)),\n",
        "                                 # ('imputer', SimpleImputer(strategy='most_frequent', missing_values=\"unknown\")),      #podríamos no ponerlo, y que deje \"desconocido\" como una categoría más\n",
        "                                 ('cat', OneHotEncoder())])\n",
        "\n",
        "pipeline_completo = ColumnTransformer([('num', pipeline_numerico, variables_numericas),\n",
        "                                   ('cat', pipeline_categorico, variables_categoricas),\n",
        "                                  ])\n",
        "\n",
        "pipeline_modelo = Pipeline([('preprocess', pipeline_completo),\n",
        "                            ('knn', KNeighborsClassifier())])"
      ],
      "execution_count": null,
      "outputs": []
    },
    {
      "cell_type": "code",
      "metadata": {
        "colab": {
          "base_uri": "https://localhost:8080/"
        },
        "id": "3w8teqfWhgwx",
        "outputId": "1a5a1eef-4cca-46fe-d672-816cc0e1d45d"
      },
      "source": [
        "pipeline_modelo"
      ],
      "execution_count": null,
      "outputs": [
        {
          "output_type": "execute_result",
          "data": {
            "text/plain": [
              "Pipeline(memory=None,\n",
              "         steps=[('preprocess',\n",
              "                 ColumnTransformer(n_jobs=None, remainder='drop',\n",
              "                                   sparse_threshold=0.3,\n",
              "                                   transformer_weights=None,\n",
              "                                   transformers=[('num',\n",
              "                                                  Pipeline(memory=None,\n",
              "                                                           steps=[('select_numeric_columns',\n",
              "                                                                   <__main__.SelectColumnsTransformer object at 0x7fd581cd4c50>),\n",
              "                                                                  ('standard_scaler',\n",
              "                                                                   StandardScaler(copy=True,\n",
              "                                                                                  with_mean=True,\n",
              "                                                                                  with_std=True))],\n",
              "                                                           verbo...\n",
              "                                                                   OneHotEncoder(categories='auto',\n",
              "                                                                                 drop=None,\n",
              "                                                                                 dtype=<class 'numpy.float64'>,\n",
              "                                                                                 handle_unknown='error',\n",
              "                                                                                 sparse=True))],\n",
              "                                                           verbose=False),\n",
              "                                                  ['job', 'marital',\n",
              "                                                   'education', 'default',\n",
              "                                                   'housing', 'loan', 'contact',\n",
              "                                                   'poutcome'])],\n",
              "                                   verbose=False)),\n",
              "                ('knn',\n",
              "                 KNeighborsClassifier(algorithm='auto', leaf_size=30,\n",
              "                                      metric='minkowski', metric_params=None,\n",
              "                                      n_jobs=None, n_neighbors=5, p=2,\n",
              "                                      weights='uniform'))],\n",
              "         verbose=False)"
            ]
          },
          "metadata": {},
          "execution_count": 49
        }
      ]
    },
    {
      "cell_type": "code",
      "metadata": {
        "colab": {
          "base_uri": "https://localhost:8080/"
        },
        "id": "Sowq0JZ9hM8U",
        "outputId": "e3af3a06-9143-4b65-a9ea-8ffd58fb74a9"
      },
      "source": [
        "cross_validate(pipeline_modelo, X_t, y_train, cv=5, scoring=('f1', 'roc_auc'))"
      ],
      "execution_count": null,
      "outputs": [
        {
          "output_type": "execute_result",
          "data": {
            "text/plain": [
              "{'fit_time': array([0.36779571, 0.36578655, 0.33474255, 0.37986541, 0.38184404]),\n",
              " 'score_time': array([ 9.78636217,  8.91680884,  9.06589484, 10.27293444,  9.09081459]),\n",
              " 'test_f1': array([0.31336406, 0.33179724, 0.32590856, 0.3087886 , 0.35386338]),\n",
              " 'test_roc_auc': array([0.70310739, 0.70060157, 0.69511615, 0.70793873, 0.71124455])}"
            ]
          },
          "metadata": {},
          "execution_count": 50
        }
      ]
    },
    {
      "cell_type": "markdown",
      "metadata": {
        "id": "qXPKooGubWmt"
      },
      "source": [
        "## Modelos Tree Based"
      ]
    },
    {
      "cell_type": "markdown",
      "metadata": {
        "id": "MhdfrtgbbZgl"
      },
      "source": [
        "### XGBOOST"
      ]
    },
    {
      "cell_type": "code",
      "metadata": {
        "id": "iBCV5nvGxooE"
      },
      "source": [
        "import xgboost as xgb"
      ],
      "execution_count": null,
      "outputs": []
    },
    {
      "cell_type": "code",
      "metadata": {
        "id": "U0ZF4Bk9h33n"
      },
      "source": [
        "variables_categoricas = ['job', 'marital', 'education', 'default', 'housing', 'loan', 'contact', 'poutcome']\n",
        "variables_numericas = ['age', 'campaign', 'previous', 'cons.conf.idx', 'euribor3m']\n",
        "\n",
        "# Filtramos las variables que seleccionamos\n",
        "X_t = X_train[variables_categoricas + variables_numericas]\n",
        "\n",
        "pipeline_numerico = Pipeline([('select_numeric_columns', SelectColumnsTransformer(variables_numericas)),\n",
        "                             # ('standard_scaler', StandardScaler()),\n",
        "                             # (\"kbins_discretizer\", KBinsDiscretizer(n_bins=5, encode=\"ordinal\", strategy=\"quantile\"))      #strategy=\"uniform\"\n",
        "                            ])\n",
        "\n",
        "pipeline_categorico = Pipeline ([('select_categoric_columns', SelectColumnsTransformer(variables_categoricas)),\n",
        "                                 # ('imputer', SimpleImputer(strategy='most_frequent', missing_values=\"unknown\")),      #podríamos no ponerlo, y que deje \"desconocido\" como una categoría más\n",
        "                                 ('cat', OneHotEncoder())])\n",
        "\n",
        "pipeline_completo = ColumnTransformer([('num', pipeline_numerico, variables_numericas),\n",
        "                                   ('cat', pipeline_categorico, variables_categoricas),\n",
        "                                  ])\n",
        "\n",
        "pipeline_modelo = Pipeline([('preprocess', pipeline_completo),\n",
        "                            ('xgb', xgb.XGBClassifier(seed=0))])"
      ],
      "execution_count": null,
      "outputs": []
    },
    {
      "cell_type": "code",
      "metadata": {
        "colab": {
          "base_uri": "https://localhost:8080/"
        },
        "id": "PRx5rJ8FiCTF",
        "outputId": "c4fd9491-4e09-4511-d2c7-3d0fad69f09e"
      },
      "source": [
        "pipeline_modelo.fit(X_t, y_train)"
      ],
      "execution_count": null,
      "outputs": [
        {
          "output_type": "execute_result",
          "data": {
            "text/plain": [
              "Pipeline(memory=None,\n",
              "         steps=[('preprocess',\n",
              "                 ColumnTransformer(n_jobs=None, remainder='drop',\n",
              "                                   sparse_threshold=0.3,\n",
              "                                   transformer_weights=None,\n",
              "                                   transformers=[('num',\n",
              "                                                  Pipeline(memory=None,\n",
              "                                                           steps=[('select_numeric_columns',\n",
              "                                                                   <__main__.SelectColumnsTransformer object at 0x7f2164aad250>)],\n",
              "                                                           verbose=False),\n",
              "                                                  ['age', 'campaign',\n",
              "                                                   'previous', 'cons.conf.idx',\n",
              "                                                   'euribor3m']),\n",
              "                                                 ('cat'...\n",
              "                 XGBClassifier(base_score=0.5, booster='gbtree',\n",
              "                               colsample_bylevel=1, colsample_bynode=1,\n",
              "                               colsample_bytree=1, gamma=0, learning_rate=0.1,\n",
              "                               max_delta_step=0, max_depth=3,\n",
              "                               min_child_weight=1, missing=None,\n",
              "                               n_estimators=100, n_jobs=1, nthread=None,\n",
              "                               objective='binary:logistic', random_state=0,\n",
              "                               reg_alpha=0, reg_lambda=1, scale_pos_weight=1,\n",
              "                               seed=0, silent=None, subsample=1,\n",
              "                               verbosity=1))],\n",
              "         verbose=False)"
            ]
          },
          "metadata": {},
          "execution_count": 52
        }
      ]
    },
    {
      "cell_type": "code",
      "metadata": {
        "colab": {
          "base_uri": "https://localhost:8080/"
        },
        "id": "HM-DFml8ld_T",
        "outputId": "7a24523b-a749-4853-a06f-1af16f03bd58"
      },
      "source": [
        "cross_validate(pipeline_modelo, X_t, y_train, cv=5, scoring=('f1', 'roc_auc'))"
      ],
      "execution_count": null,
      "outputs": [
        {
          "output_type": "execute_result",
          "data": {
            "text/plain": [
              "{'fit_time': array([2.4715898 , 2.42720032, 2.41386509, 2.43215537, 2.42058063]),\n",
              " 'score_time': array([0.08356142, 0.08234549, 0.08738708, 0.08313775, 0.07965589]),\n",
              " 'test_f1': array([0.27576975, 0.30406291, 0.29842932, 0.30440587, 0.32459426]),\n",
              " 'test_roc_auc': array([0.80054878, 0.79947077, 0.78987088, 0.79740112, 0.78659637])}"
            ]
          },
          "metadata": {},
          "execution_count": 53
        }
      ]
    },
    {
      "cell_type": "code",
      "metadata": {
        "colab": {
          "base_uri": "https://localhost:8080/"
        },
        "id": "X9-EMQu7lh3K",
        "outputId": "a7e9f22f-b718-4437-abc4-d98b860061ea"
      },
      "source": [
        "pipeline_modelo[1].feature_importances_    #No se entiende este "
      ],
      "execution_count": null,
      "outputs": [
        {
          "output_type": "execute_result",
          "data": {
            "text/plain": [
              "array([0.02405806, 0.01746204, 0.0136159 , 0.07061283, 0.22140473,\n",
              "       0.0020534 , 0.03583425, 0.0099582 , 0.        , 0.        ,\n",
              "       0.02186744, 0.        , 0.01123115, 0.        , 0.01450737,\n",
              "       0.0167304 , 0.01276967, 0.00734479, 0.        , 0.01511674,\n",
              "       0.0107288 , 0.01147832, 0.00606717, 0.01080613, 0.01855494,\n",
              "       0.        , 0.0118583 , 0.01032898, 0.01180607, 0.04529954,\n",
              "       0.        , 0.        , 0.01107221, 0.01004251, 0.01168574,\n",
              "       0.01074075, 0.        , 0.00692597, 0.04348093, 0.        ,\n",
              "       0.03862974, 0.        , 0.235927  ], dtype=float32)"
            ]
          },
          "metadata": {},
          "execution_count": 61
        }
      ]
    },
    {
      "cell_type": "code",
      "metadata": {
        "id": "T8jk5Rxntf0F"
      },
      "source": [
        "#Solo Pre-procesamiento\n",
        "train = pipeline_completo.fit_transform(X_t)\n",
        "val = pipeline_completo.transform(X_v)"
      ],
      "execution_count": null,
      "outputs": []
    },
    {
      "cell_type": "code",
      "metadata": {
        "colab": {
          "base_uri": "https://localhost:8080/"
        },
        "id": "IoX4R6tRtksM",
        "outputId": "2aff9ecc-7005-4f2f-afe9-3318f953abc1"
      },
      "source": [
        "xgb=xgb.XGBClassifier(seed=0)\n",
        "xgb.fit(train, y_train)"
      ],
      "execution_count": null,
      "outputs": [
        {
          "output_type": "execute_result",
          "data": {
            "text/plain": [
              "XGBClassifier(base_score=0.5, booster='gbtree', colsample_bylevel=1,\n",
              "              colsample_bynode=1, colsample_bytree=1, gamma=0,\n",
              "              learning_rate=0.1, max_delta_step=0, max_depth=3,\n",
              "              min_child_weight=1, missing=None, n_estimators=100, n_jobs=1,\n",
              "              nthread=None, objective='binary:logistic', random_state=0,\n",
              "              reg_alpha=0, reg_lambda=1, scale_pos_weight=1, seed=0,\n",
              "              silent=None, subsample=1, verbosity=1)"
            ]
          },
          "metadata": {},
          "execution_count": 55
        }
      ]
    },
    {
      "cell_type": "code",
      "metadata": {
        "colab": {
          "base_uri": "https://localhost:8080/"
        },
        "id": "Ypy3Pojutpkb",
        "outputId": "dbdb394f-ab6c-4fdf-dc57-590fad720c1a"
      },
      "source": [
        "print(\"MÉTRICAS CONJUNTO DE TRAIN\")\n",
        "print(classification_report(y_train, xgb.predict(train)))\n",
        "print(\"MÉTRICAS CONJUNTO DE VALIDACIÓN\")\n",
        "print(classification_report(y_val, xgb.predict(val)))"
      ],
      "execution_count": null,
      "outputs": [
        {
          "output_type": "stream",
          "name": "stdout",
          "text": [
            "MÉTRICAS CONJUNTO DE TRAIN\n",
            "              precision    recall  f1-score   support\n",
            "\n",
            "           0       0.91      0.99      0.95     23390\n",
            "           1       0.72      0.21      0.32      2970\n",
            "\n",
            "    accuracy                           0.90     26360\n",
            "   macro avg       0.81      0.60      0.64     26360\n",
            "weighted avg       0.89      0.90      0.88     26360\n",
            "\n",
            "MÉTRICAS CONJUNTO DE VALIDACIÓN\n",
            "              precision    recall  f1-score   support\n",
            "\n",
            "           0       0.91      0.99      0.95      5848\n",
            "           1       0.67      0.21      0.32       742\n",
            "\n",
            "    accuracy                           0.90      6590\n",
            "   macro avg       0.79      0.60      0.63      6590\n",
            "weighted avg       0.88      0.90      0.87      6590\n",
            "\n"
          ]
        }
      ]
    },
    {
      "cell_type": "code",
      "metadata": {
        "colab": {
          "base_uri": "https://localhost:8080/",
          "height": 200
        },
        "id": "R-tgUtUjttGu",
        "outputId": "3b827390-388f-44fb-888e-da7c6fb92b39"
      },
      "source": [
        "#Optimización de hiperparámetros\n",
        "#Grilla de parámetros\n",
        "params={'objective':[\"binary:logistic\",\"binary:hinge\"],\n",
        "        'learning_rate':[ 0.1,0.2,0.3],\n",
        "        'max_depth':[2,4, 6, 7, 8, 10],\n",
        "        'alpha':[2, 3, 5, 7],\n",
        "        \"n_estimators\":[5, 7, 10]\n",
        "       }\n",
        "xgb=xgb.XGBClassifier(seed=0)"
      ],
      "execution_count": null,
      "outputs": [
        {
          "output_type": "error",
          "ename": "AttributeError",
          "evalue": "ignored",
          "traceback": [
            "\u001b[0;31m---------------------------------------------------------------------------\u001b[0m",
            "\u001b[0;31mAttributeError\u001b[0m                            Traceback (most recent call last)",
            "\u001b[0;32m<ipython-input-57-8ce988208b05>\u001b[0m in \u001b[0;36m<module>\u001b[0;34m()\u001b[0m\n\u001b[1;32m      7\u001b[0m         \u001b[0;34m\"n_estimators\"\u001b[0m\u001b[0;34m:\u001b[0m\u001b[0;34m[\u001b[0m\u001b[0;36m5\u001b[0m\u001b[0;34m,\u001b[0m \u001b[0;36m7\u001b[0m\u001b[0;34m,\u001b[0m \u001b[0;36m10\u001b[0m\u001b[0;34m]\u001b[0m\u001b[0;34m\u001b[0m\u001b[0;34m\u001b[0m\u001b[0m\n\u001b[1;32m      8\u001b[0m        }\n\u001b[0;32m----> 9\u001b[0;31m \u001b[0mxgb\u001b[0m\u001b[0;34m=\u001b[0m\u001b[0mxgb\u001b[0m\u001b[0;34m.\u001b[0m\u001b[0mXGBClassifier\u001b[0m\u001b[0;34m(\u001b[0m\u001b[0mseed\u001b[0m\u001b[0;34m=\u001b[0m\u001b[0;36m0\u001b[0m\u001b[0;34m)\u001b[0m\u001b[0;34m\u001b[0m\u001b[0;34m\u001b[0m\u001b[0m\n\u001b[0m",
            "\u001b[0;31mAttributeError\u001b[0m: 'XGBClassifier' object has no attribute 'XGBClassifier'"
          ]
        }
      ]
    },
    {
      "cell_type": "code",
      "metadata": {
        "colab": {
          "base_uri": "https://localhost:8080/"
        },
        "id": "AmgQVk45uA2O",
        "outputId": "5a5d38f8-2d6a-400d-f8e5-e83d79d42188"
      },
      "source": [
        "#Búsqueda de parámetros\n",
        "cv_xgb = GridSearchCV(xgb, params, scoring='f1', cv=5,refit=True,n_jobs=-1)     \n",
        "cv_xgb.fit(train, y_train)"
      ],
      "execution_count": null,
      "outputs": [
        {
          "output_type": "execute_result",
          "data": {
            "text/plain": [
              "GridSearchCV(cv=5, error_score=nan,\n",
              "             estimator=XGBClassifier(base_score=0.5, booster='gbtree',\n",
              "                                     colsample_bylevel=1, colsample_bynode=1,\n",
              "                                     colsample_bytree=1, gamma=0,\n",
              "                                     learning_rate=0.1, max_delta_step=0,\n",
              "                                     max_depth=3, min_child_weight=1,\n",
              "                                     missing=None, n_estimators=100, n_jobs=1,\n",
              "                                     nthread=None, objective='binary:logistic',\n",
              "                                     random_state=0, reg_alpha=0, reg_lambda=1,\n",
              "                                     scale_pos_weight=1, seed=0, silent=None,\n",
              "                                     subsample=1, verbosity=1),\n",
              "             iid='deprecated', n_jobs=-1,\n",
              "             param_grid={'alpha': [2, 3, 5, 7],\n",
              "                         'learning_rate': [0.1, 0.2, 0.3],\n",
              "                         'max_depth': [2, 4, 6, 7, 8, 10],\n",
              "                         'n_estimators': [5, 7, 10],\n",
              "                         'objective': ['binary:logistic', 'binary:hinge']},\n",
              "             pre_dispatch='2*n_jobs', refit=True, return_train_score=False,\n",
              "             scoring='f1', verbose=0)"
            ]
          },
          "metadata": {},
          "execution_count": 47
        }
      ]
    },
    {
      "cell_type": "code",
      "metadata": {
        "colab": {
          "base_uri": "https://localhost:8080/"
        },
        "id": "Is2t9QDWuTgm",
        "outputId": "c190df5a-21ae-4745-8d5f-c71663e778d2"
      },
      "source": [
        "cv_xgb.best_params_"
      ],
      "execution_count": null,
      "outputs": [
        {
          "output_type": "execute_result",
          "data": {
            "text/plain": [
              "{'alpha': 2,\n",
              " 'learning_rate': 0.1,\n",
              " 'max_depth': 7,\n",
              " 'n_estimators': 7,\n",
              " 'objective': 'binary:hinge'}"
            ]
          },
          "metadata": {},
          "execution_count": 48
        }
      ]
    },
    {
      "cell_type": "code",
      "metadata": {
        "id": "QGH0hI8XyRWr"
      },
      "source": [
        "import xgboost as xgb"
      ],
      "execution_count": null,
      "outputs": []
    },
    {
      "cell_type": "code",
      "metadata": {
        "colab": {
          "base_uri": "https://localhost:8080/"
        },
        "id": "FHLpPG38uV73",
        "outputId": "6d8e949f-019c-45d1-fc6d-169199490881"
      },
      "source": [
        "#Entrenamiento de la mejor versión encontrada del modelo\n",
        "xgb_best = xgb.XGBClassifier(seed=0, alpha= 2, learning_rate= 0.1, max_depth= 7, n_estimators=7, objective='binary:hinge')\n",
        "xgb_best.fit(train, y_train)"
      ],
      "execution_count": null,
      "outputs": [
        {
          "output_type": "execute_result",
          "data": {
            "text/plain": [
              "XGBClassifier(alpha=2, base_score=0.5, booster='gbtree', colsample_bylevel=1,\n",
              "              colsample_bynode=1, colsample_bytree=1, gamma=0,\n",
              "              learning_rate=0.1, max_delta_step=0, max_depth=7,\n",
              "              min_child_weight=1, missing=None, n_estimators=7, n_jobs=1,\n",
              "              nthread=None, objective='binary:hinge', random_state=0,\n",
              "              reg_alpha=0, reg_lambda=1, scale_pos_weight=1, seed=0,\n",
              "              silent=None, subsample=1, verbosity=1)"
            ]
          },
          "metadata": {},
          "execution_count": 60
        }
      ]
    },
    {
      "cell_type": "code",
      "metadata": {
        "colab": {
          "base_uri": "https://localhost:8080/"
        },
        "id": "VxVoKbFduX8x",
        "outputId": "1ff4e656-8026-4d71-ec8c-252cd5b516ca"
      },
      "source": [
        "print(\"MÉTRICAS CONJUNTO DE TRAIN\")\n",
        "print(classification_report(y_train, xgb_best.predict(train)))\n",
        "print(\"MÉTRICAS CONJUNTO DE VALIDACIÓN\")\n",
        "print(classification_report(y_val, xgb_best.predict(val)))"
      ],
      "execution_count": null,
      "outputs": [
        {
          "output_type": "stream",
          "name": "stdout",
          "text": [
            "MÉTRICAS CONJUNTO DE TRAIN\n",
            "              precision    recall  f1-score   support\n",
            "\n",
            "           0       0.94      0.91      0.93     23390\n",
            "           1       0.44      0.58      0.50      2970\n",
            "\n",
            "    accuracy                           0.87     26360\n",
            "   macro avg       0.69      0.74      0.71     26360\n",
            "weighted avg       0.89      0.87      0.88     26360\n",
            "\n",
            "MÉTRICAS CONJUNTO DE VALIDACIÓN\n",
            "              precision    recall  f1-score   support\n",
            "\n",
            "           0       0.94      0.90      0.92      5848\n",
            "           1       0.43      0.58      0.50       742\n",
            "\n",
            "    accuracy                           0.87      6590\n",
            "   macro avg       0.69      0.74      0.71      6590\n",
            "weighted avg       0.89      0.87      0.88      6590\n",
            "\n"
          ]
        }
      ]
    },
    {
      "cell_type": "markdown",
      "metadata": {
        "id": "yZGVwR3Rbdbv"
      },
      "source": [
        "### LigthGBM"
      ]
    },
    {
      "cell_type": "code",
      "metadata": {
        "id": "34o1JZ_0ibuE"
      },
      "source": [
        "variables_categoricas = ['job', 'marital', 'education', 'default', 'housing', 'loan', 'contact', 'poutcome']\n",
        "variables_numericas = ['age', 'campaign', 'previous', 'cons.conf.idx', 'euribor3m']\n",
        "\n",
        "# Filtramos las variables que seleccionamos\n",
        "X_t = X_train[variables_categoricas + variables_numericas]\n",
        "\n",
        "pipeline_numerico = Pipeline([('select_numeric_columns', SelectColumnsTransformer(variables_numericas)),\n",
        "                             # ('standard_scaler', StandardScaler()),\n",
        "                             # (\"kbins_discretizer\", KBinsDiscretizer(n_bins=5, encode=\"ordinal\", strategy=\"quantile\"))      #strategy=\"uniform\"\n",
        "                            ])\n",
        "\n",
        "pipeline_categorico = Pipeline ([('select_categoric_columns', SelectColumnsTransformer(variables_categoricas)),\n",
        "                                 # ('imputer', SimpleImputer(strategy='most_frequent', missing_values=\"unknown\")),      #podríamos no ponerlo, y que deje \"desconocido\" como una categoría más\n",
        "                                 ('cat', OneHotEncoder())])\n",
        "\n",
        "pipeline_completo = ColumnTransformer([('num', pipeline_numerico, variables_numericas),\n",
        "                                   ('cat', pipeline_categorico, variables_categoricas),\n",
        "                                  ])\n",
        "\n",
        "pipeline_modelo = Pipeline([('preprocess', pipeline_completo),\n",
        "                            ('lgbm', lgbm(seed=0))])"
      ],
      "execution_count": null,
      "outputs": []
    },
    {
      "cell_type": "code",
      "metadata": {
        "id": "A_U0Jpw7iw53"
      },
      "source": [
        "pipeline_modelo"
      ],
      "execution_count": null,
      "outputs": []
    },
    {
      "cell_type": "code",
      "metadata": {
        "id": "pCZZ_xSfiz-F"
      },
      "source": [
        "cross_validate(pipeline_modelo, X_t, y_train, cv=5, scoring=('f1', 'roc_auc', \"precision\", \"recall\"))"
      ],
      "execution_count": null,
      "outputs": []
    }
  ]
}