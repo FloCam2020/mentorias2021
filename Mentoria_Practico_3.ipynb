{
  "nbformat": 4,
  "nbformat_minor": 5,
  "metadata": {
    "kernelspec": {
      "display_name": "Python 3",
      "language": "python",
      "name": "python3"
    },
    "language_info": {
      "codemirror_mode": {
        "name": "ipython",
        "version": 3
      },
      "file_extension": ".py",
      "mimetype": "text/x-python",
      "name": "python",
      "nbconvert_exporter": "python",
      "pygments_lexer": "ipython3",
      "version": "3.8.10"
    },
    "toc-autonumbering": true,
    "colab": {
      "name": "Mentoria - Practico_03_Intro_Aprendizaje_Automatico - Santiago.ipynb",
      "provenance": [],
      "collapsed_sections": []
    }
  },
  "cells": [
    {
      "cell_type": "code",
      "metadata": {
        "id": "Uk2MZ3rhw2r_"
      },
      "source": [
        "import numpy as np\n",
        "import pandas as pd\n",
        "import matplotlib.pyplot as plt\n",
        "import seaborn as sns\n",
        "\n",
        "from sklearn.model_selection import train_test_split\n",
        "from sklearn.impute import SimpleImputer\n",
        "from sklearn.preprocessing import OneHotEncoder, StandardScaler\n",
        "from sklearn.pipeline import Pipeline\n",
        "from sklearn.compose import ColumnTransformer\n",
        "from sklearn.metrics import classification_report\n",
        "from sklearn.model_selection import cross_validate"
      ],
      "id": "Uk2MZ3rhw2r_",
      "execution_count": null,
      "outputs": []
    },
    {
      "cell_type": "code",
      "metadata": {
        "id": "uXc0TjcRw2sD"
      },
      "source": [
        "# Opción para ver todas las columnas del dataset en el notebook\n",
        "pd.set_option('display.max_columns', 50)"
      ],
      "id": "uXc0TjcRw2sD",
      "execution_count": null,
      "outputs": []
    },
    {
      "cell_type": "markdown",
      "metadata": {
        "id": "tsjWRQgmw2sE"
      },
      "source": [
        "# Práctico 03: Introducción al aprendizaje automático"
      ],
      "id": "tsjWRQgmw2sE"
    },
    {
      "cell_type": "markdown",
      "metadata": {
        "id": "9Xq9XJH3w2sF"
      },
      "source": [
        "Para poder desarrollar nuestro clasificador, comenzaremos con la etapa de preprocesamiento, en el que prepararemos los datos para ser insertados a nuestro modelo. Crearemos nuestro baseline y comenzaremos a crear features nuevas para nuestro modelo."
      ],
      "id": "9Xq9XJH3w2sF"
    },
    {
      "cell_type": "markdown",
      "metadata": {
        "id": "8pzQ692jw2sF"
      },
      "source": [
        "## Objetivo del práctico"
      ],
      "id": "8pzQ692jw2sF"
    },
    {
      "cell_type": "markdown",
      "metadata": {
        "id": "iWqRzsHJw2sG"
      },
      "source": [
        "### Preprocesamiento\n",
        "- Tratamiento de valores nulos\n",
        "- Estandarización\n",
        "- Encoding de variables categóricas"
      ],
      "id": "iWqRzsHJw2sG"
    },
    {
      "cell_type": "markdown",
      "metadata": {
        "id": "Eufy1EvZw2sG"
      },
      "source": [
        "### Train-Validation-Test\n",
        "- División del dataset en train/validation/test\n",
        "- Estratificación"
      ],
      "id": "Eufy1EvZw2sG"
    },
    {
      "cell_type": "markdown",
      "metadata": {
        "id": "iJIKuuDgw2sH"
      },
      "source": [
        "### Primer modelo baseline"
      ],
      "id": "iJIKuuDgw2sH"
    },
    {
      "cell_type": "markdown",
      "metadata": {
        "id": "a2sUJUUgw2sH"
      },
      "source": [
        "Una vez preparado el dataset nuestra tarea será elegir qué métrica utilizaremos \n",
        "y entrenar diferentes modelos.\n",
        "- ¿Es un dataset balanceado o desbalanceado?\n",
        "- ¿Qué métrica utilizaremos para medir si funciona el modelo?\n",
        "- ¿Cómo sabemos si el modelo es útil o no?\n",
        "- ¿Qué modelos podemos probar? Recordemos que es necesario distinta preparación según el modelo que utilicemos."
      ],
      "id": "a2sUJUUgw2sH"
    },
    {
      "cell_type": "markdown",
      "metadata": {
        "id": "LeWY45wew2sI"
      },
      "source": [
        "### Presentación"
      ],
      "id": "LeWY45wew2sI"
    },
    {
      "cell_type": "markdown",
      "metadata": {
        "id": "h6mPENK4w2sI"
      },
      "source": [
        "Al final del práctico, es necesario hacer 1 o 2 slides que irán incluidos en la presentación final.  \n",
        "Los slides deberán contener las etapas de preprocesamiento que utilizamos junto al modelo baseline y \n",
        "sus respectivas métricas."
      ],
      "id": "h6mPENK4w2sI"
    },
    {
      "cell_type": "markdown",
      "metadata": {
        "id": "CUeISasAw2sJ"
      },
      "source": [
        "### Librerías recomendadas"
      ],
      "id": "CUeISasAw2sJ"
    },
    {
      "cell_type": "markdown",
      "metadata": {
        "id": "5PmsWd97w2sJ"
      },
      "source": [
        "Utilizaremos principalmente scikit-learn, opcionalmente xgboost y lightgbm.  \n",
        "Recomiendo el siguiente material:  \n",
        "- https://www.oreilly.com/library/view/hands-on-machine-learning/9781492032632/ -> Recomiendo los primeros capitulos de este libro. Enseña a usar pipelines.\n",
        "- https://scikit-learn.org/stable/ -> Referencia de librería scikit-learn. Contiene casi todo lo que vamos a utilizar, pipelines, preprocesamiento y varios modelos.\n",
        "- https://xgboost.readthedocs.io/en/latest/ -> Librería muy utilizada debido a que tiene muy buenos resultados. Es un tipo de algoritmo \"boosting tree\"\n",
        "- https://lightgbm.readthedocs.io/en/latest/ -> Otra librería similar a xgboost, cada vez se usa más, debido a su facilidad de uso y buenos resultados.\n",
        "- https://www.youtube.com/watch?v=BFaadIqWlAg -> Charla de PyData donde muestra el uso de pipelines"
      ],
      "id": "5PmsWd97w2sJ"
    },
    {
      "cell_type": "markdown",
      "metadata": {
        "id": "h-FERG4gw2sK"
      },
      "source": [
        "## Práctico 03: Introducción al aprendizaje automático - Resolución"
      ],
      "id": "h-FERG4gw2sK"
    },
    {
      "cell_type": "markdown",
      "metadata": {
        "id": "tAVD3ErPw2sL"
      },
      "source": [
        "### Leer el dataset"
      ],
      "id": "tAVD3ErPw2sL"
    },
    {
      "cell_type": "code",
      "metadata": {
        "id": "nVIoIonAw2sL"
      },
      "source": [
        "url = \"https://raw.githubusercontent.com/AgusCarchano/Mentorias-grupo1/master/data/bank-additional-full.csv\"\n",
        "df = pd.read_csv(url, sep=\";\")"
      ],
      "id": "nVIoIonAw2sL",
      "execution_count": null,
      "outputs": []
    },
    {
      "cell_type": "markdown",
      "metadata": {
        "id": "J8IxULz0w2sL"
      },
      "source": [
        "### Análisis de las variables"
      ],
      "id": "J8IxULz0w2sL"
    },
    {
      "cell_type": "raw",
      "metadata": {
        "id": "47XOPe0ow2sM"
      },
      "source": [
        "#### Valores nulos\n",
        "\n"
      ],
      "id": "47XOPe0ow2sM"
    },
    {
      "cell_type": "markdown",
      "metadata": {
        "id": "kDm1MYTx-9BU"
      },
      "source": [
        "Formalmente, en la base de datos no hay valores nulos o NaN. No obstante, las variables categóricas tienen una categoría \"desconocido\" que sería el equivalente a un valor nulo. \n",
        "\n",
        "Las alternativas de tratamiento posibles son:\n",
        "- Dejarlos como están, y al efectuar el OneHotEncoder para las variables categóricas pedirle que ignore esa categoría.\n",
        "- Imputarlos antes de hacer el encoding. Para esta alternativa, podríamos referir a algunos de los métodos de preprocessing para imputación o hacer nuestro CustomTransformer.\n",
        "\n",
        "En función del modelo que se utilice, se decidirá el curso de acción más conveniente."
      ],
      "id": "kDm1MYTx-9BU"
    },
    {
      "cell_type": "markdown",
      "metadata": {
        "id": "HsfaOOb0w2sP"
      },
      "source": [
        "#### Estandarización"
      ],
      "id": "HsfaOOb0w2sP"
    },
    {
      "cell_type": "markdown",
      "metadata": {
        "id": "6qA3KU5t_POi"
      },
      "source": [
        "En cuanto a la estandarización de las variables numéricas, se tienen diferentes opciones, a saber:\n",
        "- Podrían dejarse en su estado actual.\n",
        "- Podrían escalarse con alguno de los diferentes métodos disponibles en scikit-learn (MinMax, StandardScaller, RobustScaller en caso de que la variable tenga outliers que no hayamos eliminado).\n",
        "- Podrían \"discretizarse\" a partir del método KBinsDiscretizer o Binarizer (en caso de querer diferenciar solo dos grupos a partir de un punto de corte).\n",
        "- Podríamos eliminar los outliers y luego re-escalarlas.\n",
        "\n",
        "Algunos modelos como SGDClassifier necesitan que los datos sean previamente estandarizados, otros como DecisionTree no lo requieren. Por esta razón, la determinación del tipo de estandarización a emplear (o no) dependerá del modelo a aplicar para la predicción."
      ],
      "id": "6qA3KU5t_POi"
    },
    {
      "cell_type": "markdown",
      "metadata": {
        "id": "ssoLn0FXw2sR"
      },
      "source": [
        "#### Variables categóricas y numéricas"
      ],
      "id": "ssoLn0FXw2sR"
    },
    {
      "cell_type": "markdown",
      "metadata": {
        "id": "ZODWVRPE_5BD"
      },
      "source": [
        "Considerando la totalidad del dataset, en su estado original, podemos diferenciar las variables categóricas y numéricas del siguiente modo. "
      ],
      "id": "ZODWVRPE_5BD"
    },
    {
      "cell_type": "code",
      "metadata": {
        "id": "hd-80Ok4_5so"
      },
      "source": [
        "variables_categoricas_original = ['job', 'marital', 'education', 'default', 'housing', 'loan', 'contact', 'month', 'day_of_week', 'poutcome']\n",
        "variables_numericas_original = ['age', 'duration', 'campaign', 'pdays', 'previous','emp.var.rate', 'cons.price.idx', 'cons.conf.idx', 'euribor3m', 'nr.employed']"
      ],
      "id": "hd-80Ok4_5so",
      "execution_count": null,
      "outputs": []
    },
    {
      "cell_type": "markdown",
      "metadata": {
        "id": "EUQYOjch_8Kw"
      },
      "source": [
        "No obstante, el grupo de variables se reducirá luego de algunas transformaciones y análisis de correlación. Con lo cual, serán indicados sin la referencia \"original\"."
      ],
      "id": "EUQYOjch_8Kw"
    },
    {
      "cell_type": "markdown",
      "metadata": {
        "id": "1G4fcR4Iw2sR"
      },
      "source": [
        "#### Correlación entre variables"
      ],
      "id": "1G4fcR4Iw2sR"
    },
    {
      "cell_type": "markdown",
      "metadata": {
        "id": "bnsSjBPlw2sS"
      },
      "source": [
        "En el práctico 2 se desarrolló un análisis en profundidad de la correlación entre las variables, que nos llevó a tomar las siguientes definiciones:\n",
        "- Se eliminaran del dataset de análisis tres variables por presentar alta correlación: 'emp.var.rate', 'cons.price.idx', 'nr.employed'.\n",
        "\n",
        "Adicionalmente, se detectaron inconsistencias y muchos datos faltantes en la variable 'pdays', lo cual sumado a que la variable no resulta muy relevante para el análisis que se plantea, se optó por dejarla de lado.\n",
        "\n",
        "La falta de información para identificar la fecha exacta de la última llamada, sumado al hecho de que las variables día y mes por si solas no resultan muy relevates, llevó a definir dejar de lado a estas variables también.\n",
        "\n",
        "Finalmente, se definió no incluir en modelos predictivos a la variable 'duration' debido a que afecta altamente al resultado. Si la duración de la llamada fue igual a 0, la respuesta entonces fue negativa (el cliente no contrató el PF). Por otra parte, luego de la llamada el resultado de la decisión del cliente es conocido con certeza con lo cual en los casos que necesitemos predecir si un cliente podría o no contratar el PF, no vamos a contar con información sobre la duración de la llamada con anterioridad. \n",
        "Por esta razón, la variable no será incluída en el diseño de modelos predictivos. \n",
        "\n",
        "En consecuencia, los grupos de variables finales según tipo quedarían como se expone a continuación.\n"
      ],
      "id": "bnsSjBPlw2sS"
    },
    {
      "cell_type": "code",
      "metadata": {
        "id": "RPxXapAjAMv6"
      },
      "source": [
        "#Tomando en cuenta los cambios mencionados anteriormente, los grupos de variables quedarán del siguiente modo:\n",
        "variables_categoricas = ['job', 'marital', 'education', 'default', 'housing', 'loan', 'contact', 'poutcome']\n",
        "variables_numericas = ['age', 'campaign', 'previous', 'cons.conf.idx', 'euribor3m']"
      ],
      "id": "RPxXapAjAMv6",
      "execution_count": null,
      "outputs": []
    },
    {
      "cell_type": "markdown",
      "metadata": {
        "id": "auPMw7b6w2sS"
      },
      "source": [
        "### División del dataset en train/validation/test"
      ],
      "id": "auPMw7b6w2sS"
    },
    {
      "cell_type": "code",
      "metadata": {
        "id": "d-MpuBfjw2sS"
      },
      "source": [
        "# Recordemos que siempre, SIEMPRE deberemos dividir el dataset en tres\n",
        "# Train: para entrenar el modelo\n",
        "# Validation: para verificar si el modelo esta overfiteando y optimizar hiperparámetros\n",
        "# Test: para verificar si la optimización de hiperparámetros está overfiteando, es lo más parecido a la realidad"
      ],
      "id": "d-MpuBfjw2sS",
      "execution_count": null,
      "outputs": []
    },
    {
      "cell_type": "markdown",
      "metadata": {
        "id": "cAdp3K5jw2sT"
      },
      "source": [
        "<div>\n",
        "<img src=\"https://upload.wikimedia.org/wikipedia/commons/b/bb/ML_dataset_training_validation_test_sets.png\" width=\"500\"/>\n",
        "</div>"
      ],
      "id": "cAdp3K5jw2sT"
    },
    {
      "cell_type": "code",
      "metadata": {
        "id": "kqTacg9hw2sT"
      },
      "source": [
        "# Utilizar train test split DOS veces, de modo que el resultado sean tres datasets\n",
        "# IMPORTANTE, esta función tiene un parámetro denominado \"stratified\", para qué sirve?\n",
        "# Deberíamos utilizar ese parámetro teniendo en cuenta que nuestro dataset está desbalanceado?"
      ],
      "id": "kqTacg9hw2sT",
      "execution_count": null,
      "outputs": []
    },
    {
      "cell_type": "code",
      "metadata": {
        "id": "A1kO1GLsw2sU"
      },
      "source": [
        "# Reemplazamos la columna y (target) por 1 y 0\n",
        "df.y = df.y.replace('yes', 1)\n",
        "df.y = df.y.replace('no', 0)"
      ],
      "id": "A1kO1GLsw2sU",
      "execution_count": null,
      "outputs": []
    },
    {
      "cell_type": "code",
      "metadata": {
        "id": "AONiE-Nww2sU",
        "colab": {
          "base_uri": "https://localhost:8080/"
        },
        "outputId": "07376be1-b40f-4020-9aa9-33645a52ca62"
      },
      "source": [
        "df.y.value_counts()"
      ],
      "id": "AONiE-Nww2sU",
      "execution_count": null,
      "outputs": [
        {
          "output_type": "execute_result",
          "data": {
            "text/plain": [
              "0    36548\n",
              "1     4640\n",
              "Name: y, dtype: int64"
            ]
          },
          "metadata": {
            "tags": []
          },
          "execution_count": 5
        }
      ]
    },
    {
      "cell_type": "code",
      "metadata": {
        "id": "7fwS-fMhw2sV"
      },
      "source": [
        "#Diferenciamos los atributos del target\n",
        "X = df.drop(columns='y')\n",
        "y = df.y"
      ],
      "id": "7fwS-fMhw2sV",
      "execution_count": null,
      "outputs": []
    },
    {
      "cell_type": "code",
      "metadata": {
        "id": "HaxDwMOHw2sV"
      },
      "source": [
        "X_temp, X_test, y_temp, y_test = train_test_split(X, y, test_size=0.2, stratify=y)   #Dejamos un conjunto de test con el 20% de los casos \n",
        "#Dado que el dataset se encuentra desbalanceado (aprox. 11% del total de casos pertenece a la clase 1), empleamos el parámetro stratified en función del target (y)\n",
        "#De este modo, la muestra seleccionada a partir de la división sería representativa para las dos clases"
      ],
      "id": "HaxDwMOHw2sV",
      "execution_count": null,
      "outputs": []
    },
    {
      "cell_type": "code",
      "metadata": {
        "id": "dJRdpdnXw2sV",
        "colab": {
          "base_uri": "https://localhost:8080/"
        },
        "outputId": "9bf7bb53-a3b8-427a-ea9e-fefa0033dbec"
      },
      "source": [
        "X_temp.shape, y_temp.shape, X_test.shape, y_test.shape"
      ],
      "id": "dJRdpdnXw2sV",
      "execution_count": null,
      "outputs": [
        {
          "output_type": "execute_result",
          "data": {
            "text/plain": [
              "((32950, 20), (32950,), (8238, 20), (8238,))"
            ]
          },
          "metadata": {
            "tags": []
          },
          "execution_count": 8
        }
      ]
    },
    {
      "cell_type": "code",
      "metadata": {
        "id": "3tjY-5Lkw2sW"
      },
      "source": [
        "X_train, X_val, y_train, y_val = train_test_split(X_temp, y_temp, test_size=0.2, stratify=y_temp)"
      ],
      "id": "3tjY-5Lkw2sW",
      "execution_count": null,
      "outputs": []
    },
    {
      "cell_type": "code",
      "metadata": {
        "id": "0xnN1sENw2sW",
        "colab": {
          "base_uri": "https://localhost:8080/"
        },
        "outputId": "69299f7e-3c6b-49c4-d8bf-09648b20019a"
      },
      "source": [
        "X_train.shape, y_train.shape, X_val.shape, y_val.shape"
      ],
      "id": "0xnN1sENw2sW",
      "execution_count": null,
      "outputs": [
        {
          "output_type": "execute_result",
          "data": {
            "text/plain": [
              "((26360, 20), (26360,), (6590, 20), (6590,))"
            ]
          },
          "metadata": {
            "tags": []
          },
          "execution_count": 10
        }
      ]
    },
    {
      "cell_type": "code",
      "metadata": {
        "id": "qRlB2bcLw2sW",
        "colab": {
          "base_uri": "https://localhost:8080/"
        },
        "outputId": "c0eeba13-649f-4e6e-9465-c4c9da5a99d9"
      },
      "source": [
        "X_train.isna().sum()"
      ],
      "id": "qRlB2bcLw2sW",
      "execution_count": null,
      "outputs": [
        {
          "output_type": "execute_result",
          "data": {
            "text/plain": [
              "age               0\n",
              "job               0\n",
              "marital           0\n",
              "education         0\n",
              "default           0\n",
              "housing           0\n",
              "loan              0\n",
              "contact           0\n",
              "month             0\n",
              "day_of_week       0\n",
              "duration          0\n",
              "campaign          0\n",
              "pdays             0\n",
              "previous          0\n",
              "poutcome          0\n",
              "emp.var.rate      0\n",
              "cons.price.idx    0\n",
              "cons.conf.idx     0\n",
              "euribor3m         0\n",
              "nr.employed       0\n",
              "dtype: int64"
            ]
          },
          "metadata": {
            "tags": []
          },
          "execution_count": 11
        }
      ]
    },
    {
      "cell_type": "markdown",
      "metadata": {
        "id": "vw17tT8Uw2sX"
      },
      "source": [
        "#### Preprocesamiento con Pipelines"
      ],
      "id": "vw17tT8Uw2sX"
    },
    {
      "cell_type": "code",
      "metadata": {
        "id": "7hyT0_1yw2sX"
      },
      "source": [
        "# Una vez dividido el dataset, procederemos a aplicar transformaciones utilizando pipelines.\n",
        "# Los pipelines tienen varias ventajas, como organización y evitar algunos tipos de data leakage"
      ],
      "id": "7hyT0_1yw2sX",
      "execution_count": null,
      "outputs": []
    },
    {
      "cell_type": "markdown",
      "metadata": {
        "id": "T7TdQaCvw2sY"
      },
      "source": [
        "#### Preprocesamiento con Pipelines - Step customizado propio"
      ],
      "id": "T7TdQaCvw2sY"
    },
    {
      "cell_type": "code",
      "metadata": {
        "id": "FLfmUXARw2sY"
      },
      "source": [
        "# De esta forma podemos realizar custom transformer\n",
        "# Todas las transformaciones deberían tener su propio transformer\n",
        "\n",
        "class SelectColumnsTransformer():\n",
        "    def __init__(self, columns=None):\n",
        "        self.columns = columns\n",
        "\n",
        "    def transform(self, X, **transform_params):\n",
        "        cpy_df = X[self.columns].copy()\n",
        "        return cpy_df\n",
        "\n",
        "    def fit(self, X, y=None, **fit_params):\n",
        "        return self\n"
      ],
      "id": "FLfmUXARw2sY",
      "execution_count": null,
      "outputs": []
    },
    {
      "cell_type": "code",
      "metadata": {
        "id": "AYxJlAvkCIlp"
      },
      "source": [
        "#Para identificar las categorías \"desconocido\" como Nan\n",
        "class NanIdentifier():\n",
        "    def __init__(self, columns=None):\n",
        "        self.columns = columns\n",
        "\n",
        "    def transform(self, X, **transform_params):\n",
        "        for column in X.columns:\n",
        "            X.loc[X[column]=='unknown',column]= np.nan\n",
        "        return X\n",
        "\n",
        "    def fit(self, X, y=None, **fit_params):\n",
        "        return self"
      ],
      "id": "AYxJlAvkCIlp",
      "execution_count": null,
      "outputs": []
    },
    {
      "cell_type": "code",
      "metadata": {
        "id": "-OTmSaAuw2sY"
      },
      "source": [
        "def check_missing(X):\n",
        "    print('Number of missing values after imputation: {}'.\n",
        "          format(pd.DataFrame(X).isna().sum().sum()))"
      ],
      "id": "-OTmSaAuw2sY",
      "execution_count": null,
      "outputs": []
    },
    {
      "cell_type": "code",
      "metadata": {
        "id": "qHVPqC7Uw2sZ"
      },
      "source": [
        "#Aplicamos las transformaciones previas a los conjuntos de Train y Validation\n",
        "\n",
        "from sklearn.experimental import enable_iterative_imputer\n",
        "from sklearn.neighbors import KNeighborsRegressor\n",
        "from sklearn.impute import IterativeImputer\n",
        "\n",
        "variables_categoricas = ['job', 'marital','education','housing', 'loan','contact','poutcome']\n",
        "variables_numericas = ['age', 'campaign','previous','euribor3m','cons.conf.idx' ]\n",
        "mice_imputer = IterativeImputer(random_state=0, estimator=KNeighborsRegressor(),n_nearest_features=5)\n",
        "\n",
        "# Filtramos las variables que seleccionamos\n",
        "X_t = X_train[variables_categoricas + variables_numericas]\n",
        "X_v = X_val[variables_categoricas + variables_numericas]     \n",
        "\n",
        "pipeline_numerico = Pipeline([('select_numeric_columns', SelectColumnsTransformer(variables_numericas)),\n",
        "                             ('standard_scaler', StandardScaler())      \n",
        "                            ])\n",
        "\n",
        "pipeline_categorico = Pipeline ([('select_categoric_columns', SelectColumnsTransformer(variables_categoricas)),\n",
        "                                  ('imputer', SimpleImputer(strategy='most_frequent', missing_values=\"unknown\")),\n",
        "                                 ('cat', OneHotEncoder())])\n",
        "\n",
        "pipeline_completo = ColumnTransformer([('num', pipeline_numerico, variables_numericas),\n",
        "                                       ('cat', pipeline_categorico, variables_categoricas)\n",
        "                                      ])\n",
        "\n",
        "\n",
        "train = pipeline_completo.fit_transform(X_t)\n",
        "val = pipeline_completo.fit_transform(X_v)"
      ],
      "id": "qHVPqC7Uw2sZ",
      "execution_count": null,
      "outputs": []
    },
    {
      "cell_type": "code",
      "metadata": {
        "id": "o0YSW8mWw2sZ",
        "colab": {
          "base_uri": "https://localhost:8080/"
        },
        "outputId": "d4f0d972-c2b3-4889-fa6e-559250430638"
      },
      "source": [
        "X_t.shape, train.shape"
      ],
      "id": "o0YSW8mWw2sZ",
      "execution_count": null,
      "outputs": [
        {
          "output_type": "execute_result",
          "data": {
            "text/plain": [
              "((26360, 12), (26360, 35))"
            ]
          },
          "metadata": {
            "tags": []
          },
          "execution_count": 16
        }
      ]
    },
    {
      "cell_type": "code",
      "metadata": {
        "id": "bm6kGL2hw2sa",
        "colab": {
          "base_uri": "https://localhost:8080/"
        },
        "outputId": "8e76aafe-9fd9-4bba-d22e-e944d70be2c4"
      },
      "source": [
        "check_missing(train)"
      ],
      "id": "bm6kGL2hw2sa",
      "execution_count": null,
      "outputs": [
        {
          "output_type": "stream",
          "text": [
            "Number of missing values after imputation: 0\n"
          ],
          "name": "stdout"
        }
      ]
    },
    {
      "cell_type": "markdown",
      "metadata": {
        "id": "ikF1Hppww2sa"
      },
      "source": [
        "### Modelo baseline"
      ],
      "id": "ikF1Hppww2sa"
    },
    {
      "cell_type": "markdown",
      "metadata": {
        "id": "mnW4mN--91N-"
      },
      "source": [
        "A continuación, se entrena y analizan las métricas de un primer modelo, que será considerado como el \"Modelo de base\"."
      ],
      "id": "mnW4mN--91N-"
    },
    {
      "cell_type": "markdown",
      "metadata": {
        "id": "BWkS2E9jw2sb"
      },
      "source": [
        "#### Métricas"
      ],
      "id": "BWkS2E9jw2sb"
    },
    {
      "cell_type": "code",
      "metadata": {
        "id": "npKSBosFw2sb"
      },
      "source": [
        "# Partiendo del hecho que es un modelo de clasificación, desbalanceado\n",
        "# ¿Qué métricas utilizaremos y por qué? ¿Qué quiere decir cada métrica en términos de negocio?\n",
        "# ¿Cuál métrica sería la más útil para presentar al cliente?"
      ],
      "id": "npKSBosFw2sb",
      "execution_count": null,
      "outputs": []
    },
    {
      "cell_type": "markdown",
      "metadata": {
        "id": "WOYhkD8tCYUt"
      },
      "source": [
        "Es un modelo de clasificación desbalanceado dado que tenemos solamente un 11% de las observaciones dentro del grupo que efectivamente contrató el PF (clase 1). Esta, por tanto, pasaría a ser la clase minoritaria. Este desbalance de casos empleado para entrenar modelos puede afectar el proceso de generalización de la información (y predicción de la clase).\n",
        "\n",
        "Debido al desbalance, métricas genéricas como la *accuracy* (precisión global del modelo) no serían útiles para evaluar la bondad de un modelo predictivo. \n",
        "\n",
        "Entre algunas opciones de métricas que se podrían emplear en este caso surgen la *balanced accuracy*, o la *curva ROC*. Alternativamente, se debe prestar atención a la precisión y recall de cada una de las clases, o a su medida resumen, *F1-Score* de cada clase también.\n",
        "\n",
        "En términos del problema que aquí se plantea y pensando en la estrategia para brindar información útil al cliente, tendríamos que optar por una métrica que mida la capacidad del modelo para minimizar el error de clasificación dentro de la clase minoritaria. Es decir, aquella que refleje la cantidad de veces que el modelo predice correctamente a un cliente que contrataría el PF.\n"
      ],
      "id": "WOYhkD8tCYUt"
    },
    {
      "cell_type": "markdown",
      "metadata": {
        "id": "KdTKarj8w2sc"
      },
      "source": [
        "#### Entrenamiento del modelo"
      ],
      "id": "KdTKarj8w2sc"
    },
    {
      "cell_type": "code",
      "metadata": {
        "id": "u8oWizoqw2sc"
      },
      "source": [
        "# Entrenaremos varios modelos de scikit-learn que permitan clasificación binaria"
      ],
      "id": "u8oWizoqw2sc",
      "execution_count": null,
      "outputs": []
    },
    {
      "cell_type": "markdown",
      "metadata": {
        "id": "29xHJ0xvGWVh"
      },
      "source": [
        "Existen disferentes modelos que pueden ser empleados para clasificación binaria, a saber: \n",
        "- Árboles de decisión\n",
        "- Regresión logística\n",
        "- Stochastic Gradient Descent - Classifier\n",
        "- Naive Bayes\n",
        "- Support Vector Machines\n",
        "- Métodos de ensemble\n",
        "\n",
        "Entre los principales. \n",
        "\n",
        "Como \"modelo base\" optaremos por el entrenamiento de un modelo de Árboles de Decisión. "
      ],
      "id": "29xHJ0xvGWVh"
    },
    {
      "cell_type": "code",
      "metadata": {
        "id": "OiJXUuLbYYXt"
      },
      "source": [
        "#Aplicamos las transformaciones previas a los conjuntos de Train y Test\n",
        "\n",
        "variables_categoricas = ['job', 'marital','education','housing', 'loan','contact','poutcome']\n",
        "variables_numericas = ['age', 'campaign','previous','euribor3m','cons.conf.idx' ]\n",
        "\n",
        "# Filtramos las variables que seleccionamos\n",
        "X_t = X_train[variables_categoricas + variables_numericas]\n",
        "X_v = X_val[variables_categoricas + variables_numericas]\n",
        "\n",
        "\n",
        "pipeline_numerico = Pipeline([\n",
        "                             ('select_numeric_columns', SelectColumnsTransformer(variables_numericas))     #Para este modelo no es necesario escalar las variables numéricas\n",
        "                            ])\n",
        "\n",
        "pipeline_categorico = Pipeline ([('imputer', SimpleImputer(strategy='most_frequent', missing_values = 'unknown')),\n",
        "                                   ('cat', OneHotEncoder())])\n",
        "\n",
        "pipeline_completo = ColumnTransformer([('num', pipeline_numerico, variables_numericas),\n",
        "                                       ('cat', pipeline_categorico, variables_categoricas)\n",
        "                                      ])\n",
        "\n",
        "\n",
        "train_dt = pipeline_completo.fit_transform(X_t)\n",
        "val_dt = pipeline_completo.fit_transform(X_v)"
      ],
      "id": "OiJXUuLbYYXt",
      "execution_count": null,
      "outputs": []
    },
    {
      "cell_type": "code",
      "metadata": {
        "id": "nSwYkd4TYmvP",
        "colab": {
          "base_uri": "https://localhost:8080/"
        },
        "outputId": "1881b643-6ac8-4b4c-c2a5-813a3bbfb0fc"
      },
      "source": [
        "#Corremos un DT con los parámetros por defecto\n",
        "\n",
        "from sklearn.tree import DecisionTreeClassifier\n",
        "clf = DecisionTreeClassifier(random_state=0)\n",
        "clf.fit(train_dt, y_train)"
      ],
      "id": "nSwYkd4TYmvP",
      "execution_count": null,
      "outputs": [
        {
          "output_type": "execute_result",
          "data": {
            "text/plain": [
              "DecisionTreeClassifier(ccp_alpha=0.0, class_weight=None, criterion='gini',\n",
              "                       max_depth=None, max_features=None, max_leaf_nodes=None,\n",
              "                       min_impurity_decrease=0.0, min_impurity_split=None,\n",
              "                       min_samples_leaf=1, min_samples_split=2,\n",
              "                       min_weight_fraction_leaf=0.0, presort='deprecated',\n",
              "                       random_state=0, splitter='best')"
            ]
          },
          "metadata": {
            "tags": []
          },
          "execution_count": 19
        }
      ]
    },
    {
      "cell_type": "code",
      "metadata": {
        "id": "3itC136kY0Wc",
        "colab": {
          "base_uri": "https://localhost:8080/"
        },
        "outputId": "372a1a52-aa80-440e-ae8d-813dfafe02e3"
      },
      "source": [
        "#Predecimos y obtenemos las métricas de este modelo\n",
        "y_train_pred= clf.predict(train_dt)\n",
        "y_val_pred=clf.predict(val_dt)\n",
        "\n",
        "print(\"ENTRENAMIENTO\")\n",
        "print(classification_report(y_train, y_train_pred))\n",
        "\n",
        "print(\"VALIDACIÓN\")\n",
        "print(classification_report(y_val, y_val_pred))"
      ],
      "id": "3itC136kY0Wc",
      "execution_count": null,
      "outputs": [
        {
          "output_type": "stream",
          "text": [
            "ENTRENAMIENTO\n",
            "              precision    recall  f1-score   support\n",
            "\n",
            "           0       0.99      1.00      1.00     23390\n",
            "           1       1.00      0.95      0.98      2970\n",
            "\n",
            "    accuracy                           0.99     26360\n",
            "   macro avg       1.00      0.98      0.99     26360\n",
            "weighted avg       0.99      0.99      0.99     26360\n",
            "\n",
            "VALIDACIÓN\n",
            "              precision    recall  f1-score   support\n",
            "\n",
            "           0       0.91      0.90      0.91      5848\n",
            "           1       0.30      0.33      0.32       742\n",
            "\n",
            "    accuracy                           0.84      6590\n",
            "   macro avg       0.61      0.62      0.61      6590\n",
            "weighted avg       0.85      0.84      0.84      6590\n",
            "\n"
          ],
          "name": "stdout"
        }
      ]
    },
    {
      "cell_type": "code",
      "metadata": {
        "id": "TNGyvUxLY9pE",
        "colab": {
          "base_uri": "https://localhost:8080/",
          "height": 281
        },
        "outputId": "f83796a5-b891-4301-fb4e-eeefe74d985f"
      },
      "source": [
        "#Generamos la matriz de confusión para interpretar con mayor claridad los resultados\n",
        "from sklearn.metrics import confusion_matrix\n",
        "cm=confusion_matrix(y_val,y_val_pred)\n",
        "\n",
        "sns.heatmap(cm, annot=True)\n",
        "\n",
        "plt.title(\"Confusion matrix\")   \n",
        "plt.show()"
      ],
      "id": "TNGyvUxLY9pE",
      "execution_count": null,
      "outputs": [
        {
          "output_type": "display_data",
          "data": {
            "image/png": "[encoded data removed]",
            "text/plain": [
              "<Figure size 432x288 with 2 Axes>"
            ]
          },
          "metadata": {
            "tags": [],
            "needs_background": "light"
          }
        }
      ]
    },
    {
      "cell_type": "markdown",
      "metadata": {
        "id": "f_CAGeWhM67G"
      },
      "source": [
        "En esta primera aproximación, el modelo podría estar overfiteando el conjunto de train. En ese conjunto, las métricas de precision, recall y f1 son altas para ambas clases. No obstante, al probar el modelo en el conjunto de validación, los resultados siguen siendo buenos para la clase mayoritaria pero son mucho peores para la clase minoritaria (Clase 1 - Contrató el PF).\n",
        "\n",
        "En suma, el modelo propuesto no es muy efectivo para clasificar a los clientes que contratarían el PF (baja precision y baja recall). \n",
        "\n",
        "Estas conclusiones pueden observarse también por medio de la matriz de confusión del conjunto de validación. En términos de esta mariz, el objetivo es maximizar los valores que se encuentran en la diagonal princial (observaciones correctamente clasificadas para cada clase) y minimizar los valores de la diagonal secundaria (errores de clasificación de cada clase). \n",
        "En este caso puntual, el objetivo sería minimizar la cantidad de observaciones en el cuadrante inferior izquierdo, que representa clientes que contrataron el PF pero fueron clasificados por el modelo como que no lo contratarían.\n",
        "O el cuadrante superior derecho, que representa clientes que no contrataron el PF pero fueron clasificados por el modelo como que si lo contratarían."
      ],
      "id": "f_CAGeWhM67G"
    },
    {
      "cell_type": "markdown",
      "metadata": {
        "id": "82X33esnw2sd"
      },
      "source": [
        "#### Cross validation"
      ],
      "id": "82X33esnw2sd"
    },
    {
      "cell_type": "code",
      "metadata": {
        "id": "WTXi4Vwew2sd",
        "colab": {
          "base_uri": "https://localhost:8080/"
        },
        "outputId": "2fe78c2a-fd34-451c-c71e-8ae514e18b50"
      },
      "source": [
        "# Vamos a utilizar cross validation en train set, esto nos dará aún más seguridad sobre las métricas\n",
        "\n",
        "from sklearn.model_selection import cross_val_score\n",
        "print(cross_val_score(clf, np.array(y_train).reshape(-1, 1), np.array(y_train_pred).reshape(-1, 1), cv=10))\n",
        "print(cross_val_score(clf, np.array(y_val).reshape(-1, 1), np.array(y_val_pred).reshape(-1, 1), cv=10))"
      ],
      "id": "WTXi4Vwew2sd",
      "execution_count": null,
      "outputs": [
        {
          "output_type": "stream",
          "text": [
            "[0.99506829 0.99468892 0.99544765 0.99355083 0.99355083 0.99430956\n",
            " 0.99430956 0.99620637 0.99430956 0.99582701]\n",
            "[0.87860395 0.87860395 0.87860395 0.87708649 0.87708649 0.87708649\n",
            " 0.87708649 0.87708649 0.87708649 0.87708649]\n"
          ],
          "name": "stdout"
        }
      ]
    },
    {
      "cell_type": "markdown",
      "metadata": {
        "id": "-XCrQdIEw2se"
      },
      "source": [
        "### Prueba con DT - Hiperparámetros personalizados"
      ],
      "id": "-XCrQdIEw2se"
    },
    {
      "cell_type": "code",
      "metadata": {
        "colab": {
          "base_uri": "https://localhost:8080/"
        },
        "id": "Vq8r55Fjt7BF",
        "outputId": "9cca5cb8-9c7c-4e34-c0f5-c495a7b9cdec"
      },
      "source": [
        "clf = DecisionTreeClassifier(random_state=0, criterion = 'gini', max_depth = 10, min_samples_leaf = 3, min_samples_split = 2, class_weight=\"balanced\")\n",
        "clf.fit(train_dt, y_train)"
      ],
      "id": "Vq8r55Fjt7BF",
      "execution_count": null,
      "outputs": [
        {
          "output_type": "execute_result",
          "data": {
            "text/plain": [
              "DecisionTreeClassifier(ccp_alpha=0.0, class_weight='balanced', criterion='gini',\n",
              "                       max_depth=10, max_features=None, max_leaf_nodes=None,\n",
              "                       min_impurity_decrease=0.0, min_impurity_split=None,\n",
              "                       min_samples_leaf=3, min_samples_split=2,\n",
              "                       min_weight_fraction_leaf=0.0, presort='deprecated',\n",
              "                       random_state=0, splitter='best')"
            ]
          },
          "metadata": {
            "tags": []
          },
          "execution_count": 25
        }
      ]
    },
    {
      "cell_type": "code",
      "metadata": {
        "colab": {
          "base_uri": "https://localhost:8080/"
        },
        "id": "sQqug_oruXjN",
        "outputId": "ce1f16a2-6ebd-4efc-a473-d4ab196384fe"
      },
      "source": [
        "#Predecimos y obtenemos las métricas de este modelo\n",
        "y_train_pred= clf.predict(train_dt)\n",
        "y_val_pred=clf.predict(val_dt)\n",
        "\n",
        "print(\"ENTRENAMIENTO\")\n",
        "print(classification_report(y_train, y_train_pred))\n",
        "\n",
        "print(\"VALIDACIÓN\")\n",
        "print(classification_report(y_val, y_val_pred))"
      ],
      "id": "sQqug_oruXjN",
      "execution_count": null,
      "outputs": [
        {
          "output_type": "stream",
          "text": [
            "ENTRENAMIENTO\n",
            "              precision    recall  f1-score   support\n",
            "\n",
            "           0       0.96      0.84      0.90     23390\n",
            "           1       0.37      0.72      0.49      2970\n",
            "\n",
            "    accuracy                           0.83     26360\n",
            "   macro avg       0.66      0.78      0.69     26360\n",
            "weighted avg       0.89      0.83      0.85     26360\n",
            "\n",
            "VALIDACIÓN\n",
            "              precision    recall  f1-score   support\n",
            "\n",
            "           0       0.94      0.83      0.88      5848\n",
            "           1       0.31      0.60      0.41       742\n",
            "\n",
            "    accuracy                           0.80      6590\n",
            "   macro avg       0.62      0.72      0.64      6590\n",
            "weighted avg       0.87      0.80      0.83      6590\n",
            "\n"
          ],
          "name": "stdout"
        }
      ]
    },
    {
      "cell_type": "code",
      "metadata": {
        "colab": {
          "base_uri": "https://localhost:8080/",
          "height": 281
        },
        "id": "fPHoZOHkutBe",
        "outputId": "6ed337fe-50af-4ca7-f1f2-84a09a07dc9a"
      },
      "source": [
        "#Generamos la matriz de confusión para interpretar con mayor claridad los resultados\n",
        "from sklearn.metrics import confusion_matrix\n",
        "cm=confusion_matrix(y_val,y_val_pred)\n",
        "\n",
        "sns.heatmap(cm, annot=True)\n",
        "\n",
        "plt.title(\"Confusion matrix\")   \n",
        "plt.show()"
      ],
      "id": "fPHoZOHkutBe",
      "execution_count": null,
      "outputs": [
        {
          "output_type": "display_data",
          "data": {
            "image/png": "[encoded data removed]",
            "text/plain": [
              "<Figure size 432x288 with 2 Axes>"
            ]
          },
          "metadata": {
            "tags": [],
            "needs_background": "light"
          }
        }
      ]
    },
    {
      "cell_type": "markdown",
      "metadata": {
        "id": "fyY3ZSTNOCbf"
      },
      "source": [
        "En esta última matriz de confusión es posible observar que se incrementaron los casos correctamente clasificados dentro de la clase 1 (contrató PF)."
      ],
      "id": "fyY3ZSTNOCbf"
    },
    {
      "cell_type": "markdown",
      "metadata": {
        "id": "PGSbeeC_uyos"
      },
      "source": [
        "#### Cross validation"
      ],
      "id": "PGSbeeC_uyos"
    },
    {
      "cell_type": "code",
      "metadata": {
        "colab": {
          "base_uri": "https://localhost:8080/"
        },
        "id": "NDYm7Wt9uyos",
        "outputId": "9f119e24-6c65-49e8-92f4-3afac6657081"
      },
      "source": [
        "# Vamos a utilizar cross validation en train set, esto nos dará aún más seguridad sobre las métricas\n",
        "\n",
        "from sklearn.model_selection import cross_val_score\n",
        "print(cross_val_score(clf, np.array(y_train).reshape(-1, 1), np.array(y_train_pred).reshape(-1, 1), cv=10))\n",
        "print(cross_val_score(clf, np.array(y_val).reshape(-1, 1), np.array(y_val_pred).reshape(-1, 1), cv=10))"
      ],
      "id": "NDYm7Wt9uyos",
      "execution_count": null,
      "outputs": [
        {
          "output_type": "stream",
          "text": [
            "[0.83383915 0.82738998 0.81828528 0.83345979 0.82966616 0.83042489\n",
            " 0.82966616 0.82094082 0.823217   0.83004552]\n",
            "[0.81487102 0.80273141 0.80424886 0.80121396 0.80576631 0.784522\n",
            " 0.80728376 0.77996965 0.81335357 0.81031866]\n"
          ],
          "name": "stdout"
        }
      ]
    },
    {
      "cell_type": "markdown",
      "metadata": {
        "id": "V_vZCp_3w2sm"
      },
      "source": [
        "### Guardar el modelo en formato .pkl"
      ],
      "id": "V_vZCp_3w2sm"
    },
    {
      "cell_type": "code",
      "metadata": {
        "id": "b1Hgt4q4w2sm"
      },
      "source": [
        "import pickle\n",
        "\n",
        "def save_pkl(model, pkl_filename):\n",
        "    with open(pkl_filename, 'wb') as file:\n",
        "        pickle.dump(model, file)\n",
        "        \n",
        "save_pkl(clf, 'best_svm_clf.pkl')"
      ],
      "id": "b1Hgt4q4w2sm",
      "execution_count": null,
      "outputs": []
    }
  ]
}