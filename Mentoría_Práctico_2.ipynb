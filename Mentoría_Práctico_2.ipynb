{
  "nbformat": 4,
  "nbformat_minor": 5,
  "metadata": {
    "kernelspec": {
      "display_name": "Python 3",
      "language": "python",
      "name": "python3"
    },
    "language_info": {
      "codemirror_mode": {
        "name": "ipython",
        "version": 3
      },
      "file_extension": ".py",
      "mimetype": "text/x-python",
      "name": "python",
      "nbconvert_exporter": "python",
      "pygments_lexer": "ipython3",
      "version": "3.8.8"
    },
    "toc-autonumbering": true,
    "colab": {
      "name": "Mentoría-Práctico 2.ipynb",
      "provenance": [],
      "collapsed_sections": [
        "ad2e5dd3-2d30-4466-b791-d592c992867f",
        "9aede13d-ab5a-4ab6-865b-be6132770e5c"
      ],
      "toc_visible": true
    }
  },
  "cells": [
    {
      "cell_type": "markdown",
      "metadata": {
        "id": "3d777221-43e0-4eec-86f9-ecc19f327675"
      },
      "source": [
        "# Práctico 02: Análisis Exploratorio y Curación"
      ],
      "id": "3d777221-43e0-4eec-86f9-ecc19f327675"
    },
    {
      "cell_type": "code",
      "metadata": {
        "id": "d6e3a8e9-d57f-43bc-8574-cb8b8640cf95"
      },
      "source": [
        "import numpy as np\n",
        "import io\n",
        "import pandas as pd\n",
        "import matplotlib.pyplot as plt\n",
        "import seaborn as sns\n",
        "import warnings\n",
        "warnings.filterwarnings('ignore')"
      ],
      "id": "d6e3a8e9-d57f-43bc-8574-cb8b8640cf95",
      "execution_count": null,
      "outputs": []
    },
    {
      "cell_type": "code",
      "metadata": {
        "id": "98IwITDa1ygP"
      },
      "source": [
        "#Definimos algunas funciones que vamos a usar\n",
        "\n",
        "def to_categorical(column, bin_size=10, min_cut=15, max_cut=65):\n",
        "    if min_cut is None:\n",
        "        min_cut = int(round(column.min())) - 1\n",
        "    value_max = int(np.ceil(column.max()))\n",
        "    max_cut = min(max_cut, value_max)\n",
        "    intervals = [(x, x + bin_size) for x in np.arange(min_cut, max_cut, bin_size)]\n",
        "    if max_cut != value_max:\n",
        "        intervals.append((max_cut, value_max))\n",
        "    return pd.cut(column, pd.IntervalIndex.from_tuples(intervals))"
      ],
      "id": "98IwITDa1ygP",
      "execution_count": null,
      "outputs": []
    },
    {
      "cell_type": "code",
      "metadata": {
        "id": "DkgjbfM6HkyP"
      },
      "source": [
        "def rescale(df,column,tcolumn):\n",
        "  min = np.min(df[column])\n",
        "  max = np.max(df[column])\n",
        "  scaled_col = tcolumn*(max-min) + min\n",
        "  return scaled_col"
      ],
      "id": "DkgjbfM6HkyP",
      "execution_count": null,
      "outputs": []
    },
    {
      "cell_type": "code",
      "metadata": {
        "id": "0XqyVp3_4nLS"
      },
      "source": [
        "def to_numerical(df,column,tcolumn):\n",
        "  l = list(df[df[column].notna()][column].unique())\n",
        "  df.loc[df[column].isna(),tcolumn] = np.nan\n",
        "  for i,item in enumerate(l):\n",
        "    # if len(df[df[column] == item]) > 0:\n",
        "    # print(i+1,item)\n",
        "    df.loc[df[column] == item,tcolumn] = i+1  "
      ],
      "id": "0XqyVp3_4nLS",
      "execution_count": null,
      "outputs": []
    },
    {
      "cell_type": "code",
      "metadata": {
        "id": "SCvGu_qYU9MN"
      },
      "source": [
        "def restore_category(df,column,tcolumn):\n",
        "  l = list(df[df[column].notna()][column].unique())\n",
        "  n = list(df[tcolumn].unique())\n",
        "  for number in n:\n",
        "    print(number,l[number-1])\n",
        "    df.loc[df[tcolumn] == number, column] = l[number-1]\n",
        "  # for i,item in enumerate(l):\n",
        "      # df.loc[df[tcolumn] == n, column] = item\n"
      ],
      "id": "SCvGu_qYU9MN",
      "execution_count": null,
      "outputs": []
    },
    {
      "cell_type": "code",
      "metadata": {
        "id": "66f58817-99a9-420e-ba98-8515f8d7b153"
      },
      "source": [
        "# Opción para ver todas las columnas del dataset en el notebook\n",
        "pd.set_option('display.max_columns', 50)"
      ],
      "id": "66f58817-99a9-420e-ba98-8515f8d7b153",
      "execution_count": null,
      "outputs": []
    },
    {
      "cell_type": "markdown",
      "metadata": {
        "id": "c5a7e865-52b6-44cf-9304-9bf9f9f8de3c"
      },
      "source": [
        "## Objetivo del práctico"
      ],
      "id": "c5a7e865-52b6-44cf-9304-9bf9f9f8de3c"
    },
    {
      "cell_type": "markdown",
      "metadata": {
        "id": "ad2e5dd3-2d30-4466-b791-d592c992867f"
      },
      "source": [
        "### Verificar variable por variable\n",
        "- Distribución\n",
        "- Valores nulos\n",
        "- Cardinalidad y distribución\n",
        "- Outliers\n",
        "- Fechas\n",
        "- Correlaciones\n",
        "- Otros aspectos..."
      ],
      "id": "ad2e5dd3-2d30-4466-b791-d592c992867f"
    },
    {
      "cell_type": "markdown",
      "metadata": {
        "id": "6a5ebc3d-05ce-4054-8c85-e0dcdd1ce1c1"
      },
      "source": [
        "### Modificar el dataset aplicando transformaciones"
      ],
      "id": "6a5ebc3d-05ce-4054-8c85-e0dcdd1ce1c1"
    },
    {
      "cell_type": "markdown",
      "metadata": {
        "id": "e50c78c7-480c-412d-9d54-e509416d2dfc"
      },
      "source": [
        "Una vez verificadas las variables tenemos que realizar transformaciones para que podamos utilizarlas en el futuro.\n",
        "- ¿Existen valores nulos? ¿Qué alternativas podrían realizarse?\n",
        "- ¿Existen outliers? ¿Qué podemos hacer con los outliers?\n",
        "- Debemos encodear los valores nulos correctamente, no deberíamos tener observaciones con valores como -99.\n",
        "- No cambiemos el nombre de las variables, pero sí podríamos cambiar los atributos si es necesario.\n",
        "- ¿Todas las variables son necesarias? ¿Deberíamos eliminar alguna columna?\n",
        "- ¿Existen variable correlacionadas? ¿Qué podemos hacer con éstas variables?\n"
      ],
      "id": "e50c78c7-480c-412d-9d54-e509416d2dfc"
    },
    {
      "cell_type": "markdown",
      "metadata": {
        "id": "7d3f5365-e26a-43ec-a2c3-d32af19f1277"
      },
      "source": [
        "### Presentación"
      ],
      "id": "7d3f5365-e26a-43ec-a2c3-d32af19f1277"
    },
    {
      "cell_type": "markdown",
      "metadata": {
        "id": "016b43f4-f32c-4633-b9ac-11b588309a40"
      },
      "source": [
        "Al final del práctico, es necesario hacer 1 o 2 slides que irán incluidos en la presentación final.  \n",
        "Los slides deberán contener las principales transformaciones que realizamos en el dataset.  \n",
        "Además será necesario realizar el primer video con la explicación de los prácticos 1 y 2."
      ],
      "id": "016b43f4-f32c-4633-b9ac-11b588309a40"
    },
    {
      "cell_type": "markdown",
      "metadata": {
        "id": "9d816609-1700-4638-a473-f89f92561cd0"
      },
      "source": [
        "### Librerías recomendadas"
      ],
      "id": "9d816609-1700-4638-a473-f89f92561cd0"
    },
    {
      "cell_type": "markdown",
      "metadata": {
        "id": "f6a9029c-0df9-4b15-96f8-fdc0464cd561"
      },
      "source": [
        "Sólo usaremos la librería \"pandas\". Recomiendo el siguiente material:  \n",
        "- https://jakevdp.github.io/PythonDataScienceHandbook/ -> Muy buen libro con explicaciones claras de cómo funciona lo básico de pandas (cap. 3)\n",
        "- https://pandas.pydata.org/docs/index.html -> Referencia de pandas, para buscar funciones, ejemplos, etc."
      ],
      "id": "f6a9029c-0df9-4b15-96f8-fdc0464cd561"
    },
    {
      "cell_type": "markdown",
      "metadata": {
        "id": "6aebe6c2-201c-4a50-9a23-5ac2b45e7e65"
      },
      "source": [
        "## **Resolución**"
      ],
      "id": "6aebe6c2-201c-4a50-9a23-5ac2b45e7e65"
    },
    {
      "cell_type": "markdown",
      "metadata": {
        "id": "5de799ed-8976-4434-8553-33224957c10f"
      },
      "source": [
        "### Leer el dataset"
      ],
      "id": "5de799ed-8976-4434-8553-33224957c10f"
    },
    {
      "cell_type": "code",
      "metadata": {
        "id": "bf3b1566-2bb9-446e-8f3d-bacbeca84539"
      },
      "source": [
        "# Leemos el dataset con la función de pandas \"read_csv\"\n",
        "url = \"https://raw.githubusercontent.com/AgusCarchano/Mentorias-grupo1/master/data/bank-additional-full.csv\"\n",
        "df = pd.read_csv(url, sep=\";\")"
      ],
      "id": "bf3b1566-2bb9-446e-8f3d-bacbeca84539",
      "execution_count": null,
      "outputs": []
    },
    {
      "cell_type": "markdown",
      "metadata": {
        "id": "MLAtKkE37W5g"
      },
      "source": [
        "Para poder continuar trabajando con nuestros datos, haremos la limpieza de los mismos, verificando cardinalidad, nulos, dispersiones, etc. Si es necesario, realizaremos agrupaciones y transformaciones."
      ],
      "id": "MLAtKkE37W5g"
    },
    {
      "cell_type": "markdown",
      "metadata": {
        "id": "21891885-8749-4bd7-80fe-42cd503fc27b"
      },
      "source": [
        "### Análisis de las variables\n",
        "\n",
        "El análisis de cada una de las variables fue expuesto en la notebook de Análisis de datos. No obstante, algunos puntos serán explorados en mayor profundidad aquí."
      ],
      "id": "21891885-8749-4bd7-80fe-42cd503fc27b"
    },
    {
      "cell_type": "markdown",
      "metadata": {
        "id": "4fb0f243-4165-4e18-86f8-9a0edc89fa8c"
      },
      "source": [
        "#### Valores nulos"
      ],
      "id": "4fb0f243-4165-4e18-86f8-9a0edc89fa8c"
    },
    {
      "cell_type": "code",
      "metadata": {
        "colab": {
          "base_uri": "https://localhost:8080/"
        },
        "id": "9LhLhpwbbmQc",
        "outputId": "b97ad44d-3c2e-47d4-ccf3-7e9ebcd821ee"
      },
      "source": [
        "df.isna().sum()    #conteo de valores NaN"
      ],
      "id": "9LhLhpwbbmQc",
      "execution_count": null,
      "outputs": [
        {
          "output_type": "execute_result",
          "data": {
            "text/plain": [
              "age               0\n",
              "job               0\n",
              "marital           0\n",
              "education         0\n",
              "default           0\n",
              "housing           0\n",
              "loan              0\n",
              "contact           0\n",
              "month             0\n",
              "day_of_week       0\n",
              "duration          0\n",
              "campaign          0\n",
              "pdays             0\n",
              "previous          0\n",
              "poutcome          0\n",
              "emp.var.rate      0\n",
              "cons.price.idx    0\n",
              "cons.conf.idx     0\n",
              "euribor3m         0\n",
              "nr.employed       0\n",
              "y                 0\n",
              "dtype: int64"
            ]
          },
          "metadata": {
            "tags": []
          },
          "execution_count": 26
        }
      ]
    },
    {
      "cell_type": "markdown",
      "metadata": {
        "id": "uADt8xytb3pk"
      },
      "source": [
        "Si bien las variables de la base de datos no presentan datos nulos o NaN, durante el análisis de datos se advirtió que existen observaciones con ciertos valores y/0 codificaciones para las variables que habría que revisar. \n",
        "\n",
        "Por ejemplo, las observaciones que se agrupan en \"desconocido\" dentro de las variables categóricas, las observaciones que cuentan con un valor igual a \"999\" para la variable pdays (por no haber sido contactadas previamente), las observaciones \"nonexistent\" de poutcome, y los registros donde duration = 0, que deberían ser tratados de manera especial, de alguna manera, ya que por defecto esos registros tienen y = 'no', y en realidad no son estrictamente un caso de \"fracaso\"."
      ],
      "id": "uADt8xytb3pk"
    },
    {
      "cell_type": "markdown",
      "metadata": {
        "id": "_C4sgin_HhCZ"
      },
      "source": [
        "Primeramente, buscamos insconsistencias en los datos, basándonos en pdays = 999"
      ],
      "id": "_C4sgin_HhCZ"
    },
    {
      "cell_type": "code",
      "metadata": {
        "colab": {
          "base_uri": "https://localhost:8080/",
          "height": 387
        },
        "id": "hcAfoZs_7n2D",
        "outputId": "ea47c490-494c-422d-9328-6da4a961e4a9"
      },
      "source": [
        "#previous calls para aquellas observaciones que indicarían que nunca fueron contactados anteriormente\n",
        "plt.figure(figsize=(12,6))\n",
        "sns.histplot(data=df[df.pdays == 999],x=\"previous\")\n",
        "plt.show()"
      ],
      "id": "hcAfoZs_7n2D",
      "execution_count": null,
      "outputs": [
        {
          "output_type": "display_data",
          "data": {
            "image/png": "[encoded data removed]",
            "text/plain": [
              "<Figure size 864x432 with 1 Axes>"
            ]
          },
          "metadata": {
            "tags": [],
            "needs_background": "light"
          }
        }
      ]
    },
    {
      "cell_type": "code",
      "metadata": {
        "colab": {
          "base_uri": "https://localhost:8080/",
          "height": 387
        },
        "id": "aMvc5FrOMQ0n",
        "outputId": "894dac8a-2175-4757-e34c-acc91278d9e9"
      },
      "source": [
        "plt.figure(figsize=(12,6))\n",
        "sns.countplot(data=df[df.pdays == 999],x=\"previous\", hue = \"poutcome\")\n",
        "plt.show()"
      ],
      "id": "aMvc5FrOMQ0n",
      "execution_count": null,
      "outputs": [
        {
          "output_type": "display_data",
          "data": {
            "image/png": "[encoded data removed]",
            "text/plain": [
              "<Figure size 864x432 with 1 Axes>"
            ]
          },
          "metadata": {
            "tags": [],
            "needs_background": "light"
          }
        }
      ]
    },
    {
      "cell_type": "code",
      "metadata": {
        "colab": {
          "base_uri": "https://localhost:8080/",
          "height": 387
        },
        "id": "S196PyE5Hq43",
        "outputId": "d9083fa4-4f34-4614-e1fa-190e3d86592f"
      },
      "source": [
        "#poutcome\n",
        "plt.figure(figsize=(12,6))\n",
        "sns.countplot(data=df[df.pdays == 999],x=\"poutcome\")\n",
        "plt.show()"
      ],
      "id": "S196PyE5Hq43",
      "execution_count": null,
      "outputs": [
        {
          "output_type": "display_data",
          "data": {
            "image/png": "[encoded data removed]",
            "text/plain": [
              "<Figure size 864x432 with 1 Axes>"
            ]
          },
          "metadata": {
            "tags": [],
            "needs_background": "light"
          }
        }
      ]
    },
    {
      "cell_type": "markdown",
      "metadata": {
        "id": "WeywhV-fKNSh"
      },
      "source": [
        "Hay un subonjunto de clientes que tienen cargado en pdays el valor 999 (indicativo de que no fue contactado previamente en campañas anteriores), pero que, sin embargo, indican que fueron contactados más de una vez antes de esta campaña (variable previous) y fueron categorizados como casos de \"Failure\" en para la variable poutcome. Esto nos lleva a concluir que **existe una inconsistencia en los datos**."
      ],
      "id": "WeywhV-fKNSh"
    },
    {
      "cell_type": "code",
      "metadata": {
        "colab": {
          "base_uri": "https://localhost:8080/"
        },
        "id": "q6FfneUXIUMe",
        "outputId": "08343c1e-6205-4102-e867-e7f87a77d6b2"
      },
      "source": [
        "#cantidad de casos inconsistentes\n",
        "inconsist_poutcome=len(df[(df.pdays == 999) & (df.poutcome == 'failure')])\n",
        "inconsist_previous=len(df[(df.pdays == 999) & (df.previous > 0)])\n",
        "inconsist_poutcome==inconsist_previous\n"
      ],
      "id": "q6FfneUXIUMe",
      "execution_count": null,
      "outputs": [
        {
          "output_type": "execute_result",
          "data": {
            "text/plain": [
              "True"
            ]
          },
          "metadata": {
            "tags": []
          },
          "execution_count": 30
        }
      ]
    },
    {
      "cell_type": "code",
      "metadata": {
        "colab": {
          "base_uri": "https://localhost:8080/"
        },
        "id": "pogiBwOV_td1",
        "outputId": "85b0555e-ebd2-4d09-c011-2acaf3f29a00"
      },
      "source": [
        "inconsist_poutcome"
      ],
      "id": "pogiBwOV_td1",
      "execution_count": null,
      "outputs": [
        {
          "output_type": "execute_result",
          "data": {
            "text/plain": [
              "4110"
            ]
          },
          "metadata": {
            "tags": []
          },
          "execution_count": 31
        }
      ]
    },
    {
      "cell_type": "markdown",
      "metadata": {
        "id": "uDFWPsvURAUf"
      },
      "source": [
        "Estos 4.110 registros representan un dato faltante o missing para la variable pdays, y podría ser relevante realizar alguna imputación que los diferencie del resto de los casos para los cuales pdays es igual a 999 (que representarían correctamente a los casos en que el cliente no fue contactado previamente).\n"
      ],
      "id": "uDFWPsvURAUf"
    },
    {
      "cell_type": "code",
      "metadata": {
        "colab": {
          "base_uri": "https://localhost:8080/"
        },
        "id": "RSZnoNbr76nG",
        "outputId": "e3b83975-0d90-45bc-fbf9-4549bea45ac2"
      },
      "source": [
        "print(\"% casos inconsistentes sobre el total: \", inconsist_poutcome/len(df)*100, \"%\")"
      ],
      "id": "RSZnoNbr76nG",
      "execution_count": null,
      "outputs": [
        {
          "output_type": "stream",
          "text": [
            "% casos inconsistentes sobre el total:  9.97863455375352 %\n"
          ],
          "name": "stdout"
        }
      ]
    },
    {
      "cell_type": "markdown",
      "metadata": {
        "id": "ef09fa6b-4504-4997-8c10-bfd162d3ab81"
      },
      "source": [
        "#### Outliers"
      ],
      "id": "ef09fa6b-4504-4997-8c10-bfd162d3ab81"
    },
    {
      "cell_type": "markdown",
      "metadata": {
        "id": "MptVWVP53nk3"
      },
      "source": [
        "En el análisis preliminar realizado para el práctico 1 se detectaron outliers en 2 de las variables numéricas: duration y campaign. A continuación, un análisis más detallado de esto."
      ],
      "id": "MptVWVP53nk3"
    },
    {
      "cell_type": "code",
      "metadata": {
        "id": "Np6Km2jznU7h",
        "colab": {
          "base_uri": "https://localhost:8080/",
          "height": 507
        },
        "outputId": "28995a92-75f6-48c0-9a8f-bdeca2aabad8"
      },
      "source": [
        "#Outliers en la variable duration\n",
        "f, (ax_box, ax_hist) = plt.subplots(2, sharex=True, figsize=(10,7),gridspec_kw={\"height_ratios\": (.15, .85)})\n",
        "\n",
        "sns.boxplot(df.duration, ax=ax_box)\n",
        "sns.distplot(df.duration, ax=ax_hist, kde=False, hist=False)\n",
        "sns.distplot(df.duration, ax=ax_hist, kde=True, hist=True,norm_hist=False)\n",
        "plt.axvline(df.duration.quantile(0.25))\n",
        "plt.axvline(df.duration.quantile(0.50),color='g')\n",
        "plt.axvline(df.duration.quantile(0.75))\n",
        "plt.ticklabel_format(style='plain', axis='x') \n",
        "plt.show()\n",
        "\n",
        "\n",
        "print(\"Duración promedio=\", df.duration.mean()/60, \" minutos\")\n",
        "print(\"Duración Máxima=\", df.duration.max()/60, \" minutos\")\n",
        "print(\"Duración Máxima=\", df.duration.max(), \" segundos\")\n",
        "print(\"Duración Mínima=\", df.duration.min(), \" segundos\")"
      ],
      "id": "Np6Km2jznU7h",
      "execution_count": null,
      "outputs": [
        {
          "output_type": "display_data",
          "data": {
            "image/png": "[encoded data removed]",
            "text/plain": [
              "<Figure size 720x504 with 2 Axes>"
            ]
          },
          "metadata": {
            "tags": [],
            "needs_background": "light"
          }
        },
        {
          "output_type": "stream",
          "text": [
            "Duración promedio= 4.304750169952413  minutos\n",
            "Duración Máxima= 81.96666666666667  minutos\n",
            "Duración Máxima= 4918  segundos\n",
            "Duración Mínima= 0  segundos\n"
          ],
          "name": "stdout"
        }
      ]
    },
    {
      "cell_type": "code",
      "metadata": {
        "colab": {
          "base_uri": "https://localhost:8080/",
          "height": 387
        },
        "id": "rafSo8B2dzOP",
        "outputId": "59a01ad3-2e0c-4238-af22-1bed53473868"
      },
      "source": [
        "#Filtramos por el percentil 97.5\n",
        "plt.figure(figsize=(6,6))\n",
        "sns.boxplot(df.duration[df.duration <=df.duration.quantile(0.975) ])\n",
        "plt.show()"
      ],
      "id": "rafSo8B2dzOP",
      "execution_count": null,
      "outputs": [
        {
          "output_type": "display_data",
          "data": {
            "image/png": "[encoded data removed]",
            "text/plain": [
              "<Figure size 432x432 with 1 Axes>"
            ]
          },
          "metadata": {
            "tags": [],
            "needs_background": "light"
          }
        }
      ]
    },
    {
      "cell_type": "code",
      "metadata": {
        "colab": {
          "base_uri": "https://localhost:8080/"
        },
        "id": "2yBeZ_rQma0i",
        "outputId": "6c745bb6-966e-4948-ffc2-d331671f57b0"
      },
      "source": [
        "q975_duration=df.duration.quantile(0.975)\n",
        "q975_duration"
      ],
      "id": "2yBeZ_rQma0i",
      "execution_count": null,
      "outputs": [
        {
          "output_type": "execute_result",
          "data": {
            "text/plain": [
              "975.0"
            ]
          },
          "metadata": {
            "tags": []
          },
          "execution_count": 35
        }
      ]
    },
    {
      "cell_type": "markdown",
      "metadata": {
        "id": "ddZkb2h3k0vd"
      },
      "source": [
        "En las referencias del dataset se indica como una nota que: duration es un atributo que afecta altamente al resultado, ya que si la duración de la llamada fue 0, la respuesta entonces fue negativa (el cliente no contrató el PF). Luego de la llamada, el resultado es conocido con certeza. \n",
        "\n",
        "Por tanto, esta variable solo debería incluirse para análisis preliminares y **debería ser descartada si la intención es obtener un modelo predictivo realístico**. "
      ],
      "id": "ddZkb2h3k0vd"
    },
    {
      "cell_type": "code",
      "metadata": {
        "colab": {
          "base_uri": "https://localhost:8080/"
        },
        "id": "YF0OXPrXlxSQ",
        "outputId": "38598eb3-44a3-4283-9fc3-645c257f3c20"
      },
      "source": [
        "len(df[df.duration == 0])"
      ],
      "id": "YF0OXPrXlxSQ",
      "execution_count": null,
      "outputs": [
        {
          "output_type": "execute_result",
          "data": {
            "text/plain": [
              "4"
            ]
          },
          "metadata": {
            "tags": []
          },
          "execution_count": 36
        }
      ]
    },
    {
      "cell_type": "markdown",
      "metadata": {
        "id": "DAZE0Le0l1kv"
      },
      "source": [
        "Solamente hay 4 casos para los cuales duration = 0"
      ],
      "id": "DAZE0Le0l1kv"
    },
    {
      "cell_type": "code",
      "metadata": {
        "id": "Tmazr9eUnjhQ",
        "colab": {
          "base_uri": "https://localhost:8080/",
          "height": 403
        },
        "outputId": "80965df0-ecda-451f-8eea-8326d0e1d983"
      },
      "source": [
        "#outliers en la variable campaign\n",
        "plt.figure(figsize=(12,6))\n",
        "sns.boxplot(data=df,x=\"campaign\")\n",
        "print(\"Percentil 97.5: \",df.campaign.quantile(.975))          #el 97.5% de las personas fueron contactadas menos de 10 veces"
      ],
      "id": "Tmazr9eUnjhQ",
      "execution_count": null,
      "outputs": [
        {
          "output_type": "stream",
          "text": [
            "Percentil 97.5:  10.0\n"
          ],
          "name": "stdout"
        },
        {
          "output_type": "display_data",
          "data": {
            "image/png": "[encoded data removed]",
            "text/plain": [
              "<Figure size 864x432 with 1 Axes>"
            ]
          },
          "metadata": {
            "tags": [],
            "needs_background": "light"
          }
        }
      ]
    },
    {
      "cell_type": "code",
      "metadata": {
        "id": "Y8CUavaynhbv",
        "colab": {
          "base_uri": "https://localhost:8080/",
          "height": 403
        },
        "outputId": "47ad21f1-2c7e-4b7a-9e0b-aba9d7d7717b"
      },
      "source": [
        "#Hacemos el boxplot filtrando por x<= 10\n",
        "plt.figure(figsize=(12,6))\n",
        "sns.boxplot(data=df[df['campaign']<=10],x=\"campaign\")\n",
        "print(\"Percentil 97.5: \",df.campaign.quantile(.975))"
      ],
      "id": "Y8CUavaynhbv",
      "execution_count": null,
      "outputs": [
        {
          "output_type": "stream",
          "text": [
            "Percentil 97.5:  10.0\n"
          ],
          "name": "stdout"
        },
        {
          "output_type": "display_data",
          "data": {
            "image/png": "[encoded data removed]",
            "text/plain": [
              "<Figure size 864x432 with 1 Axes>"
            ]
          },
          "metadata": {
            "tags": [],
            "needs_background": "light"
          }
        }
      ]
    },
    {
      "cell_type": "code",
      "metadata": {
        "colab": {
          "base_uri": "https://localhost:8080/"
        },
        "id": "-4ABaz28aAfS",
        "outputId": "353a8f2b-4347-4e2c-ed84-ca0ac34aa699"
      },
      "source": [
        "q975_campaign=df.campaign.quantile(0.975)\n",
        "q975_campaign"
      ],
      "id": "-4ABaz28aAfS",
      "execution_count": null,
      "outputs": [
        {
          "output_type": "execute_result",
          "data": {
            "text/plain": [
              "10.0"
            ]
          },
          "metadata": {
            "tags": []
          },
          "execution_count": 39
        }
      ]
    },
    {
      "cell_type": "markdown",
      "metadata": {
        "id": "wB1Q7qL1ZIp0"
      },
      "source": [
        "En ambos casos, podríamos optar por eliminar a los valores que son mayores o iguales al quantil 97,5."
      ],
      "id": "wB1Q7qL1ZIp0"
    },
    {
      "cell_type": "markdown",
      "metadata": {
        "id": "c4e5d18a-bebb-49d6-8096-824ba4510256"
      },
      "source": [
        "#### Distribuciones de las variables numéricas"
      ],
      "id": "c4e5d18a-bebb-49d6-8096-824ba4510256"
    },
    {
      "cell_type": "markdown",
      "metadata": {
        "id": "q9jIYxad3-gT"
      },
      "source": [
        "En el Práctico 1 se expuso un análisis detallado de las distribuciones de variables numéricas. En lo que aquí continúa, se agregará el análisis de las variables de \"fecha\"."
      ],
      "id": "q9jIYxad3-gT"
    },
    {
      "cell_type": "code",
      "metadata": {
        "colab": {
          "base_uri": "https://localhost:8080/",
          "height": 387
        },
        "id": "T4pTFrKwtmyK",
        "outputId": "e163082b-e3c9-45c2-96ac-a4f675e65bb6"
      },
      "source": [
        "#Si graficamos porcentajes lo vemos aún mas claro, no hay un patrón claro en Yes o en No\n",
        "x,y = 'y','day_of_week'\n",
        "\n",
        "df1 = df.groupby(x)[y].value_counts(normalize=True)\n",
        "df1 = df1.mul(100)\n",
        "df1 = df1.rename('percent').reset_index()\n",
        "\n",
        "plt.figure(figsize=(12,6))\n",
        "sns.barplot(x=x,y='percent',hue=y,data=df1)\n",
        "plt.show()"
      ],
      "id": "T4pTFrKwtmyK",
      "execution_count": null,
      "outputs": [
        {
          "output_type": "display_data",
          "data": {
            "image/png": "[encoded data removed]",
            "text/plain": [
              "<Figure size 864x432 with 1 Axes>"
            ]
          },
          "metadata": {
            "tags": [],
            "needs_background": "light"
          }
        }
      ]
    },
    {
      "cell_type": "code",
      "metadata": {
        "colab": {
          "base_uri": "https://localhost:8080/",
          "height": 387
        },
        "id": "9jHwTvgBVDc5",
        "outputId": "521bc897-ea20-4923-f7c0-f94ef74fb146"
      },
      "source": [
        "#Si graficamos porcentajes lo vemos aún mas claro, no hay un patrón claro en Yes o en No\n",
        "x,y = 'y','month'\n",
        "\n",
        "df1 = df.groupby(x)[y].value_counts(normalize=True)\n",
        "df1 = df1.mul(100)\n",
        "df1 = df1.rename('percent').reset_index()\n",
        "\n",
        "plt.figure(figsize=(12,6))\n",
        "sns.barplot(x=x,y='percent',hue=y,data=df1)\n",
        "plt.show()"
      ],
      "id": "9jHwTvgBVDc5",
      "execution_count": null,
      "outputs": [
        {
          "output_type": "display_data",
          "data": {
            "image/png": "[encoded data removed]",
            "text/plain": [
              "<Figure size 864x432 with 1 Axes>"
            ]
          },
          "metadata": {
            "tags": [],
            "needs_background": "light"
          }
        }
      ]
    },
    {
      "cell_type": "markdown",
      "metadata": {
        "id": "balIBKEGVgbN"
      },
      "source": [
        "**Dado que no aporta información muy relevante, consideramos que esta variable podría ser eliminada del dataset luego de realizar las imputaciones por los datos faltantes**"
      ],
      "id": "balIBKEGVgbN"
    },
    {
      "cell_type": "markdown",
      "metadata": {
        "id": "70b5712c-8889-4e24-ab99-7c1a19705f63"
      },
      "source": [
        "#### Cardinalidad de las variables categóricas"
      ],
      "id": "70b5712c-8889-4e24-ab99-7c1a19705f63"
    },
    {
      "cell_type": "markdown",
      "metadata": {
        "id": "N1ttLiCs4FbA"
      },
      "source": [
        "En el práctico 1 se analizaron en detalle las variables categóricas, y se propusieron reagrupamientos para reducir la cardinalidad de las mismas. Retomaremos estos reagrupamientos luego de realizadas las imputaciones, para las variables que sea considerado necesario."
      ],
      "id": "N1ttLiCs4FbA"
    },
    {
      "cell_type": "markdown",
      "metadata": {
        "id": "03d48365-353d-4858-abef-c8b858cb5acf"
      },
      "source": [
        "#### Correlación entre variables"
      ],
      "id": "03d48365-353d-4858-abef-c8b858cb5acf"
    },
    {
      "cell_type": "code",
      "metadata": {
        "id": "2a07afe4-8bbc-4c56-b7c2-296b1ca83186",
        "colab": {
          "base_uri": "https://localhost:8080/",
          "height": 850
        },
        "outputId": "da6abbf0-5c62-4ac2-9281-ce995ae16a7a"
      },
      "source": [
        "# Recomiendo usar el heatmap de seaborn: https://seaborn.pydata.org/examples/many_pairwise_correlations.html\n",
        "corr = df.corr()  #Debido a que las variables no poseen distribución normal se utilizó el metodo de spearman, poner \"spearman\"\n",
        "plt.figure(figsize=(15,15))\n",
        "sns.heatmap(corr, cbar = True,  square = True, annot=True, fmt= '.2f',annot_kws={'size': 15},\n",
        "           cmap= 'coolwarm')\n",
        "plt.xticks(rotation = 45)\n",
        "plt.yticks(rotation = 45)\n",
        "plt.show()"
      ],
      "id": "2a07afe4-8bbc-4c56-b7c2-296b1ca83186",
      "execution_count": null,
      "outputs": [
        {
          "output_type": "display_data",
          "data": {
            "image/png": "[encoded data removed]",
            "text/plain": [
              "<Figure size 1080x1080 with 2 Axes>"
            ]
          },
          "metadata": {
            "tags": [],
            "needs_background": "light"
          }
        }
      ]
    },
    {
      "cell_type": "markdown",
      "metadata": {
        "id": "J-q0xwEq4tDj"
      },
      "source": [
        "Se advierte la presencia de una alta correlación entre las variables nr.employed y emp.var.rate con euribor3m, variable representativa de la tasa de interés.\n",
        "También se advierte una correlación alta entre cons.price.idx y emp.var.rate, así como también con la variable euribor3m."
      ],
      "id": "J-q0xwEq4tDj"
    },
    {
      "cell_type": "markdown",
      "metadata": {
        "id": "b8d2e0fd-5317-47bc-94ef-d58acfd569be"
      },
      "source": [
        "#### Otros análisis"
      ],
      "id": "b8d2e0fd-5317-47bc-94ef-d58acfd569be"
    },
    {
      "cell_type": "markdown",
      "metadata": {
        "id": "g71C3yr6WDbZ"
      },
      "source": [
        "Vamos a realizar un análisis de componentes principales (PCA) de las variables numéricas, con el propósito de identificar las variables o características que aportan más información, reduciendo así la dimensionalidad del dataset.\n",
        "\n",
        "Para esto, necesitaremos contar con una versión de la base de datos en que todas las variables tengan la misma escala. \n",
        "\n",
        "Se hará el análisis de componentes principales luego de efectuadas las imputaciones sobre los valores NaN de las variables."
      ],
      "id": "g71C3yr6WDbZ"
    },
    {
      "cell_type": "markdown",
      "metadata": {
        "id": "cf445a01-edbe-4e3f-af17-fe69271b25c7"
      },
      "source": [
        "\n",
        "### Tratamiento y modificación de las variables"
      ],
      "id": "cf445a01-edbe-4e3f-af17-fe69271b25c7"
    },
    {
      "cell_type": "markdown",
      "metadata": {
        "id": "Dy5COSTNhEA9"
      },
      "source": [
        "Creamos una copia del DF para trabajar con las modificaciones"
      ],
      "id": "Dy5COSTNhEA9"
    },
    {
      "cell_type": "code",
      "metadata": {
        "id": "zcuT5wQGhHY9"
      },
      "source": [
        "bank_df = df.copy(deep=True)"
      ],
      "id": "zcuT5wQGhHY9",
      "execution_count": null,
      "outputs": []
    },
    {
      "cell_type": "markdown",
      "metadata": {
        "id": "9aede13d-ab5a-4ab6-865b-be6132770e5c"
      },
      "source": [
        "#### Outliers"
      ],
      "id": "9aede13d-ab5a-4ab6-865b-be6132770e5c"
    },
    {
      "cell_type": "markdown",
      "metadata": {
        "id": "ikoqCt1_Wcox"
      },
      "source": [
        "Primeramente, se eliminan los valores outliers detectados para las variables Campaign. \n",
        "\n",
        "La variable Duration no será tomada en consideración para la realización de modelos predictivos, con lo cual, no se eliminarán los datos outliers de esta variables. "
      ],
      "id": "ikoqCt1_Wcox"
    },
    {
      "cell_type": "code",
      "metadata": {
        "id": "QJVFkXL2hr3x"
      },
      "source": [
        "#Campaign\n",
        "bank_df.drop(bank_df[bank_df.campaign >= q975_campaign].index, inplace = True)"
      ],
      "id": "QJVFkXL2hr3x",
      "execution_count": null,
      "outputs": []
    },
    {
      "cell_type": "code",
      "metadata": {
        "colab": {
          "base_uri": "https://localhost:8080/"
        },
        "id": "7vp8qJ4ZalW6",
        "outputId": "ca357fac-0a2d-4157-ed11-aee31397d7d3"
      },
      "source": [
        "bank_df.shape, df.shape     #se redujo dataset en menos del 3% luego de eliminar los outliera"
      ],
      "id": "7vp8qJ4ZalW6",
      "execution_count": null,
      "outputs": [
        {
          "output_type": "execute_result",
          "data": {
            "text/plain": [
              "((40094, 21), (41188, 21))"
            ]
          },
          "metadata": {
            "tags": []
          },
          "execution_count": 45
        }
      ]
    },
    {
      "cell_type": "markdown",
      "metadata": {
        "id": "d34976dc-0397-41d4-95ae-6a2220872522"
      },
      "source": [
        "#### Valores nulos"
      ],
      "id": "d34976dc-0397-41d4-95ae-6a2220872522"
    },
    {
      "cell_type": "markdown",
      "metadata": {
        "id": "57ULyg7OaRy7"
      },
      "source": [
        "Vamos a analizar e imputar los valores nulos, o categorías \"desconocido\" de las variables."
      ],
      "id": "57ULyg7OaRy7"
    },
    {
      "cell_type": "code",
      "metadata": {
        "colab": {
          "base_uri": "https://localhost:8080/"
        },
        "id": "DHEMdsKJAHNR",
        "outputId": "3f5cfc68-5197-41ea-8281-bdff282da3c6"
      },
      "source": [
        "# Porcentaje de datos faltantes menor al 1%\n",
        "job_desconocido=len(bank_df[bank_df[\"job\"]==\"unknown\"])\n",
        "print(\"% de casos desconocido: \", job_desconocido/len(bank_df)*100,\"%\")"
      ],
      "id": "DHEMdsKJAHNR",
      "execution_count": null,
      "outputs": [
        {
          "output_type": "stream",
          "text": [
            "% de casos desconocido:  0.7956302688681598 %\n"
          ],
          "name": "stdout"
        }
      ]
    },
    {
      "cell_type": "code",
      "metadata": {
        "colab": {
          "base_uri": "https://localhost:8080/"
        },
        "id": "i43OPgMzBmT2",
        "outputId": "38a1f00f-7aa7-4670-e30b-b8339c1be99c"
      },
      "source": [
        "# Porcentaje de datos faltantes menor al 1%\n",
        "marital_desconocido=len(bank_df[bank_df[\"marital\"]==\"unknown\"])\n",
        "print(\"% de casos desconocido: \", marital_desconocido/len(bank_df)*100,\"%\")"
      ],
      "id": "i43OPgMzBmT2",
      "execution_count": null,
      "outputs": [
        {
          "output_type": "stream",
          "text": [
            "% de casos desconocido:  0.1870604080411034 %\n"
          ],
          "name": "stdout"
        }
      ]
    },
    {
      "cell_type": "code",
      "metadata": {
        "colab": {
          "base_uri": "https://localhost:8080/"
        },
        "id": "87J_84v_BC2T",
        "outputId": "94102147-95ac-464f-ffdc-0faccb4c1a89"
      },
      "source": [
        "# Porcentaje de datos faltantes menor al 5%\n",
        "education_desconocido=len(bank_df[bank_df[\"education\"]==\"unknown\"])\n",
        "print(\"% de casos desconocido: \", education_desconocido/len(bank_df)*100,\"%\")"
      ],
      "id": "87J_84v_BC2T",
      "execution_count": null,
      "outputs": [
        {
          "output_type": "stream",
          "text": [
            "% de casos desconocido:  4.185164862572954 %\n"
          ],
          "name": "stdout"
        }
      ]
    },
    {
      "cell_type": "code",
      "metadata": {
        "colab": {
          "base_uri": "https://localhost:8080/"
        },
        "id": "01_qCZuUCVFS",
        "outputId": "897f0596-a097-4bc4-eb7c-fb1bbcdb10a3"
      },
      "source": [
        "default_desconocido=len(bank_df[bank_df[\"default\"]==\"unknown\"])\n",
        "housing_desconocido=len(bank_df[bank_df[\"housing\"]==\"unknown\"])\n",
        "loan_desconocido=len(bank_df[bank_df[\"loan\"]==\"unknown\"])\n",
        "print(\"default: % de casos desconocido: \", default_desconocido/len(bank_df)*100,\"%\")\n",
        "print(\"housing: % de casos desconocido: \", housing_desconocido/len(bank_df)*100,\"%\")\n",
        "print(\"loan: % de casos desconocido: \", loan_desconocido/len(bank_df)*100,\"%\")"
      ],
      "id": "01_qCZuUCVFS",
      "execution_count": null,
      "outputs": [
        {
          "output_type": "stream",
          "text": [
            "default: % de casos desconocido:  20.743752182371427 %\n",
            "housing: % de casos desconocido:  2.3993615004738866 %\n",
            "loan: % de casos desconocido:  2.3993615004738866 %\n"
          ],
          "name": "stdout"
        }
      ]
    },
    {
      "cell_type": "markdown",
      "metadata": {
        "id": "WrZvH8Be98z2"
      },
      "source": [
        "El porcentaje de casos desconcidos para las variables crediticias es menor al 3%, salvo para la variable default cuyo porcentaje supera el 20% de los casos."
      ],
      "id": "WrZvH8Be98z2"
    },
    {
      "cell_type": "code",
      "metadata": {
        "colab": {
          "base_uri": "https://localhost:8080/"
        },
        "id": "SR4GkQcA_qJf",
        "outputId": "ee87910a-5281-4654-953c-66e84c66c145"
      },
      "source": [
        "# Porcentaje de datos faltantes alrededor del 10% \n",
        "   #(mayor que el calculado anteriormente, porque eliminamos observaciones de la base de datos)\n",
        "pdays_desconocido = len(bank_df[(bank_df.pdays == 999) & (bank_df.poutcome != 'nonexistent')])\n",
        "print(\"pdays: % de casos desconocido: \", pdays_desconocido/len(bank_df)*100,\"%\")"
      ],
      "id": "SR4GkQcA_qJf",
      "execution_count": null,
      "outputs": [
        {
          "output_type": "stream",
          "text": [
            "pdays: % de casos desconocido:  10.218486556592008 %\n"
          ],
          "name": "stdout"
        }
      ]
    },
    {
      "cell_type": "code",
      "metadata": {
        "colab": {
          "base_uri": "https://localhost:8080/"
        },
        "id": "rPhJ_YjW-bpL",
        "outputId": "ed55d4bb-0a13-4c1c-c249-043628ce826d"
      },
      "source": [
        "pdays_desconocido = len(bank_df[(bank_df.pdays == 999) & (bank_df.poutcome != 'nonexistent')])\n",
        "pdays_conocido = len(bank_df[bank_df.pdays != 999])\n",
        "print(\"pdays - % para imputar: \", pdays_desconocido/(pdays_conocido+pdays_desconocido)*100,\"%\")"
      ],
      "id": "rPhJ_YjW-bpL",
      "execution_count": null,
      "outputs": [
        {
          "output_type": "stream",
          "text": [
            "pdays - % para imputar:  73.03030303030303 %\n"
          ],
          "name": "stdout"
        }
      ]
    },
    {
      "cell_type": "markdown",
      "metadata": {
        "id": "vHxi4UmS_8CW"
      },
      "source": [
        "Se debería imputar un valor de pdays para el 73% de los casos que debieran tener un valor efectivamente. **Son demasiados valores, asi que optaremos por eliminar esta variable.**"
      ],
      "id": "vHxi4UmS_8CW"
    },
    {
      "cell_type": "markdown",
      "metadata": {
        "id": "DTqifFN0YqDO"
      },
      "source": [
        "Para proceder a la imputación, primero codificamos las filas con \"unknown\" como NaN"
      ],
      "id": "DTqifFN0YqDO"
    },
    {
      "cell_type": "code",
      "metadata": {
        "id": "L97JIyaoY1Uh"
      },
      "source": [
        "bank_df.loc[bank_df.marital=='unknown','marital']= np.nan\n",
        "bank_df.loc[bank_df.education=='unknown','education']= np.nan\n",
        "bank_df.loc[bank_df.job=='unknown','job']= np.nan\n",
        "bank_df.loc[bank_df.default=='unknown','default']= np.nan\n",
        "bank_df.loc[bank_df.housing=='unknown','housing']= np.nan\n",
        "bank_df.loc[bank_df.loan=='unknown','loan']= np.nan"
      ],
      "id": "L97JIyaoY1Uh",
      "execution_count": null,
      "outputs": []
    },
    {
      "cell_type": "markdown",
      "metadata": {
        "id": "tk8BzBWu9sw9"
      },
      "source": [
        "Pasamos a numericas estas variables categóricas para poder imputarlas con KNN más facilmente"
      ],
      "id": "tk8BzBWu9sw9"
    },
    {
      "cell_type": "code",
      "metadata": {
        "id": "oWUK6iEd1kfv"
      },
      "source": [
        "bank_df['job_num'] = 0\n",
        "bank_df['marital_num'] = 0\n",
        "bank_df['education_num'] = 0\n",
        "bank_df['loan_num'] = 0\n",
        "bank_df['housing_num'] = 0\n",
        "bank_df['default_num'] = 0\n",
        "\n",
        "to_numerical(bank_df, 'job', 'job_num')\n",
        "to_numerical(bank_df, 'marital', 'marital_num')\n",
        "to_numerical(bank_df, 'education', 'education_num')\n",
        "to_numerical(bank_df, 'loan', 'loan_num')\n",
        "to_numerical(bank_df, 'housing', 'housing_num')\n",
        "to_numerical(bank_df, 'default', 'default_num')"
      ],
      "id": "oWUK6iEd1kfv",
      "execution_count": null,
      "outputs": []
    },
    {
      "cell_type": "code",
      "metadata": {
        "colab": {
          "base_uri": "https://localhost:8080/"
        },
        "id": "gmEE5Y9D35Ka",
        "outputId": "93e38712-c11c-4348-f77d-81ab57f19f60"
      },
      "source": [
        "bank_df.education_num.unique()"
      ],
      "id": "gmEE5Y9D35Ka",
      "execution_count": null,
      "outputs": [
        {
          "output_type": "execute_result",
          "data": {
            "text/plain": [
              "array([ 1.,  2.,  3.,  4.,  5., nan,  6.,  7.])"
            ]
          },
          "metadata": {
            "tags": []
          },
          "execution_count": 54
        }
      ]
    },
    {
      "cell_type": "markdown",
      "metadata": {
        "id": "O9j5FQ2Mqv_X"
      },
      "source": [
        "Seleccionamos columnas para utilizar en la imputación. Pdays no la incluimos: Tiene muchos valores \"nulos\" (999) que son correctos, porque el cliente no habia sido contactado previamente, pero no nos ayudarán para la imputación."
      ],
      "id": "O9j5FQ2Mqv_X"
    },
    {
      "cell_type": "code",
      "metadata": {
        "colab": {
          "base_uri": "https://localhost:8080/"
        },
        "id": "uqZBcxqRhteM",
        "outputId": "440415ea-df01-4fdc-e50b-320d2d9da464"
      },
      "source": [
        "bank_df.isna().sum()    #conteo de valores NaN"
      ],
      "id": "uqZBcxqRhteM",
      "execution_count": null,
      "outputs": [
        {
          "output_type": "execute_result",
          "data": {
            "text/plain": [
              "age                  0\n",
              "job                319\n",
              "marital             75\n",
              "education         1678\n",
              "default           8317\n",
              "housing            962\n",
              "loan               962\n",
              "contact              0\n",
              "month                0\n",
              "day_of_week          0\n",
              "duration             0\n",
              "campaign             0\n",
              "pdays                0\n",
              "previous             0\n",
              "poutcome             0\n",
              "emp.var.rate         0\n",
              "cons.price.idx       0\n",
              "cons.conf.idx        0\n",
              "euribor3m            0\n",
              "nr.employed          0\n",
              "y                    0\n",
              "job_num            319\n",
              "marital_num         75\n",
              "education_num     1678\n",
              "loan_num           962\n",
              "housing_num        962\n",
              "default_num       8317\n",
              "dtype: int64"
            ]
          },
          "metadata": {
            "tags": []
          },
          "execution_count": 55
        }
      ]
    },
    {
      "cell_type": "code",
      "metadata": {
        "id": "V1X73dDzqCDr"
      },
      "source": [
        "columnas_cat = ['contact', 'month', 'day_of_week','poutcome','y']\n",
        "\n",
        "columnas_num = ['age','duration', 'campaign',\n",
        "       'previous', 'emp.var.rate', 'cons.price.idx',\n",
        "       'cons.conf.idx', 'euribor3m', 'nr.employed','education_num', 'marital_num','job_num','loan_num','housing_num','default_num']"
      ],
      "id": "V1X73dDzqCDr",
      "execution_count": null,
      "outputs": []
    },
    {
      "cell_type": "markdown",
      "metadata": {
        "id": "rBXjkMkH0UDm"
      },
      "source": [
        "Usamos DictVectorizer para encodear solo las variables categóricas"
      ],
      "id": "rBXjkMkH0UDm"
    },
    {
      "cell_type": "code",
      "metadata": {
        "id": "z3-uNQcN0ZLF"
      },
      "source": [
        "feature_dict = list(bank_df[columnas_cat + columnas_num].T.to_dict().values())"
      ],
      "id": "z3-uNQcN0ZLF",
      "execution_count": null,
      "outputs": []
    },
    {
      "cell_type": "code",
      "metadata": {
        "id": "rpiZXNMm0nTV"
      },
      "source": [
        "from sklearn.feature_extraction import DictVectorizer\n",
        "vec = DictVectorizer(sparse=False)\n",
        "feature_matrix = vec.fit_transform(feature_dict)"
      ],
      "id": "rpiZXNMm0nTV",
      "execution_count": null,
      "outputs": []
    },
    {
      "cell_type": "code",
      "metadata": {
        "colab": {
          "base_uri": "https://localhost:8080/"
        },
        "id": "iNUTr85iqP9i",
        "outputId": "b019029d-6822-466b-f739-ce8b720238c8"
      },
      "source": [
        "feature_matrix.shape"
      ],
      "id": "iNUTr85iqP9i",
      "execution_count": null,
      "outputs": [
        {
          "output_type": "execute_result",
          "data": {
            "text/plain": [
              "(40094, 37)"
            ]
          },
          "metadata": {
            "tags": []
          },
          "execution_count": 59
        }
      ]
    },
    {
      "cell_type": "markdown",
      "metadata": {
        "id": "07vFIBUi2czf"
      },
      "source": [
        "##### Imputación por KNN"
      ],
      "id": "07vFIBUi2czf"
    },
    {
      "cell_type": "markdown",
      "metadata": {
        "id": "lDZMshpQ2uSp"
      },
      "source": [
        "Es necesario escalar las columnas numéricas antes de imputar por KNN"
      ],
      "id": "lDZMshpQ2uSp"
    },
    {
      "cell_type": "code",
      "metadata": {
        "id": "HPnA6skO2vGA"
      },
      "source": [
        "from sklearn.preprocessing import MinMaxScaler\n",
        "scaler = MinMaxScaler()\n",
        "\n",
        "scaled = scaler.fit_transform(feature_matrix)"
      ],
      "id": "HPnA6skO2vGA",
      "execution_count": null,
      "outputs": []
    },
    {
      "cell_type": "code",
      "metadata": {
        "id": "0C1CH3rl6Mm7"
      },
      "source": [
        "from sklearn.experimental import enable_iterative_imputer\n",
        "from sklearn.neighbors import KNeighborsRegressor\n",
        "from sklearn.impute import IterativeImputer"
      ],
      "id": "0C1CH3rl6Mm7",
      "execution_count": null,
      "outputs": []
    },
    {
      "cell_type": "code",
      "metadata": {
        "id": "ZGHXuZAJ7biy"
      },
      "source": [
        "mice_imputer = IterativeImputer(random_state=0, estimator=KNeighborsRegressor(),n_nearest_features=5)\n",
        "scaled_mice = mice_imputer.fit_transform(scaled)"
      ],
      "id": "ZGHXuZAJ7biy",
      "execution_count": null,
      "outputs": []
    },
    {
      "cell_type": "markdown",
      "metadata": {
        "id": "_dh28lNXRtPG"
      },
      "source": [
        "Posiciones de las variables imputadas en la matriz scaled_mice:\n",
        "\n",
        "default_num: columna 11  \n",
        "education_num: columna 13  \n",
        "housing_num: columna 16  \n",
        "job_num: columna 17  \n",
        "loan_num: columna 18  \n",
        "marital_num: columna 19"
      ],
      "id": "_dh28lNXRtPG"
    },
    {
      "cell_type": "code",
      "metadata": {
        "colab": {
          "base_uri": "https://localhost:8080/"
        },
        "id": "cWz9xFlp0h3B",
        "outputId": "31fdb2d6-567b-4971-ca53-9d03d8c28bcc"
      },
      "source": [
        "feature_dict[0]"
      ],
      "id": "cWz9xFlp0h3B",
      "execution_count": null,
      "outputs": [
        {
          "output_type": "execute_result",
          "data": {
            "text/plain": [
              "{'age': 56,\n",
              " 'campaign': 1,\n",
              " 'cons.conf.idx': -36.4,\n",
              " 'cons.price.idx': 93.994,\n",
              " 'contact': 'telephone',\n",
              " 'day_of_week': 'mon',\n",
              " 'default_num': 1.0,\n",
              " 'duration': 261,\n",
              " 'education_num': 1.0,\n",
              " 'emp.var.rate': 1.1,\n",
              " 'euribor3m': 4.857,\n",
              " 'housing_num': 1.0,\n",
              " 'job_num': 1.0,\n",
              " 'loan_num': 1.0,\n",
              " 'marital_num': 1.0,\n",
              " 'month': 'may',\n",
              " 'nr.employed': 5191.0,\n",
              " 'poutcome': 'nonexistent',\n",
              " 'previous': 0,\n",
              " 'y': 'no'}"
            ]
          },
          "metadata": {
            "tags": []
          },
          "execution_count": 63
        }
      ]
    },
    {
      "cell_type": "markdown",
      "metadata": {
        "id": "bQTb8KaiZOop"
      },
      "source": [
        "Paso las columnas imputadas a la escala original"
      ],
      "id": "bQTb8KaiZOop"
    },
    {
      "cell_type": "code",
      "metadata": {
        "id": "a-sEZMywZRUm"
      },
      "source": [
        "education_num_imp = rescale(bank_df,'education_num',scaled_mice[:,13])\n",
        "education_num_imp = np.around(education_num_imp).astype(int)\n",
        "\n",
        "marital_num_imp = rescale(bank_df,'marital_num',scaled_mice[:,19])\n",
        "marital_num_imp = np.around(marital_num_imp).astype(int)\n",
        "\n",
        "default_num_imp = rescale(bank_df,'default_num',scaled_mice[:,11])\n",
        "default_num_imp = np.around(default_num_imp).astype(int)\n",
        "\n",
        "housing_num_imp = rescale(bank_df,'housing_num',scaled_mice[:,16])\n",
        "housing_num_imp = np.around(housing_num_imp).astype(int)\n",
        "\n",
        "loan_num_imp = rescale(bank_df,'loan_num',scaled_mice[:,18])\n",
        "loan_num_imp = np.around(loan_num_imp).astype(int)\n",
        "\n",
        "job_num_imp = rescale(bank_df,'job_num',scaled_mice[:,17])\n",
        "job_num_imp = np.around(job_num_imp).astype(int)\n"
      ],
      "id": "a-sEZMywZRUm",
      "execution_count": null,
      "outputs": []
    },
    {
      "cell_type": "code",
      "metadata": {
        "colab": {
          "base_uri": "https://localhost:8080/",
          "height": 1000
        },
        "id": "V9xalEz8c_rX",
        "outputId": "e5d0466f-517b-4de3-efac-05589d07e7f3"
      },
      "source": [
        "fig = plt.figure(figsize=(8, 5))\n",
        "sns.kdeplot(data=education_num_imp,label = 'KNN over Education')\n",
        "sns.kdeplot(data=bank_df.education_num,label = 'Original Data')\n",
        "plt.legend()\n",
        "plt.show()\n",
        "\n",
        "fig = plt.figure(figsize=(8, 5))\n",
        "sns.kdeplot(data=marital_num_imp,label = 'KNN over Marital')\n",
        "sns.kdeplot(data=bank_df.marital_num,label = 'Original Data')\n",
        "plt.legend()\n",
        "plt.show()\n",
        "\n",
        "fig = plt.figure(figsize=(8, 5))\n",
        "sns.kdeplot(data=job_num_imp,label = 'KNN over Job')\n",
        "sns.kdeplot(data=bank_df.job_num,label = 'Original Data')\n",
        "plt.legend()\n",
        "plt.show()\n",
        "\n",
        "fig = plt.figure(figsize=(8, 5))\n",
        "sns.kdeplot(data=loan_num_imp,label = 'KNN over Loan')\n",
        "sns.kdeplot(data=bank_df.loan_num,label = 'Original Data')\n",
        "plt.legend()\n",
        "plt.show()\n",
        "\n",
        "fig = plt.figure(figsize=(8, 5))\n",
        "sns.kdeplot(data=housing_num_imp,label = 'KNN over Housing')\n",
        "sns.kdeplot(data=bank_df.housing_num,label = 'Original Data')\n",
        "plt.legend()\n",
        "plt.show()\n",
        "\n",
        "fig = plt.figure(figsize=(8, 5))\n",
        "sns.kdeplot(data=default_num_imp,label = 'KNN over Default')\n",
        "sns.kdeplot(data=bank_df.default_num,label = 'Original Data')\n",
        "plt.legend()\n",
        "plt.show()"
      ],
      "id": "V9xalEz8c_rX",
      "execution_count": null,
      "outputs": [
        {
          "output_type": "display_data",
          "data": {
            "image/png": "[encoded data removed]",
            "text/plain": [
              "<Figure size 576x360 with 1 Axes>"
            ]
          },
          "metadata": {
            "tags": [],
            "needs_background": "light"
          }
        },
        {
          "output_type": "display_data",
          "data": {
            "image/png": "[encoded data removed]",
            "text/plain": [
              "<Figure size 576x360 with 1 Axes>"
            ]
          },
          "metadata": {
            "tags": [],
            "needs_background": "light"
          }
        },
        {
          "output_type": "display_data",
          "data": {
            "image/png": "[encoded data removed]",
            "text/plain": [
              "<Figure size 576x360 with 1 Axes>"
            ]
          },
          "metadata": {
            "tags": [],
            "needs_background": "light"
          }
        },
        {
          "output_type": "display_data",
          "data": {
            "image/png": "[encoded data removed]",
            "text/plain": [
              "<Figure size 576x360 with 1 Axes>"
            ]
          },
          "metadata": {
            "tags": [],
            "needs_background": "light"
          }
        },
        {
          "output_type": "display_data",
          "data": {
            "image/png": "[encoded data removed]",
            "text/plain": [
              "<Figure size 576x360 with 1 Axes>"
            ]
          },
          "metadata": {
            "tags": [],
            "needs_background": "light"
          }
        },
        {
          "output_type": "display_data",
          "data": {
            "image/png": "[encoded data removed]",
            "text/plain": [
              "<Figure size 576x360 with 1 Axes>"
            ]
          },
          "metadata": {
            "tags": [],
            "needs_background": "light"
          }
        }
      ]
    },
    {
      "cell_type": "markdown",
      "metadata": {
        "id": "lWDX9A6Ih2ca"
      },
      "source": [
        "Cargamos los valores imputados a nuestro DF original"
      ],
      "id": "lWDX9A6Ih2ca"
    },
    {
      "cell_type": "code",
      "metadata": {
        "id": "LmGfm0smfFFs"
      },
      "source": [
        "bank_df['education_num'] = education_num_imp\n",
        "bank_df['marital_num'] = marital_num_imp\n",
        "bank_df['loan_num'] = loan_num_imp\n",
        "bank_df['housing_num'] = housing_num_imp\n",
        "bank_df['default_num'] = default_num_imp\n",
        "bank_df['job_num'] = job_num_imp"
      ],
      "id": "LmGfm0smfFFs",
      "execution_count": null,
      "outputs": []
    },
    {
      "cell_type": "code",
      "metadata": {
        "id": "9pWm_0UOULCu"
      },
      "source": [
        "bank_df_2 = bank_df.copy(deep=True)"
      ],
      "id": "9pWm_0UOULCu",
      "execution_count": null,
      "outputs": []
    },
    {
      "cell_type": "markdown",
      "metadata": {
        "id": "eX9Hy8X_M5J_"
      },
      "source": [
        "Reestablecemos las categorías originales de las variables."
      ],
      "id": "eX9Hy8X_M5J_"
    },
    {
      "cell_type": "code",
      "metadata": {
        "colab": {
          "base_uri": "https://localhost:8080/"
        },
        "id": "iCMZ7wIKrNN3",
        "outputId": "c05db8b0-5479-47f8-9ff6-c97de51ff53a"
      },
      "source": [
        "restore_category(bank_df_2,  'education', 'education_num')"
      ],
      "id": "iCMZ7wIKrNN3",
      "execution_count": null,
      "outputs": [
        {
          "output_type": "stream",
          "text": [
            "1 basic.4y\n",
            "2 high.school\n",
            "3 basic.6y\n",
            "4 basic.9y\n",
            "5 professional.course\n",
            "6 university.degree\n",
            "7 illiterate\n"
          ],
          "name": "stdout"
        }
      ]
    },
    {
      "cell_type": "code",
      "metadata": {
        "colab": {
          "base_uri": "https://localhost:8080/"
        },
        "id": "4gixm2zrrd14",
        "outputId": "15464e8c-f456-4683-c2e0-a14f657e8d62"
      },
      "source": [
        "restore_category(bank_df_2,  'marital', 'marital_num')"
      ],
      "id": "4gixm2zrrd14",
      "execution_count": null,
      "outputs": [
        {
          "output_type": "stream",
          "text": [
            "1 married\n",
            "2 single\n",
            "3 divorced\n"
          ],
          "name": "stdout"
        }
      ]
    },
    {
      "cell_type": "code",
      "metadata": {
        "colab": {
          "base_uri": "https://localhost:8080/"
        },
        "id": "-aaje6S5rnZk",
        "outputId": "7df262cb-f76a-4bfa-df95-4453f93cc10d"
      },
      "source": [
        "restore_category(bank_df_2,  'loan', 'loan_num')"
      ],
      "id": "-aaje6S5rnZk",
      "execution_count": null,
      "outputs": [
        {
          "output_type": "stream",
          "text": [
            "1 no\n",
            "2 yes\n"
          ],
          "name": "stdout"
        }
      ]
    },
    {
      "cell_type": "code",
      "metadata": {
        "colab": {
          "base_uri": "https://localhost:8080/"
        },
        "id": "HKvQ_RVFrrpf",
        "outputId": "32ceb9e7-62d3-4d97-c8cc-a40f828365b5"
      },
      "source": [
        "restore_category(bank_df_2,  'housing', 'housing_num')"
      ],
      "id": "HKvQ_RVFrrpf",
      "execution_count": null,
      "outputs": [
        {
          "output_type": "stream",
          "text": [
            "1 no\n",
            "2 yes\n"
          ],
          "name": "stdout"
        }
      ]
    },
    {
      "cell_type": "code",
      "metadata": {
        "colab": {
          "base_uri": "https://localhost:8080/"
        },
        "id": "Db6XOhJiru5n",
        "outputId": "1c84134d-3071-49fb-d5a2-0d1296e57709"
      },
      "source": [
        "restore_category(bank_df_2,  'default', 'default_num')"
      ],
      "id": "Db6XOhJiru5n",
      "execution_count": null,
      "outputs": [
        {
          "output_type": "stream",
          "text": [
            "1 no\n",
            "2 yes\n"
          ],
          "name": "stdout"
        }
      ]
    },
    {
      "cell_type": "code",
      "metadata": {
        "colab": {
          "base_uri": "https://localhost:8080/"
        },
        "id": "N8BtJWNvrzZY",
        "outputId": "f8a9d6a7-ba35-4491-9cff-d88e2e5d5441"
      },
      "source": [
        "restore_category(bank_df_2,  'job', 'job_num')"
      ],
      "id": "N8BtJWNvrzZY",
      "execution_count": null,
      "outputs": [
        {
          "output_type": "stream",
          "text": [
            "1 housemaid\n",
            "2 services\n",
            "3 admin.\n",
            "4 blue-collar\n",
            "5 technician\n",
            "6 retired\n",
            "7 management\n",
            "8 unemployed\n",
            "9 self-employed\n",
            "10 entrepreneur\n",
            "11 student\n"
          ],
          "name": "stdout"
        }
      ]
    },
    {
      "cell_type": "code",
      "metadata": {
        "colab": {
          "base_uri": "https://localhost:8080/",
          "height": 211
        },
        "id": "WnHB5u7rZPqj",
        "outputId": "015d5050-7116-46bb-c8cb-8f5b05f8e8b0"
      },
      "source": [
        "bank_df.head()"
      ],
      "id": "WnHB5u7rZPqj",
      "execution_count": null,
      "outputs": [
        {
          "output_type": "execute_result",
          "data": {
            "text/html": [
              "<div>\n",
              "<style scoped>\n",
              "    .dataframe tbody tr th:only-of-type {\n",
              "        vertical-align: middle;\n",
              "    }\n",
              "\n",
              "    .dataframe tbody tr th {\n",
              "        vertical-align: top;\n",
              "    }\n",
              "\n",
              "    .dataframe thead th {\n",
              "        text-align: right;\n",
              "    }\n",
              "</style>\n",
              "<table border=\"1\" class=\"dataframe\">\n",
              "  <thead>\n",
              "    <tr style=\"text-align: right;\">\n",
              "      <th></th>\n",
              "      <th>age</th>\n",
              "      <th>job</th>\n",
              "      <th>marital</th>\n",
              "      <th>education</th>\n",
              "      <th>default</th>\n",
              "      <th>housing</th>\n",
              "      <th>loan</th>\n",
              "      <th>contact</th>\n",
              "      <th>month</th>\n",
              "      <th>day_of_week</th>\n",
              "      <th>duration</th>\n",
              "      <th>campaign</th>\n",
              "      <th>pdays</th>\n",
              "      <th>previous</th>\n",
              "      <th>poutcome</th>\n",
              "      <th>emp.var.rate</th>\n",
              "      <th>cons.price.idx</th>\n",
              "      <th>cons.conf.idx</th>\n",
              "      <th>euribor3m</th>\n",
              "      <th>nr.employed</th>\n",
              "      <th>y</th>\n",
              "      <th>job_num</th>\n",
              "      <th>marital_num</th>\n",
              "      <th>education_num</th>\n",
              "      <th>loan_num</th>\n",
              "      <th>housing_num</th>\n",
              "      <th>default_num</th>\n",
              "    </tr>\n",
              "  </thead>\n",
              "  <tbody>\n",
              "    <tr>\n",
              "      <th>0</th>\n",
              "      <td>56</td>\n",
              "      <td>housemaid</td>\n",
              "      <td>married</td>\n",
              "      <td>basic.4y</td>\n",
              "      <td>no</td>\n",
              "      <td>no</td>\n",
              "      <td>no</td>\n",
              "      <td>telephone</td>\n",
              "      <td>may</td>\n",
              "      <td>mon</td>\n",
              "      <td>261</td>\n",
              "      <td>1</td>\n",
              "      <td>999</td>\n",
              "      <td>0</td>\n",
              "      <td>nonexistent</td>\n",
              "      <td>1.1</td>\n",
              "      <td>93.994</td>\n",
              "      <td>-36.4</td>\n",
              "      <td>4.857</td>\n",
              "      <td>5191.0</td>\n",
              "      <td>no</td>\n",
              "      <td>1</td>\n",
              "      <td>1</td>\n",
              "      <td>1</td>\n",
              "      <td>1</td>\n",
              "      <td>1</td>\n",
              "      <td>1</td>\n",
              "    </tr>\n",
              "    <tr>\n",
              "      <th>1</th>\n",
              "      <td>57</td>\n",
              "      <td>services</td>\n",
              "      <td>married</td>\n",
              "      <td>high.school</td>\n",
              "      <td>NaN</td>\n",
              "      <td>no</td>\n",
              "      <td>no</td>\n",
              "      <td>telephone</td>\n",
              "      <td>may</td>\n",
              "      <td>mon</td>\n",
              "      <td>149</td>\n",
              "      <td>1</td>\n",
              "      <td>999</td>\n",
              "      <td>0</td>\n",
              "      <td>nonexistent</td>\n",
              "      <td>1.1</td>\n",
              "      <td>93.994</td>\n",
              "      <td>-36.4</td>\n",
              "      <td>4.857</td>\n",
              "      <td>5191.0</td>\n",
              "      <td>no</td>\n",
              "      <td>2</td>\n",
              "      <td>1</td>\n",
              "      <td>2</td>\n",
              "      <td>1</td>\n",
              "      <td>1</td>\n",
              "      <td>1</td>\n",
              "    </tr>\n",
              "    <tr>\n",
              "      <th>2</th>\n",
              "      <td>37</td>\n",
              "      <td>services</td>\n",
              "      <td>married</td>\n",
              "      <td>high.school</td>\n",
              "      <td>no</td>\n",
              "      <td>yes</td>\n",
              "      <td>no</td>\n",
              "      <td>telephone</td>\n",
              "      <td>may</td>\n",
              "      <td>mon</td>\n",
              "      <td>226</td>\n",
              "      <td>1</td>\n",
              "      <td>999</td>\n",
              "      <td>0</td>\n",
              "      <td>nonexistent</td>\n",
              "      <td>1.1</td>\n",
              "      <td>93.994</td>\n",
              "      <td>-36.4</td>\n",
              "      <td>4.857</td>\n",
              "      <td>5191.0</td>\n",
              "      <td>no</td>\n",
              "      <td>2</td>\n",
              "      <td>1</td>\n",
              "      <td>2</td>\n",
              "      <td>1</td>\n",
              "      <td>2</td>\n",
              "      <td>1</td>\n",
              "    </tr>\n",
              "    <tr>\n",
              "      <th>3</th>\n",
              "      <td>40</td>\n",
              "      <td>admin.</td>\n",
              "      <td>married</td>\n",
              "      <td>basic.6y</td>\n",
              "      <td>no</td>\n",
              "      <td>no</td>\n",
              "      <td>no</td>\n",
              "      <td>telephone</td>\n",
              "      <td>may</td>\n",
              "      <td>mon</td>\n",
              "      <td>151</td>\n",
              "      <td>1</td>\n",
              "      <td>999</td>\n",
              "      <td>0</td>\n",
              "      <td>nonexistent</td>\n",
              "      <td>1.1</td>\n",
              "      <td>93.994</td>\n",
              "      <td>-36.4</td>\n",
              "      <td>4.857</td>\n",
              "      <td>5191.0</td>\n",
              "      <td>no</td>\n",
              "      <td>3</td>\n",
              "      <td>1</td>\n",
              "      <td>3</td>\n",
              "      <td>1</td>\n",
              "      <td>1</td>\n",
              "      <td>1</td>\n",
              "    </tr>\n",
              "    <tr>\n",
              "      <th>4</th>\n",
              "      <td>56</td>\n",
              "      <td>services</td>\n",
              "      <td>married</td>\n",
              "      <td>high.school</td>\n",
              "      <td>no</td>\n",
              "      <td>no</td>\n",
              "      <td>yes</td>\n",
              "      <td>telephone</td>\n",
              "      <td>may</td>\n",
              "      <td>mon</td>\n",
              "      <td>307</td>\n",
              "      <td>1</td>\n",
              "      <td>999</td>\n",
              "      <td>0</td>\n",
              "      <td>nonexistent</td>\n",
              "      <td>1.1</td>\n",
              "      <td>93.994</td>\n",
              "      <td>-36.4</td>\n",
              "      <td>4.857</td>\n",
              "      <td>5191.0</td>\n",
              "      <td>no</td>\n",
              "      <td>2</td>\n",
              "      <td>1</td>\n",
              "      <td>2</td>\n",
              "      <td>2</td>\n",
              "      <td>1</td>\n",
              "      <td>1</td>\n",
              "    </tr>\n",
              "  </tbody>\n",
              "</table>\n",
              "</div>"
            ],
            "text/plain": [
              "   age        job  marital    education default housing loan    contact month  \\\n",
              "0   56  housemaid  married     basic.4y      no      no   no  telephone   may   \n",
              "1   57   services  married  high.school     NaN      no   no  telephone   may   \n",
              "2   37   services  married  high.school      no     yes   no  telephone   may   \n",
              "3   40     admin.  married     basic.6y      no      no   no  telephone   may   \n",
              "4   56   services  married  high.school      no      no  yes  telephone   may   \n",
              "\n",
              "  day_of_week  duration  campaign  pdays  previous     poutcome  emp.var.rate  \\\n",
              "0         mon       261         1    999         0  nonexistent           1.1   \n",
              "1         mon       149         1    999         0  nonexistent           1.1   \n",
              "2         mon       226         1    999         0  nonexistent           1.1   \n",
              "3         mon       151         1    999         0  nonexistent           1.1   \n",
              "4         mon       307         1    999         0  nonexistent           1.1   \n",
              "\n",
              "   cons.price.idx  cons.conf.idx  euribor3m  nr.employed   y  job_num  \\\n",
              "0          93.994          -36.4      4.857       5191.0  no        1   \n",
              "1          93.994          -36.4      4.857       5191.0  no        2   \n",
              "2          93.994          -36.4      4.857       5191.0  no        2   \n",
              "3          93.994          -36.4      4.857       5191.0  no        3   \n",
              "4          93.994          -36.4      4.857       5191.0  no        2   \n",
              "\n",
              "   marital_num  education_num  loan_num  housing_num  default_num  \n",
              "0            1              1         1            1            1  \n",
              "1            1              2         1            1            1  \n",
              "2            1              2         1            2            1  \n",
              "3            1              3         1            1            1  \n",
              "4            1              2         2            1            1  "
            ]
          },
          "metadata": {
            "tags": []
          },
          "execution_count": 74
        }
      ]
    },
    {
      "cell_type": "code",
      "metadata": {
        "colab": {
          "base_uri": "https://localhost:8080/",
          "height": 211
        },
        "id": "dov_ltZKZSdU",
        "outputId": "6609a284-a5a1-474e-d7df-51aafc7e299c"
      },
      "source": [
        "bank_df_2.head()"
      ],
      "id": "dov_ltZKZSdU",
      "execution_count": null,
      "outputs": [
        {
          "output_type": "execute_result",
          "data": {
            "text/html": [
              "<div>\n",
              "<style scoped>\n",
              "    .dataframe tbody tr th:only-of-type {\n",
              "        vertical-align: middle;\n",
              "    }\n",
              "\n",
              "    .dataframe tbody tr th {\n",
              "        vertical-align: top;\n",
              "    }\n",
              "\n",
              "    .dataframe thead th {\n",
              "        text-align: right;\n",
              "    }\n",
              "</style>\n",
              "<table border=\"1\" class=\"dataframe\">\n",
              "  <thead>\n",
              "    <tr style=\"text-align: right;\">\n",
              "      <th></th>\n",
              "      <th>age</th>\n",
              "      <th>job</th>\n",
              "      <th>marital</th>\n",
              "      <th>education</th>\n",
              "      <th>default</th>\n",
              "      <th>housing</th>\n",
              "      <th>loan</th>\n",
              "      <th>contact</th>\n",
              "      <th>month</th>\n",
              "      <th>day_of_week</th>\n",
              "      <th>duration</th>\n",
              "      <th>campaign</th>\n",
              "      <th>pdays</th>\n",
              "      <th>previous</th>\n",
              "      <th>poutcome</th>\n",
              "      <th>emp.var.rate</th>\n",
              "      <th>cons.price.idx</th>\n",
              "      <th>cons.conf.idx</th>\n",
              "      <th>euribor3m</th>\n",
              "      <th>nr.employed</th>\n",
              "      <th>y</th>\n",
              "      <th>job_num</th>\n",
              "      <th>marital_num</th>\n",
              "      <th>education_num</th>\n",
              "      <th>loan_num</th>\n",
              "      <th>housing_num</th>\n",
              "      <th>default_num</th>\n",
              "    </tr>\n",
              "  </thead>\n",
              "  <tbody>\n",
              "    <tr>\n",
              "      <th>0</th>\n",
              "      <td>56</td>\n",
              "      <td>housemaid</td>\n",
              "      <td>married</td>\n",
              "      <td>basic.4y</td>\n",
              "      <td>no</td>\n",
              "      <td>no</td>\n",
              "      <td>no</td>\n",
              "      <td>telephone</td>\n",
              "      <td>may</td>\n",
              "      <td>mon</td>\n",
              "      <td>261</td>\n",
              "      <td>1</td>\n",
              "      <td>999</td>\n",
              "      <td>0</td>\n",
              "      <td>nonexistent</td>\n",
              "      <td>1.1</td>\n",
              "      <td>93.994</td>\n",
              "      <td>-36.4</td>\n",
              "      <td>4.857</td>\n",
              "      <td>5191.0</td>\n",
              "      <td>no</td>\n",
              "      <td>1</td>\n",
              "      <td>1</td>\n",
              "      <td>1</td>\n",
              "      <td>1</td>\n",
              "      <td>1</td>\n",
              "      <td>1</td>\n",
              "    </tr>\n",
              "    <tr>\n",
              "      <th>1</th>\n",
              "      <td>57</td>\n",
              "      <td>services</td>\n",
              "      <td>married</td>\n",
              "      <td>high.school</td>\n",
              "      <td>no</td>\n",
              "      <td>no</td>\n",
              "      <td>no</td>\n",
              "      <td>telephone</td>\n",
              "      <td>may</td>\n",
              "      <td>mon</td>\n",
              "      <td>149</td>\n",
              "      <td>1</td>\n",
              "      <td>999</td>\n",
              "      <td>0</td>\n",
              "      <td>nonexistent</td>\n",
              "      <td>1.1</td>\n",
              "      <td>93.994</td>\n",
              "      <td>-36.4</td>\n",
              "      <td>4.857</td>\n",
              "      <td>5191.0</td>\n",
              "      <td>no</td>\n",
              "      <td>2</td>\n",
              "      <td>1</td>\n",
              "      <td>2</td>\n",
              "      <td>1</td>\n",
              "      <td>1</td>\n",
              "      <td>1</td>\n",
              "    </tr>\n",
              "    <tr>\n",
              "      <th>2</th>\n",
              "      <td>37</td>\n",
              "      <td>services</td>\n",
              "      <td>married</td>\n",
              "      <td>high.school</td>\n",
              "      <td>no</td>\n",
              "      <td>yes</td>\n",
              "      <td>no</td>\n",
              "      <td>telephone</td>\n",
              "      <td>may</td>\n",
              "      <td>mon</td>\n",
              "      <td>226</td>\n",
              "      <td>1</td>\n",
              "      <td>999</td>\n",
              "      <td>0</td>\n",
              "      <td>nonexistent</td>\n",
              "      <td>1.1</td>\n",
              "      <td>93.994</td>\n",
              "      <td>-36.4</td>\n",
              "      <td>4.857</td>\n",
              "      <td>5191.0</td>\n",
              "      <td>no</td>\n",
              "      <td>2</td>\n",
              "      <td>1</td>\n",
              "      <td>2</td>\n",
              "      <td>1</td>\n",
              "      <td>2</td>\n",
              "      <td>1</td>\n",
              "    </tr>\n",
              "    <tr>\n",
              "      <th>3</th>\n",
              "      <td>40</td>\n",
              "      <td>admin.</td>\n",
              "      <td>married</td>\n",
              "      <td>basic.6y</td>\n",
              "      <td>no</td>\n",
              "      <td>no</td>\n",
              "      <td>no</td>\n",
              "      <td>telephone</td>\n",
              "      <td>may</td>\n",
              "      <td>mon</td>\n",
              "      <td>151</td>\n",
              "      <td>1</td>\n",
              "      <td>999</td>\n",
              "      <td>0</td>\n",
              "      <td>nonexistent</td>\n",
              "      <td>1.1</td>\n",
              "      <td>93.994</td>\n",
              "      <td>-36.4</td>\n",
              "      <td>4.857</td>\n",
              "      <td>5191.0</td>\n",
              "      <td>no</td>\n",
              "      <td>3</td>\n",
              "      <td>1</td>\n",
              "      <td>3</td>\n",
              "      <td>1</td>\n",
              "      <td>1</td>\n",
              "      <td>1</td>\n",
              "    </tr>\n",
              "    <tr>\n",
              "      <th>4</th>\n",
              "      <td>56</td>\n",
              "      <td>services</td>\n",
              "      <td>married</td>\n",
              "      <td>high.school</td>\n",
              "      <td>no</td>\n",
              "      <td>no</td>\n",
              "      <td>yes</td>\n",
              "      <td>telephone</td>\n",
              "      <td>may</td>\n",
              "      <td>mon</td>\n",
              "      <td>307</td>\n",
              "      <td>1</td>\n",
              "      <td>999</td>\n",
              "      <td>0</td>\n",
              "      <td>nonexistent</td>\n",
              "      <td>1.1</td>\n",
              "      <td>93.994</td>\n",
              "      <td>-36.4</td>\n",
              "      <td>4.857</td>\n",
              "      <td>5191.0</td>\n",
              "      <td>no</td>\n",
              "      <td>2</td>\n",
              "      <td>1</td>\n",
              "      <td>2</td>\n",
              "      <td>2</td>\n",
              "      <td>1</td>\n",
              "      <td>1</td>\n",
              "    </tr>\n",
              "  </tbody>\n",
              "</table>\n",
              "</div>"
            ],
            "text/plain": [
              "   age        job  marital    education default housing loan    contact month  \\\n",
              "0   56  housemaid  married     basic.4y      no      no   no  telephone   may   \n",
              "1   57   services  married  high.school      no      no   no  telephone   may   \n",
              "2   37   services  married  high.school      no     yes   no  telephone   may   \n",
              "3   40     admin.  married     basic.6y      no      no   no  telephone   may   \n",
              "4   56   services  married  high.school      no      no  yes  telephone   may   \n",
              "\n",
              "  day_of_week  duration  campaign  pdays  previous     poutcome  emp.var.rate  \\\n",
              "0         mon       261         1    999         0  nonexistent           1.1   \n",
              "1         mon       149         1    999         0  nonexistent           1.1   \n",
              "2         mon       226         1    999         0  nonexistent           1.1   \n",
              "3         mon       151         1    999         0  nonexistent           1.1   \n",
              "4         mon       307         1    999         0  nonexistent           1.1   \n",
              "\n",
              "   cons.price.idx  cons.conf.idx  euribor3m  nr.employed   y  job_num  \\\n",
              "0          93.994          -36.4      4.857       5191.0  no        1   \n",
              "1          93.994          -36.4      4.857       5191.0  no        2   \n",
              "2          93.994          -36.4      4.857       5191.0  no        2   \n",
              "3          93.994          -36.4      4.857       5191.0  no        3   \n",
              "4          93.994          -36.4      4.857       5191.0  no        2   \n",
              "\n",
              "   marital_num  education_num  loan_num  housing_num  default_num  \n",
              "0            1              1         1            1            1  \n",
              "1            1              2         1            1            1  \n",
              "2            1              2         1            2            1  \n",
              "3            1              3         1            1            1  \n",
              "4            1              2         2            1            1  "
            ]
          },
          "metadata": {
            "tags": []
          },
          "execution_count": 75
        }
      ]
    },
    {
      "cell_type": "code",
      "metadata": {
        "colab": {
          "base_uri": "https://localhost:8080/"
        },
        "id": "0TwhUnM1ZKBz",
        "outputId": "5e98b0b4-cb74-421e-878a-e72e585b0471"
      },
      "source": [
        "bank_df_2.isna().sum()    #conteo de valores NaN"
      ],
      "id": "0TwhUnM1ZKBz",
      "execution_count": null,
      "outputs": [
        {
          "output_type": "execute_result",
          "data": {
            "text/plain": [
              "age               0\n",
              "job               0\n",
              "marital           0\n",
              "education         0\n",
              "default           0\n",
              "housing           0\n",
              "loan              0\n",
              "contact           0\n",
              "month             0\n",
              "day_of_week       0\n",
              "duration          0\n",
              "campaign          0\n",
              "pdays             0\n",
              "previous          0\n",
              "poutcome          0\n",
              "emp.var.rate      0\n",
              "cons.price.idx    0\n",
              "cons.conf.idx     0\n",
              "euribor3m         0\n",
              "nr.employed       0\n",
              "y                 0\n",
              "job_num           0\n",
              "marital_num       0\n",
              "education_num     0\n",
              "loan_num          0\n",
              "housing_num       0\n",
              "default_num       0\n",
              "dtype: int64"
            ]
          },
          "metadata": {
            "tags": []
          },
          "execution_count": 76
        }
      ]
    },
    {
      "cell_type": "markdown",
      "metadata": {
        "id": "Xr3eAH8eld3W"
      },
      "source": [
        "Para la imputación de los NaN de la variable pdays, podríamos plantear la imputación de los casos dejando fuera del análisis a aquellos cuyo valor es 999. Esto sería, hacer la imputación sobre una versión reducida del dataset. No obstante, el porcentaje de casos a imputar es muy grande en relación al total de casos para los cuales esa variable podría tener un valor relevante, con los cual, se decidió eliminarla del dataset."
      ],
      "id": "Xr3eAH8eld3W"
    },
    {
      "cell_type": "code",
      "metadata": {
        "id": "FTDqp1FgDSxr"
      },
      "source": [
        "#eliminar las variables que quedaron repetidas y  pdays\n",
        "bank_df_2=bank_df_2.drop(['job_num', 'marital_num', 'education_num','loan_num','housing_num','default_num','pdays' ], axis=1)"
      ],
      "id": "FTDqp1FgDSxr",
      "execution_count": null,
      "outputs": []
    },
    {
      "cell_type": "code",
      "metadata": {
        "id": "TUJUGYgrsZSJ"
      },
      "source": [
        "#Guardamos esto para tener de BackUp, y no volver a tener que correr todo\n",
        "bank_df_2.to_csv('bank_df_2.csv', index=False)"
      ],
      "id": "TUJUGYgrsZSJ",
      "execution_count": null,
      "outputs": []
    },
    {
      "cell_type": "code",
      "metadata": {
        "colab": {
          "base_uri": "https://localhost:8080/",
          "height": 17
        },
        "id": "T9RXreLvl4Q_",
        "outputId": "fb55feae-17ba-4646-8643-4fea74032d39"
      },
      "source": [
        "from google.colab import files\n",
        "files.download('bank_df_2.csv')"
      ],
      "id": "T9RXreLvl4Q_",
      "execution_count": null,
      "outputs": [
        {
          "output_type": "display_data",
          "data": {
            "application/javascript": [
              "\n",
              "    async function download(id, filename, size) {\n",
              "      if (!google.colab.kernel.accessAllowed) {\n",
              "        return;\n",
              "      }\n",
              "      const div = document.createElement('div');\n",
              "      const label = document.createElement('label');\n",
              "      label.textContent = `Downloading \"${filename}\": `;\n",
              "      div.appendChild(label);\n",
              "      const progress = document.createElement('progress');\n",
              "      progress.max = size;\n",
              "      div.appendChild(progress);\n",
              "      document.body.appendChild(div);\n",
              "\n",
              "      const buffers = [];\n",
              "      let downloaded = 0;\n",
              "\n",
              "      const channel = await google.colab.kernel.comms.open(id);\n",
              "      // Send a message to notify the kernel that we're ready.\n",
              "      channel.send({})\n",
              "\n",
              "      for await (const message of channel.messages) {\n",
              "        // Send a message to notify the kernel that we're ready.\n",
              "        channel.send({})\n",
              "        if (message.buffers) {\n",
              "          for (const buffer of message.buffers) {\n",
              "            buffers.push(buffer);\n",
              "            downloaded += buffer.byteLength;\n",
              "            progress.value = downloaded;\n",
              "          }\n",
              "        }\n",
              "      }\n",
              "      const blob = new Blob(buffers, {type: 'application/binary'});\n",
              "      const a = document.createElement('a');\n",
              "      a.href = window.URL.createObjectURL(blob);\n",
              "      a.download = filename;\n",
              "      div.appendChild(a);\n",
              "      a.click();\n",
              "      div.remove();\n",
              "    }\n",
              "  "
            ],
            "text/plain": [
              "<IPython.core.display.Javascript object>"
            ]
          },
          "metadata": {
            "tags": []
          }
        },
        {
          "output_type": "display_data",
          "data": {
            "application/javascript": [
              "download(\"download_a1dcaa31-8e1d-48aa-a4d5-3fd9893a931d\", \"bank_df_2.csv\", 4806978)"
            ],
            "text/plain": [
              "<IPython.core.display.Javascript object>"
            ]
          },
          "metadata": {
            "tags": []
          }
        }
      ]
    },
    {
      "cell_type": "markdown",
      "metadata": {
        "id": "cbf014ef-350a-4b19-b998-bf9c19d26d4e"
      },
      "source": [
        "#### Distribuciones de las variables numéricas"
      ],
      "id": "cbf014ef-350a-4b19-b998-bf9c19d26d4e"
    },
    {
      "cell_type": "markdown",
      "metadata": {
        "id": "0aee29f8-e059-4817-819e-7084597217b9"
      },
      "source": [
        "#### Cardinalidad de las variables categóricas"
      ],
      "id": "0aee29f8-e059-4817-819e-7084597217b9"
    },
    {
      "cell_type": "markdown",
      "metadata": {
        "id": "P2XHNLNPhUld"
      },
      "source": [
        "Vamos a retomar aquí los reagrupamientos de categorías que fueron propuestos en el Práctico 1, ahora sin considerar la categoría \"desconocido\" ya que la misma fue imputada."
      ],
      "id": "P2XHNLNPhUld"
    },
    {
      "cell_type": "code",
      "metadata": {
        "id": "Pc1Re8pdnL3D"
      },
      "source": [
        "#reagrupar las categorías de job \n",
        "bank_df_2['job_groups'] = bank_df_2['job'].map({'housemaid': 'Sin ingreso Propio',\n",
        "                                  'student': 'Sin ingreso Propio',\n",
        "                                  'unemployed': 'Sin ingreso Propio',\n",
        "                                  'services': 'Servicios',\n",
        "                                  'admin.': 'Administrtivos',\n",
        "                                  'retired': 'Ingreso Cuenta Propia o Directivo',\n",
        "                                  'self-employed': 'Ingreso Cuenta Propia o Directivo',\n",
        "                                  'entrepreneur': 'Ingreso Cuenta Propia o Directivo',\n",
        "                                  'management': 'Ingreso Cuenta Propia o Directivo',\n",
        "                                  'technician': 'Tecnicos',\n",
        "                                  'blue-collar': 'Operarios' }\n",
        "                                            )"
      ],
      "id": "Pc1Re8pdnL3D",
      "execution_count": null,
      "outputs": []
    },
    {
      "cell_type": "code",
      "metadata": {
        "id": "FZEzPzFgnR6x"
      },
      "source": [
        "#reagrupar las categorías de la variable educación\n",
        "bank_df_2['education_groups'] = bank_df_2['education'].map({'illiterate': 'Basic or less',\n",
        "                                              'basic.4y': 'Basic or less',\n",
        "                                               'basic.6y': 'Basic or less',\n",
        "                                                'basic.9y': 'Basic or less',\n",
        "                                                  'high.school': 'High School',\n",
        "                                                   'professional.course': 'Professional',\n",
        "                                                    'university.degree': 'University'}\n",
        "                                            )"
      ],
      "id": "FZEzPzFgnR6x",
      "execution_count": null,
      "outputs": []
    },
    {
      "cell_type": "code",
      "metadata": {
        "colab": {
          "base_uri": "https://localhost:8080/"
        },
        "id": "BkXk1SP9nIGi",
        "outputId": "eca2b466-2855-47f7-996b-d227e8c8ca2f"
      },
      "source": [
        "#valores de las variables crediticias\n",
        "bank_df_2.default.unique(), bank_df_2.housing.unique(), bank_df_2.loan.unique()"
      ],
      "id": "BkXk1SP9nIGi",
      "execution_count": null,
      "outputs": [
        {
          "output_type": "execute_result",
          "data": {
            "text/plain": [
              "(array(['no', 'yes'], dtype=object),\n",
              " array(['no', 'yes'], dtype=object),\n",
              " array(['no', 'yes'], dtype=object))"
            ]
          },
          "metadata": {
            "tags": []
          },
          "execution_count": 82
        }
      ]
    },
    {
      "cell_type": "code",
      "metadata": {
        "id": "MpJ9tkvAnaIH"
      },
      "source": [
        "#recodificación de las variables crediticias\n",
        "bank_df_2.default.replace(to_replace=[\"yes\",\"no\"],value=[1,0],inplace=True)\n",
        "bank_df_2.loan.replace(to_replace=[\"yes\",\"no\"],value=[1,0],inplace=True)\n",
        "bank_df_2.housing.replace(to_replace=[\"yes\",\"no\"],value=[1,0],inplace=True)"
      ],
      "id": "MpJ9tkvAnaIH",
      "execution_count": null,
      "outputs": []
    },
    {
      "cell_type": "markdown",
      "metadata": {
        "id": "ad537c8f-8ad7-4bf0-abe9-216d2c64eb39"
      },
      "source": [
        "#### Correlación entre variables"
      ],
      "id": "ad537c8f-8ad7-4bf0-abe9-216d2c64eb39"
    },
    {
      "cell_type": "markdown",
      "metadata": {
        "id": "QBLGTT-ThcX7"
      },
      "source": [
        "Debido a la alta correlación existente entre algunas de las variables de contexto, se definió eliminar a las siguientes:\n",
        "- nr.employed\n",
        "- emp.var.rate\n",
        "- cons.price.idx"
      ],
      "id": "QBLGTT-ThcX7"
    },
    {
      "cell_type": "code",
      "metadata": {
        "id": "56a38da7-7956-465c-8e84-4082f1b6ca76"
      },
      "source": [
        "# Eliminamos las variables que se encuentran muy correlacionadas\n",
        "bank_df_2=bank_df_2.drop(['nr.employed', 'emp.var.rate','cons.price.idx'], axis=1)"
      ],
      "id": "56a38da7-7956-465c-8e84-4082f1b6ca76",
      "execution_count": null,
      "outputs": []
    },
    {
      "cell_type": "markdown",
      "metadata": {
        "id": "6bf527cb-bf85-4231-9c1f-82e836c7a334"
      },
      "source": [
        "#### Otras transformaciones - PCA"
      ],
      "id": "6bf527cb-bf85-4231-9c1f-82e836c7a334"
    },
    {
      "cell_type": "markdown",
      "metadata": {
        "id": "obYTisjbNVf9"
      },
      "source": [
        "Como se mencionó anteriormente, se realiza un Análisis de Componentes Principales sobre las variables numéricas. "
      ],
      "id": "obYTisjbNVf9"
    },
    {
      "cell_type": "code",
      "metadata": {
        "id": "fhzdmD6I3zQE"
      },
      "source": [
        "# Leemos el dataset que guardamos como backup con la función de pandas \"read_csv\"\n",
        "from google.colab import files\n",
        "uploaded = files.upload()"
      ],
      "id": "fhzdmD6I3zQE",
      "execution_count": null,
      "outputs": []
    },
    {
      "cell_type": "code",
      "metadata": {
        "id": "p_LwfHCdFACt"
      },
      "source": [
        "file_key = 'bank_df_2.csv'  \n",
        "df2 = pd.read_csv(io.StringIO(uploaded[file_key].decode('utf-8')))"
      ],
      "id": "p_LwfHCdFACt",
      "execution_count": null,
      "outputs": []
    },
    {
      "cell_type": "code",
      "metadata": {
        "id": "iDcHOe2bNHz2"
      },
      "source": [
        "# df2 = bank_df_2.copy(deep=True)"
      ],
      "id": "iDcHOe2bNHz2",
      "execution_count": null,
      "outputs": []
    },
    {
      "cell_type": "code",
      "metadata": {
        "colab": {
          "base_uri": "https://localhost:8080/"
        },
        "id": "nJ69zAn3G4uv",
        "outputId": "bbe9213b-2ea9-4cfe-c08e-f25bac96edb0"
      },
      "source": [
        "df2.columns"
      ],
      "id": "nJ69zAn3G4uv",
      "execution_count": null,
      "outputs": [
        {
          "output_type": "execute_result",
          "data": {
            "text/plain": [
              "Index(['age', 'job', 'marital', 'education', 'default', 'housing', 'loan',\n",
              "       'contact', 'month', 'day_of_week', 'duration', 'campaign', 'previous',\n",
              "       'poutcome', 'cons.conf.idx', 'euribor3m', 'y', 'job_groups',\n",
              "       'education_groups'],\n",
              "      dtype='object')"
            ]
          },
          "metadata": {
            "tags": []
          },
          "execution_count": 88
        }
      ]
    },
    {
      "cell_type": "code",
      "metadata": {
        "id": "r0qPl_qBFMah"
      },
      "source": [
        "column_num=[\"age\",\"duration\",\"campaign\",\"previous\",\"cons.conf.idx\",\"euribor3m\"]"
      ],
      "id": "r0qPl_qBFMah",
      "execution_count": null,
      "outputs": []
    },
    {
      "cell_type": "code",
      "metadata": {
        "id": "gbl30trrFf1a"
      },
      "source": [
        "#MinMax o StandardScaler?\n",
        "from sklearn.preprocessing import MinMaxScaler\n",
        "#from sklearn.preprocessing import StandardScaler\n",
        "scaler=MinMaxScaler()\n",
        "#scaler= StandardScaler()\n",
        "\n",
        "df2[column_num]=scaler.fit_transform(df2[column_num])"
      ],
      "id": "gbl30trrFf1a",
      "execution_count": null,
      "outputs": []
    },
    {
      "cell_type": "code",
      "metadata": {
        "colab": {
          "base_uri": "https://localhost:8080/",
          "height": 227
        },
        "id": "lcQRpj0yF_lC",
        "outputId": "9e50bc00-14c5-4868-ff4e-7e3024ecd977"
      },
      "source": [
        "df2.head()"
      ],
      "id": "lcQRpj0yF_lC",
      "execution_count": null,
      "outputs": [
        {
          "output_type": "execute_result",
          "data": {
            "text/html": [
              "<div>\n",
              "<style scoped>\n",
              "    .dataframe tbody tr th:only-of-type {\n",
              "        vertical-align: middle;\n",
              "    }\n",
              "\n",
              "    .dataframe tbody tr th {\n",
              "        vertical-align: top;\n",
              "    }\n",
              "\n",
              "    .dataframe thead th {\n",
              "        text-align: right;\n",
              "    }\n",
              "</style>\n",
              "<table border=\"1\" class=\"dataframe\">\n",
              "  <thead>\n",
              "    <tr style=\"text-align: right;\">\n",
              "      <th></th>\n",
              "      <th>age</th>\n",
              "      <th>job</th>\n",
              "      <th>marital</th>\n",
              "      <th>education</th>\n",
              "      <th>default</th>\n",
              "      <th>housing</th>\n",
              "      <th>loan</th>\n",
              "      <th>contact</th>\n",
              "      <th>month</th>\n",
              "      <th>day_of_week</th>\n",
              "      <th>duration</th>\n",
              "      <th>campaign</th>\n",
              "      <th>previous</th>\n",
              "      <th>poutcome</th>\n",
              "      <th>cons.conf.idx</th>\n",
              "      <th>euribor3m</th>\n",
              "      <th>y</th>\n",
              "      <th>job_groups</th>\n",
              "      <th>education_groups</th>\n",
              "    </tr>\n",
              "  </thead>\n",
              "  <tbody>\n",
              "    <tr>\n",
              "      <th>0</th>\n",
              "      <td>0.481481</td>\n",
              "      <td>housemaid</td>\n",
              "      <td>married</td>\n",
              "      <td>basic.4y</td>\n",
              "      <td>0</td>\n",
              "      <td>0</td>\n",
              "      <td>0</td>\n",
              "      <td>telephone</td>\n",
              "      <td>may</td>\n",
              "      <td>mon</td>\n",
              "      <td>0.053070</td>\n",
              "      <td>0.0</td>\n",
              "      <td>0.0</td>\n",
              "      <td>nonexistent</td>\n",
              "      <td>0.60251</td>\n",
              "      <td>0.957379</td>\n",
              "      <td>no</td>\n",
              "      <td>Sin ingreso Propio</td>\n",
              "      <td>Basic or less</td>\n",
              "    </tr>\n",
              "    <tr>\n",
              "      <th>1</th>\n",
              "      <td>0.493827</td>\n",
              "      <td>services</td>\n",
              "      <td>married</td>\n",
              "      <td>high.school</td>\n",
              "      <td>0</td>\n",
              "      <td>0</td>\n",
              "      <td>0</td>\n",
              "      <td>telephone</td>\n",
              "      <td>may</td>\n",
              "      <td>mon</td>\n",
              "      <td>0.030297</td>\n",
              "      <td>0.0</td>\n",
              "      <td>0.0</td>\n",
              "      <td>nonexistent</td>\n",
              "      <td>0.60251</td>\n",
              "      <td>0.957379</td>\n",
              "      <td>no</td>\n",
              "      <td>Servicios</td>\n",
              "      <td>High School</td>\n",
              "    </tr>\n",
              "    <tr>\n",
              "      <th>2</th>\n",
              "      <td>0.246914</td>\n",
              "      <td>services</td>\n",
              "      <td>married</td>\n",
              "      <td>high.school</td>\n",
              "      <td>0</td>\n",
              "      <td>1</td>\n",
              "      <td>0</td>\n",
              "      <td>telephone</td>\n",
              "      <td>may</td>\n",
              "      <td>mon</td>\n",
              "      <td>0.045954</td>\n",
              "      <td>0.0</td>\n",
              "      <td>0.0</td>\n",
              "      <td>nonexistent</td>\n",
              "      <td>0.60251</td>\n",
              "      <td>0.957379</td>\n",
              "      <td>no</td>\n",
              "      <td>Servicios</td>\n",
              "      <td>High School</td>\n",
              "    </tr>\n",
              "    <tr>\n",
              "      <th>3</th>\n",
              "      <td>0.283951</td>\n",
              "      <td>admin.</td>\n",
              "      <td>married</td>\n",
              "      <td>basic.6y</td>\n",
              "      <td>0</td>\n",
              "      <td>0</td>\n",
              "      <td>0</td>\n",
              "      <td>telephone</td>\n",
              "      <td>may</td>\n",
              "      <td>mon</td>\n",
              "      <td>0.030704</td>\n",
              "      <td>0.0</td>\n",
              "      <td>0.0</td>\n",
              "      <td>nonexistent</td>\n",
              "      <td>0.60251</td>\n",
              "      <td>0.957379</td>\n",
              "      <td>no</td>\n",
              "      <td>Administrtivos</td>\n",
              "      <td>Basic or less</td>\n",
              "    </tr>\n",
              "    <tr>\n",
              "      <th>4</th>\n",
              "      <td>0.481481</td>\n",
              "      <td>services</td>\n",
              "      <td>married</td>\n",
              "      <td>high.school</td>\n",
              "      <td>0</td>\n",
              "      <td>0</td>\n",
              "      <td>1</td>\n",
              "      <td>telephone</td>\n",
              "      <td>may</td>\n",
              "      <td>mon</td>\n",
              "      <td>0.062424</td>\n",
              "      <td>0.0</td>\n",
              "      <td>0.0</td>\n",
              "      <td>nonexistent</td>\n",
              "      <td>0.60251</td>\n",
              "      <td>0.957379</td>\n",
              "      <td>no</td>\n",
              "      <td>Servicios</td>\n",
              "      <td>High School</td>\n",
              "    </tr>\n",
              "  </tbody>\n",
              "</table>\n",
              "</div>"
            ],
            "text/plain": [
              "        age        job  marital    education  default  housing  loan  \\\n",
              "0  0.481481  housemaid  married     basic.4y        0        0     0   \n",
              "1  0.493827   services  married  high.school        0        0     0   \n",
              "2  0.246914   services  married  high.school        0        1     0   \n",
              "3  0.283951     admin.  married     basic.6y        0        0     0   \n",
              "4  0.481481   services  married  high.school        0        0     1   \n",
              "\n",
              "     contact month day_of_week  duration  campaign  previous     poutcome  \\\n",
              "0  telephone   may         mon  0.053070       0.0       0.0  nonexistent   \n",
              "1  telephone   may         mon  0.030297       0.0       0.0  nonexistent   \n",
              "2  telephone   may         mon  0.045954       0.0       0.0  nonexistent   \n",
              "3  telephone   may         mon  0.030704       0.0       0.0  nonexistent   \n",
              "4  telephone   may         mon  0.062424       0.0       0.0  nonexistent   \n",
              "\n",
              "   cons.conf.idx  euribor3m   y          job_groups education_groups  \n",
              "0        0.60251   0.957379  no  Sin ingreso Propio    Basic or less  \n",
              "1        0.60251   0.957379  no           Servicios      High School  \n",
              "2        0.60251   0.957379  no           Servicios      High School  \n",
              "3        0.60251   0.957379  no      Administrtivos    Basic or less  \n",
              "4        0.60251   0.957379  no           Servicios      High School  "
            ]
          },
          "metadata": {
            "tags": []
          },
          "execution_count": 91
        }
      ]
    },
    {
      "cell_type": "markdown",
      "metadata": {
        "id": "Ete1l9m92VrM"
      },
      "source": [
        "Hacemos el Análisis de Componente Principales (PCA) trabajando solo sobre las variables numéricas\n"
      ],
      "id": "Ete1l9m92VrM"
    },
    {
      "cell_type": "code",
      "metadata": {
        "colab": {
          "base_uri": "https://localhost:8080/",
          "height": 355
        },
        "id": "pLQEw6_aLjHH",
        "outputId": "7c0e2f1c-39de-4f99-d106-33439bf5c619"
      },
      "source": [
        "from sklearn.decomposition import PCA\n",
        "\n",
        "pca = PCA().fit(df2[column_num])\n",
        "\n",
        "\n",
        "y = np.cumsum(pca.explained_variance_ratio_) #acomulado\n",
        "x = np.arange(0, len(y), step=1)\n",
        "\n",
        "\n",
        "\n",
        "plt.figure(figsize=(15,5))\n",
        "sns.scatterplot(x, y, linestyle='-', color='g')\n",
        "\n",
        "plt.xlabel('Número de componentes',fontsize=16)\n",
        "plt.ylabel('Varianza acumulada',fontsize=16)\n",
        "plt.title('Número de componentes vs varianza acumulada',fontsize=16)\n",
        "\n",
        "plt.axhline(y=0.95, color='r', linestyle='-')\n",
        "plt.axvline(x=23, color='b', linestyle='-')\n",
        "plt.text(0.5, 0.85, '95% umbral', color = 'b', fontsize=16)\n",
        "\n",
        "plt.show()"
      ],
      "id": "pLQEw6_aLjHH",
      "execution_count": null,
      "outputs": [
        {
          "output_type": "display_data",
          "data": {
            "image/png": "[encoded data removed]",
            "text/plain": [
              "<Figure size 1080x360 with 1 Axes>"
            ]
          },
          "metadata": {
            "tags": [],
            "needs_background": "light"
          }
        }
      ]
    },
    {
      "cell_type": "code",
      "metadata": {
        "colab": {
          "base_uri": "https://localhost:8080/",
          "height": 637
        },
        "id": "FnHQ_9533sqE",
        "outputId": "a70f7b44-7958-44bc-b144-017652f3b55b"
      },
      "source": [
        "import warnings\n",
        "warnings.filterwarnings('ignore')\n",
        "varianzas = pca.explained_variance_ratio_\n",
        "\n",
        "plt.figure(figsize=(10,10))\n",
        "x = np.arange(len(column_num))+1\n",
        "sns.scatterplot(x=x, y = varianzas, s = 100, color = 'red')\n",
        "plt.xlim(-1,13)\n",
        "plt.xticks(np.arange(0,13))\n",
        "plt.xlabel(\"Componente\")\n",
        "plt.title(\"Proporción de la varianza explicada \\n por cada una de las componentes\")\n",
        "for i,varianza in enumerate(varianzas):\n",
        "\tplt.annotate(f'{varianza:3.2f}', (x[i],varianzas[i]), fontsize = 12,textcoords='offset points')\n",
        "plt.show()"
      ],
      "id": "FnHQ_9533sqE",
      "execution_count": null,
      "outputs": [
        {
          "output_type": "display_data",
          "data": {
            "image/png": "[encoded data removed]",
            "text/plain": [
              "<Figure size 720x720 with 1 Axes>"
            ]
          },
          "metadata": {
            "tags": [],
            "needs_background": "light"
          }
        }
      ]
    },
    {
      "cell_type": "code",
      "metadata": {
        "colab": {
          "base_uri": "https://localhost:8080/"
        },
        "id": "PDDLVIGZM3O5",
        "outputId": "d1141349-a364-4642-ff91-9578d89a26e6"
      },
      "source": [
        "pca.explained_variance_ratio_"
      ],
      "id": "PDDLVIGZM3O5",
      "execution_count": null,
      "outputs": [
        {
          "output_type": "execute_result",
          "data": {
            "text/plain": [
              "array([0.62131562, 0.15928978, 0.13144059, 0.06189213, 0.01537718,\n",
              "       0.0106847 ])"
            ]
          },
          "metadata": {
            "tags": []
          },
          "execution_count": 94
        }
      ]
    },
    {
      "cell_type": "markdown",
      "metadata": {
        "id": "QufUlhOuNhqR"
      },
      "source": [
        "Agregamos las tres primeras componentes bank_df_2"
      ],
      "id": "QufUlhOuNhqR"
    },
    {
      "cell_type": "code",
      "metadata": {
        "id": "zsBoM3jIOa_N"
      },
      "source": [
        "proyected_features = pca.transform(df2[column_num])\n",
        "\n",
        "bank_df_2['pca1'] = proyected_features[:,0]\n",
        "bank_df_2['pca2'] = proyected_features[:,1]\n",
        "bank_df_2['pca3'] = proyected_features[:,2]"
      ],
      "id": "zsBoM3jIOa_N",
      "execution_count": null,
      "outputs": []
    },
    {
      "cell_type": "code",
      "metadata": {
        "id": "C705nR4-PnTY"
      },
      "source": [
        "#eliminamos la variable duration, ya que no nos servirá para predecir Y\n",
        "bank_df_2=bank_df_2.drop(['duration'], axis=1)"
      ],
      "id": "C705nR4-PnTY",
      "execution_count": null,
      "outputs": []
    },
    {
      "cell_type": "code",
      "metadata": {
        "id": "G28eH8nKPwq8"
      },
      "source": [
        "bank_df_2.head()"
      ],
      "id": "G28eH8nKPwq8",
      "execution_count": null,
      "outputs": []
    },
    {
      "cell_type": "markdown",
      "metadata": {
        "id": "-Lec3QK4fpSt"
      },
      "source": [
        "#### Variables que se eliminaron del dataset"
      ],
      "id": "-Lec3QK4fpSt"
    },
    {
      "cell_type": "markdown",
      "metadata": {
        "id": "oH0eZAPk-909"
      },
      "source": [
        "Por todo lo analizado anteriormente, hemos tomado la decisión de eliminar las siguientes variables del dataset:\n",
        "\n",
        "- pdays por inconsistencias y gran cantidad de datos faltantes\n",
        "- duration no sería considerada para el diseño de modelos predictivos\n",
        "- nr.employed por estar muy correlacionada\n",
        "- emp.var.rate por estar muy correlacionada\n",
        "- cons.price.idx por estar muy correlacionada\n",
        "- default: por tener 20% missing (si bien fueron imputadas, la variable no resulta muy informativa para el problema a analizar)\n",
        "- month y day_of_week: ya que no permiten la identificación del momento del tiempo exacto en el cual se realizó el llamado, y no se advierte ningún vínculo particular con la variable objetivo. \n",
        "\n",
        "Por otra parte, se agregaron las 3 primeras componentes principales obtenidas a partir del análisis de las variables numéricas."
      ],
      "id": "oH0eZAPk-909"
    },
    {
      "cell_type": "markdown",
      "metadata": {
        "id": "89e08174-c807-49d8-8823-2a5309f1bf19"
      },
      "source": [
        "#### Codificación del target"
      ],
      "id": "89e08174-c807-49d8-8823-2a5309f1bf19"
    },
    {
      "cell_type": "code",
      "metadata": {
        "id": "91a7be7c-11a0-41d2-968a-3d19790cd4a5",
        "colab": {
          "base_uri": "https://localhost:8080/"
        },
        "outputId": "f00247d2-02bf-49ab-ad99-92bacef622af"
      },
      "source": [
        "# Nuestro target o variable dependiente tiene valores \"yes\" y \"no\".\n",
        "bank_df_2.y.value_counts()"
      ],
      "id": "91a7be7c-11a0-41d2-968a-3d19790cd4a5",
      "execution_count": null,
      "outputs": [
        {
          "output_type": "execute_result",
          "data": {
            "text/plain": [
              "no     35493\n",
              "yes     4601\n",
              "Name: y, dtype: int64"
            ]
          },
          "metadata": {
            "tags": []
          },
          "execution_count": 102
        }
      ]
    },
    {
      "cell_type": "code",
      "metadata": {
        "id": "5530e511-d5df-4014-99fd-cb00652f8795"
      },
      "source": [
        "# Para poder ser utilizado en el futuro debemos codificar esta columna en valores numéricos (1 y 0 por ejemplo)\n",
        "# Utilizar la función de pandas \"replace\": https://pandas.pydata.org/docs/reference/api/pandas.DataFrame.replace.html\n",
        "bank_df_2.y.replace(to_replace=[\"yes\",\"no\"],value=[1,0],inplace=True)\n"
      ],
      "id": "5530e511-d5df-4014-99fd-cb00652f8795",
      "execution_count": null,
      "outputs": []
    },
    {
      "cell_type": "markdown",
      "metadata": {
        "id": "90b3a872-0a4c-4394-ac42-8b7b81b9c367"
      },
      "source": [
        "### Guardar el dataset final"
      ],
      "id": "90b3a872-0a4c-4394-ac42-8b7b81b9c367"
    },
    {
      "cell_type": "code",
      "metadata": {
        "id": "7892517f-581f-48b2-b058-4a664eb4b1c9"
      },
      "source": [
        "# Deberemos guardar el dataset final para ser utilizado en los próximos prácticos\n",
        "# Utilizar la función de pandas \"to_csv\""
      ],
      "id": "7892517f-581f-48b2-b058-4a664eb4b1c9",
      "execution_count": null,
      "outputs": []
    },
    {
      "cell_type": "code",
      "metadata": {
        "id": "13b1b8e4-f8e8-46c8-819a-b441411530c2"
      },
      "source": [
        "bank_df_2.to_csv(\"final_df.csv\")"
      ],
      "id": "13b1b8e4-f8e8-46c8-819a-b441411530c2",
      "execution_count": null,
      "outputs": []
    }
  ]
}